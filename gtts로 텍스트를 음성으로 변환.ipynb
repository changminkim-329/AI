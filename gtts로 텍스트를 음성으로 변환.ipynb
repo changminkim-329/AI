{
 "cells": [
  {
   "cell_type": "markdown",
   "metadata": {},
   "source": [
    "## Google Text To Speech(GTTS)\n",
    "- 구글에서 만든 텍스트를 음성으로 바꾸어 주는 머신러닝."
   ]
  },
  {
   "cell_type": "code",
   "execution_count": 1,
   "metadata": {},
   "outputs": [],
   "source": [
    "from gtts import gTTS"
   ]
  },
  {
   "cell_type": "code",
   "execution_count": 15,
   "metadata": {},
   "outputs": [],
   "source": [
    "text = \"기영이 콜레라 걸렸데요\""
   ]
  },
  {
   "cell_type": "markdown",
   "metadata": {},
   "source": [
    "**lang** 은 언어를 지정하는 것으로 영어는 'en'이고 한글은 'ko'이다."
   ]
  },
  {
   "cell_type": "code",
   "execution_count": 16,
   "metadata": {},
   "outputs": [],
   "source": [
    "tts = gTTS(text=text,lang=\"ko\")"
   ]
  },
  {
   "cell_type": "code",
   "execution_count": 17,
   "metadata": {},
   "outputs": [],
   "source": [
    "tts.save(\"./user_test_data/스노우맨.mp3\")"
   ]
  },
  {
   "cell_type": "code",
   "execution_count": 5,
   "metadata": {},
   "outputs": [],
   "source": [
    "with open(\"./helloKo.mp3\",\"wb\") as f:\n",
    "    tts.write_to_fp(f)\n",
    "    tts.write_to_fp(f)\n",
    "    tts.write_to_fp(f)"
   ]
  },
  {
   "cell_type": "code",
   "execution_count": null,
   "metadata": {},
   "outputs": [],
   "source": []
  }
 ],
 "metadata": {
  "kernelspec": {
   "display_name": "Python 3",
   "language": "python",
   "name": "python3"
  },
  "language_info": {
   "codemirror_mode": {
    "name": "ipython",
    "version": 3
   },
   "file_extension": ".py",
   "mimetype": "text/x-python",
   "name": "python",
   "nbconvert_exporter": "python",
   "pygments_lexer": "ipython3",
   "version": "3.7.3"
  }
 },
 "nbformat": 4,
 "nbformat_minor": 2
}
