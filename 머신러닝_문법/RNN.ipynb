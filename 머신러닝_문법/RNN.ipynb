{
 "cells": [
  {
   "cell_type": "markdown",
   "metadata": {},
   "source": [
    "# RNN"
   ]
  },
  {
   "cell_type": "code",
   "execution_count": 1,
   "metadata": {},
   "outputs": [],
   "source": [
    "import tensorflow as tf\n",
    "import numpy as np\n",
    "import pprint"
   ]
  },
  {
   "cell_type": "markdown",
   "metadata": {},
   "source": [
    "LSTM(Long Short-Term Memory)<br>\n",
    "GRU (Gated Recurrent Unit)<br>"
   ]
  },
  {
   "cell_type": "markdown",
   "metadata": {},
   "source": [
    "# RNN 텐서플로우로 구현하기"
   ]
  },
  {
   "cell_type": "code",
   "execution_count": 15,
   "metadata": {},
   "outputs": [],
   "source": [
    "n_inputs = 3\n",
    "n_neurons = 9\n",
    "\n",
    "X0 = tf.placeholder(tf.float32,[None,n_inputs])\n",
    "X1 = tf.placeholder(tf.float32,[None,n_inputs])\n",
    "\n",
    "Wx = tf.Variable(tf.random_normal([n_inputs,n_neurons],dtype=tf.float32))\n",
    "Wy = tf.Variable(tf.random_normal([n_neurons,n_neurons],dtype=tf.float32))\n",
    "b  = tf.Variable(tf.random_normal([1, n_neurons],dtype=tf.float32))\n",
    "\n",
    "Y0 = tf.tanh(tf.matmul(X0,Wx)+b)\n",
    "Y1 = tf.tanh(tf.matmul(Y0,Wy) + tf.matmul(X1,Wx)+b)\n"
   ]
  },
  {
   "cell_type": "code",
   "execution_count": 36,
   "metadata": {},
   "outputs": [
    {
     "name": "stdout",
     "output_type": "stream",
     "text": [
      "[[0 1 2]\n",
      " [3 4 5]\n",
      " [6 7 8]\n",
      " [9 0 1]]\n",
      "[[9 8 7]\n",
      " [0 0 0]\n",
      " [6 5 4]\n",
      " [3 2 1]]\n",
      "[[ 0.9018162  -0.7729402  -0.97352827 -0.97976667  0.9982137   0.99915004\n",
      "  -0.9833705   0.8171874   0.4712433 ]\n",
      " [ 1.         -0.9999942  -0.9999997   0.33887997  1.          1.\n",
      "  -0.99998957  0.53679377  0.99998534]\n",
      " [ 1.         -1.         -1.          0.99502856  1.          1.\n",
      "  -1.          0.05094526  1.        ]\n",
      " [ 1.         -1.         -0.9999999   1.          0.999975    1.\n",
      "  -0.96545845 -0.9999998   0.9983509 ]]\n",
      "[[ 1.         -1.         -1.          1.          1.          1.\n",
      "  -0.9999968  -0.9986629   1.        ]\n",
      " [ 0.946741   -0.96772534 -0.9989369  -0.9914771   0.6369976   0.9965579\n",
      "   0.9486455  -0.7364628  -0.596579  ]\n",
      " [ 1.         -1.         -1.          0.9994358   1.          1.\n",
      "  -0.99913067 -0.96827376  0.99999964]\n",
      " [ 0.9999999  -0.99998385 -0.9999956   0.9045925   0.99998695  0.99999994\n",
      "  -0.13132203  0.12431943  0.77821594]]\n"
     ]
    }
   ],
   "source": [
    "X0_batch = np.reshape(np.array([0,1,2,3,4,5,6,7,8,9,0,1]),[4,3])\n",
    "X1_batch = np.reshape(np.array([9,8,7,0,0,0,6,5,4,3,2,1,]),[4,3])\n",
    "print(X0_batch)\n",
    "print(X1_batch)\n",
    "with tf.Session() as sess:\n",
    "    sess.run(tf.global_variables_initializer())\n",
    "    Y0_val, Y1_val = sess.run([Y0,Y1],feed_dict={X0:X0_batch,X1:X1_batch})\n",
    "\n",
    "print(Y0_val)\n",
    "print(Y1_val)"
   ]
  },
  {
   "cell_type": "code",
   "execution_count": 16,
   "metadata": {},
   "outputs": [],
   "source": [
    "batch_size = 100\n",
    "h_size = 28\n",
    "w_size = 28\n",
    "c_size = 1\n",
    "hidden_size = 100"
   ]
  },
  {
   "cell_type": "code",
   "execution_count": 23,
   "metadata": {},
   "outputs": [
    {
     "data": {
      "text/plain": [
       "array([[ 0,  1,  2,  3,  4,  5],\n",
       "       [ 6,  7,  8,  9, 10, 11],\n",
       "       [12, 13, 14, 15, 16, 17]])"
      ]
     },
     "execution_count": 23,
     "metadata": {},
     "output_type": "execute_result"
    }
   ],
   "source": [
    "x = np.arange(18).reshape(3, 6)\n",
    "x"
   ]
  },
  {
   "cell_type": "code",
   "execution_count": 35,
   "metadata": {},
   "outputs": [
    {
     "data": {
      "text/plain": [
       "[array([[0, 1, 2, 3, 4, 5]]),\n",
       " array([[ 6,  7,  8,  9, 10, 11]]),\n",
       " array([[12, 13, 14, 15, 16, 17]])]"
      ]
     },
     "execution_count": 35,
     "metadata": {},
     "output_type": "execute_result"
    }
   ],
   "source": [
    "np.split(x,3,axis=0)"
   ]
  },
  {
   "cell_type": "code",
   "execution_count": 40,
   "metadata": {},
   "outputs": [],
   "source": [
    "def reset_graph(seed=42):\n",
    "    tf.reset_default_graph()\n",
    "    tf.set_random_seed(seed)\n",
    "    np.random.seed(seed)"
   ]
  },
  {
   "cell_type": "code",
   "execution_count": 41,
   "metadata": {},
   "outputs": [],
   "source": [
    "reset_graph()\n",
    "\n",
    "X0 = tf.placeholder(tf.float32, [None, n_inputs])\n",
    "X1 = tf.placeholder(tf.float32, [None, n_inputs])\n",
    "\n",
    "basic_cell = tf.contrib.rnn.BasicRNNCell(num_units=n_neurons)\n",
    "output_seqs, states = tf.contrib.rnn.static_rnn(basic_cell, [X0, X1],\n",
    "                                                dtype=tf.float32)\n",
    "Y0, Y1 = output_seqs\n"
   ]
  },
  {
   "cell_type": "code",
   "execution_count": 49,
   "metadata": {},
   "outputs": [
    {
     "name": "stdout",
     "output_type": "stream",
     "text": [
      "[[ 0.9971175  -0.8829431   0.9728114  -0.99983186 -0.9825391   0.9999999\n",
      "  -0.99923575  0.9536618  -0.93503135]\n",
      " [ 0.72184837  0.852149   -0.3916083  -0.29725125 -0.5723039   0.81788385\n",
      "   0.27009368  0.00758619 -0.91007894]\n",
      " [ 0.99314314  0.40417093  0.8735989  -0.99060535 -0.9561975   0.9999896\n",
      "  -0.96979505  0.48968056 -0.9913083 ]\n",
      " [ 0.93675774 -0.45269105  0.22677751 -0.41911602 -0.8982261   0.9494737\n",
      "  -0.94501865 -0.34868854 -0.78876   ]]\n"
     ]
    }
   ],
   "source": [
    "init = tf.global_variables_initializer()\n",
    "\n",
    "X0_batch = np.array([[0, 1, 2], [3, 4, 5], [6, 7, 8], [9, 0, 1]])\n",
    "X1_batch = np.array([[9, 8, 7], [0, 0, 0], [6, 5, 4], [3, 2, 1]])\n",
    "\n",
    "with tf.Session() as sess:\n",
    "    init.run()\n",
    "    Y0_val, Y1_val = sess.run([Y0, Y1], feed_dict={X0: X0_batch, X1: X1_batch})\n",
    "    print(sess.run(states,feed_dict={X0: X0_batch, X1: X1_batch}))"
   ]
  },
  {
   "cell_type": "code",
   "execution_count": 46,
   "metadata": {},
   "outputs": [
    {
     "data": {
      "text/plain": [
       "array([[-0.363332  , -0.22232606,  0.26016062, -0.84686536, -0.08355161,\n",
       "         0.7731991 , -0.49710023,  0.47220647,  0.04955996],\n",
       "       [ 0.3482791 , -0.7332364 ,  0.8356289 , -0.99613035, -0.6109184 ,\n",
       "         0.9992797 , -0.9657425 ,  0.82141614, -0.3007551 ],\n",
       "       [ 0.8032433 , -0.92820716,  0.97305304, -0.99990934, -0.8709556 ,\n",
       "         0.9999979 , -0.9981933 ,  0.9477712 , -0.58517706],\n",
       "       [ 0.97919905, -0.6567514 ,  0.9022057 ,  0.88642365,  0.77287304,\n",
       "         0.9996306 , -0.99905014,  0.98280895, -0.99607754]],\n",
       "      dtype=float32)"
      ]
     },
     "execution_count": 46,
     "metadata": {},
     "output_type": "execute_result"
    }
   ],
   "source": [
    "Y0_val"
   ]
  },
  {
   "cell_type": "code",
   "execution_count": 50,
   "metadata": {},
   "outputs": [
    {
     "name": "stdout",
     "output_type": "stream",
     "text": [
      "[[ 0.9971175  -0.8829431   0.9728114  -0.99983186 -0.9825391   0.9999999\n",
      "  -0.99923575  0.9536618  -0.93503135]\n",
      " [ 0.72184837  0.852149   -0.3916083  -0.29725125 -0.5723039   0.81788385\n",
      "   0.27009368  0.00758619 -0.91007894]\n",
      " [ 0.99314314  0.40417093  0.8735989  -0.99060535 -0.9561975   0.9999896\n",
      "  -0.96979505  0.48968056 -0.9913083 ]\n",
      " [ 0.93675774 -0.45269105  0.22677751 -0.41911602 -0.8982261   0.9494737\n",
      "  -0.94501865 -0.34868854 -0.78876   ]]\n"
     ]
    }
   ],
   "source": [
    "print(Y1_val)"
   ]
  },
  {
   "cell_type": "code",
   "execution_count": 79,
   "metadata": {},
   "outputs": [],
   "source": [
    "n_steps = 2\n",
    "n_inputs = 3\n",
    "n_neurons = 5\n",
    "\n",
    "reset_graph()\n",
    "\n",
    "X = tf.placeholder(tf.float32, [None, n_steps, n_inputs])\n",
    "basic_cell = tf.contrib.rnn.BasicRNNCell(num_units=n_neurons)\n",
    "\n",
    "seq_length = tf.placeholder(tf.int32, [None])\n",
    "outputs, states = tf.nn.dynamic_rnn(basic_cell, X, dtype=tf.float32,\n",
    "                                    sequence_length=seq_length)"
   ]
  },
  {
   "cell_type": "code",
   "execution_count": 84,
   "metadata": {},
   "outputs": [
    {
     "name": "stdout",
     "output_type": "stream",
     "text": [
      "[[[-0.9123188   0.16516446  0.5548655  -0.39159346  0.20846416]\n",
      "  [-1.          0.9567258   0.9983168   0.99970174  0.9651857 ]]\n",
      "\n",
      " [[-0.9998612   0.6702291   0.9723653   0.6631046   0.74457586]\n",
      "  [ 0.          0.          0.          0.          0.        ]]\n",
      "\n",
      " [[-0.99999976  0.8967997   0.9986295   0.9647514   0.93662   ]\n",
      "  [-0.9999526   0.9681953   0.96002865  0.98706263  0.85459226]]\n",
      "\n",
      " [[-0.96435434  0.99501586 -0.36150697  0.9983378   0.999497  ]\n",
      "  [-0.96135855  0.9568762   0.7132288   0.97729224 -0.0958299 ]]]\n",
      "[[-1.          0.9567258   0.9983168   0.99970174  0.9651857 ]\n",
      " [-0.9998612   0.6702291   0.9723653   0.6631046   0.74457586]\n",
      " [-0.9999526   0.9681953   0.96002865  0.98706263  0.85459226]\n",
      " [-0.96135855  0.9568762   0.7132288   0.97729224 -0.0958299 ]]\n"
     ]
    }
   ],
   "source": [
    "init = tf.global_variables_initializer()\n",
    "\n",
    "X_batch = np.array([\n",
    "        # 스텝 0     스텝 1\n",
    "        [[0, 1, 2], [9, 8, 7]], # 샘플 1\n",
    "        [[3, 4, 5], [0, 0, 0]], # 샘플 2 (0 벡터로 패딩)\n",
    "        [[6, 7, 8], [6, 5, 4]], # 샘플 3\n",
    "        [[9, 0, 1], [3, 2, 1]], # 샘플 4\n",
    "    ])\n",
    "seq_length_batch = np.array([2, 1, 2, 2])\n",
    "\n",
    "with tf.Session() as sess:\n",
    "    init.run()\n",
    "    outputs_val, states_val = sess.run(\n",
    "        [outputs, states], feed_dict={X: X_batch, seq_length: seq_length_batch})\n",
    "    \n",
    "print(outputs_val)\n",
    "print(states_val)"
   ]
  },
  {
   "cell_type": "code",
   "execution_count": null,
   "metadata": {},
   "outputs": [],
   "source": []
  }
 ],
 "metadata": {
  "kernelspec": {
   "display_name": "Python 3",
   "language": "python",
   "name": "python3"
  },
  "language_info": {
   "codemirror_mode": {
    "name": "ipython",
    "version": 3
   },
   "file_extension": ".py",
   "mimetype": "text/x-python",
   "name": "python",
   "nbconvert_exporter": "python",
   "pygments_lexer": "ipython3",
   "version": "3.7.3"
  }
 },
 "nbformat": 4,
 "nbformat_minor": 2
}
