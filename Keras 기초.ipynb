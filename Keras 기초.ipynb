{
 "cells": [
  {
   "cell_type": "markdown",
   "metadata": {},
   "source": [
    "# keras 사용법"
   ]
  },
  {
   "cell_type": "markdown",
   "metadata": {},
   "source": [
    "## 이미지(mnist) 다운 받기\n",
    "- train : 60000개\n",
    "- test : 10000개"
   ]
  },
  {
   "cell_type": "code",
   "execution_count": 1,
   "metadata": {},
   "outputs": [],
   "source": [
    "from tensorflow.keras.datasets import mnist"
   ]
  },
  {
   "cell_type": "code",
   "execution_count": 2,
   "metadata": {},
   "outputs": [],
   "source": [
    "(train_images, train_labels), (test_images, test_labels) = mnist.load_data()"
   ]
  },
  {
   "cell_type": "code",
   "execution_count": 3,
   "metadata": {},
   "outputs": [],
   "source": [
    "import numpy as np\n",
    "import matplotlib.pyplot as plt"
   ]
  },
  {
   "cell_type": "code",
   "execution_count": 4,
   "metadata": {},
   "outputs": [
    {
     "name": "stdout",
     "output_type": "stream",
     "text": [
      "train 개수: 60000\n",
      "test 개수: 10000\n"
     ]
    }
   ],
   "source": [
    "print(\"train 개수:\",train_images.shape[0])\n",
    "print(\"test 개수:\",test_images.shape[0])"
   ]
  },
  {
   "cell_type": "code",
   "execution_count": 5,
   "metadata": {
    "scrolled": false
   },
   "outputs": [
    {
     "data": {
      "image/png": "[encoded data removed]",
      "text/plain": [
       "<Figure size 432x288 with 1 Axes>"
      ]
     },
     "metadata": {
      "needs_background": "light"
     },
     "output_type": "display_data"
    }
   ],
   "source": [
    "plt.imshow(train_images[0])\n",
    "plt.title(train_labels[0])\n",
    "plt.show()"
   ]
  },
  {
   "cell_type": "markdown",
   "metadata": {},
   "source": [
    "## model 만들기"
   ]
  },
  {
   "cell_type": "code",
   "execution_count": 6,
   "metadata": {},
   "outputs": [],
   "source": [
    "from tensorflow.keras import models, layers"
   ]
  },
  {
   "cell_type": "markdown",
   "metadata": {},
   "source": [
    "sequential: 모델은 레이어를 선형으로 연결하여 구성"
   ]
  },
  {
   "cell_type": "code",
   "execution_count": 7,
   "metadata": {},
   "outputs": [],
   "source": [
    "network = models.Sequential()"
   ]
  },
  {
   "cell_type": "code",
   "execution_count": 8,
   "metadata": {},
   "outputs": [],
   "source": [
    "network.add(layers.Dense(512,activation='relu',input_shape=(784,)))"
   ]
  },
  {
   "cell_type": "code",
   "execution_count": 9,
   "metadata": {},
   "outputs": [],
   "source": [
    "network.add(layers.Dense(10,activation='softmax'))"
   ]
  },
  {
   "cell_type": "code",
   "execution_count": 10,
   "metadata": {},
   "outputs": [
    {
     "name": "stdout",
     "output_type": "stream",
     "text": [
      "parameter(weight)개수\n",
      "(784, 512)\n",
      "(512,)\n",
      "(512, 10)\n",
      "(10,)\n"
     ]
    }
   ],
   "source": [
    "print(\"parameter(weight)개수\")\n",
    "for i in range(4):\n",
    "    print(network.weights[i].shape)"
   ]
  },
  {
   "cell_type": "markdown",
   "metadata": {},
   "source": [
    "## gradient descent"
   ]
  },
  {
   "cell_type": "code",
   "execution_count": 11,
   "metadata": {},
   "outputs": [],
   "source": [
    "network.compile(optimizer='rmsprop',loss='categorical_crossentropy',metrics=['accuracy'])"
   ]
  },
  {
   "cell_type": "markdown",
   "metadata": {},
   "source": [
    "## scalinge & normalization"
   ]
  },
  {
   "cell_type": "code",
   "execution_count": 12,
   "metadata": {},
   "outputs": [],
   "source": [
    "train_images = train_images.reshape([-1,28*28])"
   ]
  },
  {
   "cell_type": "code",
   "execution_count": 13,
   "metadata": {},
   "outputs": [],
   "source": [
    "train_images = train_images.astype('float32')/255"
   ]
  },
  {
   "cell_type": "code",
   "execution_count": 14,
   "metadata": {},
   "outputs": [
    {
     "data": {
      "text/plain": [
       "dtype('float32')"
      ]
     },
     "execution_count": 14,
     "metadata": {},
     "output_type": "execute_result"
    }
   ],
   "source": [
    "train_images.dtype"
   ]
  },
  {
   "cell_type": "code",
   "execution_count": 15,
   "metadata": {},
   "outputs": [],
   "source": [
    "test_images = test_images.reshape([-1,28*28])\n",
    "test_images = test_images.astype('float32')/255"
   ]
  },
  {
   "cell_type": "code",
   "execution_count": 16,
   "metadata": {},
   "outputs": [
    {
     "data": {
      "text/plain": [
       "dtype('float32')"
      ]
     },
     "execution_count": 16,
     "metadata": {},
     "output_type": "execute_result"
    }
   ],
   "source": [
    "test_images.dtype"
   ]
  },
  {
   "cell_type": "markdown",
   "metadata": {},
   "source": [
    "## One Hot Encoding"
   ]
  },
  {
   "cell_type": "code",
   "execution_count": 17,
   "metadata": {},
   "outputs": [],
   "source": [
    "from tensorflow.keras.utils import to_categorical"
   ]
  },
  {
   "cell_type": "code",
   "execution_count": 18,
   "metadata": {},
   "outputs": [],
   "source": [
    "train_labels = to_categorical(train_labels)\n",
    "test_labels = to_categorical(test_labels)"
   ]
  },
  {
   "cell_type": "markdown",
   "metadata": {},
   "source": [
    "## Training"
   ]
  },
  {
   "cell_type": "code",
   "execution_count": 19,
   "metadata": {},
   "outputs": [
    {
     "name": "stdout",
     "output_type": "stream",
     "text": [
      "Train on 60000 samples\n",
      "Epoch 1/5\n",
      "60000/60000 [==============================] - 2s 35us/sample - loss: 0.2575 - accuracy: 0.9250\n",
      "Epoch 2/5\n",
      "60000/60000 [==============================] - 2s 28us/sample - loss: 0.1055 - accuracy: 0.9686\n",
      "Epoch 3/5\n",
      "60000/60000 [==============================] - 2s 27us/sample - loss: 0.0701 - accuracy: 0.9785\n",
      "Epoch 4/5\n",
      "60000/60000 [==============================] - 2s 27us/sample - loss: 0.0516 - accuracy: 0.9843\n",
      "Epoch 5/5\n",
      "60000/60000 [==============================] - 2s 28us/sample - loss: 0.0391 - accuracy: 0.9881\n"
     ]
    },
    {
     "data": {
      "text/plain": [
       "<tensorflow.python.keras.callbacks.History at 0x12bd821d0>"
      ]
     },
     "execution_count": 19,
     "metadata": {},
     "output_type": "execute_result"
    }
   ],
   "source": [
    "network.fit(train_images,train_labels,epochs=5,batch_size=128)"
   ]
  },
  {
   "cell_type": "code",
   "execution_count": 20,
   "metadata": {},
   "outputs": [
    {
     "name": "stdout",
     "output_type": "stream",
     "text": [
      "10000/10000 [==============================] - 0s 31us/sample - loss: 0.0671 - accuracy: 0.9798\n"
     ]
    }
   ],
   "source": [
    "test_loss, test_acc = network.evaluate(test_images,test_labels)"
   ]
  },
  {
   "cell_type": "code",
   "execution_count": 21,
   "metadata": {},
   "outputs": [
    {
     "name": "stdout",
     "output_type": "stream",
     "text": [
      "test_acc: 0.9798\n"
     ]
    }
   ],
   "source": [
    "print('test_acc:',test_acc)"
   ]
  },
  {
   "cell_type": "code",
   "execution_count": 22,
   "metadata": {},
   "outputs": [],
   "source": [
    "a = network(test_images[0].reshape(-1,784))"
   ]
  },
  {
   "cell_type": "code",
   "execution_count": 23,
   "metadata": {},
   "outputs": [
    {
     "data": {
      "text/plain": [
       "(784,)"
      ]
     },
     "execution_count": 23,
     "metadata": {},
     "output_type": "execute_result"
    }
   ],
   "source": [
    "test_images[0].shape"
   ]
  },
  {
   "cell_type": "code",
   "execution_count": 24,
   "metadata": {},
   "outputs": [
    {
     "data": {
      "text/plain": [
       "array([[0., 0., 0., ..., 0., 0., 0.],\n",
       "       [0., 0., 0., ..., 0., 0., 0.],\n",
       "       [0., 0., 0., ..., 0., 0., 0.],\n",
       "       ...,\n",
       "       [0., 0., 0., ..., 0., 0., 0.],\n",
       "       [0., 0., 0., ..., 0., 0., 0.],\n",
       "       [0., 0., 0., ..., 0., 0., 0.]], dtype=float32)"
      ]
     },
     "execution_count": 24,
     "metadata": {},
     "output_type": "execute_result"
    }
   ],
   "source": [
    "test_images[10:100]"
   ]
  },
  {
   "cell_type": "code",
   "execution_count": 25,
   "metadata": {
    "scrolled": true
   },
   "outputs": [
    {
     "data": {
      "image/png": "[encoded data removed]",
      "text/plain": [
       "<Figure size 432x288 with 1 Axes>"
      ]
     },
     "metadata": {
      "needs_background": "light"
     },
     "output_type": "display_data"
    }
   ],
   "source": [
    "plt.imshow(test_images[0].reshape(28,28),cmap=plt.cm.binary)\n",
    "plt.title(\"prediction:\"+str(np.argmax(a.numpy())))\n",
    "plt.show()"
   ]
  },
  {
   "cell_type": "markdown",
   "metadata": {},
   "source": [
    "## relu 계산"
   ]
  },
  {
   "cell_type": "code",
   "execution_count": 26,
   "metadata": {},
   "outputs": [
    {
     "data": {
      "image/png": "[encoded data removed]",
      "text/plain": [
       "<Figure size 432x288 with 1 Axes>"
      ]
     },
     "metadata": {
      "needs_background": "light"
     },
     "output_type": "display_data"
    }
   ],
   "source": [
    "z = np.arange(-100,100)\n",
    "relu = np.maximum(z,0)\n",
    "plt.plot(z,relu)\n",
    "plt.show()"
   ]
  },
  {
   "cell_type": "code",
   "execution_count": 27,
   "metadata": {},
   "outputs": [],
   "source": [
    "x = np.random.random((64,3,32,10)) # (64,3,32,10)\n",
    "y = np.random.random((32,10)) # (32,10)"
   ]
  },
  {
   "cell_type": "code",
   "execution_count": 28,
   "metadata": {},
   "outputs": [
    {
     "data": {
      "text/plain": [
       "array([[0.50506883, 0.24232166, 0.39569991, 0.98671613, 0.25086072,\n",
       "        0.93542728, 0.08010507, 0.30287179, 0.22995758, 0.99256496],\n",
       "       [0.88940446, 0.11310396, 0.00414967, 0.39101242, 0.82215817,\n",
       "        0.65215013, 0.68372765, 0.34458083, 0.35780985, 0.00295803],\n",
       "       [0.50459315, 0.6445991 , 0.2327218 , 0.05038876, 0.19448196,\n",
       "        0.0899275 , 0.82144173, 0.97368683, 0.7815628 , 0.67006136],\n",
       "       [0.1487072 , 0.47463565, 0.70017717, 0.24033688, 0.06194771,\n",
       "        0.66353347, 0.63759528, 0.2034074 , 0.99836225, 0.92974447],\n",
       "       [0.9802885 , 0.48883746, 0.29356719, 0.18337155, 0.86631624,\n",
       "        0.42779741, 0.4482998 , 0.26954387, 0.6708601 , 0.78205829],\n",
       "       [0.16768702, 0.78498614, 0.00896623, 0.62852049, 0.19024737,\n",
       "        0.6748323 , 0.54541128, 0.6009337 , 0.54270117, 0.22356798],\n",
       "       [0.52241387, 0.90438032, 0.82774926, 0.53543458, 0.82927585,\n",
       "        0.26424732, 0.8856214 , 0.48812411, 0.63012577, 0.97296584],\n",
       "       [0.17897139, 0.46582837, 0.10291355, 0.2425027 , 0.98226314,\n",
       "        0.58474396, 0.01688218, 0.84950387, 0.7338461 , 0.68730263],\n",
       "       [0.61630969, 0.56692733, 0.0533979 , 0.61879014, 0.21177956,\n",
       "        0.39638211, 0.80381413, 0.46921533, 0.68246353, 0.67803357],\n",
       "       [0.09570441, 0.65567032, 0.09547354, 0.89894782, 0.86262667,\n",
       "        0.20057741, 0.7817046 , 0.24278158, 0.436576  , 0.43224446],\n",
       "       [0.40260689, 0.6968593 , 0.35988404, 0.92157533, 0.42035834,\n",
       "        0.88678833, 0.96513151, 0.22063059, 0.56857659, 0.20818504],\n",
       "       [0.79498968, 0.41996487, 0.30330865, 0.64868865, 0.75907136,\n",
       "        0.70809532, 0.23204956, 0.37819801, 0.78200435, 0.79349423],\n",
       "       [0.0494352 , 0.30823021, 0.11120839, 0.08727143, 0.90672743,\n",
       "        0.8560653 , 0.41357471, 0.76396071, 0.70939306, 0.47380108],\n",
       "       [0.40062894, 0.47084362, 0.3321685 , 0.73678875, 0.17502174,\n",
       "        0.43003906, 0.27981727, 0.82451038, 0.21114149, 0.91330085],\n",
       "       [0.73842342, 0.64239132, 0.70880434, 0.17223425, 0.55042276,\n",
       "        0.65510951, 0.16509374, 0.90031381, 0.21728432, 0.11969531],\n",
       "       [0.03914205, 0.97798437, 0.15320675, 0.86105988, 0.37006637,\n",
       "        0.43630368, 0.23499205, 0.53246443, 0.76340979, 0.32217485],\n",
       "       [0.07417327, 0.57001644, 0.5799681 , 0.12086892, 0.44679381,\n",
       "        0.6262328 , 0.18305166, 0.01032288, 0.69601481, 0.53704689],\n",
       "       [0.88662808, 0.43313796, 0.90841632, 0.05944329, 0.54205443,\n",
       "        0.0159148 , 0.75974906, 0.19738492, 0.62567568, 0.32297714],\n",
       "       [0.30213193, 0.37255451, 0.45007144, 0.17184455, 0.7469764 ,\n",
       "        0.5454641 , 0.14130048, 0.88300491, 0.76257717, 0.20361351],\n",
       "       [0.25712407, 0.80719803, 0.00961068, 0.70070307, 0.62637461,\n",
       "        0.36800903, 0.4570341 , 0.56592728, 0.06068352, 0.9477083 ],\n",
       "       [0.99377298, 0.98487031, 0.7486386 , 0.3136172 , 0.30092683,\n",
       "        0.39276205, 0.76242374, 0.05040588, 0.99697346, 0.52931828],\n",
       "       [0.63969924, 0.52213646, 0.54963214, 0.33789693, 0.69899806,\n",
       "        0.41020525, 0.99851815, 0.79243643, 0.05370934, 0.14596644],\n",
       "       [0.37238209, 0.93857496, 0.24359512, 0.63112849, 0.02823193,\n",
       "        0.07341217, 0.77980658, 0.5997076 , 0.67546383, 0.77729168],\n",
       "       [0.97477232, 0.17736648, 0.20163381, 0.79485497, 0.87557068,\n",
       "        0.27002315, 0.94320012, 0.33701586, 0.73370988, 0.085918  ],\n",
       "       [0.48047563, 0.60148778, 0.38445716, 0.08969186, 0.48374939,\n",
       "        0.08287251, 0.47434877, 0.85051908, 0.35526036, 0.88669926],\n",
       "       [0.01621084, 0.92903894, 0.50990225, 0.30281224, 0.98637746,\n",
       "        0.67615648, 0.01936784, 0.63914285, 0.03496576, 0.79841828],\n",
       "       [0.1979889 , 0.1859858 , 0.33647895, 0.98974844, 0.14021079,\n",
       "        0.03291752, 0.45999017, 0.16835336, 0.65222513, 0.12344188],\n",
       "       [0.70052726, 0.60465063, 0.70093389, 0.30662332, 0.52492347,\n",
       "        0.72467586, 0.00642269, 0.24120615, 0.26110984, 0.00314869],\n",
       "       [0.80678124, 0.05532821, 0.70117075, 0.84155587, 0.98077775,\n",
       "        0.61880338, 0.35528595, 0.08136022, 0.99129762, 0.6935521 ],\n",
       "       [0.35685236, 0.59243507, 0.23821575, 0.09033511, 0.3768797 ,\n",
       "        0.48761301, 0.98813595, 0.51067451, 0.12179604, 0.27708866],\n",
       "       [0.43832987, 0.87033841, 0.17351848, 0.576209  , 0.88313012,\n",
       "        0.27796384, 0.6020463 , 0.85576072, 0.20070524, 0.64992442],\n",
       "       [0.01320985, 0.1875768 , 0.25372728, 0.50845097, 0.57917802,\n",
       "        0.45613391, 0.79421371, 0.52044166, 0.50185221, 0.43629844]])"
      ]
     },
     "execution_count": 28,
     "metadata": {},
     "output_type": "execute_result"
    }
   ],
   "source": [
    "x[0,0,:,:]"
   ]
  },
  {
   "cell_type": "code",
   "execution_count": 29,
   "metadata": {},
   "outputs": [],
   "source": [
    "z = np.maximum(x,y)"
   ]
  },
  {
   "cell_type": "code",
   "execution_count": 30,
   "metadata": {},
   "outputs": [
    {
     "data": {
      "text/plain": [
       "array([[[[0.81691748, 0.7749738 , 0.82629232, ..., 0.98681987,\n",
       "          0.22995758, 0.99256496],\n",
       "         [0.88940446, 0.46651735, 0.55983169, ..., 0.34458083,\n",
       "          0.86993525, 0.63363756],\n",
       "         [0.50459315, 0.67384028, 0.68235218, ..., 0.97368683,\n",
       "          0.7815628 , 0.67006136],\n",
       "         ...,\n",
       "         [0.99967938, 0.63685587, 0.8602342 , ..., 0.51067451,\n",
       "          0.13632557, 0.88330911],\n",
       "         [0.43832987, 0.87033841, 0.8686887 , ..., 0.85576072,\n",
       "          0.26516268, 0.64992442],\n",
       "         [0.35012841, 0.1875768 , 0.47762165, ..., 0.52044166,\n",
       "          0.50185221, 0.58033303]],\n",
       "\n",
       "        [[0.81691748, 0.80914907, 0.89798202, ..., 0.98681987,\n",
       "          0.44743382, 0.95656156],\n",
       "         [0.71370918, 0.54614124, 0.57928321, ..., 0.68051263,\n",
       "          0.86993525, 0.63363756],\n",
       "         [0.25397081, 0.79623905, 0.82548684, ..., 0.96753502,\n",
       "          0.75591072, 0.60454373],\n",
       "         ...,\n",
       "         [0.99967938, 0.63685587, 0.8602342 , ..., 0.31445428,\n",
       "          0.84822423, 0.91944433],\n",
       "         [0.81383478, 0.7815435 , 0.8686887 , ..., 0.58824655,\n",
       "          0.26516268, 0.79605275],\n",
       "         [0.50050368, 0.36543161, 0.47762165, ..., 0.24704913,\n",
       "          0.33036669, 0.58033303]],\n",
       "\n",
       "        [[0.81691748, 0.7749738 , 0.82629232, ..., 0.98681987,\n",
       "          0.58543951, 0.96085084],\n",
       "         [0.71370918, 0.89040312, 0.55983169, ..., 0.26843934,\n",
       "          0.86993525, 0.63363756],\n",
       "         [0.59592356, 0.67384028, 0.68235218, ..., 0.44420432,\n",
       "          0.86283309, 0.97168866],\n",
       "         ...,\n",
       "         [0.99967938, 0.63685587, 0.8602342 , ..., 0.90484012,\n",
       "          0.95094682, 0.94335515],\n",
       "         [0.57609578, 0.78353179, 0.8686887 , ..., 0.2811311 ,\n",
       "          0.26516268, 0.58264122],\n",
       "         [0.35876588, 0.95263737, 0.47762165, ..., 0.24704913,\n",
       "          0.19550688, 0.58033303]]],\n",
       "\n",
       "\n",
       "       [[[0.81691748, 0.7749738 , 0.82629232, ..., 0.98681987,\n",
       "          0.14616863, 0.95656156],\n",
       "         [0.71370918, 0.64701609, 0.55983169, ..., 0.64022322,\n",
       "          0.86993525, 0.63363756],\n",
       "         [0.25397081, 0.71139891, 0.99154401, ..., 0.44420432,\n",
       "          0.8045548 , 0.60454373],\n",
       "         ...,\n",
       "         [0.99967938, 0.63685587, 0.8602342 , ..., 0.92212286,\n",
       "          0.13632557, 0.88330911],\n",
       "         [0.40803125, 0.92753233, 0.8686887 , ..., 0.22822037,\n",
       "          0.26516268, 0.80008509],\n",
       "         [0.35012841, 0.56962634, 0.74454835, ..., 0.41629182,\n",
       "          0.18493033, 0.58033303]],\n",
       "\n",
       "        [[0.81691748, 0.7749738 , 0.82629232, ..., 0.98681987,\n",
       "          0.38058612, 0.95656156],\n",
       "         [0.96629405, 0.46651735, 0.6224793 , ..., 0.90207489,\n",
       "          0.86993525, 0.63363756],\n",
       "         [0.88240416, 0.67384028, 0.99002757, ..., 0.65648777,\n",
       "          0.8597937 , 0.60454373],\n",
       "         ...,\n",
       "         [0.99967938, 0.63685587, 0.8602342 , ..., 0.3871983 ,\n",
       "          0.15512261, 0.96226027],\n",
       "         [0.40803125, 0.7815435 , 0.8686887 , ..., 0.69952865,\n",
       "          0.67794093, 0.94301001],\n",
       "         [0.55381064, 0.0428813 , 0.47762165, ..., 0.83107575,\n",
       "          0.51371002, 0.83262649]],\n",
       "\n",
       "        [[0.81691748, 0.7749738 , 0.82629232, ..., 0.98681987,\n",
       "          0.11521377, 0.95656156],\n",
       "         [0.85762045, 0.46651735, 0.64476378, ..., 0.32979527,\n",
       "          0.86993525, 0.63363756],\n",
       "         [0.46670641, 0.67384028, 0.68235218, ..., 0.69667504,\n",
       "          0.75591072, 0.60454373],\n",
       "         ...,\n",
       "         [0.99967938, 0.63685587, 0.8602342 , ..., 0.47811139,\n",
       "          0.13632557, 0.88330911],\n",
       "         [0.61108515, 0.7815435 , 0.8686887 , ..., 0.81363043,\n",
       "          0.26516268, 0.60168163],\n",
       "         [0.75133681, 0.33200063, 0.47762165, ..., 0.24704913,\n",
       "          0.6178786 , 0.58033303]]],\n",
       "\n",
       "\n",
       "       [[[0.94476868, 0.7749738 , 0.82629232, ..., 0.98681987,\n",
       "          0.72046843, 0.95656156],\n",
       "         [0.71370918, 0.87991431, 0.63002593, ..., 0.17203276,\n",
       "          0.86993525, 0.9183334 ],\n",
       "         [0.54744659, 0.77120988, 0.84483389, ..., 0.58725643,\n",
       "          0.80665446, 0.60454373],\n",
       "         ...,\n",
       "         [0.99967938, 0.98753927, 0.8602342 , ..., 0.62491138,\n",
       "          0.58922259, 0.88330911],\n",
       "         [0.92466721, 0.7815435 , 0.8686887 , ..., 0.22822037,\n",
       "          0.7791871 , 0.8859867 ],\n",
       "         [0.94275421, 0.1386338 , 0.89670882, ..., 0.36776334,\n",
       "          0.77617711, 0.84253393]],\n",
       "\n",
       "        [[0.81691748, 0.7749738 , 0.82629232, ..., 0.98681987,\n",
       "          0.58071346, 0.95656156],\n",
       "         [0.71370918, 0.46651735, 0.55983169, ..., 0.96190684,\n",
       "          0.86993525, 0.63363756],\n",
       "         [0.42409021, 0.90399802, 0.97113953, ..., 0.44420432,\n",
       "          0.87069356, 0.60454373],\n",
       "         ...,\n",
       "         [0.99967938, 0.946986  , 0.8602342 , ..., 0.54444137,\n",
       "          0.9716042 , 0.88330911],\n",
       "         [0.84833321, 0.7815435 , 0.88932505, ..., 0.82234757,\n",
       "          0.53497966, 0.5529328 ],\n",
       "         [0.8451821 , 0.71196311, 0.73152604, ..., 0.35520091,\n",
       "          0.20994832, 0.6075733 ]],\n",
       "\n",
       "        [[0.81691748, 0.7749738 , 0.82629232, ..., 0.98681987,\n",
       "          0.54371297, 0.95656156],\n",
       "         [0.71370918, 0.68257584, 0.55983169, ..., 0.16483502,\n",
       "          0.86993525, 0.63363756],\n",
       "         [0.4879031 , 0.71903909, 0.68235218, ..., 0.72003034,\n",
       "          0.75591072, 0.60454373],\n",
       "         ...,\n",
       "         [0.99967938, 0.63685587, 0.90107208, ..., 0.91352752,\n",
       "          0.63077344, 0.88330911],\n",
       "         [0.86629853, 0.7815435 , 0.8686887 , ..., 0.22822037,\n",
       "          0.57387425, 0.32154876],\n",
       "         [0.47521907, 0.13378623, 0.64440383, ..., 0.63764515,\n",
       "          0.88165495, 0.58033303]]],\n",
       "\n",
       "\n",
       "       ...,\n",
       "\n",
       "\n",
       "       [[[0.81691748, 0.7749738 , 0.82629232, ..., 0.98681987,\n",
       "          0.79035679, 0.95656156],\n",
       "         [0.71370918, 0.46651735, 0.55983169, ..., 0.19487904,\n",
       "          0.86993525, 0.72388357],\n",
       "         [0.25397081, 0.67384028, 0.68235218, ..., 0.63890538,\n",
       "          0.75591072, 0.60454373],\n",
       "         ...,\n",
       "         [0.99967938, 0.63685587, 0.87018349, ..., 0.20895808,\n",
       "          0.13632557, 0.88330911],\n",
       "         [0.9658005 , 0.7815435 , 0.8686887 , ..., 0.49919566,\n",
       "          0.68583159, 0.78322814],\n",
       "         [0.39137723, 0.32866761, 0.91352776, ..., 0.44596691,\n",
       "          0.68272137, 0.79006176]],\n",
       "\n",
       "        [[0.9945717 , 0.7749738 , 0.97018441, ..., 0.98681987,\n",
       "          0.96524677, 0.95656156],\n",
       "         [0.71370918, 0.84600742, 0.62633597, ..., 0.30151115,\n",
       "          0.86993525, 0.63363756],\n",
       "         [0.59841923, 0.67384028, 0.68235218, ..., 0.75094385,\n",
       "          0.75591072, 0.60454373],\n",
       "         ...,\n",
       "         [0.99967938, 0.7192199 , 0.8602342 , ..., 0.08722584,\n",
       "          0.27361706, 0.88330911],\n",
       "         [0.40803125, 0.7815435 , 0.8686887 , ..., 0.66139988,\n",
       "          0.70748588, 0.70228745],\n",
       "         [0.75345297, 0.93140512, 0.47762165, ..., 0.42370692,\n",
       "          0.83756957, 0.76565721]],\n",
       "\n",
       "        [[0.81691748, 0.7749738 , 0.82629232, ..., 0.98681987,\n",
       "          0.96586777, 0.95656156],\n",
       "         [0.71370918, 0.46651735, 0.89518796, ..., 0.7727069 ,\n",
       "          0.86993525, 0.63363756],\n",
       "         [0.26749492, 0.67384028, 0.79200603, ..., 0.46874656,\n",
       "          0.75591072, 0.64017331],\n",
       "         ...,\n",
       "         [0.99967938, 0.63685587, 0.8602342 , ..., 0.83058568,\n",
       "          0.20719374, 0.88330911],\n",
       "         [0.40803125, 0.85062052, 0.8686887 , ..., 0.96572   ,\n",
       "          0.69948312, 0.97924543],\n",
       "         [0.35012841, 0.54319437, 0.47762165, ..., 0.70698472,\n",
       "          0.06465381, 0.58033303]]],\n",
       "\n",
       "\n",
       "       [[[0.81691748, 0.7749738 , 0.82629232, ..., 0.98681987,\n",
       "          0.70770985, 0.95656156],\n",
       "         [0.71370918, 0.78011333, 0.63557126, ..., 0.24254345,\n",
       "          0.86993525, 0.63363756],\n",
       "         [0.35782799, 0.67384028, 0.68235218, ..., 0.82331008,\n",
       "          0.75591072, 0.60454373],\n",
       "         ...,\n",
       "         [0.99967938, 0.63685587, 0.8602342 , ..., 0.10679952,\n",
       "          0.42375995, 0.88330911],\n",
       "         [0.5947007 , 0.7815435 , 0.8686887 , ..., 0.3625843 ,\n",
       "          0.26516268, 0.32154876],\n",
       "         [0.64495854, 0.70285359, 0.82986386, ..., 0.67101138,\n",
       "          0.06465381, 0.58033303]],\n",
       "\n",
       "        [[0.81691748, 0.7749738 , 0.95847845, ..., 0.98681987,\n",
       "          0.95365418, 0.95656156],\n",
       "         [0.96140441, 0.58400201, 0.55983169, ..., 0.65442977,\n",
       "          0.86993525, 0.63363756],\n",
       "         [0.67246187, 0.81524854, 0.68235218, ..., 0.74569638,\n",
       "          0.89786259, 0.60454373],\n",
       "         ...,\n",
       "         [0.99967938, 0.63685587, 0.8602342 , ..., 0.10209864,\n",
       "          0.53209247, 0.88330911],\n",
       "         [0.84290179, 0.7815435 , 0.8686887 , ..., 0.60849939,\n",
       "          0.99500553, 0.57667544],\n",
       "         [0.913951  , 0.2973364 , 0.7756919 , ..., 0.54359403,\n",
       "          0.75586418, 0.58033303]],\n",
       "\n",
       "        [[0.8635356 , 0.7749738 , 0.97514488, ..., 0.98681987,\n",
       "          0.71901811, 0.95656156],\n",
       "         [0.98039041, 0.98875418, 0.55983169, ..., 0.12068061,\n",
       "          0.86993525, 0.75617508],\n",
       "         [0.83144538, 0.67384028, 0.69526176, ..., 0.49424857,\n",
       "          0.75591072, 0.60454373],\n",
       "         ...,\n",
       "         [0.99967938, 0.63685587, 0.8602342 , ..., 0.1024236 ,\n",
       "          0.88961963, 0.93829152],\n",
       "         [0.7519366 , 0.7815435 , 0.8686887 , ..., 0.98957371,\n",
       "          0.67613568, 0.42717523],\n",
       "         [0.88195378, 0.00758494, 0.47762165, ..., 0.73423155,\n",
       "          0.69544924, 0.58033303]]],\n",
       "\n",
       "\n",
       "       [[[0.86162583, 0.7749738 , 0.82629232, ..., 0.98681987,\n",
       "          0.44879378, 0.95656156],\n",
       "         [0.71370918, 0.46651735, 0.55983169, ..., 0.12295228,\n",
       "          0.86993525, 0.63363756],\n",
       "         [0.25397081, 0.67384028, 0.68235218, ..., 0.44420432,\n",
       "          0.75591072, 0.72528135],\n",
       "         ...,\n",
       "         [0.99967938, 0.63685587, 0.89874695, ..., 0.64481759,\n",
       "          0.85729536, 0.88330911],\n",
       "         [0.79117288, 0.7815435 , 0.8686887 , ..., 0.75759151,\n",
       "          0.26516268, 0.75434312],\n",
       "         [0.35012841, 0.83585454, 0.47762165, ..., 0.57293547,\n",
       "          0.89974494, 0.58033303]],\n",
       "\n",
       "        [[0.81691748, 0.7749738 , 0.82629232, ..., 0.98681987,\n",
       "          0.83671623, 0.95656156],\n",
       "         [0.71370918, 0.46651735, 0.55983169, ..., 0.73364517,\n",
       "          0.86993525, 0.84337815],\n",
       "         [0.64453855, 0.67384028, 0.68235218, ..., 0.44420432,\n",
       "          0.75591072, 0.95446169],\n",
       "         ...,\n",
       "         [0.99967938, 0.63685587, 0.8602342 , ..., 0.29871107,\n",
       "          0.23719621, 0.93219307],\n",
       "         [0.55912627, 0.7815435 , 0.8686887 , ..., 0.91395842,\n",
       "          0.26516268, 0.61881952],\n",
       "         [0.72297925, 0.13047679, 0.47762165, ..., 0.62903445,\n",
       "          0.90843913, 0.58033303]],\n",
       "\n",
       "        [[0.81691748, 0.7749738 , 0.82629232, ..., 0.98681987,\n",
       "          0.13327255, 0.95656156],\n",
       "         [0.71370918, 0.73465467, 0.83358822, ..., 0.88144007,\n",
       "          0.86993525, 0.63363756],\n",
       "         [0.36365365, 0.93046619, 0.79069244, ..., 0.73891182,\n",
       "          0.75591072, 0.60454373],\n",
       "         ...,\n",
       "         [0.99967938, 0.63685587, 0.8602342 , ..., 0.730158  ,\n",
       "          0.72775414, 0.88330911],\n",
       "         [0.40803125, 0.7815435 , 0.8686887 , ..., 0.22822037,\n",
       "          0.75404654, 0.96280488],\n",
       "         [0.89497813, 0.91347301, 0.47762165, ..., 0.71168077,\n",
       "          0.06465381, 0.58033303]]]])"
      ]
     },
     "execution_count": 30,
     "metadata": {},
     "output_type": "execute_result"
    }
   ],
   "source": [
    "z"
   ]
  },
  {
   "cell_type": "markdown",
   "metadata": {},
   "source": [
    "## SGB\n",
    "- Stochastic Gradient Descent\n",
    "- primitive(Base) Gradient Descent\n",
    "- The stochastic regers to the fact that **each batch of data is drwan at random**.\n",
    "- batch 크기 만큼 무작위로 뽑는걸 많이 수행하면 결국 모든 데이터를 뽑아낼 수 있는 확률이 높아진다."
   ]
  },
  {
   "cell_type": "markdown",
   "metadata": {},
   "source": [
    "# Overfitting\n",
    "- the fact that machine-learning models tend to perfrom worse on new data than on their training data."
   ]
  },
  {
   "cell_type": "code",
   "execution_count": null,
   "metadata": {},
   "outputs": [],
   "source": []
  },
  {
   "cell_type": "code",
   "execution_count": null,
   "metadata": {},
   "outputs": [],
   "source": []
  },
  {
   "cell_type": "code",
   "execution_count": null,
   "metadata": {},
   "outputs": [],
   "source": []
  },
  {
   "cell_type": "markdown",
   "metadata": {},
   "source": [
    "**IMDB** : Classifying movie reviews as positive or negative(binary classfication)<br>\n",
    "**Reuters** : Classifying news wires by topic(multiclass classification)<br>\n",
    "**Bonston Housing** : Estimating the price of a house, given real-estate data(regression)<br>"
   ]
  },
  {
   "cell_type": "markdown",
   "metadata": {},
   "source": [
    "## IMID\n",
    "- Two-class classification, or binary classification - classfity movie review as posivive or negative, based on the text content of the reviews\n",
    "- 50000개(train, test로 안나뉨)\n",
    "- train, test로 나누어주어야 한다.\n",
    "- IMDB dataset the reviews (sequences of words) into sequences of integers\n",
    "- 단어는 대문자가 아닌 소문자로 되어있음."
   ]
  },
  {
   "cell_type": "code",
   "execution_count": 1,
   "metadata": {},
   "outputs": [],
   "source": [
    "from tensorflow.keras.datasets import imdb\n",
    "import matplotlib.pyplot as plt\n",
    "import numpy as np\n",
    "import random"
   ]
  },
  {
   "cell_type": "markdown",
   "metadata": {},
   "source": [
    "### num_words=5000\n",
    "- 5,000 most frequently occurring words in thr training data"
   ]
  },
  {
   "cell_type": "code",
   "execution_count": 2,
   "metadata": {},
   "outputs": [],
   "source": [
    "num_words = 5000"
   ]
  },
  {
   "cell_type": "code",
   "execution_count": 3,
   "metadata": {},
   "outputs": [],
   "source": [
    "(train_data, train_labels),(test_data, test_labels) = imdb.load_data(\"/Users/changmin.kim/Desktop/jupyterNotebook/dataset/imdb.npz\",num_words=num_words)"
   ]
  },
  {
   "cell_type": "code",
   "execution_count": 4,
   "metadata": {},
   "outputs": [
    {
     "name": "stdout",
     "output_type": "stream",
     "text": [
      "추출한 단어 인덱스의 범위: 0 ~ 4999\n"
     ]
    }
   ],
   "source": [
    "print(\"추출한 단어 인덱스의 범위: 0 ~\",max([max(sequence) for sequence in train_data]))"
   ]
  },
  {
   "cell_type": "code",
   "execution_count": 5,
   "metadata": {},
   "outputs": [
    {
     "name": "stdout",
     "output_type": "stream",
     "text": [
      "train데이터 개수: 25000\n",
      "test데이터 개수: 25000\n"
     ]
    }
   ],
   "source": [
    "total_train_size = len(train_data)\n",
    "total_test_size = len(test_data)\n",
    "print(\"train데이터 개수:\",total_train_size)\n",
    "print(\"test데이터 개수:\",total_test_size)"
   ]
  },
  {
   "cell_type": "code",
   "execution_count": 6,
   "metadata": {},
   "outputs": [
    {
     "data": {
      "text/plain": [
       "array([1, 0, 0, ..., 0, 1, 0])"
      ]
     },
     "execution_count": 6,
     "metadata": {},
     "output_type": "execute_result"
    }
   ],
   "source": [
    "train_labels"
   ]
  },
  {
   "cell_type": "markdown",
   "metadata": {},
   "source": [
    "### 0 stands for negative and 1 stands for positive"
   ]
  },
  {
   "cell_type": "code",
   "execution_count": 7,
   "metadata": {},
   "outputs": [],
   "source": [
    "evaluate = {0:\"negative\",1:\"positive\"}"
   ]
  },
  {
   "cell_type": "markdown",
   "metadata": {},
   "source": [
    "### processing_word_index"
   ]
  },
  {
   "cell_type": "code",
   "execution_count": 8,
   "metadata": {},
   "outputs": [],
   "source": [
    "word_index = imdb.get_word_index()"
   ]
  },
  {
   "cell_type": "code",
   "execution_count": 9,
   "metadata": {
    "scrolled": true
   },
   "outputs": [
    {
     "name": "stdout",
     "output_type": "stream",
     "text": [
      "전체 단어 인덱스의 개수: 88584\n"
     ]
    }
   ],
   "source": [
    "print(\"전체 단어 인덱스의 개수:\",len(word_index))"
   ]
  },
  {
   "cell_type": "code",
   "execution_count": 10,
   "metadata": {},
   "outputs": [],
   "source": [
    "reverse_word_index = dict(\n",
    "    [(value,key) for (key, value) in word_index.items()]\n",
    ")"
   ]
  },
  {
   "cell_type": "markdown",
   "metadata": {},
   "source": [
    "train_data의 처음 인덱스인 0, 1, 2는 패딩, 문서 시작, 사전에 없음을 위한 인덱스이므로 3을 빼서 출력해야한다."
   ]
  },
  {
   "cell_type": "code",
   "execution_count": 11,
   "metadata": {
    "scrolled": true
   },
   "outputs": [],
   "source": [
    "num = random.randint(0,total_train_size-1)\n",
    "decode_review = ' '.join(\n",
    "    [reverse_word_index.get(i-3, \"\") for i in train_data[num]]\n",
    ")"
   ]
  },
  {
   "cell_type": "markdown",
   "metadata": {},
   "source": [
    "0, 1, 2는 공백으로 처리"
   ]
  },
  {
   "cell_type": "code",
   "execution_count": 12,
   "metadata": {},
   "outputs": [
    {
     "name": "stdout",
     "output_type": "stream",
     "text": [
      " after finally viewing this movie in its  i am completely  by the  it has received by critics and online  alike is it the worst western ever no i wouldn't say that but the last great american western a  i saw  to it more than once not even close br br a movie that tries to tell a story like this needs believable characters that speak believable dialogue and the dialogue in this film is among the most  and clichéd that i've ever seen the movie can be  in  per minute as in how many times is an actor or actress forced by the script to say something that no human being would say in real life there's so many  of this that it's distracting cheesy lines come at you in waves predictable unoriginal and often br br if bad dialogue doesn't bother you then how about bad  few westerns can show you  that's completely unbelievable while desperately trying to make you take the action seriously it's okay if there's a comic edge to such  such as in  but in  the very staged and very stiff choreography of the early  is just another reason to leave this movie off the list of good westerns the final showdown somewhat  the director on this score but by then i was so  in the movie that it was beyond saving br br other than those flaws i can say the visuals are stunning the movie's well shot and the settings all look great the acting is  especially considering what the actors were given to work with however if you're looking for the last great american western do yourself a favor go rent  instead br br 3 out of 10\n",
      "\n",
      "label= negative\n"
     ]
    }
   ],
   "source": [
    "print(decode_review)\n",
    "print(\"\")\n",
    "print(\"label=\",evaluate[train_labels[num]])"
   ]
  },
  {
   "cell_type": "code",
   "execution_count": null,
   "metadata": {},
   "outputs": [],
   "source": []
  },
  {
   "cell_type": "markdown",
   "metadata": {},
   "source": [
    "## Preparing the data"
   ]
  },
  {
   "cell_type": "markdown",
   "metadata": {},
   "source": [
    "### 개선점\n",
    "results[i,] = 1. 으로만 하면 한 원소의 특징이 모두 1로 바뀌어 문제가 생긴다. <br>\n",
    "그러므로 results[i][sequence]으로 바꾸어 특정 원소만 1로 바꾸어 준다."
   ]
  },
  {
   "cell_type": "code",
   "execution_count": 350,
   "metadata": {},
   "outputs": [],
   "source": [
    "def vectorize_sequences(sequences, dimension= 10000):\n",
    "    results = np.zeros((len (sequences), dimension))\n",
    "    print(\"데이터 형태:\",results.shape)\n",
    "    for i , sequence in enumerate(sequences):\n",
    "        results[i][sequence] = 1.\n",
    "    return results"
   ]
  },
  {
   "cell_type": "code",
   "execution_count": 14,
   "metadata": {},
   "outputs": [
    {
     "name": "stdout",
     "output_type": "stream",
     "text": [
      "데이터 형태: (25000, 10000)\n",
      "데이터 형태: (25000, 10000)\n"
     ]
    }
   ],
   "source": [
    "x_train = vectorize_sequences(train_data)\n",
    "x_test = vectorize_sequences(test_data)"
   ]
  },
  {
   "cell_type": "code",
   "execution_count": 16,
   "metadata": {
    "scrolled": true
   },
   "outputs": [
    {
     "data": {
      "text/plain": [
       "array([0., 1., 1., ..., 0., 0., 0.])"
      ]
     },
     "execution_count": 16,
     "metadata": {},
     "output_type": "execute_result"
    }
   ],
   "source": [
    "x_train[0]"
   ]
  },
  {
   "cell_type": "code",
   "execution_count": 17,
   "metadata": {},
   "outputs": [],
   "source": [
    "y_train = np.asarray(train_labels).astype('float32')\n",
    "y_test = np.asarray(test_labels).astype('float32')"
   ]
  },
  {
   "cell_type": "code",
   "execution_count": null,
   "metadata": {},
   "outputs": [],
   "source": []
  },
  {
   "cell_type": "markdown",
   "metadata": {},
   "source": [
    "## Data Analysis"
   ]
  },
  {
   "cell_type": "markdown",
   "metadata": {},
   "source": [
    "### train_data positive 데이터 negative 데이터 분석"
   ]
  },
  {
   "cell_type": "code",
   "execution_count": 19,
   "metadata": {},
   "outputs": [
    {
     "data": {
      "text/plain": [
       "Text(0.5, 1.0, 'negative')"
      ]
     },
     "execution_count": 19,
     "metadata": {},
     "output_type": "execute_result"
    },
    {
     "data": {
      "image/png": "[encoded data removed]",
      "text/plain": [
       "<Figure size 1152x288 with 2 Axes>"
      ]
     },
     "metadata": {
      "needs_background": "light"
     },
     "output_type": "display_data"
    }
   ],
   "source": [
    "plt.figure(figsize=(16,4))\n",
    "plt.subplot(1,2,1)\n",
    "plt.hist(train_data[0],color=\"blue\",bins=50,range=(0,2000))\n",
    "plt.title(str(evaluate[train_labels[0]]))\n",
    "\n",
    "plt.subplot(1,2,2)\n",
    "plt.hist(train_data[1],color=\"red\",bins=50, range=(0,2000))\n",
    "plt.title(str(evaluate[train_labels[1]]))"
   ]
  },
  {
   "cell_type": "markdown",
   "metadata": {},
   "source": [
    "위의 그래프를 보면 0에서부터 뒤로 갈수로 분포가 줄어 드는 것을 알 수 있다.<br>\n",
    "인덱스 숫자가 작을수록 많이 분포한다는 것을 알수 있다.\n",
    "\n",
    "사실 위에 있는 히스토그램만을 본다고 무슨 차이가 있는지 파악하긴 어렵다.\n",
    "하지만 예측 한건데 부정적인 리뷰는 부정적인 단어가 많이 들어 있을 것이다. 예를들어 not, no, never, didn't,worst등의 부정적 단어가 포함 될 가능 성이 높다. 따라서 머신은 이러한 단어가 있을시 negative에 영향을 줄 weight의 값을 크게 변화시킨다."
   ]
  },
  {
   "cell_type": "code",
   "execution_count": null,
   "metadata": {},
   "outputs": [],
   "source": []
  },
  {
   "cell_type": "markdown",
   "metadata": {},
   "source": [
    "### train_data[1] 리뷰 분석하기"
   ]
  },
  {
   "cell_type": "code",
   "execution_count": 20,
   "metadata": {},
   "outputs": [
    {
     "name": "stdout",
     "output_type": "stream",
     "text": [
      "but\n",
      "not\n",
      "no\n",
      "bad\n",
      "never\n",
      "doesn't\n",
      "didn't\n",
      "nothing\n",
      "can't\n",
      "worst\n",
      "boring\n",
      "terrible\n",
      "slasher\n",
      "terribly\n",
      "trashy\n"
     ]
    }
   ],
   "source": [
    "# 부정적인 단어의 인덱스번호\n",
    "negative_word = [21, 24, 57, 78, 115, 152, 161, 164, 191, 249, 357, 394, 1179, 1905, 4373]\n",
    "for i in negative_word:\n",
    "    print(reverse_word_index.get(i-3))"
   ]
  },
  {
   "cell_type": "code",
   "execution_count": 21,
   "metadata": {},
   "outputs": [],
   "source": [
    "num = 1"
   ]
  },
  {
   "cell_type": "code",
   "execution_count": 22,
   "metadata": {},
   "outputs": [
    {
     "name": "stdout",
     "output_type": "stream",
     "text": [
      " big hair big  bad music and a giant safety  these are the words to best describe this terrible movie i love cheesy horror movies and i've seen hundreds but this had got to be on of the worst ever made the plot is paper thin and ridiculous the acting is an  the script is completely laughable the best is the end showdown with the cop and how he worked out who the killer is it's just so damn terribly written the clothes are  and funny in equal  the hair is big lots of   men wear those cut   that show off their   that men actually wore them and the music is just  trash that plays over and over again in almost every scene there is trashy music  and  taking away bodies and the  still doesn't close for  all  aside this is a truly bad film whose only charm is to look back on the disaster that was the 80's and have a good old laugh at how bad everything was back then\n",
      "\n",
      "label= negative\n"
     ]
    }
   ],
   "source": [
    "decode_review = ' '.join(\n",
    "    [reverse_word_index.get(i-3, \"\") for i in train_data[num]]\n",
    ")\n",
    "print(decode_review)\n",
    "print(\"\")\n",
    "print(\"label=\",evaluate[train_labels[num]])"
   ]
  },
  {
   "cell_type": "markdown",
   "metadata": {},
   "source": [
    "위의 리뷰는 negative한 리뷰이다. 이제부터 여기서 부정적인 단어가 있는지 살펴보겠다."
   ]
  },
  {
   "cell_type": "markdown",
   "metadata": {},
   "source": [
    "### x_train[1] 분석"
   ]
  },
  {
   "cell_type": "code",
   "execution_count": 23,
   "metadata": {},
   "outputs": [
    {
     "name": "stdout",
     "output_type": "stream",
     "text": [
      "x_train[0]에서 1의 개수: 114\n",
      "x_train[0]의 평가: negative\n"
     ]
    },
    {
     "data": {
      "image/png": "[encoded data removed]",
      "text/plain": [
       "<Figure size 432x288 with 1 Axes>"
      ]
     },
     "metadata": {
      "needs_background": "light"
     },
     "output_type": "display_data"
    }
   ],
   "source": [
    "plt.hist(x_train[num])\n",
    "count = 0\n",
    "index_value = []\n",
    "for i in range(len(x_train[num])):\n",
    "    if(x_train[num][i]==1):\n",
    "        count +=1\n",
    "        index_value.append(i)\n",
    "\n",
    "print(\"x_train[0]에서 1의 개수:\",count)\n",
    "print(\"x_train[0]의 평가:\",evaluate[y_train[num]])\n",
    "plt.show()"
   ]
  },
  {
   "cell_type": "code",
   "execution_count": 24,
   "metadata": {
    "scrolled": true
   },
   "outputs": [
    {
     "name": "stdout",
     "output_type": "stream",
     "text": [
      "부정적인 단어의 포함 여부\n",
      "but\n",
      "bad\n",
      "doesn't\n",
      "worst\n",
      "terrible\n",
      "terribly\n",
      "trashy\n"
     ]
    }
   ],
   "source": [
    "print(\"부정적인 단어의 포함 여부\")\n",
    "for i in index_value:\n",
    "    for j in negative_word:\n",
    "        if(i == j):\n",
    "            print(reverse_word_index.get(i-3))"
   ]
  },
  {
   "cell_type": "markdown",
   "metadata": {},
   "source": [
    "부정적인 단어가 7개가 나왔다. 머신은 이 단어들을 기반으로 negative로 판단 했을 수도 있다."
   ]
  },
  {
   "cell_type": "code",
   "execution_count": null,
   "metadata": {},
   "outputs": [],
   "source": []
  },
  {
   "cell_type": "markdown",
   "metadata": {},
   "source": [
    "## Building yourt network"
   ]
  },
  {
   "cell_type": "code",
   "execution_count": 34,
   "metadata": {},
   "outputs": [],
   "source": [
    "x_val = x_train[:10000]\n",
    "partial_x_train = x_train[10000:]\n",
    "\n",
    "y_val = y_train[:10000]\n",
    "partial_y_train = y_train[10000:]"
   ]
  },
  {
   "cell_type": "code",
   "execution_count": 43,
   "metadata": {},
   "outputs": [],
   "source": [
    "from tensorflow.keras import models\n",
    "from tensorflow.keras import layers\n",
    "import tensorflow as tf"
   ]
  },
  {
   "cell_type": "code",
   "execution_count": 70,
   "metadata": {},
   "outputs": [],
   "source": [
    "model = models.Sequential()"
   ]
  },
  {
   "cell_type": "code",
   "execution_count": 71,
   "metadata": {},
   "outputs": [],
   "source": [
    "model.add(layers.Dense(5000,activation='relu',input_shape=(10000,)))\n",
    "model.add(layers.Dense(1000,activation='relu'))\n",
    "model.add(layers.Dense(100,activation='relu'))\n",
    "model.add(layers.Dense(1,activation='sigmoid'))"
   ]
  },
  {
   "cell_type": "code",
   "execution_count": 72,
   "metadata": {
    "scrolled": true
   },
   "outputs": [
    {
     "name": "stdout",
     "output_type": "stream",
     "text": [
      "parameter(weight)개수\n",
      "(10000, 5000)\n",
      "(5000,)\n",
      "(5000, 1000)\n",
      "(1000,)\n",
      "(1000, 100)\n",
      "(100,)\n",
      "(100, 1)\n",
      "(1,)\n"
     ]
    }
   ],
   "source": [
    "print(\"parameter(weight)개수\")\n",
    "for i in range(len(model.weights)):\n",
    "    print(model.weights[i].shape)"
   ]
  },
  {
   "cell_type": "markdown",
   "metadata": {},
   "source": [
    "weight가 많다고 좋은 것은 아니다. 학습할 변수가 많으면 컴퓨터가 처리하기 어렵고, 그만큼 오래동안 학습해야 한다. 너무 많은 변수로 인해 데이터의 양상을 파악하기 어려워진다."
   ]
  },
  {
   "cell_type": "markdown",
   "metadata": {},
   "source": [
    "### Activation Function\n",
    "**Sigmoid 함수**\n",
    "$${sigmoid(x) = {1\\over{1+e^{-x}}}}$$\n",
    "\n",
    "**Relu 함수**\n",
    "$${relu(x) = max(0,x)}$$"
   ]
  },
  {
   "cell_type": "code",
   "execution_count": 119,
   "metadata": {},
   "outputs": [
    {
     "data": {
      "image/png": "[encoded data removed]",
      "text/plain": [
       "<Figure size 1008x288 with 2 Axes>"
      ]
     },
     "metadata": {
      "needs_background": "light"
     },
     "output_type": "display_data"
    }
   ],
   "source": [
    "x = np.arange(-10,10)\n",
    "sigmoid = 1/(1+np.exp(-x))\n",
    "relu = np.maximum(x,0)\n",
    "\n",
    "plt.figure(figsize=(14,4))\n",
    "plt.subplot(1,2,1)\n",
    "plt.title('sigmoid')\n",
    "plt.plot(x,sigmoid)\n",
    "plt.subplot(1,2,2)\n",
    "plt.title('relu')\n",
    "plt.plot(x,relu)\n",
    "plt.show()"
   ]
  },
  {
   "cell_type": "markdown",
   "metadata": {},
   "source": [
    "### Compiling the model\n",
    "- Rmsprop -> Adam\n",
    "- learning_rage = 0.001\n",
    "- loss : binary_crossentroy\n",
    "- 분류가 2개일 경우(2개일 경우, softmax보단 sigmoid가 더 낮다.)\n",
    "$${J(w)=-{1\\over m}\\sum^m_{i=1} [y^{(i)}log(\\sigma(w^T*\\mathbf x))+(1-y^{(i)})log(1-\\sigma(w^T*\\mathbf x))]}$$"
   ]
  },
  {
   "cell_type": "code",
   "execution_count": 75,
   "metadata": {},
   "outputs": [],
   "source": [
    "model.compile(\n",
    "    optimizer=tf.keras.optimizers.Adam(learning_rate=0.001),\n",
    "    loss=tf.keras.losses.binary_crossentropy,metrics=['accuracy']\n",
    ")"
   ]
  },
  {
   "cell_type": "markdown",
   "metadata": {},
   "source": [
    "Adam Optimization는 momentam Optimization와 RMSProp를 합친 옵티마이저이다. 현재 가장 많이 쓰이는 옵티마이저이다. "
   ]
  },
  {
   "cell_type": "code",
   "execution_count": 76,
   "metadata": {
    "scrolled": true
   },
   "outputs": [
    {
     "name": "stdout",
     "output_type": "stream",
     "text": [
      "Train on 15000 samples, validate on 10000 samples\n",
      "Epoch 1/10\n",
      "15000/15000 [==============================] - 23s 2ms/sample - loss: 0.3864 - accuracy: 0.8252 - val_loss: 0.2846 - val_accuracy: 0.8815\n",
      "Epoch 2/10\n",
      "15000/15000 [==============================] - 23s 2ms/sample - loss: 0.1365 - accuracy: 0.9518 - val_loss: 0.3222 - val_accuracy: 0.8774\n",
      "Epoch 3/10\n",
      "15000/15000 [==============================] - 23s 2ms/sample - loss: 0.0255 - accuracy: 0.9927 - val_loss: 0.4519 - val_accuracy: 0.8678\n",
      "Epoch 4/10\n",
      "15000/15000 [==============================] - 23s 2ms/sample - loss: 0.0031 - accuracy: 0.9992 - val_loss: 0.6524 - val_accuracy: 0.8722\n",
      "Epoch 5/10\n",
      "15000/15000 [==============================] - 23s 2ms/sample - loss: 3.8754e-04 - accuracy: 1.0000 - val_loss: 0.7240 - val_accuracy: 0.8718\n",
      "Epoch 6/10\n",
      "15000/15000 [==============================] - 23s 2ms/sample - loss: 6.9880e-05 - accuracy: 1.0000 - val_loss: 0.7675 - val_accuracy: 0.8712\n",
      "Epoch 7/10\n",
      "15000/15000 [==============================] - 22s 1ms/sample - loss: 4.0444e-05 - accuracy: 1.0000 - val_loss: 0.7918 - val_accuracy: 0.8716\n",
      "Epoch 8/10\n",
      "15000/15000 [==============================] - 22s 1ms/sample - loss: 2.9231e-05 - accuracy: 1.0000 - val_loss: 0.8128 - val_accuracy: 0.8722\n",
      "Epoch 9/10\n",
      "15000/15000 [==============================] - 22s 1ms/sample - loss: 2.2491e-05 - accuracy: 1.0000 - val_loss: 0.8306 - val_accuracy: 0.8721\n",
      "Epoch 10/10\n",
      "15000/15000 [==============================] - 22s 1ms/sample - loss: 1.8013e-05 - accuracy: 1.0000 - val_loss: 0.8458 - val_accuracy: 0.8725\n"
     ]
    }
   ],
   "source": [
    "history = model.fit(partial_x_train,\n",
    "                   partial_y_train,epochs=10,batch_size=250,validation_data=(x_val,y_val))"
   ]
  },
  {
   "cell_type": "code",
   "execution_count": 77,
   "metadata": {},
   "outputs": [],
   "source": [
    "history_dict = history.history\n",
    "\n",
    "history_dict.keys()\n",
    "\n",
    "loss_values = history_dict['loss']\n",
    "\n",
    "accuracy = history_dict['accuracy']\n",
    "\n",
    "val_loss = history_dict['val_loss']\n",
    "\n",
    "val_accuracy = history_dict['val_accuracy']\n",
    "\n",
    "epochs = np.arange(1,len(val_loss)+1)"
   ]
  },
  {
   "cell_type": "code",
   "execution_count": 78,
   "metadata": {},
   "outputs": [
    {
     "data": {
      "image/png": "[encoded data removed]",
      "text/plain": [
       "<Figure size 1008x288 with 2 Axes>"
      ]
     },
     "metadata": {
      "needs_background": "light"
     },
     "output_type": "display_data"
    }
   ],
   "source": [
    "plt.figure(figsize=(14,4))\n",
    "plt.subplot(1,2,1)\n",
    "plt.title(\"loss\")\n",
    "plt.plot(epochs,loss_values,\".r\", label='train',)\n",
    "plt.plot(epochs,val_loss,\"-b\", label='validation')\n",
    "plt.legend(fontsize='small')\n",
    "plt.axvline(2,color='g',linestyle='--')\n",
    "plt.xticks(epochs)\n",
    "\n",
    "plt.subplot(1,2,2)\n",
    "plt.title(\"accuracy\")\n",
    "plt.plot(epochs,accuracy,\".r\", label='train')\n",
    "plt.plot(epochs,val_accuracy,\"-b\", label='validation')\n",
    "plt.legend(fontsize='small')\n",
    "plt.axvline(2,color='g',linestyle='--')\n",
    "plt.xticks(epochs)\n",
    "plt.show()"
   ]
  },
  {
   "cell_type": "markdown",
   "metadata": {},
   "source": [
    "위 loss그래프를 보면 epoch를 2 이상하면 train_date로 OverFitting 과하게 되어서 val_loss가 올라가는 것을 알 수 있다. \n",
    "위 accuracy그래프 보면 accuracy가 1로 너무 OverFitting 된것이 보인다. 반대로 val_accuracy는 epoch를 돌리더라도 약간 내려간거 빼고 큰 변화가 일어나지 않는다. \n",
    "따라서 epoch는 2만 하는 것이 좋을 것 같다."
   ]
  },
  {
   "cell_type": "markdown",
   "metadata": {},
   "source": [
    "### Testing"
   ]
  },
  {
   "cell_type": "code",
   "execution_count": 101,
   "metadata": {
    "scrolled": false
   },
   "outputs": [
    {
     "name": "stdout",
     "output_type": "stream",
     "text": [
      "25000/25000 [==============================] - 14s 579us/sample - loss: 0.3612 - accuracy: 0.8661\n"
     ]
    }
   ],
   "source": [
    "result = model.evaluate(x_test,y_test)"
   ]
  },
  {
   "cell_type": "code",
   "execution_count": 102,
   "metadata": {},
   "outputs": [
    {
     "name": "stdout",
     "output_type": "stream",
     "text": [
      "loss 0.3611930773115158\n",
      "accuracy 0.86608\n"
     ]
    }
   ],
   "source": [
    "print(\"loss\",results[0])\n",
    "print(\"accuracy\",results[1])"
   ]
  },
  {
   "cell_type": "code",
   "execution_count": null,
   "metadata": {},
   "outputs": [],
   "source": []
  },
  {
   "cell_type": "markdown",
   "metadata": {},
   "source": [
    "### Retraining a model from scratch"
   ]
  },
  {
   "cell_type": "code",
   "execution_count": 110,
   "metadata": {},
   "outputs": [],
   "source": [
    "model = models.Sequential()"
   ]
  },
  {
   "cell_type": "code",
   "execution_count": 111,
   "metadata": {},
   "outputs": [],
   "source": [
    "model.add(layers.Dense(5000,activation='relu',input_shape=(10000,)))\n",
    "model.add(layers.Dense(1000,activation='relu'))\n",
    "model.add(layers.Dense(100,activation='relu'))\n",
    "model.add(layers.Dense(1,activation='sigmoid'))"
   ]
  },
  {
   "cell_type": "code",
   "execution_count": 112,
   "metadata": {},
   "outputs": [],
   "source": [
    "model.compile(\n",
    "    optimizer=tf.keras.optimizers.Adam(learning_rate=0.001),\n",
    "    loss=tf.keras.losses.binary_crossentropy,metrics=['accuracy']\n",
    ")"
   ]
  },
  {
   "cell_type": "code",
   "execution_count": 113,
   "metadata": {},
   "outputs": [
    {
     "name": "stdout",
     "output_type": "stream",
     "text": [
      "Train on 15000 samples, validate on 10000 samples\n",
      "Epoch 1/2\n",
      "15000/15000 [==============================] - 15s 1ms/sample - loss: 0.6089 - accuracy: 0.6849 - val_loss: 0.3399 - val_accuracy: 0.8608\n",
      "Epoch 2/2\n",
      "15000/15000 [==============================] - 15s 982us/sample - loss: 0.2468 - accuracy: 0.9063 - val_loss: 0.3019 - val_accuracy: 0.8813\n"
     ]
    }
   ],
   "source": [
    "history = model.fit(partial_x_train,\n",
    "                   partial_y_train,epochs=2,batch_size=1000,validation_data=(x_val,y_val))"
   ]
  },
  {
   "cell_type": "code",
   "execution_count": 114,
   "metadata": {},
   "outputs": [],
   "source": [
    "history_dict = history.history\n",
    "\n",
    "history_dict.keys()\n",
    "\n",
    "loss_values = history_dict['loss']\n",
    "\n",
    "accuracy = history_dict['accuracy']\n",
    "\n",
    "val_loss = history_dict['val_loss']\n",
    "\n",
    "val_accuracy = history_dict['val_accuracy']\n",
    "\n",
    "epochs = np.arange(1,len(val_loss)+1)"
   ]
  },
  {
   "cell_type": "code",
   "execution_count": 115,
   "metadata": {},
   "outputs": [
    {
     "data": {
      "image/png": "[encoded data removed]",
      "text/plain": [
       "<Figure size 1008x288 with 2 Axes>"
      ]
     },
     "metadata": {
      "needs_background": "light"
     },
     "output_type": "display_data"
    }
   ],
   "source": [
    "plt.figure(figsize=(14,4))\n",
    "plt.subplot(1,2,1)\n",
    "plt.title(\"loss\")\n",
    "plt.plot(epochs,loss_values,\".r\", label='train',)\n",
    "plt.plot(epochs,val_loss,\"-b\", label='validation')\n",
    "plt.legend(fontsize='small')\n",
    "plt.axvline(2,color='g',linestyle='--')\n",
    "plt.xticks(epochs)\n",
    "\n",
    "plt.subplot(1,2,2)\n",
    "plt.title(\"accuracy\")\n",
    "plt.plot(epochs,accuracy,\".r\", label='train')\n",
    "plt.plot(epochs,val_accuracy,\"-b\", label='validation')\n",
    "plt.legend(fontsize='small')\n",
    "plt.axvline(2,color='g',linestyle='--')\n",
    "plt.xticks(epochs)\n",
    "plt.show()\n",
    "plt.show()"
   ]
  },
  {
   "cell_type": "code",
   "execution_count": 116,
   "metadata": {},
   "outputs": [
    {
     "name": "stdout",
     "output_type": "stream",
     "text": [
      "25000/25000 [==============================] - 15s 601us/sample - loss: 0.3124 - accuracy: 0.8780\n"
     ]
    }
   ],
   "source": [
    "results = model.evaluate(x_test,y_test)"
   ]
  },
  {
   "cell_type": "code",
   "execution_count": 117,
   "metadata": {},
   "outputs": [
    {
     "name": "stdout",
     "output_type": "stream",
     "text": [
      "loss 0.31240996218681333\n",
      "accuracy 0.87804\n"
     ]
    }
   ],
   "source": [
    "print(\"loss\",results[0])\n",
    "print(\"accuracy\",results[1])"
   ]
  },
  {
   "cell_type": "markdown",
   "metadata": {},
   "source": [
    "아까보다 accuracy가 0.1정도 더 올랐다. 확실치 않지만, 이번에 나온 accuracy과 loss의 최대값이다. 모델에서 오를 수 있는 최대의 값이다. 지금 나온 accuracy값이 나쁘지는 않지만 accuracy를 더 높이기 위해서는 이 모델보다 더 좋은 모델을 사용해야 한다. Fully Connected Layer만으로 시계열데이터를 학습하는 데 다소 무리일 수 있다. 그래서 주로 이러한 시계열 데이터는 RNN에서 효과를 발휘한다."
   ]
  },
  {
   "cell_type": "code",
   "execution_count": 118,
   "metadata": {
    "scrolled": true
   },
   "outputs": [
    {
     "name": "stdout",
     "output_type": "stream",
     "text": [
      "Model: \"sequential_9\"\n",
      "_________________________________________________________________\n",
      "Layer (type)                 Output Shape              Param #   \n",
      "=================================================================\n",
      "dense_32 (Dense)             (None, 5000)              50005000  \n",
      "_________________________________________________________________\n",
      "dense_33 (Dense)             (None, 1000)              5001000   \n",
      "_________________________________________________________________\n",
      "dense_34 (Dense)             (None, 100)               100100    \n",
      "_________________________________________________________________\n",
      "dense_35 (Dense)             (None, 1)                 101       \n",
      "=================================================================\n",
      "Total params: 55,106,201\n",
      "Trainable params: 55,106,201\n",
      "Non-trainable params: 0\n",
      "_________________________________________________________________\n"
     ]
    }
   ],
   "source": [
    "model.summary()"
   ]
  },
  {
   "cell_type": "code",
   "execution_count": null,
   "metadata": {},
   "outputs": [],
   "source": []
  },
  {
   "cell_type": "markdown",
   "metadata": {},
   "source": [
    "## IMDB사이트 에서 가져온 리뷰 데이터로 직접 예측해보기\n",
    "- 영화 이름: Fantasy Island\n",
    "- 리뷰 라벨: negative\n",
    "- https://www.imdb.com/title/tt0983946/reviews?ref_=tt_ov_rt\n",
    "![](data:image/jpeg;base64,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)"
   ]
  },
  {
   "cell_type": "code",
   "execution_count": 384,
   "metadata": {},
   "outputs": [],
   "source": [
    "IMBD_review = \"bad movie bad movie go to your room forever i don't know where to start the convoluted attempt at anything close to a plot the juvenile writing the bad acting all around the movie should not have been called fantasy island it should have been called clue cause no one involved had one \"+\"however i do credit it for a first in the life as in the first time we in the audience had a conversation with show of hands just how bad an experience this was a horribly disfigured baby \"+\"please spare yourself don't watch it it's too late for me but if i spared just one of you maybe my sacrifice is worth it\""
   ]
  },
  {
   "cell_type": "code",
   "execution_count": 385,
   "metadata": {},
   "outputs": [],
   "source": [
    "IMBD_review_list = [] "
   ]
  },
  {
   "cell_type": "code",
   "execution_count": 386,
   "metadata": {},
   "outputs": [],
   "source": [
    "for i in IMBD_review.split():\n",
    "    IMBD_review_list.append(word_index[i]+3)\n",
    "IMBD_review_list.remove(11085) # 인덱스 5000을 넘어 가는 단어 제거\n",
    "IMBD_review_list.remove(11745)"
   ]
  },
  {
   "cell_type": "code",
   "execution_count": 387,
   "metadata": {},
   "outputs": [
    {
     "name": "stdout",
     "output_type": "stream",
     "text": [
      "bad movie bad movie go to your room forever i don't know where to start the convoluted attempt at anything close to a plot the juvenile writing the bad acting all around the movie should not have been called fantasy island it should have been called clue cause no one involved had one however i do credit it for a first in the life as in the first time we in the audience had a conversation with show of hands just how bad an experience this was a horribly baby please spare yourself don't watch it it's too late for me but if i just one of you maybe my sacrifice is worth it\n",
      "\n",
      "label= negative\n"
     ]
    }
   ],
   "source": [
    "decode_review = ' '.join(\n",
    "    [reverse_word_index.get(i-3, \"\") for i in IMBD_review_list]\n",
    ")\n",
    "print(decode_review)\n",
    "print(\"\")\n",
    "print(\"label=\",\"negative\")"
   ]
  },
  {
   "cell_type": "code",
   "execution_count": 388,
   "metadata": {},
   "outputs": [
    {
     "name": "stdout",
     "output_type": "stream",
     "text": [
      "형태: (1, 114)\n"
     ]
    }
   ],
   "source": [
    "IMDB_review_data = np.reshape(IMBD_review_list,(1,len(IMBD_review_list)))\n",
    "print(\"형태:\",IMDB_review_data.shape)"
   ]
  },
  {
   "cell_type": "code",
   "execution_count": 389,
   "metadata": {},
   "outputs": [
    {
     "name": "stdout",
     "output_type": "stream",
     "text": [
      "1\n",
      "데이터 형태: (1, 10000)\n"
     ]
    }
   ],
   "source": [
    "IMDB_review_data = vectorize_sequences(IMDB_review_data)"
   ]
  },
  {
   "cell_type": "code",
   "execution_count": 390,
   "metadata": {},
   "outputs": [
    {
     "data": {
      "text/plain": [
       "array([0., 0., 0., 0., 1., 0., 1., 1., 1., 1., 0., 1., 1., 1., 1., 0., 1.,\n",
       "       1., 1., 1., 1., 1., 0., 0., 1., 1., 0., 0., 1., 0., 0., 1., 1., 1.,\n",
       "       0., 1., 0., 0., 0., 0., 0., 0., 0., 1., 0., 1., 0., 0., 1., 0., 0.,\n",
       "       0., 0., 0., 0., 0., 0., 1., 1., 0., 0., 1., 0., 0., 0., 0., 0., 0.,\n",
       "       0., 1., 0., 0., 1., 0., 0., 1., 0., 1., 1., 0., 0., 1., 0., 0., 0.,\n",
       "       0., 1., 0., 0., 1., 0., 0., 1., 0., 0., 0., 0., 0., 0., 1.])"
      ]
     },
     "execution_count": 390,
     "metadata": {},
     "output_type": "execute_result"
    }
   ],
   "source": [
    "IMDB_review_data[0,:100]"
   ]
  },
  {
   "cell_type": "code",
   "execution_count": 405,
   "metadata": {},
   "outputs": [
    {
     "name": "stdout",
     "output_type": "stream",
     "text": [
      "리뷰에 대한 postive일 확률이 0.018389165 이다. 따라서 머신은 이 리뷰에 대해 negative 라고 예측한다.\n"
     ]
    }
   ],
   "source": [
    "predict = model.predict(IMDB_review_data)[0,0]\n",
    "print(\"리뷰에 대한 postive일 확률이\",predict,\"이다. 따라서 머신은 이 리뷰에 대해\",evaluate[int(model.predict(IMDB_review_data))],\"라고 예측한다.\")"
   ]
  },
  {
   "cell_type": "code",
   "execution_count": null,
   "metadata": {},
   "outputs": [],
   "source": []
  },
  {
   "cell_type": "code",
   "execution_count": null,
   "metadata": {},
   "outputs": [],
   "source": []
  },
  {
   "cell_type": "markdown",
   "metadata": {},
   "source": [
    "# Reuters\n",
    "- classify Reuters newswires into 46 mutually exclusive topics- multi-class classification.\n",
    "- 46 different topics each topic has at least 10 examples in the training set."
   ]
  },
  {
   "cell_type": "code",
   "execution_count": 134,
   "metadata": {},
   "outputs": [],
   "source": [
    "import numpy as np"
   ]
  },
  {
   "cell_type": "code",
   "execution_count": 135,
   "metadata": {},
   "outputs": [],
   "source": [
    "from tensorflow.keras.datasets.reuters import load_data\n",
    "from tensorflow.keras.datasets import reuters"
   ]
  },
  {
   "cell_type": "code",
   "execution_count": 136,
   "metadata": {},
   "outputs": [],
   "source": [
    "word_index = reuters.get_word_index()"
   ]
  },
  {
   "cell_type": "code",
   "execution_count": 137,
   "metadata": {},
   "outputs": [
    {
     "name": "stdout",
     "output_type": "stream",
     "text": [
      "단어의 개수: 30979\n"
     ]
    }
   ],
   "source": [
    "print(\"단어의 개수:\",len(word_index))"
   ]
  },
  {
   "cell_type": "code",
   "execution_count": 138,
   "metadata": {},
   "outputs": [],
   "source": [
    "num_words = 10000"
   ]
  },
  {
   "cell_type": "code",
   "execution_count": 139,
   "metadata": {},
   "outputs": [],
   "source": [
    "(train_datas, train_labels),(test_datas, test_labels) = load_data(num_words=num_words)"
   ]
  },
  {
   "cell_type": "code",
   "execution_count": 140,
   "metadata": {},
   "outputs": [
    {
     "name": "stdout",
     "output_type": "stream",
     "text": [
      "train 개수: 8982\n",
      "test 개수: 2246\n"
     ]
    }
   ],
   "source": [
    "print(\"train 개수:\",len(train_datas))\n",
    "print(\"test 개수:\",len(test_datas))"
   ]
  },
  {
   "cell_type": "code",
   "execution_count": 141,
   "metadata": {},
   "outputs": [
    {
     "name": "stdout",
     "output_type": "stream",
     "text": [
      "추출한 인덱스의 개수: 0 ~ 9999\n"
     ]
    }
   ],
   "source": [
    "print(\"추출한 인덱스의 개수: 0 ~\",max([max(sequence) for sequence in train_datas]))"
   ]
  },
  {
   "cell_type": "code",
   "execution_count": 142,
   "metadata": {},
   "outputs": [],
   "source": [
    "word_index = reuters.get_word_index()"
   ]
  },
  {
   "cell_type": "code",
   "execution_count": 143,
   "metadata": {},
   "outputs": [],
   "source": [
    "reverse_word_index = dict(\n",
    "    [(value,key) for (key, value) in word_index.items()]\n",
    ")"
   ]
  },
  {
   "cell_type": "code",
   "execution_count": 144,
   "metadata": {},
   "outputs": [
    {
     "name": "stdout",
     "output_type": "stream",
     "text": [
      "   said as a result of its december acquisition of space co it expects earnings per share in 1987 of 1 15 to 1 30 dlrs per share up from 70 cts in 1986 the company said pretax net should rise to nine to 10 mln dlrs from six mln dlrs in 1986 and rental operation revenues to 19 to 22 mln dlrs from 12 5 mln dlrs it said cash flow per share this year should be 2 50 to three dlrs reuter 3\n"
     ]
    }
   ],
   "source": [
    "decode_newsswire = ' '.join(\n",
    "    [reverse_word_index.get(i-3, \"\") for i in train_datas[0]]\n",
    ")\n",
    "print(decode_newsswire)"
   ]
  },
  {
   "cell_type": "code",
   "execution_count": 145,
   "metadata": {
    "scrolled": true
   },
   "outputs": [
    {
     "data": {
      "text/plain": [
       "[1, 2, 2, 8, 43, 10, 447, 5, 25, 207]"
      ]
     },
     "execution_count": 145,
     "metadata": {},
     "output_type": "execute_result"
    }
   ],
   "source": [
    "train_datas[0][:10]"
   ]
  },
  {
   "cell_type": "code",
   "execution_count": 146,
   "metadata": {},
   "outputs": [
    {
     "data": {
      "text/plain": [
       "3"
      ]
     },
     "execution_count": 146,
     "metadata": {},
     "output_type": "execute_result"
    }
   ],
   "source": [
    "train_labels[0]"
   ]
  },
  {
   "cell_type": "code",
   "execution_count": 147,
   "metadata": {},
   "outputs": [],
   "source": [
    "def vectorize_sequences(sequences, dimension=10000):\n",
    "    results = np.zeros((len(sequences),num_words))\n",
    "    for i, sequence in enumerate(sequences):\n",
    "        results[i,sequence] = 1.\n",
    "    return results"
   ]
  },
  {
   "cell_type": "code",
   "execution_count": 148,
   "metadata": {},
   "outputs": [],
   "source": [
    "x_trains = vectorize_sequences(train_datas)\n",
    "x_tests = vectorize_sequences(test_datas)"
   ]
  },
  {
   "cell_type": "code",
   "execution_count": 149,
   "metadata": {},
   "outputs": [],
   "source": [
    "def to_one_hot(labels,dimesinon = 46):\n",
    "    results = np.zeros((len(labels),dimesinon))\n",
    "    for i, label in enumerate(labels):\n",
    "        results[i,label] = 1.\n",
    "    return results"
   ]
  },
  {
   "cell_type": "code",
   "execution_count": 173,
   "metadata": {},
   "outputs": [],
   "source": [
    "onehot_train_labels = to_one_hot(train_labels)\n",
    "onehot_text_labesls = to_one_hot(test_labels)"
   ]
  },
  {
   "cell_type": "code",
   "execution_count": 178,
   "metadata": {},
   "outputs": [
    {
     "data": {
      "text/plain": [
       "array([0., 0., 0., 0., 0., 0., 0., 0., 0., 0., 1., 0., 0., 0., 0., 0., 0.,\n",
       "       0., 0., 0., 0., 0., 0., 0., 0., 0., 0., 0., 0., 0., 0., 0., 0., 0.,\n",
       "       0., 0., 0., 0., 0., 0., 0., 0., 0., 0., 0., 0.])"
      ]
     },
     "execution_count": 178,
     "metadata": {},
     "output_type": "execute_result"
    }
   ],
   "source": [
    "onehot_text_labesls[1]"
   ]
  },
  {
   "cell_type": "code",
   "execution_count": 177,
   "metadata": {},
   "outputs": [
    {
     "data": {
      "text/plain": [
       "10"
      ]
     },
     "execution_count": 177,
     "metadata": {},
     "output_type": "execute_result"
    }
   ],
   "source": [
    "test_labels[1]"
   ]
  },
  {
   "cell_type": "markdown",
   "metadata": {},
   "source": [
    "## Building Model"
   ]
  },
  {
   "cell_type": "code",
   "execution_count": 182,
   "metadata": {},
   "outputs": [],
   "source": [
    "from tensorflow.keras import models\n",
    "from tensorflow.keras import layers\n",
    "from tensorflow import keras"
   ]
  },
  {
   "cell_type": "code",
   "execution_count": 183,
   "metadata": {},
   "outputs": [],
   "source": [
    "model = models.Sequential()"
   ]
  },
  {
   "cell_type": "code",
   "execution_count": 184,
   "metadata": {},
   "outputs": [],
   "source": [
    "model.add(layers.Dense(1000,activation='relu',input_shape=(num_words,)))\n",
    "model.add(layers.Dense(100,activation='relu'))\n",
    "model.add(layers.Dense(46,activation=\"softmax\"))"
   ]
  },
  {
   "cell_type": "code",
   "execution_count": 185,
   "metadata": {},
   "outputs": [
    {
     "name": "stdout",
     "output_type": "stream",
     "text": [
      "weight의 개수\n",
      "(10000, 1000)\n",
      "(1000,)\n",
      "(1000, 100)\n",
      "(100,)\n",
      "(100, 46)\n",
      "(46,)\n"
     ]
    }
   ],
   "source": [
    "print(\"weight의 개수\")\n",
    "for i in range(len(model.weights)):\n",
    "    print(model.weights[i].shape)"
   ]
  },
  {
   "cell_type": "code",
   "execution_count": 186,
   "metadata": {},
   "outputs": [],
   "source": [
    "model.compile(optimizer=keras.optimizers.Adam(learning_rate=0.001),\n",
    "              loss=keras.losses.categorical_crossentropy,metrics=['accuracy'])"
   ]
  },
  {
   "cell_type": "code",
   "execution_count": 187,
   "metadata": {},
   "outputs": [],
   "source": [
    "x_val = x_trains[:1000]\n",
    "partial_x_train = x_trains[1000:]\n",
    "y_val = onehot_train_labels[:1000]\n",
    "partial_y_train = onehot_train_labels[1000:]"
   ]
  },
  {
   "cell_type": "code",
   "execution_count": 188,
   "metadata": {},
   "outputs": [
    {
     "name": "stdout",
     "output_type": "stream",
     "text": [
      "Train on 7982 samples, validate on 1000 samples\n",
      "Epoch 1/20\n",
      "7982/7982 [==============================] - 3s 407us/sample - loss: 1.6354 - accuracy: 0.6741 - val_loss: 0.9790 - val_accuracy: 0.8050\n",
      "Epoch 2/20\n",
      "7982/7982 [==============================] - 3s 377us/sample - loss: 0.5377 - accuracy: 0.8857 - val_loss: 0.8474 - val_accuracy: 0.8190\n",
      "Epoch 3/20\n",
      "7982/7982 [==============================] - 3s 366us/sample - loss: 0.2678 - accuracy: 0.9390 - val_loss: 0.8677 - val_accuracy: 0.8080\n",
      "Epoch 4/20\n",
      "7982/7982 [==============================] - 3s 383us/sample - loss: 0.1968 - accuracy: 0.9493 - val_loss: 0.8801 - val_accuracy: 0.8210\n",
      "Epoch 5/20\n",
      "7982/7982 [==============================] - 3s 377us/sample - loss: 0.1657 - accuracy: 0.9544 - val_loss: 0.8901 - val_accuracy: 0.8190\n",
      "Epoch 6/20\n",
      "7982/7982 [==============================] - 3s 357us/sample - loss: 0.1483 - accuracy: 0.9546 - val_loss: 0.9186 - val_accuracy: 0.8170\n",
      "Epoch 7/20\n",
      "7982/7982 [==============================] - 3s 370us/sample - loss: 0.1343 - accuracy: 0.9574 - val_loss: 0.9160 - val_accuracy: 0.8170\n",
      "Epoch 8/20\n",
      "7982/7982 [==============================] - 3s 383us/sample - loss: 0.1230 - accuracy: 0.9579 - val_loss: 0.9076 - val_accuracy: 0.8220\n",
      "Epoch 9/20\n",
      "7982/7982 [==============================] - 3s 363us/sample - loss: 0.1198 - accuracy: 0.9577 - val_loss: 0.9389 - val_accuracy: 0.8190\n",
      "Epoch 10/20\n",
      "7982/7982 [==============================] - 3s 362us/sample - loss: 0.1119 - accuracy: 0.9565 - val_loss: 0.9130 - val_accuracy: 0.8090\n",
      "Epoch 11/20\n",
      "7982/7982 [==============================] - 3s 366us/sample - loss: 0.1061 - accuracy: 0.9577 - val_loss: 0.9760 - val_accuracy: 0.7990\n",
      "Epoch 12/20\n",
      "7982/7982 [==============================] - 3s 386us/sample - loss: 0.1089 - accuracy: 0.9567 - val_loss: 0.9203 - val_accuracy: 0.8080\n",
      "Epoch 13/20\n",
      "7982/7982 [==============================] - 3s 369us/sample - loss: 0.1045 - accuracy: 0.9563 - val_loss: 0.9239 - val_accuracy: 0.8160\n",
      "Epoch 14/20\n",
      "7982/7982 [==============================] - 3s 374us/sample - loss: 0.0987 - accuracy: 0.9583 - val_loss: 0.9593 - val_accuracy: 0.8100\n",
      "Epoch 15/20\n",
      "7982/7982 [==============================] - 3s 374us/sample - loss: 0.0982 - accuracy: 0.9578 - val_loss: 0.9985 - val_accuracy: 0.8140\n",
      "Epoch 16/20\n",
      "7982/7982 [==============================] - 3s 389us/sample - loss: 0.0941 - accuracy: 0.9579 - val_loss: 0.9394 - val_accuracy: 0.8120\n",
      "Epoch 17/20\n",
      "7982/7982 [==============================] - 3s 389us/sample - loss: 0.0936 - accuracy: 0.9568 - val_loss: 1.0345 - val_accuracy: 0.8060\n",
      "Epoch 18/20\n",
      "7982/7982 [==============================] - 3s 397us/sample - loss: 0.0894 - accuracy: 0.9568 - val_loss: 0.9982 - val_accuracy: 0.8040\n",
      "Epoch 19/20\n",
      "7982/7982 [==============================] - 3s 365us/sample - loss: 0.0836 - accuracy: 0.9593 - val_loss: 1.0436 - val_accuracy: 0.8170\n",
      "Epoch 20/20\n",
      "7982/7982 [==============================] - 3s 381us/sample - loss: 0.0845 - accuracy: 0.9574 - val_loss: 1.0121 - val_accuracy: 0.8080\n"
     ]
    }
   ],
   "source": [
    "history = model.fit(partial_x_train,partial_y_train,batch_size=160,\n",
    "                    epochs=20,\n",
    "                    validation_data=(x_val,y_val))"
   ]
  },
  {
   "cell_type": "code",
   "execution_count": 191,
   "metadata": {},
   "outputs": [
    {
     "data": {
      "text/plain": [
       "dict_keys(['loss', 'accuracy', 'val_loss', 'val_accuracy'])"
      ]
     },
     "execution_count": 191,
     "metadata": {},
     "output_type": "execute_result"
    }
   ],
   "source": [
    "history.history.keys()"
   ]
  },
  {
   "cell_type": "code",
   "execution_count": 192,
   "metadata": {},
   "outputs": [],
   "source": [
    "loss = history.history['loss']\n",
    "accuracy = history.history['accuracy']\n",
    "val_loss = history.history['val_loss']\n",
    "val_accuracy = history.history['val_accuracy']"
   ]
  },
  {
   "cell_type": "code",
   "execution_count": 193,
   "metadata": {},
   "outputs": [],
   "source": [
    "import matplotlib.pyplot as plt"
   ]
  },
  {
   "cell_type": "code",
   "execution_count": 211,
   "metadata": {},
   "outputs": [],
   "source": [
    "epochs = np.arange(1,len(val_loss)+1)"
   ]
  },
  {
   "cell_type": "code",
   "execution_count": 212,
   "metadata": {},
   "outputs": [
    {
     "data": {
      "image/png": "[encoded data removed]",
      "text/plain": [
       "<Figure size 1080x288 with 2 Axes>"
      ]
     },
     "metadata": {
      "needs_background": "light"
     },
     "output_type": "display_data"
    }
   ],
   "source": [
    "plt.figure(figsize=(15,4))\n",
    "plt.subplot(1,2,1)\n",
    "plt.title(\"loss\")\n",
    "plt.plot(loss,\".r\",label=\"train\")\n",
    "plt.plot(val_loss,\"-b\",label=\"val\")\n",
    "plt.legend(fontsize='small')\n",
    "plt.xticks(epochs)\n",
    "\n",
    "plt.subplot(1,2,2)\n",
    "plt.title(\"accuracy\")\n",
    "plt.plot(accuracy,\".r\",label=\"train\")\n",
    "plt.plot(val_accuracy,\"-b\",label=\"val\")\n",
    "plt.legend(fontsize='small')\n",
    "plt.xticks(epochs)\n",
    "plt.show()"
   ]
  },
  {
   "cell_type": "code",
   "execution_count": 210,
   "metadata": {},
   "outputs": [],
   "source": []
  },
  {
   "cell_type": "code",
   "execution_count": 207,
   "metadata": {},
   "outputs": [
    {
     "name": "stdout",
     "output_type": "stream",
     "text": [
      "2246/2246 [==============================] - 0s 205us/sample - loss: 1.1595 - accuracy: 0.7952\n"
     ]
    }
   ],
   "source": [
    "results = model.evaluate(x_tests,onehot_text_labesls)"
   ]
  },
  {
   "cell_type": "code",
   "execution_count": 209,
   "metadata": {},
   "outputs": [
    {
     "name": "stdout",
     "output_type": "stream",
     "text": [
      "loss: 1.1595049360874818\n",
      "accuracy: 0.79519147\n"
     ]
    }
   ],
   "source": [
    "print(\"loss:\",results[0])\n",
    "print(\"accuracy:\",results[1])"
   ]
  },
  {
   "cell_type": "code",
   "execution_count": 263,
   "metadata": {},
   "outputs": [],
   "source": [
    "model = models.Sequential()"
   ]
  },
  {
   "cell_type": "code",
   "execution_count": 264,
   "metadata": {},
   "outputs": [],
   "source": [
    "model.add(layers.Dense(1000,activation='relu',input_shape=(num_words,)))\n",
    "model.add(layers.Dense(100,activation='relu'))\n",
    "model.add(layers.Dense(46,activation=\"softmax\"))"
   ]
  },
  {
   "cell_type": "code",
   "execution_count": 265,
   "metadata": {},
   "outputs": [],
   "source": [
    "model.compile(optimizer=keras.optimizers.Adam(learning_rate=0.00003),\n",
    "              loss=keras.losses.categorical_crossentropy,metrics=['accuracy'])"
   ]
  },
  {
   "cell_type": "code",
   "execution_count": 266,
   "metadata": {},
   "outputs": [
    {
     "name": "stdout",
     "output_type": "stream",
     "text": [
      "Train on 7982 samples, validate on 1000 samples\n",
      "Epoch 1/40\n",
      "7982/7982 [==============================] - 5s 564us/sample - loss: 3.4167 - accuracy: 0.3814 - val_loss: 2.9461 - val_accuracy: 0.4840\n",
      "Epoch 2/40\n",
      "7982/7982 [==============================] - 4s 516us/sample - loss: 2.5308 - accuracy: 0.5324 - val_loss: 2.1881 - val_accuracy: 0.5500\n",
      "Epoch 3/40\n",
      "7982/7982 [==============================] - 4s 519us/sample - loss: 1.9090 - accuracy: 0.5958 - val_loss: 1.7542 - val_accuracy: 0.6290\n",
      "Epoch 4/40\n",
      "7982/7982 [==============================] - 4s 517us/sample - loss: 1.5496 - accuracy: 0.6709 - val_loss: 1.5138 - val_accuracy: 0.6570\n",
      "Epoch 5/40\n",
      "7982/7982 [==============================] - 4s 521us/sample - loss: 1.3217 - accuracy: 0.7111 - val_loss: 1.3611 - val_accuracy: 0.6890\n",
      "Epoch 6/40\n",
      "7982/7982 [==============================] - 4s 526us/sample - loss: 1.1605 - accuracy: 0.7513 - val_loss: 1.2616 - val_accuracy: 0.7320\n",
      "Epoch 7/40\n",
      "7982/7982 [==============================] - 4s 532us/sample - loss: 1.0348 - accuracy: 0.7826 - val_loss: 1.1807 - val_accuracy: 0.7470\n",
      "Epoch 8/40\n",
      "7982/7982 [==============================] - 4s 508us/sample - loss: 0.9299 - accuracy: 0.8063 - val_loss: 1.1234 - val_accuracy: 0.7640\n",
      "Epoch 9/40\n",
      "7982/7982 [==============================] - 4s 529us/sample - loss: 0.8410 - accuracy: 0.8267 - val_loss: 1.0719 - val_accuracy: 0.7770\n",
      "Epoch 10/40\n",
      "7982/7982 [==============================] - 4s 550us/sample - loss: 0.7625 - accuracy: 0.8459 - val_loss: 1.0304 - val_accuracy: 0.7880\n",
      "Epoch 11/40\n",
      "7982/7982 [==============================] - 4s 550us/sample - loss: 0.6940 - accuracy: 0.8628 - val_loss: 0.9977 - val_accuracy: 0.7950\n",
      "Epoch 12/40\n",
      "7982/7982 [==============================] - 4s 541us/sample - loss: 0.6328 - accuracy: 0.8758 - val_loss: 0.9673 - val_accuracy: 0.7980\n",
      "Epoch 13/40\n",
      "7982/7982 [==============================] - 4s 542us/sample - loss: 0.5787 - accuracy: 0.8864 - val_loss: 0.9455 - val_accuracy: 0.8030\n",
      "Epoch 14/40\n",
      "7982/7982 [==============================] - 4s 543us/sample - loss: 0.5298 - accuracy: 0.8965 - val_loss: 0.9222 - val_accuracy: 0.8110\n",
      "Epoch 15/40\n",
      "7982/7982 [==============================] - 4s 551us/sample - loss: 0.4862 - accuracy: 0.9069 - val_loss: 0.9066 - val_accuracy: 0.8110\n",
      "Epoch 16/40\n",
      "7982/7982 [==============================] - 4s 542us/sample - loss: 0.4476 - accuracy: 0.9129 - val_loss: 0.8898 - val_accuracy: 0.8160\n",
      "Epoch 17/40\n",
      "7982/7982 [==============================] - 4s 538us/sample - loss: 0.4131 - accuracy: 0.9196 - val_loss: 0.8800 - val_accuracy: 0.8180\n",
      "Epoch 18/40\n",
      "7982/7982 [==============================] - 4s 543us/sample - loss: 0.3814 - accuracy: 0.9231 - val_loss: 0.8667 - val_accuracy: 0.8190\n",
      "Epoch 19/40\n",
      "7982/7982 [==============================] - 4s 549us/sample - loss: 0.3538 - accuracy: 0.9292 - val_loss: 0.8573 - val_accuracy: 0.8200\n",
      "Epoch 20/40\n",
      "7982/7982 [==============================] - 4s 547us/sample - loss: 0.3283 - accuracy: 0.9339 - val_loss: 0.8547 - val_accuracy: 0.8230\n",
      "Epoch 21/40\n",
      "7982/7982 [==============================] - 4s 548us/sample - loss: 0.3062 - accuracy: 0.9370 - val_loss: 0.8485 - val_accuracy: 0.8230\n",
      "Epoch 22/40\n",
      "7982/7982 [==============================] - 4s 551us/sample - loss: 0.2851 - accuracy: 0.9396 - val_loss: 0.8456 - val_accuracy: 0.8270\n",
      "Epoch 23/40\n",
      "7982/7982 [==============================] - 4s 550us/sample - loss: 0.2676 - accuracy: 0.9410 - val_loss: 0.8434 - val_accuracy: 0.8230\n",
      "Epoch 24/40\n",
      "7982/7982 [==============================] - 4s 545us/sample - loss: 0.2499 - accuracy: 0.9453 - val_loss: 0.8420 - val_accuracy: 0.8230\n",
      "Epoch 25/40\n",
      "7982/7982 [==============================] - 4s 547us/sample - loss: 0.2350 - accuracy: 0.9489 - val_loss: 0.8375 - val_accuracy: 0.8260\n",
      "Epoch 26/40\n",
      "7982/7982 [==============================] - 4s 524us/sample - loss: 0.2217 - accuracy: 0.9496 - val_loss: 0.8364 - val_accuracy: 0.8280\n",
      "Epoch 27/40\n",
      "7982/7982 [==============================] - 4s 540us/sample - loss: 0.2095 - accuracy: 0.9513 - val_loss: 0.8399 - val_accuracy: 0.8270\n",
      "Epoch 28/40\n",
      "7982/7982 [==============================] - 4s 527us/sample - loss: 0.1975 - accuracy: 0.9523 - val_loss: 0.8462 - val_accuracy: 0.8230\n",
      "Epoch 29/40\n",
      "7982/7982 [==============================] - 4s 559us/sample - loss: 0.1885 - accuracy: 0.9536 - val_loss: 0.8438 - val_accuracy: 0.8230\n",
      "Epoch 30/40\n",
      "7982/7982 [==============================] - 4s 537us/sample - loss: 0.1793 - accuracy: 0.9538 - val_loss: 0.8460 - val_accuracy: 0.8190\n",
      "Epoch 31/40\n",
      "7982/7982 [==============================] - 4s 538us/sample - loss: 0.1700 - accuracy: 0.9543 - val_loss: 0.8447 - val_accuracy: 0.8230\n",
      "Epoch 32/40\n",
      "7982/7982 [==============================] - 4s 557us/sample - loss: 0.1627 - accuracy: 0.9549 - val_loss: 0.8437 - val_accuracy: 0.8270\n",
      "Epoch 33/40\n",
      "7982/7982 [==============================] - 4s 534us/sample - loss: 0.1561 - accuracy: 0.9549 - val_loss: 0.8533 - val_accuracy: 0.8230\n",
      "Epoch 34/40\n",
      "7982/7982 [==============================] - 4s 541us/sample - loss: 0.1498 - accuracy: 0.9565 - val_loss: 0.8551 - val_accuracy: 0.8220\n",
      "Epoch 35/40\n",
      "7982/7982 [==============================] - 4s 547us/sample - loss: 0.1447 - accuracy: 0.9567 - val_loss: 0.8533 - val_accuracy: 0.8250\n",
      "Epoch 36/40\n",
      "7982/7982 [==============================] - 4s 542us/sample - loss: 0.1380 - accuracy: 0.9570 - val_loss: 0.8575 - val_accuracy: 0.8190\n",
      "Epoch 37/40\n",
      "7982/7982 [==============================] - 4s 519us/sample - loss: 0.1335 - accuracy: 0.9574 - val_loss: 0.8594 - val_accuracy: 0.8260\n",
      "Epoch 38/40\n",
      "7982/7982 [==============================] - 4s 522us/sample - loss: 0.1293 - accuracy: 0.9574 - val_loss: 0.8613 - val_accuracy: 0.8220\n",
      "Epoch 39/40\n",
      "7982/7982 [==============================] - 4s 530us/sample - loss: 0.1248 - accuracy: 0.9582 - val_loss: 0.8676 - val_accuracy: 0.8210\n",
      "Epoch 40/40\n",
      "7982/7982 [==============================] - 4s 523us/sample - loss: 0.1207 - accuracy: 0.9590 - val_loss: 0.8744 - val_accuracy: 0.8210\n"
     ]
    }
   ],
   "source": [
    "history = model.fit(partial_x_train,partial_y_train,batch_size=100,\n",
    "                    epochs=40,\n",
    "                    validation_data=(x_val,y_val))"
   ]
  },
  {
   "cell_type": "code",
   "execution_count": 267,
   "metadata": {},
   "outputs": [],
   "source": [
    "loss = history.history['loss']\n",
    "accuracy = history.history['accuracy']\n",
    "val_loss = history.history['val_loss']\n",
    "val_accuracy = history.history['val_accuracy']"
   ]
  },
  {
   "cell_type": "code",
   "execution_count": 268,
   "metadata": {},
   "outputs": [],
   "source": [
    "epochs = np.arange(1,len(val_loss)+1)"
   ]
  },
  {
   "cell_type": "code",
   "execution_count": 269,
   "metadata": {},
   "outputs": [
    {
     "data": {
      "image/png": "[encoded data removed]",
      "text/plain": [
       "<Figure size 1080x288 with 2 Axes>"
      ]
     },
     "metadata": {
      "needs_background": "light"
     },
     "output_type": "display_data"
    }
   ],
   "source": [
    "plt.figure(figsize=(15,4))\n",
    "plt.subplot(1,2,1)\n",
    "plt.title(\"loss\")\n",
    "plt.plot(loss,\".r\",label=\"train\")\n",
    "plt.plot(val_loss,\"-b\",label=\"val\")\n",
    "plt.legend(fontsize='small')\n",
    "plt.xticks(epochs)\n",
    "\n",
    "plt.subplot(1,2,2)\n",
    "plt.title(\"accuracy\")\n",
    "plt.plot(accuracy,\".r\",label=\"train\")\n",
    "plt.plot(val_accuracy,\"-b\",label=\"val\")\n",
    "plt.legend(fontsize='small')\n",
    "plt.xticks(epochs)\n",
    "plt.show()"
   ]
  },
  {
   "cell_type": "code",
   "execution_count": 270,
   "metadata": {},
   "outputs": [
    {
     "name": "stdout",
     "output_type": "stream",
     "text": [
      "2246/2246 [==============================] - 0s 204us/sample - loss: 0.9714 - accuracy: 0.7965\n"
     ]
    }
   ],
   "source": [
    "results = model.evaluate(x_tests,onehot_text_labesls)"
   ]
  },
  {
   "cell_type": "code",
   "execution_count": null,
   "metadata": {},
   "outputs": [],
   "source": []
  }
 ],
 "metadata": {
  "kernelspec": {
   "display_name": "Python 3",
   "language": "python",
   "name": "python3"
  },
  "language_info": {
   "codemirror_mode": {
    "name": "ipython",
    "version": 3
   },
   "file_extension": ".py",
   "mimetype": "text/x-python",
   "name": "python",
   "nbconvert_exporter": "python",
   "pygments_lexer": "ipython3",
   "version": "3.7.3"
  }
 },
 "nbformat": 4,
 "nbformat_minor": 2
}
