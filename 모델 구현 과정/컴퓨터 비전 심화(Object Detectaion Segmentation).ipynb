{
 "cells": [
  {
   "cell_type": "markdown",
   "metadata": {},
   "source": [
    "## Object Detection\n",
    "- Multi classification + Localization"
   ]
  },
  {
   "cell_type": "markdown",
   "metadata": {},
   "source": [
    "## R-CNN\n",
    "![](https://i.imgur.com/mfvzydg.png)\n",
    "### 학습 과정\n",
    "1. 이미지에 대한 후보 영역(region proposal)을 생성. (약 2000여개)\n",
    "\n",
    "2. 각 region proposal마다 고정된 크기로 wraping/crop하여 CNN input으로 사용\n",
    "    - 여기서 CNN은 ImageNet으로 pre-trained된 네트워크 사용.\n",
    "3. CNN을 통해 나온 feature map을 svm을 통한 분류, regressor를 통한 bounding box regression을 진행"
   ]
  },
  {
   "cell_type": "code",
   "execution_count": null,
   "metadata": {},
   "outputs": [],
   "source": [
    "selective search "
   ]
  },
  {
   "cell_type": "code",
   "execution_count": null,
   "metadata": {},
   "outputs": [],
   "source": []
  },
  {
   "cell_type": "code",
   "execution_count": null,
   "metadata": {},
   "outputs": [],
   "source": []
  }
 ],
 "metadata": {
  "kernelspec": {
   "display_name": "Python 3",
   "language": "python",
   "name": "python3"
  },
  "language_info": {
   "codemirror_mode": {
    "name": "ipython",
    "version": 3
   },
   "file_extension": ".py",
   "mimetype": "text/x-python",
   "name": "python",
   "nbconvert_exporter": "python",
   "pygments_lexer": "ipython3",
   "version": "3.7.3"
  }
 },
 "nbformat": 4,
 "nbformat_minor": 2
}
