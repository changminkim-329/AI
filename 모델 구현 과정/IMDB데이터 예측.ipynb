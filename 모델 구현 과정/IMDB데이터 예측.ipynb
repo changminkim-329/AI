{
 "cells": [
  {
   "cell_type": "markdown",
   "metadata": {},
   "source": [
    "# IMID\n",
    "- Two-class classification, or binary classification - classfity movie review as posivive or negative, based on the text content of the reviews\n",
    "- 50000개(train, test로 안나뉨)\n",
    "- train, test로 나누어주어야 한다.\n",
    "- IMDB dataset the reviews (sequences of words) into sequences of integers\n",
    "- 단어는 대문자가 아닌 소문자로 되어있음."
   ]
  },
  {
   "cell_type": "code",
   "execution_count": 1,
   "metadata": {},
   "outputs": [],
   "source": [
    "from tensorflow.keras.datasets import imdb\n",
    "import matplotlib.pyplot as plt\n",
    "import numpy as np\n",
    "import random"
   ]
  },
  {
   "cell_type": "markdown",
   "metadata": {},
   "source": [
    "### num_words=5000\n",
    "- 5,000 most frequently occurring words in thr training data"
   ]
  },
  {
   "cell_type": "code",
   "execution_count": 2,
   "metadata": {},
   "outputs": [],
   "source": [
    "num_words = 5000"
   ]
  },
  {
   "cell_type": "code",
   "execution_count": 3,
   "metadata": {},
   "outputs": [],
   "source": [
    "(train_data, train_labels),(test_data, test_labels) = imdb.load_data(num_words=num_words)"
   ]
  },
  {
   "cell_type": "code",
   "execution_count": 4,
   "metadata": {},
   "outputs": [
    {
     "name": "stdout",
     "output_type": "stream",
     "text": [
      "추출한 단어 인덱스의 범위: 0 ~ 4999\n"
     ]
    }
   ],
   "source": [
    "print(\"추출한 단어 인덱스의 범위: 0 ~\",max([max(sequence) for sequence in train_data]))"
   ]
  },
  {
   "cell_type": "code",
   "execution_count": 5,
   "metadata": {},
   "outputs": [
    {
     "name": "stdout",
     "output_type": "stream",
     "text": [
      "train데이터 개수: 25000\n",
      "test데이터 개수: 25000\n"
     ]
    }
   ],
   "source": [
    "total_train_size = len(train_data)\n",
    "total_test_size = len(test_data)\n",
    "print(\"train데이터 개수:\",total_train_size)\n",
    "print(\"test데이터 개수:\",total_test_size)"
   ]
  },
  {
   "cell_type": "code",
   "execution_count": 6,
   "metadata": {},
   "outputs": [
    {
     "data": {
      "text/plain": [
       "array([1, 0, 0, ..., 0, 1, 0])"
      ]
     },
     "execution_count": 6,
     "metadata": {},
     "output_type": "execute_result"
    }
   ],
   "source": [
    "train_labels"
   ]
  },
  {
   "cell_type": "markdown",
   "metadata": {},
   "source": [
    "### 0 stands for negative and 1 stands for positive"
   ]
  },
  {
   "cell_type": "code",
   "execution_count": 7,
   "metadata": {},
   "outputs": [],
   "source": [
    "evaluate = {0:\"negative\",1:\"positive\"}"
   ]
  },
  {
   "cell_type": "markdown",
   "metadata": {},
   "source": [
    "### processing_word_index"
   ]
  },
  {
   "cell_type": "code",
   "execution_count": 8,
   "metadata": {},
   "outputs": [],
   "source": [
    "word_index = imdb.get_word_index()"
   ]
  },
  {
   "cell_type": "code",
   "execution_count": 9,
   "metadata": {},
   "outputs": [
    {
     "name": "stdout",
     "output_type": "stream",
     "text": [
      "전체 단어 인덱스의 개수: 88584\n"
     ]
    }
   ],
   "source": [
    "print(\"전체 단어 인덱스의 개수:\",len(word_index))"
   ]
  },
  {
   "cell_type": "code",
   "execution_count": 10,
   "metadata": {},
   "outputs": [],
   "source": [
    "reverse_word_index = dict(\n",
    "    [(value,key) for (key, value) in word_index.items()]\n",
    ")"
   ]
  },
  {
   "cell_type": "code",
   "execution_count": 11,
   "metadata": {},
   "outputs": [],
   "source": [
    "num = random.randint(0,total_train_size-1)\n",
    "decode_review = ' '.join(\n",
    "    [reverse_word_index.get(i-3, \"\") for i in train_data[num]]\n",
    ")"
   ]
  },
  {
   "cell_type": "code",
   "execution_count": 12,
   "metadata": {
    "scrolled": true
   },
   "outputs": [
    {
     "name": "stdout",
     "output_type": "stream",
     "text": [
      "  romantic innovative and funny the vision of this extraordinary film is almost   better known death  such as ghost while we know  that peter and june will find ultimate happiness at the end of that long long  the joy is in the journey the moral of the tale of course is timeless love  all but the struggle to achieve that  is played in a   of  vision and gripping  with more than    extras portraying various ages and  the  vision of heaven remains memorable six decades later far into the cgi era br br yet for all the  scale powell and  knew an essential truth the best story is told at the  level the wonderfully  romantic aspect of  is captured with ultimate simplicity    on a rose  br br this film like the story and the set itself is one for the ages\n",
      "\n",
      "label= positive\n"
     ]
    }
   ],
   "source": [
    "print(decode_review)\n",
    "print(\"\")\n",
    "print(\"label=\",evaluate[train_labels[num]])"
   ]
  },
  {
   "cell_type": "markdown",
   "metadata": {},
   "source": [
    "## Preparing the data\n",
    "- 단어들에 대한 연결성 보단 어떤 단어들이 들어있는지에 중점을 두었다."
   ]
  },
  {
   "cell_type": "markdown",
   "metadata": {},
   "source": [
    "### 개선점\n",
    "results[i,] = 1. 으로만 하면 한 원소의 특징이 모두 1로 바뀌어 문제가 생긴다. <br>\n",
    "그러므로 results[i][sequence]으로 바꾸어 특정 원소만 1로 바꾸어 준다."
   ]
  },
  {
   "cell_type": "code",
   "execution_count": 13,
   "metadata": {},
   "outputs": [],
   "source": [
    "def vectorize_sequences(sequences, dimension= num_words):\n",
    "    results = np.zeros((len (sequences), dimension))\n",
    "    print(\"데이터 형태:\",results.shape)\n",
    "    for i , sequence in enumerate(sequences):\n",
    "        results[i][sequence] = 1.\n",
    "    return results"
   ]
  },
  {
   "cell_type": "code",
   "execution_count": 14,
   "metadata": {},
   "outputs": [
    {
     "name": "stdout",
     "output_type": "stream",
     "text": [
      "데이터 형태: (25000, 5000)\n",
      "데이터 형태: (25000, 5000)\n"
     ]
    }
   ],
   "source": [
    "x_train = vectorize_sequences(train_data)\n",
    "x_test = vectorize_sequences(test_data)"
   ]
  },
  {
   "cell_type": "code",
   "execution_count": 15,
   "metadata": {},
   "outputs": [
    {
     "data": {
      "text/plain": [
       "array([0., 1., 1., ..., 0., 0., 0.])"
      ]
     },
     "execution_count": 15,
     "metadata": {},
     "output_type": "execute_result"
    }
   ],
   "source": [
    "x_train[0]"
   ]
  },
  {
   "cell_type": "code",
   "execution_count": 16,
   "metadata": {},
   "outputs": [],
   "source": [
    "y_train = np.asarray(train_labels).astype('float32')\n",
    "y_test = np.asarray(test_labels).astype('float32')"
   ]
  },
  {
   "cell_type": "code",
   "execution_count": null,
   "metadata": {},
   "outputs": [],
   "source": []
  },
  {
   "cell_type": "markdown",
   "metadata": {},
   "source": [
    "## Data Analysis"
   ]
  },
  {
   "cell_type": "markdown",
   "metadata": {},
   "source": [
    "### train_data positive 데이터 negative 데이터 분석"
   ]
  },
  {
   "cell_type": "code",
   "execution_count": 17,
   "metadata": {},
   "outputs": [
    {
     "data": {
      "image/png": "[encoded data removed]",
      "text/plain": [
       "<Figure size 1152x288 with 2 Axes>"
      ]
     },
     "metadata": {
      "needs_background": "light"
     },
     "output_type": "display_data"
    }
   ],
   "source": [
    "plt.figure(figsize=(16,4))\n",
    "plt.subplot(1,2,1)\n",
    "plt.hist(train_data[0],color=\"blue\",bins=50,range=(0,5000))\n",
    "plt.title(str(evaluate[train_labels[0]]))\n",
    "\n",
    "plt.subplot(1,2,2)\n",
    "plt.hist(train_data[1],color=\"red\",bins=50, range=(0,5000))\n",
    "plt.title(str(evaluate[train_labels[1]]))\n",
    "plt.show()"
   ]
  },
  {
   "cell_type": "markdown",
   "metadata": {},
   "source": [
    "위의 그래프를 보면 0에서부터 뒤로 갈수로 분포가 줄어 드는 것을 알 수 있다.<br>\n",
    "인덱스 숫자가 작을수록 많이 분포한다는 것을 알수 있다.\n",
    "\n",
    "사실 위에 있는 히스토그램만을 본다고 무슨 차이가 있는지 파악하긴 어렵다.\n",
    "하지만 예측 한건데 부정적인 리뷰는 부정적인 단어가 많이 들어 있을 것이다. 예를들어 not, no, never, didn't,worst등의 부정적 단어가 포함 될 가능 성이 높다. 따라서 머신은 이러한 단어가 있을시 negative에 영향을 줄 weight의 값을 크게 변화시킨다."
   ]
  },
  {
   "cell_type": "code",
   "execution_count": null,
   "metadata": {},
   "outputs": [],
   "source": []
  },
  {
   "cell_type": "markdown",
   "metadata": {},
   "source": [
    "### train_data[1] 리뷰 분석하기"
   ]
  },
  {
   "cell_type": "code",
   "execution_count": 18,
   "metadata": {},
   "outputs": [
    {
     "name": "stdout",
     "output_type": "stream",
     "text": [
      "but\n",
      "not\n",
      "no\n",
      "bad\n",
      "never\n",
      "doesn't\n",
      "didn't\n",
      "nothing\n",
      "can't\n",
      "worst\n",
      "boring\n",
      "terrible\n",
      "slasher\n",
      "terribly\n",
      "trashy\n"
     ]
    }
   ],
   "source": [
    "# 부정적인 단어의 인덱스번호\n",
    "negative_word = [21, 24, 57, 78, 115, 152, 161, 164, 191, 249, 357, 394, 1179, 1905, 4373]\n",
    "for i in negative_word:\n",
    "    print(reverse_word_index.get(i-3))"
   ]
  },
  {
   "cell_type": "code",
   "execution_count": 19,
   "metadata": {},
   "outputs": [],
   "source": [
    "num = 1 # 인텍스 번호"
   ]
  },
  {
   "cell_type": "code",
   "execution_count": 20,
   "metadata": {},
   "outputs": [
    {
     "name": "stdout",
     "output_type": "stream",
     "text": [
      " big hair big  bad music and a giant safety  these are the words to best describe this terrible movie i love cheesy horror movies and i've seen hundreds but this had got to be on of the worst ever made the plot is paper thin and ridiculous the acting is an  the script is completely laughable the best is the end showdown with the cop and how he worked out who the killer is it's just so damn terribly written the clothes are  and funny in equal  the hair is big lots of   men wear those cut   that show off their   that men actually wore them and the music is just  trash that plays over and over again in almost every scene there is trashy music  and  taking away bodies and the  still doesn't close for  all  aside this is a truly bad film whose only charm is to look back on the disaster that was the 80's and have a good old laugh at how bad everything was back then\n",
      "\n",
      "label= negative\n"
     ]
    }
   ],
   "source": [
    "decode_review = ' '.join(\n",
    "    [reverse_word_index.get(i-3, \"\") for i in train_data[num]]\n",
    ")\n",
    "print(decode_review)\n",
    "print(\"\")\n",
    "print(\"label=\",evaluate[train_labels[num]])"
   ]
  },
  {
   "cell_type": "markdown",
   "metadata": {},
   "source": [
    "위의 리뷰는 negative한 리뷰이다. 이제부터 여기서 부정적인 단어가 있는지 살펴보겠다."
   ]
  },
  {
   "cell_type": "markdown",
   "metadata": {},
   "source": [
    "#### x_train[1] 분석"
   ]
  },
  {
   "cell_type": "code",
   "execution_count": 21,
   "metadata": {},
   "outputs": [
    {
     "name": "stdout",
     "output_type": "stream",
     "text": [
      "x_train[0]에서 1의 개수: 114\n",
      "x_train[0]의 평가: negative\n"
     ]
    },
    {
     "data": {
      "image/png": "[encoded data removed]",
      "text/plain": [
       "<Figure size 432x288 with 1 Axes>"
      ]
     },
     "metadata": {
      "needs_background": "light"
     },
     "output_type": "display_data"
    }
   ],
   "source": [
    "plt.hist(x_train[num])\n",
    "count = 0\n",
    "index_value = []\n",
    "for i in range(len(x_train[num])):\n",
    "    if(x_train[num][i]==1):\n",
    "        count +=1\n",
    "        index_value.append(i)\n",
    "\n",
    "print(\"x_train[0]에서 1의 개수:\",count)\n",
    "print(\"x_train[0]의 평가:\",evaluate[y_train[num]])\n",
    "plt.show()"
   ]
  },
  {
   "cell_type": "code",
   "execution_count": 22,
   "metadata": {},
   "outputs": [
    {
     "name": "stdout",
     "output_type": "stream",
     "text": [
      "부정적인 단어의 포함 여부\n",
      "but\n",
      "bad\n",
      "doesn't\n",
      "worst\n",
      "terrible\n",
      "terribly\n",
      "trashy\n"
     ]
    }
   ],
   "source": [
    "print(\"부정적인 단어의 포함 여부\")\n",
    "for i in index_value:\n",
    "    for j in negative_word:\n",
    "        if(i == j):\n",
    "            print(reverse_word_index.get(i-3))"
   ]
  },
  {
   "cell_type": "markdown",
   "metadata": {},
   "source": [
    "부정적인 단어가 7개가 나왔다. 머신은 이 단어들을 기반으로 negative로 판단 했을 수도 있다."
   ]
  },
  {
   "cell_type": "code",
   "execution_count": null,
   "metadata": {},
   "outputs": [],
   "source": []
  },
  {
   "cell_type": "markdown",
   "metadata": {},
   "source": [
    "## Building yourt network"
   ]
  },
  {
   "cell_type": "code",
   "execution_count": 23,
   "metadata": {},
   "outputs": [],
   "source": [
    "x_val = x_train[:10000]\n",
    "partial_x_train = x_train[10000:]\n",
    "\n",
    "y_val = y_train[:10000]\n",
    "partial_y_train = y_train[10000:]"
   ]
  },
  {
   "cell_type": "code",
   "execution_count": 24,
   "metadata": {},
   "outputs": [],
   "source": [
    "from tensorflow.keras import models\n",
    "from tensorflow.keras import layers\n",
    "import tensorflow as tf"
   ]
  },
  {
   "cell_type": "code",
   "execution_count": 25,
   "metadata": {},
   "outputs": [],
   "source": [
    "model = models.Sequential()"
   ]
  },
  {
   "cell_type": "code",
   "execution_count": 26,
   "metadata": {},
   "outputs": [],
   "source": [
    "model.add(layers.Dense(1000,activation='relu',input_shape=(num_words,)))\n",
    "model.add(layers.Dense(100,activation='relu'))\n",
    "model.add(layers.Dense(10,activation='relu'))\n",
    "model.add(layers.Dense(1,activation='sigmoid'))"
   ]
  },
  {
   "cell_type": "code",
   "execution_count": 27,
   "metadata": {},
   "outputs": [
    {
     "name": "stdout",
     "output_type": "stream",
     "text": [
      "parameter(weight)개수\n",
      "(5000, 1000)\n",
      "(1000,)\n",
      "(1000, 100)\n",
      "(100,)\n",
      "(100, 10)\n",
      "(10,)\n",
      "(10, 1)\n",
      "(1,)\n"
     ]
    }
   ],
   "source": [
    "print(\"parameter(weight)개수\")\n",
    "for i in range(len(model.weights)):\n",
    "    print(model.weights[i].shape)"
   ]
  },
  {
   "cell_type": "markdown",
   "metadata": {},
   "source": [
    "weight가 많다고 좋은 것은 아니다. 학습할 변수가 많으면 컴퓨터가 처리하기 어렵고, 그만큼 오래동안 학습해야 한다. 너무 많은 변수로 인해 데이터의 양상을 파악하기 어려워진다."
   ]
  },
  {
   "cell_type": "markdown",
   "metadata": {},
   "source": [
    "### Activation Function\n",
    "**Sigmoid 함수**\n",
    "$${sigmoid(x) = {1\\over{1+e^{-x}}}}$$\n",
    "- 신경망 초기에 많이 사용했지만, 여러 단점들 때문에 최근엔 binary_crossentropy빼고는 거의 사용 하지 않는다.\n",
    "- 단점\n",
    "    - **Gradient Vanishing** 발생: 미분함수에 대해 x=0에서 최대값 1/2을 가지고, input값이 일정이상 올라가면 미분값이 거의 0에 수렴하게된다. 이는 |x|값이 커질수록 Gradient Backpropagation시 미분값이 소실될 가능성이 크다.값이 커질 수록 Gradient Backpropagation시 미분값이 소실될 가능성이 크다.\n",
    "    - exp 함수 사용시 계산처리 하는 데 비용이 크다.\n",
    "    \n",
    "**Tanh 함수**\n",
    "$${tanh(x) = {{e^x - e^{-x}}\\over{e^x+e^{-x}}}}$$\n",
    "- tanh 함수는 함수의 중심값을 0으로 옮겨 sigmoid의 최적화 과정이 느려지는 문제를 해결\n",
    "    - 시그모이드 함수와는 달리 0을 중심으로 하고 있는데, 이 때문에 시그모이드 함수와 비교하면 반환값(-1~1)의 변화폭이 더 크다.\n",
    "    - 시그모이드 함수보다는 기울기 소실 증상이 적은 편이다.\n",
    "- 미분함수에 대해 일정값 이상 커질시 미분값이 소실되는 gradient vanishing 문제는 여전히 남아있다.\n",
    "\n",
    "**Relu 함수**\n",
    "$${relu(x) = max(0,x)}$$\n",
    "- 최근 신경망에서 가장 많이 사용하는 활성화 함수이다. \n",
    "- 장점\n",
    "    - sigmoid, tanh 함수와 비교시 학습이 훨씬 빨라진다.\n",
    "    - x값이 커져도 기울기가 오직 1이라 gradient vanishing가 거의 발생 하지 않다.\n",
    "    - 미분값이 0 또는 1이라 계산처리 하는데 비용이 작다.\n",
    "- 단점\n",
    "    - x값이 0보다 작으면 미분은 0이 되어 x값에 해당되는 weight들이 모두 죽는다.\n",
    "    - 차원이 높아질수록 saddle point(미분값은 0이지만 극대, 극소가 아닌 값)가 발생."
   ]
  },
  {
   "cell_type": "code",
   "execution_count": 28,
   "metadata": {},
   "outputs": [
    {
     "data": {
      "image/png": "[encoded data removed]",
      "text/plain": [
       "<Figure size 1008x288 with 3 Axes>"
      ]
     },
     "metadata": {
      "needs_background": "light"
     },
     "output_type": "display_data"
    }
   ],
   "source": [
    "x = np.arange(-10,10)\n",
    "sigmoid = 1/(1+np.exp(-x))\n",
    "relu = np.maximum(x,0)\n",
    "tanh = (np.exp(x)-np.exp(-x))/(np.exp(x)+np.exp(-x))\n",
    "plt.figure(figsize=(14,4))\n",
    "plt.subplot(1,3,1)\n",
    "plt.title('sigmoid')\n",
    "plt.plot(x,sigmoid)\n",
    "\n",
    "plt.subplot(1,3,2)\n",
    "plt.title('relu')\n",
    "plt.plot(x,relu)\n",
    "\n",
    "plt.subplot(1,3,3)\n",
    "plt.title('relu')\n",
    "plt.plot(x,tanh)\n",
    "plt.show()"
   ]
  },
  {
   "cell_type": "markdown",
   "metadata": {},
   "source": [
    "### Compiling the model\n",
    "- Rmsprop -> Adam\n",
    "- learning_rage = 0.001\n",
    "- loss : binary_crossentroy\n",
    "- 분류가 2개일 경우(2개일 경우, softmax보단 sigmoid가 더 낮다.)\n",
    "$${J(w)=-{1\\over m}\\sum^m_{i=1} [y^{(i)}log(\\sigma(w^T*\\mathbf x))+(1-y^{(i)})log(1-\\sigma(w^T*\\mathbf x))]}$$"
   ]
  },
  {
   "cell_type": "code",
   "execution_count": 29,
   "metadata": {},
   "outputs": [],
   "source": [
    "model.compile(\n",
    "    optimizer=tf.keras.optimizers.Adam(learning_rate=0.001),\n",
    "    loss=tf.keras.losses.binary_crossentropy,metrics=['accuracy']\n",
    ")"
   ]
  },
  {
   "cell_type": "markdown",
   "metadata": {},
   "source": [
    "Adam Optimization는 momentam Optimization와 RMSProp를 합친 옵티마이저이다. 현재 가장 많이 쓰이는 옵티마이저이다. "
   ]
  },
  {
   "cell_type": "code",
   "execution_count": 30,
   "metadata": {},
   "outputs": [
    {
     "name": "stdout",
     "output_type": "stream",
     "text": [
      "Train on 15000 samples, validate on 10000 samples\n",
      "Epoch 1/10\n",
      "15000/15000 [==============================] - 3s 185us/sample - loss: 0.3663 - accuracy: 0.8411 - val_loss: 0.2919 - val_accuracy: 0.8767\n",
      "Epoch 2/10\n",
      "15000/15000 [==============================] - 2s 159us/sample - loss: 0.1545 - accuracy: 0.9433 - val_loss: 0.3415 - val_accuracy: 0.8699\n",
      "Epoch 3/10\n",
      "15000/15000 [==============================] - 2s 158us/sample - loss: 0.0510 - accuracy: 0.9852 - val_loss: 0.3959 - val_accuracy: 0.8726\n",
      "Epoch 4/10\n",
      "15000/15000 [==============================] - 2s 159us/sample - loss: 0.0089 - accuracy: 0.9987 - val_loss: 0.5126 - val_accuracy: 0.8724\n",
      "Epoch 5/10\n",
      "15000/15000 [==============================] - 2s 162us/sample - loss: 0.0014 - accuracy: 0.9999 - val_loss: 0.5720 - val_accuracy: 0.8714\n",
      "Epoch 6/10\n",
      "15000/15000 [==============================] - 2s 159us/sample - loss: 3.2643e-04 - accuracy: 1.0000 - val_loss: 0.6524 - val_accuracy: 0.8728\n",
      "Epoch 7/10\n",
      "15000/15000 [==============================] - 2s 137us/sample - loss: 1.4419e-04 - accuracy: 1.0000 - val_loss: 0.6980 - val_accuracy: 0.8737\n",
      "Epoch 8/10\n",
      "15000/15000 [==============================] - 2s 161us/sample - loss: 9.4232e-05 - accuracy: 1.0000 - val_loss: 0.7278 - val_accuracy: 0.8734\n",
      "Epoch 9/10\n",
      "15000/15000 [==============================] - 2s 161us/sample - loss: 6.8560e-05 - accuracy: 1.0000 - val_loss: 0.7517 - val_accuracy: 0.8738\n",
      "Epoch 10/10\n",
      "15000/15000 [==============================] - 2s 161us/sample - loss: 5.2795e-05 - accuracy: 1.0000 - val_loss: 0.7712 - val_accuracy: 0.8737\n"
     ]
    }
   ],
   "source": [
    "history = model.fit(partial_x_train,\n",
    "                   partial_y_train,epochs=10,batch_size=250,validation_data=(x_val,y_val))"
   ]
  },
  {
   "cell_type": "code",
   "execution_count": 31,
   "metadata": {},
   "outputs": [],
   "source": [
    "history_dict = history.history\n",
    "\n",
    "history_dict.keys()\n",
    "\n",
    "loss_values = history_dict['loss']\n",
    "\n",
    "accuracy = history_dict['accuracy']\n",
    "\n",
    "val_loss = history_dict['val_loss']\n",
    "\n",
    "val_accuracy = history_dict['val_accuracy']\n",
    "\n",
    "epochs = np.arange(1,len(val_loss)+1)"
   ]
  },
  {
   "cell_type": "code",
   "execution_count": 32,
   "metadata": {},
   "outputs": [
    {
     "data": {
      "image/png": "[encoded data removed]",
      "text/plain": [
       "<Figure size 1008x288 with 2 Axes>"
      ]
     },
     "metadata": {
      "needs_background": "light"
     },
     "output_type": "display_data"
    }
   ],
   "source": [
    "plt.figure(figsize=(14,4))\n",
    "plt.subplot(1,2,1)\n",
    "plt.title(\"loss\")\n",
    "plt.plot(epochs,loss_values,\".r\", label='train',)\n",
    "plt.plot(epochs,val_loss,\"-b\", label='validation')\n",
    "plt.legend(fontsize='small')\n",
    "plt.axvline(2,color='g',linestyle='--')\n",
    "plt.xticks(epochs)\n",
    "\n",
    "plt.subplot(1,2,2)\n",
    "plt.title(\"accuracy\")\n",
    "plt.plot(epochs,accuracy,\".r\", label='train')\n",
    "plt.plot(epochs,val_accuracy,\"-b\", label='validation')\n",
    "plt.legend(fontsize='small')\n",
    "plt.axvline(2,color='g',linestyle='--')\n",
    "plt.xticks(epochs)\n",
    "plt.show()"
   ]
  },
  {
   "cell_type": "markdown",
   "metadata": {},
   "source": [
    "위 loss, accuracy그래프를 보면 train의 loss와 accuracy가 빠르게 최적한 값에 도달하는 것을 볼수 있다. 반대로 validaion은 반대로 val_accuracy는 epoch를 돌리더라도 딱히 큰 변화가 일어나지 않는다. 위에 있는 결과를 봤을 때 train 데이터에 대해서 너무 overfitting 된 것을 알 수 있다. 즉 train의 loss와 accuracy의 값이 너무 빠르게 최적의 값에 도달되어 validation 데이터에 대한 예측률이 떨어 진거 같다. 따라서 learing의 값과 batch_size 값을 더 낮추고, 반대로 epoch는 많이 하면 과적합 될 확률이 높아 조금 낮추겠다."
   ]
  },
  {
   "cell_type": "markdown",
   "metadata": {},
   "source": [
    "### Testing"
   ]
  },
  {
   "cell_type": "code",
   "execution_count": 33,
   "metadata": {},
   "outputs": [
    {
     "name": "stdout",
     "output_type": "stream",
     "text": [
      "25000/25000 [==============================] - 3s 114us/sample - loss: 0.8222 - accuracy: 0.8658\n"
     ]
    }
   ],
   "source": [
    "result = model.evaluate(x_test,y_test)"
   ]
  },
  {
   "cell_type": "code",
   "execution_count": 34,
   "metadata": {},
   "outputs": [
    {
     "name": "stdout",
     "output_type": "stream",
     "text": [
      "loss 0.8222119748842717\n",
      "accuracy 0.86576\n"
     ]
    }
   ],
   "source": [
    "print(\"loss\",result[0])\n",
    "print(\"accuracy\",result[1])"
   ]
  },
  {
   "cell_type": "code",
   "execution_count": null,
   "metadata": {},
   "outputs": [],
   "source": []
  },
  {
   "cell_type": "markdown",
   "metadata": {},
   "source": [
    "## Retraining a model from scratch\n",
    "- batch_size = 100\n",
    "- learning_rate = 0.00001\n",
    "- epoch = 7"
   ]
  },
  {
   "cell_type": "code",
   "execution_count": 66,
   "metadata": {},
   "outputs": [],
   "source": [
    "model = models.Sequential()"
   ]
  },
  {
   "cell_type": "code",
   "execution_count": 67,
   "metadata": {},
   "outputs": [],
   "source": [
    "model.add(layers.Dense(5000,activation='relu',input_shape=(num_words,)))\n",
    "model.add(layers.Dense(1000,activation='relu'))\n",
    "model.add(layers.Dense(100,activation='relu'))\n",
    "model.add(layers.Dense(1,activation='sigmoid'))"
   ]
  },
  {
   "cell_type": "code",
   "execution_count": 68,
   "metadata": {},
   "outputs": [],
   "source": [
    "model.compile(\n",
    "    optimizer=tf.keras.optimizers.Adam(learning_rate=0.00001),\n",
    "    loss=tf.keras.losses.binary_crossentropy,metrics=['accuracy']\n",
    ")"
   ]
  },
  {
   "cell_type": "code",
   "execution_count": 69,
   "metadata": {},
   "outputs": [
    {
     "name": "stdout",
     "output_type": "stream",
     "text": [
      "Train on 15000 samples, validate on 10000 samples\n",
      "Epoch 1/7\n",
      "15000/15000 [==============================] - 25s 2ms/sample - loss: 0.6055 - accuracy: 0.7421 - val_loss: 0.4985 - val_accuracy: 0.8252\n",
      "Epoch 2/7\n",
      "15000/15000 [==============================] - 24s 2ms/sample - loss: 0.3966 - accuracy: 0.8619 - val_loss: 0.3585 - val_accuracy: 0.8609\n",
      "Epoch 3/7\n",
      "15000/15000 [==============================] - 25s 2ms/sample - loss: 0.2817 - accuracy: 0.8989 - val_loss: 0.3081 - val_accuracy: 0.8770\n",
      "Epoch 4/7\n",
      "15000/15000 [==============================] - 25s 2ms/sample - loss: 0.2199 - accuracy: 0.9245 - val_loss: 0.2917 - val_accuracy: 0.8835\n",
      "Epoch 5/7\n",
      "15000/15000 [==============================] - 24s 2ms/sample - loss: 0.1764 - accuracy: 0.9424 - val_loss: 0.2860 - val_accuracy: 0.8864\n",
      "Epoch 6/7\n",
      "15000/15000 [==============================] - 24s 2ms/sample - loss: 0.1404 - accuracy: 0.9597 - val_loss: 0.2874 - val_accuracy: 0.8851\n",
      "Epoch 7/7\n",
      "15000/15000 [==============================] - 24s 2ms/sample - loss: 0.1106 - accuracy: 0.9719 - val_loss: 0.2951 - val_accuracy: 0.8842\n"
     ]
    }
   ],
   "source": [
    "history = model.fit(partial_x_train,\n",
    "                   partial_y_train,epochs=7,batch_size=100,validation_data=(x_val,y_val))"
   ]
  },
  {
   "cell_type": "code",
   "execution_count": 70,
   "metadata": {},
   "outputs": [],
   "source": [
    "history_dict = history.history\n",
    "\n",
    "history_dict.keys()\n",
    "\n",
    "loss_values = history_dict['loss']\n",
    "\n",
    "accuracy = history_dict['accuracy']\n",
    "\n",
    "val_loss = history_dict['val_loss']\n",
    "\n",
    "val_accuracy = history_dict['val_accuracy']\n",
    "\n",
    "epochs = np.arange(1,len(val_loss)+1)"
   ]
  },
  {
   "cell_type": "code",
   "execution_count": 71,
   "metadata": {},
   "outputs": [
    {
     "data": {
      "image/png": "[encoded data removed]",
      "text/plain": [
       "<Figure size 1008x288 with 2 Axes>"
      ]
     },
     "metadata": {
      "needs_background": "light"
     },
     "output_type": "display_data"
    }
   ],
   "source": [
    "plt.figure(figsize=(14,4))\n",
    "plt.subplot(1,2,1)\n",
    "plt.title(\"loss\")\n",
    "plt.plot(epochs,loss_values,\".r\", label='train',)\n",
    "plt.plot(epochs,val_loss,\"-b\", label='validation')\n",
    "plt.legend(fontsize='small')\n",
    "plt.axvline(2,color='g',linestyle='--')\n",
    "plt.xticks(epochs)\n",
    "\n",
    "plt.subplot(1,2,2)\n",
    "plt.title(\"accuracy\")\n",
    "plt.plot(epochs,accuracy,\".r\", label='train')\n",
    "plt.plot(epochs,val_accuracy,\"-b\", label='validation')\n",
    "plt.legend(fontsize='small')\n",
    "plt.axvline(2,color='g',linestyle='--')\n",
    "plt.xticks(epochs)\n",
    "plt.show()\n",
    "plt.show()"
   ]
  },
  {
   "cell_type": "code",
   "execution_count": 72,
   "metadata": {},
   "outputs": [
    {
     "name": "stdout",
     "output_type": "stream",
     "text": [
      "25000/25000 [==============================] - 9s 369us/sample - loss: 0.3031 - accuracy: 0.8802\n"
     ]
    }
   ],
   "source": [
    "results = model.evaluate(x_test,y_test)"
   ]
  },
  {
   "cell_type": "code",
   "execution_count": 73,
   "metadata": {},
   "outputs": [
    {
     "name": "stdout",
     "output_type": "stream",
     "text": [
      "loss 0.3031104809761047\n",
      "accuracy 0.88016\n"
     ]
    }
   ],
   "source": [
    "print(\"loss\",results[0])\n",
    "print(\"accuracy\",results[1])"
   ]
  },
  {
   "cell_type": "markdown",
   "metadata": {},
   "source": [
    "아까보다 accuracy가 0.2정도 더 올랐다. 확실치 않지만, 이번에 나온 accuracy과 loss의 최대값이다. 모델에서 오를 수 있는 최대의 값이다. 지금 나온 accuracy값이 나쁘지는 않지만 accuracy를 더 높이기 위해서는 이 모델보다 더 좋은 모델을 사용해야 한다. Fully Connected Layer만으로 시계열데이터를 학습하는 데 다소 무리일 수 있다. 그래서 주로 이러한 시계열 데이터는 RNN에서 효과를 발휘한다."
   ]
  },
  {
   "cell_type": "code",
   "execution_count": 74,
   "metadata": {},
   "outputs": [
    {
     "name": "stdout",
     "output_type": "stream",
     "text": [
      "Model: \"sequential_8\"\n",
      "_________________________________________________________________\n",
      "Layer (type)                 Output Shape              Param #   \n",
      "=================================================================\n",
      "dense_32 (Dense)             (None, 5000)              25005000  \n",
      "_________________________________________________________________\n",
      "dense_33 (Dense)             (None, 1000)              5001000   \n",
      "_________________________________________________________________\n",
      "dense_34 (Dense)             (None, 100)               100100    \n",
      "_________________________________________________________________\n",
      "dense_35 (Dense)             (None, 1)                 101       \n",
      "=================================================================\n",
      "Total params: 30,106,201\n",
      "Trainable params: 30,106,201\n",
      "Non-trainable params: 0\n",
      "_________________________________________________________________\n"
     ]
    }
   ],
   "source": [
    "model.summary()"
   ]
  },
  {
   "cell_type": "code",
   "execution_count": null,
   "metadata": {},
   "outputs": [],
   "source": []
  },
  {
   "cell_type": "markdown",
   "metadata": {},
   "source": [
    "## IMDB사이트 에서 가져온 리뷰 데이터로 직접 예측해보기\n",
    "- 영화 이름: Fantasy Island\n",
    "- 리뷰 라벨: negative\n",
    "- https://www.imdb.com/title/tt0983946/reviews?ref_=tt_ov_rt\n",
    "![](data:image/jpeg;base64,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)"
   ]
  },
  {
   "cell_type": "code",
   "execution_count": 75,
   "metadata": {},
   "outputs": [],
   "source": [
    "IMBD_review = \"bad movie bad movie go to your room forever i don't know where to start the convoluted attempt at anything close to a plot the juvenile writing the bad acting all around the movie should not have been called fantasy island it should have been called clue cause no one involved had one \"+\"however i do credit it for a first in the life as in the first time we in the audience had a conversation with show of hands just how bad an experience this was a horribly disfigured baby \"+\"please spare yourself don't watch it it's too late for me but if i spared just one of you maybe my sacrifice is worth it\""
   ]
  },
  {
   "cell_type": "code",
   "execution_count": 76,
   "metadata": {},
   "outputs": [],
   "source": [
    "IMBD_review_list = [] "
   ]
  },
  {
   "cell_type": "code",
   "execution_count": 77,
   "metadata": {},
   "outputs": [],
   "source": [
    "for i in IMBD_review.split():\n",
    "    IMBD_review_list.append(word_index[i]+3)# 0,1,2인덱스는 필요없는 데이터이므로 3를 더해주어야함.\n",
    "IMBD_review_list.remove(11085) # 인덱스 5000을 넘어 가는 단어 제거.\n",
    "IMBD_review_list.remove(11745)"
   ]
  },
  {
   "cell_type": "code",
   "execution_count": 78,
   "metadata": {},
   "outputs": [
    {
     "name": "stdout",
     "output_type": "stream",
     "text": [
      "bad movie bad movie go to your room forever i don't know where to start the convoluted attempt at anything close to a plot the juvenile writing the bad acting all around the movie should not have been called fantasy island it should have been called clue cause no one involved had one however i do credit it for a first in the life as in the first time we in the audience had a conversation with show of hands just how bad an experience this was a horribly baby please spare yourself don't watch it it's too late for me but if i just one of you maybe my sacrifice is worth it\n",
      "\n",
      "label= negative\n"
     ]
    }
   ],
   "source": [
    "decode_review = ' '.join(\n",
    "    [reverse_word_index.get(i-3, \"\") for i in IMBD_review_list]\n",
    ")\n",
    "print(decode_review)\n",
    "print(\"\")\n",
    "print(\"label=\",\"negative\")"
   ]
  },
  {
   "cell_type": "code",
   "execution_count": 79,
   "metadata": {},
   "outputs": [
    {
     "name": "stdout",
     "output_type": "stream",
     "text": [
      "형태: (1, 114)\n"
     ]
    }
   ],
   "source": [
    "IMDB_review_data = np.reshape(IMBD_review_list,(1,len(IMBD_review_list)))\n",
    "print(\"형태:\",IMDB_review_data.shape)"
   ]
  },
  {
   "cell_type": "code",
   "execution_count": 80,
   "metadata": {},
   "outputs": [
    {
     "name": "stdout",
     "output_type": "stream",
     "text": [
      "데이터 형태: (1, 5000)\n"
     ]
    }
   ],
   "source": [
    "IMDB_review_data = vectorize_sequences(IMDB_review_data)"
   ]
  },
  {
   "cell_type": "code",
   "execution_count": 81,
   "metadata": {},
   "outputs": [
    {
     "data": {
      "text/plain": [
       "array([0., 0., 0., 0., 1., 0., 1., 1., 1., 1., 0., 1., 1., 1., 1., 0., 1.,\n",
       "       1., 1., 1., 1., 1., 0., 0., 1., 1., 0., 0., 1., 0., 0., 1., 1., 1.,\n",
       "       0., 1., 0., 0., 0., 0., 0., 0., 0., 1., 0., 1., 0., 0., 1., 0., 0.,\n",
       "       0., 0., 0., 0., 0., 0., 1., 1., 0., 0., 1., 0., 0., 0., 0., 0., 0.,\n",
       "       0., 1., 0., 0., 1., 0., 0., 1., 0., 1., 1., 0., 0., 1., 0., 0., 0.,\n",
       "       0., 1., 0., 0., 1., 0., 0., 1., 0., 0., 0., 0., 0., 0., 1.])"
      ]
     },
     "execution_count": 81,
     "metadata": {},
     "output_type": "execute_result"
    }
   ],
   "source": [
    "IMDB_review_data[0,:100]"
   ]
  },
  {
   "cell_type": "code",
   "execution_count": 82,
   "metadata": {},
   "outputs": [
    {
     "name": "stdout",
     "output_type": "stream",
     "text": [
      "리뷰에 대한 postive일 확률이 0.02364487 이다. 따라서 머신은 이 리뷰에 대해 negative 라고 예측한다.\n"
     ]
    }
   ],
   "source": [
    "predict = model.predict(IMDB_review_data)[0,0]\n",
    "print(\"리뷰에 대한 postive일 확률이\",predict,\"이다. 따라서 머신은 이 리뷰에 대해\",evaluate[int(model.predict(IMDB_review_data))],\"라고 예측한다.\")"
   ]
  },
  {
   "cell_type": "code",
   "execution_count": null,
   "metadata": {},
   "outputs": [],
   "source": []
  }
 ],
 "metadata": {
  "kernelspec": {
   "display_name": "Python 3",
   "language": "python",
   "name": "python3"
  },
  "language_info": {
   "codemirror_mode": {
    "name": "ipython",
    "version": 3
   },
   "file_extension": ".py",
   "mimetype": "text/x-python",
   "name": "python",
   "nbconvert_exporter": "python",
   "pygments_lexer": "ipython3",
   "version": "3.7.3"
  }
 },
 "nbformat": 4,
 "nbformat_minor": 2
}
