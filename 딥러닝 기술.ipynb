{
 "cells": [
  {
   "cell_type": "markdown",
   "metadata": {},
   "source": [
    "# 딥러닝 기초"
   ]
  },
  {
   "cell_type": "code",
   "execution_count": null,
   "metadata": {},
   "outputs": [],
   "source": []
  },
  {
   "cell_type": "markdown",
   "metadata": {},
   "source": [
    "![](https://heung-bae-lee.github.io/image/deeplearning_vs_machinelearning_vs_AI.png)\n",
    "\n",
    "\n",
    "\n",
    "\n",
    "<br><br><br>\n",
    "![](https://heung-bae-lee.github.io/image/why_deeplearning_is_so_special.png)\n",
    "- 사람이 직접 해주어야 한다.\n",
    "- 학습 자유도가 높아짐(학습 대상이 많아 져(특징 추출기, 분류기))\n",
    "\n",
    "딥러닝을 이용한 여러 기능\n",
    "![](https://heung-bae-lee.github.io/image/what_will_you_do_with_deeplearning01.png)\n",
    "![](https://heung-bae-lee.github.io/image/what_will_you_do_with_deeplearning02.png)\n",
    "\n",
    "![](https://heung-bae-lee.github.io/image/deeplearning_consist_of.png)"
   ]
  },
  {
   "cell_type": "markdown",
   "metadata": {},
   "source": [
    "![](https://img1.daumcdn.net/thumb/R800x0/?scode=mtistory2&fname=https%3A%2F%2Ft1.daumcdn.net%2Fcfile%2Ftistory%2F999976475B9D3FF210)"
   ]
  },
  {
   "cell_type": "markdown",
   "metadata": {},
   "source": [
    "활성화 함수"
   ]
  },
  {
   "cell_type": "markdown",
   "metadata": {},
   "source": [
    "## Machine Learning의 종류\n",
    "- **Supervised_Learning(지도 학습)**\n",
    "    - 라벨이 있는 상태에서 학습.\n",
    "    - Regression(회귀)\n",
    "    - Classification(분류)\n",
    "    \n",
    "- **Unsupervised_Learning(비지도 학습)**\n",
    "    - 라벨이 없는 상태에서 학습.\n",
    "    - Clustering(클러스터)\n",
    "    - Dimensionality_Reduction\n",
    "    \n",
    "- **Semi-Supervised Learning***\n",
    "    - 라벨이 일부 있는 상태에서 학습.\n",
    "    - Self Training\n",
    "    - Low Density Separation Models\n",
    "    - Graph Based Algothrims\n",
    "    \n",
    "- **Reinforcement_Learning**\n",
    "    - Dynamic Programming\n",
    "    - Monte Carlo Methods\n",
    "    - Heunistic Methods\n",
    "\n",
    "- **Deep_Learning**\n",
    "    - CNN\n",
    "    - RNN\n",
    "    - GAN\n"
   ]
  },
  {
   "cell_type": "markdown",
   "metadata": {},
   "source": [
    "## Segmentation"
   ]
  },
  {
   "cell_type": "code",
   "execution_count": null,
   "metadata": {},
   "outputs": [],
   "source": []
  },
  {
   "cell_type": "markdown",
   "metadata": {},
   "source": [
    "OXFORD-IIIT PET Dataset\n",
    "-----------------------\n",
    "Omkar M Parkhi, Andrea Vedaldi, Andrew Zisserman and C. V. Jawahar\n",
    "\n",
    "We have created a 37 category pet dataset with roughly 200 images for each class. \n",
    "The images have a large variations in scale, pose and lighting. All images have an \n",
    "associated ground truth annotation of breed, head ROI, and pixel\n",
    "level trimap segmentation.\n",
    "\n",
    "Contents:\n",
    "--------\n",
    "trimaps/ \tTrimap annotations for every image in the dataset\n",
    "\t\tPixel Annotations: 1: Foreground 2:Background 3: Not classified\n",
    "xmls/\t\tHead bounding box annotations in PASCAL VOC Format\n",
    "\n",
    "list.txt\tCombined list of all images in the dataset\n",
    "\t\tEach entry in the file is of following nature:\n",
    "\t\tImage CLASS-ID SPECIES BREED ID\n",
    "\t\tID: 1:37 Class ids\n",
    "\t\tSPECIES: 1:Cat 2:Dog\n",
    "\t\tBREED ID: 1-25:Cat 1:12:Dog\n",
    "\t\tAll images with 1st letter as captial are cat images while\n",
    "\t\timages with small first letter are dog images.\n",
    "trainval.txt\tFiles describing splits used in the paper.However,\n",
    "test.txt\tyou are encouraged to try random splits.\n",
    "\n",
    "\n",
    "\n",
    "Support:\n",
    "-------\n",
    "For any queries contact,\n",
    "\n",
    "Omkar Parkhi: omkar@robots.ox.ac.uk\n",
    "\n",
    "References:\n",
    "----------\n",
    "[1] O. M. Parkhi, A. Vedaldi, A. Zisserman, C. V. Jawahar\n",
    "   Cats and Dogs  \n",
    "   IEEE Conference on Computer Vision and Pattern Recognition, 2012\n",
    "\n",
    "Note:\n",
    "----\n",
    "Dataset is made available for research purposes only. Use of these images must respect \n",
    "the corresponding terms of use of original websites from which they are taken.\n",
    "See [1] for list of websites.   \n"
   ]
  },
  {
   "cell_type": "code",
   "execution_count": null,
   "metadata": {},
   "outputs": [],
   "source": []
  }
 ],
 "metadata": {
  "kernelspec": {
   "display_name": "Python 3",
   "language": "python",
   "name": "python3"
  },
  "language_info": {
   "codemirror_mode": {
    "name": "ipython",
    "version": 3
   },
   "file_extension": ".py",
   "mimetype": "text/x-python",
   "name": "python",
   "nbconvert_exporter": "python",
   "pygments_lexer": "ipython3",
   "version": "3.7.3"
  }
 },
 "nbformat": 4,
 "nbformat_minor": 2
}
