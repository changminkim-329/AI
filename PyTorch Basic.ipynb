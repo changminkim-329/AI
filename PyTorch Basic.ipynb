{
 "cells": [
  {
   "cell_type": "markdown",
   "metadata": {},
   "source": [
    "# PyTorch Basic\n",
    "- numpy 메소드와 비슷한게 많다. -> 그래서 쉬움"
   ]
  },
  {
   "cell_type": "code",
   "execution_count": 1,
   "metadata": {},
   "outputs": [],
   "source": [
    "import numpy as np\n",
    "import torch\n",
    "import matplotlib.pyplot as plt"
   ]
  },
  {
   "cell_type": "code",
   "execution_count": 2,
   "metadata": {},
   "outputs": [
    {
     "data": {
      "text/plain": [
       "array([0, 1, 2, 3, 4, 5, 6, 7, 8])"
      ]
     },
     "execution_count": 2,
     "metadata": {},
     "output_type": "execute_result"
    }
   ],
   "source": [
    "nums = np.arange(9)\n",
    "nums"
   ]
  },
  {
   "cell_type": "code",
   "execution_count": 3,
   "metadata": {},
   "outputs": [
    {
     "data": {
      "text/plain": [
       "tensor([0, 1, 2, 3, 4, 5, 6, 7, 8])"
      ]
     },
     "execution_count": 3,
     "metadata": {},
     "output_type": "execute_result"
    }
   ],
   "source": [
    "nums = torch.arange(9)\n",
    "nums"
   ]
  },
  {
   "cell_type": "code",
   "execution_count": 4,
   "metadata": {},
   "outputs": [
    {
     "name": "stdout",
     "output_type": "stream",
     "text": [
      "torch.Size([9])\n",
      "tensor([[0, 1, 2],\n",
      "        [3, 4, 5],\n",
      "        [6, 7, 8]])\n"
     ]
    }
   ],
   "source": [
    "print(nums.shape)\n",
    "print(nums.reshape([3,3]))"
   ]
  },
  {
   "cell_type": "code",
   "execution_count": 5,
   "metadata": {},
   "outputs": [
    {
     "data": {
      "text/plain": [
       "tensor([1.0000, 0.9000, 0.8000, 0.7000, 0.6000, 0.5000, 0.4000, 0.3000, 0.2000,\n",
       "        0.1000])"
      ]
     },
     "execution_count": 5,
     "metadata": {},
     "output_type": "execute_result"
    }
   ],
   "source": [
    "torch.arange(1, 0, -0.1)"
   ]
  },
  {
   "cell_type": "code",
   "execution_count": 6,
   "metadata": {},
   "outputs": [
    {
     "data": {
      "text/plain": [
       "torch.Size([10])"
      ]
     },
     "execution_count": 6,
     "metadata": {},
     "output_type": "execute_result"
    }
   ],
   "source": [
    "torch.arange(1., 11.).shape"
   ]
  },
  {
   "cell_type": "code",
   "execution_count": 7,
   "metadata": {
    "scrolled": false
   },
   "outputs": [
    {
     "data": {
      "text/plain": [
       "tensor([1.0906, 0.6822, 3.0539, 3.3654, 5.1528, 5.9954, 6.7176, 8.2817, 8.8001,\n",
       "        9.9207])"
      ]
     },
     "execution_count": 7,
     "metadata": {},
     "output_type": "execute_result"
    }
   ],
   "source": [
    "randoms = torch.normal(mean=torch.arange(1., 11.), std=torch.arange(1, 0, -0.1))\n",
    "randoms"
   ]
  },
  {
   "cell_type": "code",
   "execution_count": 8,
   "metadata": {},
   "outputs": [
    {
     "data": {
      "image/png": "[encoded data removed]",
      "text/plain": [
       "<Figure size 864x1008 with 10 Axes>"
      ]
     },
     "metadata": {
      "needs_background": "light"
     },
     "output_type": "display_data"
    }
   ],
   "source": [
    "fig = plt.figure(figsize=[12,14])\n",
    "mean = torch.arange(1., 11.)\n",
    "std = torch.arange(1, 0, -0.1)\n",
    "for i in range(0,10):\n",
    "    fig.add_subplot(5, 2, i+1)\n",
    "    distrib = np.random.normal(mean[i],std[i],10000)\n",
    "    plt.hist(distrib,bins=80)\n",
    "plt.show()"
   ]
  },
  {
   "cell_type": "code",
   "execution_count": 9,
   "metadata": {},
   "outputs": [
    {
     "name": "stdout",
     "output_type": "stream",
     "text": [
      "tensor([[0., 0., 0.],\n",
      "        [0., 0., 0.],\n",
      "        [0., 0., 0.]])\n",
      "tensor([[1., 1., 1.],\n",
      "        [1., 1., 1.],\n",
      "        [1., 1., 1.]])\n",
      "tensor([[0., 0., 0.],\n",
      "        [0., 0., 0.],\n",
      "        [0., 0., 0.]])\n",
      "torch.Size([3, 3])\n"
     ]
    }
   ],
   "source": [
    "zeros = torch.zeros([3,3])\n",
    "print(zeros)\n",
    "ones = torch.ones([3,3])\n",
    "print(ones)\n",
    "\n",
    "zeros_like = torch.zeros_like(ones)\n",
    "print(zeros_like)\n",
    "print(zeros.shape)"
   ]
  },
  {
   "cell_type": "markdown",
   "metadata": {},
   "source": [
    "## PyTorch -> numpy로 바꾸기"
   ]
  },
  {
   "cell_type": "code",
   "execution_count": 10,
   "metadata": {
    "scrolled": true
   },
   "outputs": [
    {
     "name": "stdout",
     "output_type": "stream",
     "text": [
      "[0 1 2 3 4 5 6 7 8]\n",
      "5\n"
     ]
    }
   ],
   "source": [
    "print(nums.numpy())\n",
    "\n",
    "# item은 오직 scalar일때만 가능\n",
    "n = torch.tensor(5)\n",
    "print(n.item())"
   ]
  },
  {
   "cell_type": "markdown",
   "metadata": {},
   "source": [
    "## Operation"
   ]
  },
  {
   "cell_type": "code",
   "execution_count": 11,
   "metadata": {},
   "outputs": [],
   "source": [
    "nums = torch.arange(9)"
   ]
  },
  {
   "cell_type": "code",
   "execution_count": 12,
   "metadata": {},
   "outputs": [
    {
     "data": {
      "text/plain": [
       "tensor([ 0,  3,  6,  9, 12, 15, 18, 21, 24])"
      ]
     },
     "execution_count": 12,
     "metadata": {},
     "output_type": "execute_result"
    }
   ],
   "source": [
    "nums*3"
   ]
  },
  {
   "cell_type": "code",
   "execution_count": 13,
   "metadata": {},
   "outputs": [
    {
     "data": {
      "text/plain": [
       "tensor([ 4,  5,  6,  7,  8,  9, 10, 11, 12])"
      ]
     },
     "execution_count": 13,
     "metadata": {},
     "output_type": "execute_result"
    }
   ],
   "source": [
    "torch.add(nums,4)"
   ]
  },
  {
   "cell_type": "markdown",
   "metadata": {},
   "source": [
    "### View \n",
    "- reshape랑 똑같음"
   ]
  },
  {
   "cell_type": "code",
   "execution_count": 14,
   "metadata": {},
   "outputs": [],
   "source": [
    "range_nums = torch.arange(9).reshape(3,3)"
   ]
  },
  {
   "cell_type": "code",
   "execution_count": 15,
   "metadata": {},
   "outputs": [
    {
     "data": {
      "text/plain": [
       "tensor([[0, 1, 2],\n",
       "        [3, 4, 5],\n",
       "        [6, 7, 8]])"
      ]
     },
     "execution_count": 15,
     "metadata": {},
     "output_type": "execute_result"
    }
   ],
   "source": [
    "range_nums"
   ]
  },
  {
   "cell_type": "code",
   "execution_count": 16,
   "metadata": {},
   "outputs": [
    {
     "data": {
      "text/plain": [
       "tensor([[0, 1, 2, 3, 4, 5, 6, 7, 8]])"
      ]
     },
     "execution_count": 16,
     "metadata": {},
     "output_type": "execute_result"
    }
   ],
   "source": [
    "range_nums.view(1,9)"
   ]
  },
  {
   "cell_type": "markdown",
   "metadata": {},
   "source": [
    "## Slice and Index"
   ]
  },
  {
   "cell_type": "code",
   "execution_count": 17,
   "metadata": {},
   "outputs": [
    {
     "data": {
      "text/plain": [
       "tensor([[0, 1, 2],\n",
       "        [3, 4, 5],\n",
       "        [6, 7, 8]])"
      ]
     },
     "execution_count": 17,
     "metadata": {},
     "output_type": "execute_result"
    }
   ],
   "source": [
    "nums = nums.view(3,3)\n",
    "nums"
   ]
  },
  {
   "cell_type": "code",
   "execution_count": 18,
   "metadata": {},
   "outputs": [
    {
     "data": {
      "text/plain": [
       "tensor([3, 4, 5])"
      ]
     },
     "execution_count": 18,
     "metadata": {},
     "output_type": "execute_result"
    }
   ],
   "source": [
    "nums[1]"
   ]
  },
  {
   "cell_type": "code",
   "execution_count": 19,
   "metadata": {},
   "outputs": [
    {
     "data": {
      "text/plain": [
       "tensor(4)"
      ]
     },
     "execution_count": 19,
     "metadata": {},
     "output_type": "execute_result"
    }
   ],
   "source": [
    "nums[1,1]"
   ]
  },
  {
   "cell_type": "code",
   "execution_count": 20,
   "metadata": {},
   "outputs": [
    {
     "data": {
      "text/plain": [
       "tensor([[4, 5],\n",
       "        [7, 8]])"
      ]
     },
     "execution_count": 20,
     "metadata": {},
     "output_type": "execute_result"
    }
   ],
   "source": [
    "nums[1:,1:]"
   ]
  },
  {
   "cell_type": "code",
   "execution_count": 21,
   "metadata": {},
   "outputs": [
    {
     "data": {
      "text/plain": [
       "tensor([[3, 4, 5],\n",
       "        [6, 7, 8]])"
      ]
     },
     "execution_count": 21,
     "metadata": {},
     "output_type": "execute_result"
    }
   ],
   "source": [
    "nums[1:,]"
   ]
  },
  {
   "cell_type": "markdown",
   "metadata": {},
   "source": [
    "## Compile\n",
    "\n",
    "numpy를 torch tensor로 불러오기"
   ]
  },
  {
   "cell_type": "code",
   "execution_count": 22,
   "metadata": {},
   "outputs": [],
   "source": [
    "arr = np.array([1,1,1])"
   ]
  },
  {
   "cell_type": "code",
   "execution_count": 23,
   "metadata": {},
   "outputs": [],
   "source": [
    "arr_torch = torch.from_numpy(arr)"
   ]
  },
  {
   "cell_type": "code",
   "execution_count": 24,
   "metadata": {},
   "outputs": [
    {
     "data": {
      "text/plain": [
       "tensor([1, 1, 1])"
      ]
     },
     "execution_count": 24,
     "metadata": {},
     "output_type": "execute_result"
    }
   ],
   "source": [
    "arr_torch"
   ]
  },
  {
   "cell_type": "markdown",
   "metadata": {},
   "source": [
    "타입 바꾸기"
   ]
  },
  {
   "cell_type": "code",
   "execution_count": 25,
   "metadata": {},
   "outputs": [
    {
     "data": {
      "text/plain": [
       "tensor([1., 1., 1.])"
      ]
     },
     "execution_count": 25,
     "metadata": {},
     "output_type": "execute_result"
    }
   ],
   "source": [
    "arr_torch.float()"
   ]
  },
  {
   "cell_type": "code",
   "execution_count": 26,
   "metadata": {},
   "outputs": [
    {
     "data": {
      "text/plain": [
       "tensor([1, 1, 1], dtype=torch.int32)"
      ]
     },
     "execution_count": 26,
     "metadata": {},
     "output_type": "execute_result"
    }
   ],
   "source": [
    "arr_torch.int()"
   ]
  },
  {
   "cell_type": "code",
   "execution_count": 27,
   "metadata": {},
   "outputs": [
    {
     "data": {
      "text/plain": [
       "tensor([1., 1., 1.], dtype=torch.float64)"
      ]
     },
     "execution_count": 27,
     "metadata": {},
     "output_type": "execute_result"
    }
   ],
   "source": [
    "arr_torch.double()"
   ]
  },
  {
   "cell_type": "markdown",
   "metadata": {},
   "source": [
    "## cuda\n",
    "- gpu을 쓸지 cpu를 쓸지 결정 함\n",
    "- NVIDIA에서 계발에서 NVIDIA 그래픽 카드가 있어야 gpu 사용가능\n",
    "- Mac은 사용 못함(라이젠 사용)\n"
   ]
  },
  {
   "cell_type": "code",
   "execution_count": 28,
   "metadata": {},
   "outputs": [],
   "source": [
    "device = 'cuda' if torch.cuda.is_available() else 'cpu'"
   ]
  },
  {
   "cell_type": "code",
   "execution_count": 29,
   "metadata": {},
   "outputs": [
    {
     "data": {
      "text/plain": [
       "'cpu'"
      ]
     },
     "execution_count": 29,
     "metadata": {},
     "output_type": "execute_result"
    }
   ],
   "source": [
    "device"
   ]
  },
  {
   "cell_type": "code",
   "execution_count": 30,
   "metadata": {},
   "outputs": [
    {
     "data": {
      "text/plain": [
       "False"
      ]
     },
     "execution_count": 30,
     "metadata": {},
     "output_type": "execute_result"
    }
   ],
   "source": [
    "torch.cuda.is_available()"
   ]
  },
  {
   "cell_type": "code",
   "execution_count": 31,
   "metadata": {},
   "outputs": [],
   "source": [
    "if torch.cuda.is_available():\n",
    "    device = torch.device(\"cuda\")          # CUDA 장치 객체(device object)로\n",
    "    y = torch.ones_like(x, device=device)  # GPU 상에 직접적으로 tensor를 생성하거나\n",
    "    x = x.to(device)                       # ``.to(\"cuda\")`` 를 사용하면 됩니다.\n",
    "    z = x + y\n",
    "    print(z)\n",
    "    print(z.to(\"cpu\", torch.double))       # ``.to`` 는 dtype도 함께 변경합니다!"
   ]
  },
  {
   "cell_type": "markdown",
   "metadata": {},
   "source": [
    "## AutoGrad\n",
    "- autograd 패키지는 Tensor의 모든 연산에 대해 자동 미분을 제공.(순전파,역전파)\n",
    "- backward() : 역전파 실행(단 결과 값이 스칼라이어야 가능)\n",
    "- tensor 만들시 반드시 **requires_grad**를 활성화 해주어야 AutoGrad가 가능해진다.\n",
    "- 참조 https://9bow.github.io/PyTorch-tutorials-kr-0.3.1/beginner/blitz/autograd_tutorial.html \n",
    "\n",
    "![](https://9bow.github.io/PyTorch-tutorials-kr-0.3.1/_images/Variable.png)\n",
    "- 활성화 된 변수는 data, grad, grad_fn 속성 값을 지님 "
   ]
  },
  {
   "cell_type": "code",
   "execution_count": 32,
   "metadata": {},
   "outputs": [
    {
     "name": "stdout",
     "output_type": "stream",
     "text": [
      "tensor([[1., 1.],\n",
      "        [1., 1.]], requires_grad=True)\n"
     ]
    }
   ],
   "source": [
    "x = torch.ones(2,2,requires_grad=True)\n",
    "print(x)"
   ]
  },
  {
   "cell_type": "code",
   "execution_count": 33,
   "metadata": {},
   "outputs": [
    {
     "name": "stdout",
     "output_type": "stream",
     "text": [
      "x.data: x의 값\n",
      "x.grad:AutoGrad되었을때 결과값에 영향을 준 x의 기울기 값\n"
     ]
    }
   ],
   "source": [
    "print(\"x.data: x의 값\")\n",
    "print(\"x.grad:AutoGrad되었을때 결과값에 영향을 준 x의 기울기 값\")"
   ]
  },
  {
   "cell_type": "code",
   "execution_count": 34,
   "metadata": {},
   "outputs": [
    {
     "name": "stdout",
     "output_type": "stream",
     "text": [
      "tensor([[3., 3.],\n",
      "        [3., 3.]], grad_fn=<AddBackward0>)\n"
     ]
    }
   ],
   "source": [
    "y = x + 2\n",
    "print(y)"
   ]
  },
  {
   "cell_type": "code",
   "execution_count": 35,
   "metadata": {},
   "outputs": [
    {
     "name": "stdout",
     "output_type": "stream",
     "text": [
      "y.grad_fn: y가 x어떤 계산을 했는지 나타낸 기울기를 반영\n",
      "<AddBackward0 object at 0x12c28f7b8>\n"
     ]
    }
   ],
   "source": [
    "print(\"y.grad_fn: y가 x어떤 계산을 했는지 나타낸 기울기를 반영\")\n",
    "print(y.grad_fn)"
   ]
  },
  {
   "cell_type": "code",
   "execution_count": 36,
   "metadata": {},
   "outputs": [],
   "source": [
    "z = 3 * y*y\n",
    "out = z.mean()"
   ]
  },
  {
   "cell_type": "code",
   "execution_count": 37,
   "metadata": {},
   "outputs": [
    {
     "name": "stdout",
     "output_type": "stream",
     "text": [
      "tensor([[27., 27.],\n",
      "        [27., 27.]], grad_fn=<MulBackward0>) tensor(27., grad_fn=<MeanBackward0>)\n"
     ]
    }
   ],
   "source": [
    "print(z,out)"
   ]
  },
  {
   "cell_type": "code",
   "execution_count": 38,
   "metadata": {},
   "outputs": [],
   "source": [
    "n = out.detach()"
   ]
  },
  {
   "cell_type": "code",
   "execution_count": 39,
   "metadata": {},
   "outputs": [
    {
     "data": {
      "text/plain": [
       "array(27., dtype=float32)"
      ]
     },
     "execution_count": 39,
     "metadata": {},
     "output_type": "execute_result"
    }
   ],
   "source": [
    "n.numpy()"
   ]
  },
  {
   "cell_type": "code",
   "execution_count": 40,
   "metadata": {},
   "outputs": [],
   "source": [
    "out.backward()"
   ]
  },
  {
   "cell_type": "code",
   "execution_count": 41,
   "metadata": {},
   "outputs": [
    {
     "name": "stdout",
     "output_type": "stream",
     "text": [
      "tensor([[4.5000, 4.5000],\n",
      "        [4.5000, 4.5000]])\n"
     ]
    }
   ],
   "source": [
    "print(x.grad)"
   ]
  },
  {
   "cell_type": "markdown",
   "metadata": {},
   "source": [
    "## Deep Learning\n",
    "![](https://heung-bae-lee.github.io/image/why_deeplearning_is_so_special.png)"
   ]
  },
  {
   "cell_type": "markdown",
   "metadata": {},
   "source": [
    "# Data Preprocess\n",
    "\n",
    "\n",
    "## torchvision\n",
    "- 컴퓨터 비전에 관련된 메소드들을 제공"
   ]
  },
  {
   "cell_type": "code",
   "execution_count": 42,
   "metadata": {},
   "outputs": [],
   "source": [
    "from torchvision import datasets, transforms"
   ]
  },
  {
   "cell_type": "markdown",
   "metadata": {},
   "source": [
    "## Data Loader 부르기\n",
    "- 파이토치는 DataLoader를 불러 model에 넣음"
   ]
  },
  {
   "cell_type": "code",
   "execution_count": 43,
   "metadata": {},
   "outputs": [],
   "source": [
    "batch_size = 32\n",
    "test_bathc_size = 32"
   ]
  },
  {
   "cell_type": "code",
   "execution_count": 44,
   "metadata": {},
   "outputs": [],
   "source": [
    "train_loader = torch.utils.data.DataLoader(\n",
    "    datasets.MNIST('dataset/',train=True,download=True,\n",
    "                   transform=transforms.Compose([\n",
    "                       transforms.ToTensor(),\n",
    "                       transforms.Normalize(mean=(0.5,),std=(0.5,))\n",
    "                   ])),\n",
    "    batch_size=batch_size)"
   ]
  },
  {
   "cell_type": "code",
   "execution_count": 45,
   "metadata": {},
   "outputs": [],
   "source": [
    "test_loader = torch.utils.data.DataLoader(\n",
    "    datasets.MNIST('dataset',train=False,download=True,\n",
    "                  transform=transforms.Compose([\n",
    "                      transforms.ToTensor,\n",
    "                      transforms.Normalize((0.5,),(0.5,))\n",
    "                  ])),\n",
    "    batch_size=batch_size,\n",
    "    shuffle=True)"
   ]
  },
  {
   "cell_type": "code",
   "execution_count": 46,
   "metadata": {},
   "outputs": [],
   "source": [
    "images,labels = next(iter(train_loader))"
   ]
  },
  {
   "cell_type": "markdown",
   "metadata": {},
   "source": [
    "## iter, next 함수 \n",
    "- iter(반복 가능한 객체) or (반복 가능한 객체, 반복을 끝낼값)"
   ]
  },
  {
   "cell_type": "code",
   "execution_count": 47,
   "metadata": {},
   "outputs": [
    {
     "name": "stdout",
     "output_type": "stream",
     "text": [
      "<range_iterator object at 0x12c759150>\n",
      "0\n",
      "<range_iterator object at 0x12c759150>\n",
      "1\n",
      "<range_iterator object at 0x12c759150>\n",
      "2\n"
     ]
    },
    {
     "data": {
      "text/plain": [
       "10"
      ]
     },
     "execution_count": 47,
     "metadata": {},
     "output_type": "execute_result"
    }
   ],
   "source": [
    "it = iter(range(3))\n",
    "for i in range(3):\n",
    "    print(it)\n",
    "    print(next(it))\n",
    "    \n",
    "next(it,10)"
   ]
  },
  {
   "cell_type": "code",
   "execution_count": 48,
   "metadata": {},
   "outputs": [
    {
     "name": "stdout",
     "output_type": "stream",
     "text": [
      "0\n",
      "1\n",
      "2\n"
     ]
    }
   ],
   "source": [
    "it = iter(range(3))\n",
    "print(next(it))\n",
    "print(next(it))\n",
    "print(next(it))"
   ]
  },
  {
   "cell_type": "code",
   "execution_count": 49,
   "metadata": {},
   "outputs": [],
   "source": [
    "import random"
   ]
  },
  {
   "cell_type": "code",
   "execution_count": 50,
   "metadata": {},
   "outputs": [],
   "source": [
    "random_image = images[random.randint(0,32)].reshape([28,28])\n",
    "random_image = random_image.numpy()"
   ]
  },
  {
   "cell_type": "code",
   "execution_count": 51,
   "metadata": {},
   "outputs": [
    {
     "name": "stdout",
     "output_type": "stream",
     "text": [
      "(28, 28)\n"
     ]
    }
   ],
   "source": [
    "print(random_image.shape)"
   ]
  },
  {
   "cell_type": "code",
   "execution_count": 52,
   "metadata": {},
   "outputs": [
    {
     "data": {
      "text/plain": [
       "array([[-1.        , -1.        , -1.        , -1.        , -1.        ,\n",
       "        -1.        , -1.        , -1.        , -1.        , -1.        ,\n",
       "        -1.        , -1.        , -1.        , -1.        , -1.        ,\n",
       "        -1.        , -1.        , -1.        , -1.        , -1.        ,\n",
       "        -1.        , -1.        , -1.        , -1.        , -1.        ,\n",
       "        -1.        , -1.        , -1.        ],\n",
       "       [-1.        , -1.        , -1.        , -1.        , -1.        ,\n",
       "        -1.        , -1.        , -1.        , -1.        , -1.        ,\n",
       "        -1.        , -1.        , -1.        , -1.        , -1.        ,\n",
       "        -1.        , -1.        , -1.        , -1.        , -1.        ,\n",
       "        -1.        , -1.        , -1.        , -1.        , -1.        ,\n",
       "        -1.        , -1.        , -1.        ],\n",
       "       [-1.        , -1.        , -1.        , -1.        , -1.        ,\n",
       "        -1.        , -1.        , -1.        , -1.        , -1.        ,\n",
       "        -1.        , -1.        , -1.        , -1.        , -1.        ,\n",
       "        -1.        , -1.        , -1.        , -1.        , -1.        ,\n",
       "        -1.        , -1.        , -1.        , -1.        , -1.        ,\n",
       "        -1.        , -1.        , -1.        ],\n",
       "       [-1.        , -1.        , -1.        , -1.        , -1.        ,\n",
       "        -1.        , -1.        , -1.        , -1.        , -1.        ,\n",
       "        -1.        , -1.        , -1.        , -1.        , -1.        ,\n",
       "        -1.        , -1.        , -1.        , -1.        , -1.        ,\n",
       "        -1.        , -1.        , -1.        , -1.        , -1.        ,\n",
       "        -1.        , -1.        , -1.        ],\n",
       "       [-1.        , -1.        , -1.        , -1.        , -1.        ,\n",
       "        -1.        , -1.        , -1.        , -1.        , -1.        ,\n",
       "        -1.        , -1.        , -1.        , -1.        , -1.        ,\n",
       "        -1.        , -1.        , -1.        , -1.        , -1.        ,\n",
       "        -1.        , -1.        , -1.        , -1.        , -1.        ,\n",
       "        -1.        , -1.        , -1.        ],\n",
       "       [-1.        , -1.        , -1.        , -1.        , -1.        ,\n",
       "        -0.372549  ,  0.48235297,  0.99215686,  1.        ,  0.99215686,\n",
       "         0.99215686,  0.99215686,  0.36470592, -0.20784312, -0.75686276,\n",
       "        -0.60784316, -0.90588236, -1.        , -1.        , -1.        ,\n",
       "        -1.        , -1.        , -1.        , -1.        , -1.        ,\n",
       "        -1.        , -1.        , -1.        ],\n",
       "       [-1.        , -1.        , -1.        , -1.        , -0.372549  ,\n",
       "         0.8980392 ,  0.9843137 ,  0.9843137 ,  0.9843137 ,  0.9843137 ,\n",
       "         0.9843137 ,  0.9843137 ,  0.9843137 ,  0.9843137 ,  0.69411767,\n",
       "         0.77254903,  0.6156863 ,  0.5686275 ,  0.5686275 , -0.54509807,\n",
       "        -1.        , -1.        , -1.        , -1.        , -1.        ,\n",
       "        -1.        , -1.        , -1.        ],\n",
       "       [-1.        , -1.        , -1.        , -1.        , -0.20784312,\n",
       "         0.9843137 ,  0.9843137 ,  0.9843137 ,  0.9843137 ,  0.9843137 ,\n",
       "         0.9843137 ,  0.9843137 ,  0.9843137 ,  0.9843137 ,  0.9843137 ,\n",
       "         0.9843137 ,  0.9843137 ,  0.9843137 ,  0.9843137 ,  0.78039217,\n",
       "        -0.58431375, -1.        , -1.        , -1.        , -1.        ,\n",
       "        -1.        , -1.        , -1.        ],\n",
       "       [-1.        , -1.        , -1.        , -1.        ,  0.96862745,\n",
       "         0.9843137 ,  0.9843137 ,  0.9843137 ,  0.9843137 ,  0.9843137 ,\n",
       "         0.9843137 ,  0.9843137 ,  0.9843137 ,  0.9843137 ,  0.9843137 ,\n",
       "         0.9843137 ,  0.9843137 ,  0.9843137 ,  0.9843137 ,  0.9843137 ,\n",
       "         0.9529412 ,  0.41960788, -0.8666667 , -1.        , -1.        ,\n",
       "        -1.        , -1.        , -1.        ],\n",
       "       [-1.        , -1.        , -1.        , -1.        , -0.04313725,\n",
       "         0.6784314 ,  0.6784314 ,  0.23921573, -0.52156866, -0.52156866,\n",
       "        -0.11372548,  0.6784314 ,  0.6784314 ,  0.9607843 ,  0.9843137 ,\n",
       "         0.9843137 ,  0.9843137 ,  0.9843137 ,  0.9843137 ,  0.9843137 ,\n",
       "         0.9843137 ,  0.9843137 , -0.64705884, -1.        , -1.        ,\n",
       "        -1.        , -1.        , -1.        ],\n",
       "       [-1.        , -1.        , -1.        , -1.        , -1.        ,\n",
       "        -1.        , -1.        , -1.        , -1.        , -1.        ,\n",
       "        -1.        , -1.        , -1.        , -0.17647058, -0.09803921,\n",
       "        -0.09803921,  0.85882354,  0.9843137 ,  0.9843137 ,  0.9843137 ,\n",
       "         0.9843137 ,  0.9843137 ,  0.01176476, -1.        , -1.        ,\n",
       "        -1.        , -1.        , -1.        ],\n",
       "       [-1.        , -1.        , -1.        , -1.        , -1.        ,\n",
       "        -1.        , -1.        , -1.        , -1.        , -1.        ,\n",
       "        -1.        , -1.        , -1.        , -1.        , -1.        ,\n",
       "        -1.        , -0.8980392 , -0.8117647 ,  0.3176471 ,  0.8901961 ,\n",
       "         0.9843137 ,  0.9843137 ,  0.56078434, -1.        , -1.        ,\n",
       "        -1.        , -1.        , -1.        ],\n",
       "       [-1.        , -1.        , -1.        , -1.        , -1.        ,\n",
       "        -1.        , -1.        , -1.        , -1.        , -1.        ,\n",
       "        -1.        , -1.        , -1.        , -1.        , -1.        ,\n",
       "        -1.        , -1.        , -0.9843137 , -0.19999999,  0.90588236,\n",
       "         0.9843137 ,  0.9843137 , -0.31764704, -1.        , -1.        ,\n",
       "        -1.        , -1.        , -1.        ],\n",
       "       [-1.        , -1.        , -1.        , -1.        , -1.        ,\n",
       "        -1.        , -1.        , -1.        , -1.        , -1.        ,\n",
       "        -1.        , -1.        , -1.        , -1.        , -1.        ,\n",
       "        -1.        , -1.        , -0.8745098 ,  0.9843137 ,  0.9843137 ,\n",
       "         0.9843137 ,  0.54509807, -0.827451  , -1.        , -1.        ,\n",
       "        -1.        , -1.        , -1.        ],\n",
       "       [-1.        , -1.        , -1.        , -1.        , -1.        ,\n",
       "        -1.        , -1.        , -1.        , -1.        , -1.        ,\n",
       "        -1.        , -1.        , -1.        , -1.        , -1.        ,\n",
       "        -1.        , -0.827451  ,  0.427451  ,  0.9843137 ,  0.9843137 ,\n",
       "         0.96862745, -0.20784312, -1.        , -1.        , -1.        ,\n",
       "        -1.        , -1.        , -1.        ],\n",
       "       [-1.        , -1.        , -1.        , -1.        , -1.        ,\n",
       "        -1.        , -1.        , -1.        , -1.        , -1.        ,\n",
       "        -1.        , -1.        , -1.        , -1.        , -0.9764706 ,\n",
       "        -0.2235294 ,  0.5529412 ,  0.9843137 ,  0.9843137 ,  0.9372549 ,\n",
       "         0.01176476, -1.        , -1.        , -1.        , -1.        ,\n",
       "        -1.        , -1.        , -1.        ],\n",
       "       [-1.        , -1.        , -1.        , -1.        , -1.        ,\n",
       "        -1.        , -1.        , -1.        , -1.        , -1.        ,\n",
       "        -1.        , -1.        , -1.        , -1.        , -0.2235294 ,\n",
       "         0.9843137 ,  0.9843137 ,  0.9843137 ,  0.9843137 ,  0.49803925,\n",
       "        -1.        , -1.        , -1.        , -1.        , -1.        ,\n",
       "        -1.        , -1.        , -1.        ],\n",
       "       [-1.        , -1.        , -1.        , -1.        , -1.        ,\n",
       "        -1.        , -1.        , -1.        , -1.        , -1.        ,\n",
       "        -1.        , -1.        , -0.08235294,  0.75686276,  0.9137255 ,\n",
       "         0.9843137 ,  0.9843137 ,  0.8745098 , -0.7647059 , -0.81960785,\n",
       "        -1.        , -1.        , -1.        , -1.        , -1.        ,\n",
       "        -1.        , -1.        , -1.        ],\n",
       "       [-1.        , -1.        , -1.        , -1.        , -1.        ,\n",
       "        -1.        , -1.        , -1.        , -1.        , -1.        ,\n",
       "        -0.54509807,  0.32549024,  0.67058825,  0.9843137 ,  0.9843137 ,\n",
       "         0.9843137 ,  0.54509807, -0.38039213, -1.        , -1.        ,\n",
       "        -1.        , -1.        , -1.        , -1.        , -1.        ,\n",
       "        -1.        , -1.        , -1.        ],\n",
       "       [-1.        , -1.        , -1.        , -1.        , -1.        ,\n",
       "        -1.        , -1.        , -1.        , -1.        , -1.        ,\n",
       "        -0.32549018,  0.9843137 ,  0.9843137 ,  0.9843137 ,  0.8980392 ,\n",
       "         0.07450986, -0.8745098 , -1.        , -1.        , -1.        ,\n",
       "        -1.        , -1.        , -1.        , -1.        , -1.        ,\n",
       "        -1.        , -1.        , -1.        ],\n",
       "       [-1.        , -1.        , -1.        , -1.        , -1.        ,\n",
       "        -1.        , -1.        , -1.        , -1.        , -1.        ,\n",
       "         0.69411767,  0.9843137 ,  0.9843137 ,  0.9843137 ,  0.10588241,\n",
       "        -0.5137255 , -0.9372549 , -1.        , -1.        , -1.        ,\n",
       "        -1.        , -1.        , -1.        , -1.        , -1.        ,\n",
       "        -1.        , -1.        , -1.        ],\n",
       "       [-1.        , -1.        , -1.        , -1.        , -1.        ,\n",
       "        -1.        , -1.        , -1.        , -1.        , -0.9607843 ,\n",
       "         0.8745098 ,  0.9843137 ,  0.9843137 ,  0.9843137 ,  0.9843137 ,\n",
       "         0.9843137 ,  0.34901965,  0.27058828,  0.27058828,  0.27058828,\n",
       "        -0.4980392 , -0.9372549 , -0.94509804, -1.        , -1.        ,\n",
       "        -1.        , -1.        , -1.        ],\n",
       "       [-1.        , -1.        , -1.        , -1.        , -1.        ,\n",
       "        -1.        , -1.        , -1.        , -1.        , -0.372549  ,\n",
       "         0.9372549 ,  0.9843137 ,  0.9843137 ,  0.9843137 ,  0.9843137 ,\n",
       "         0.9843137 ,  0.9843137 ,  0.9843137 ,  0.9843137 ,  0.9843137 ,\n",
       "         0.9843137 ,  0.9843137 ,  0.56078434, -0.4823529 , -1.        ,\n",
       "        -1.        , -1.        , -1.        ],\n",
       "       [-1.        , -1.        , -1.        , -1.        , -1.        ,\n",
       "        -1.        , -1.        , -1.        , -1.        , -1.        ,\n",
       "        -0.25490195,  0.56078434,  0.78039217,  0.9843137 ,  0.9843137 ,\n",
       "         0.9843137 ,  0.9843137 ,  0.9843137 ,  0.9843137 ,  0.9843137 ,\n",
       "         0.7254902 ,  0.8039216 ,  0.5764706 ,  0.84313726, -1.        ,\n",
       "        -1.        , -1.        , -1.        ],\n",
       "       [-1.        , -1.        , -1.        , -1.        , -1.        ,\n",
       "        -1.        , -1.        , -1.        , -1.        , -1.        ,\n",
       "        -1.        , -1.        , -0.5921569 , -0.2235294 , -0.2235294 ,\n",
       "         0.36470592,  0.9843137 ,  0.9843137 ,  0.9843137 , -0.04313725,\n",
       "        -0.69411767, -0.5529412 , -0.827451  , -0.2235294 , -1.        ,\n",
       "        -1.        , -1.        , -1.        ],\n",
       "       [-1.        , -1.        , -1.        , -1.        , -1.        ,\n",
       "        -1.        , -1.        , -1.        , -1.        , -1.        ,\n",
       "        -1.        , -1.        , -1.        , -1.        , -1.        ,\n",
       "        -1.        , -1.        , -1.        , -1.        , -1.        ,\n",
       "        -1.        , -1.        , -1.        , -1.        , -1.        ,\n",
       "        -1.        , -1.        , -1.        ],\n",
       "       [-1.        , -1.        , -1.        , -1.        , -1.        ,\n",
       "        -1.        , -1.        , -1.        , -1.        , -1.        ,\n",
       "        -1.        , -1.        , -1.        , -1.        , -1.        ,\n",
       "        -1.        , -1.        , -1.        , -1.        , -1.        ,\n",
       "        -1.        , -1.        , -1.        , -1.        , -1.        ,\n",
       "        -1.        , -1.        , -1.        ],\n",
       "       [-1.        , -1.        , -1.        , -1.        , -1.        ,\n",
       "        -1.        , -1.        , -1.        , -1.        , -1.        ,\n",
       "        -1.        , -1.        , -1.        , -1.        , -1.        ,\n",
       "        -1.        , -1.        , -1.        , -1.        , -1.        ,\n",
       "        -1.        , -1.        , -1.        , -1.        , -1.        ,\n",
       "        -1.        , -1.        , -1.        ]], dtype=float32)"
      ]
     },
     "execution_count": 52,
     "metadata": {},
     "output_type": "execute_result"
    }
   ],
   "source": [
    "random_image"
   ]
  },
  {
   "cell_type": "code",
   "execution_count": 53,
   "metadata": {},
   "outputs": [
    {
     "data": {
      "text/plain": [
       "<matplotlib.image.AxesImage at 0x12c7117f0>"
      ]
     },
     "execution_count": 53,
     "metadata": {},
     "output_type": "execute_result"
    },
    {
     "data": {
      "image/png": "[encoded data removed]",
      "text/plain": [
       "<Figure size 432x288 with 1 Axes>"
      ]
     },
     "metadata": {
      "needs_background": "light"
     },
     "output_type": "display_data"
    }
   ],
   "source": [
    "plt.imshow(random_image)"
   ]
  },
  {
   "cell_type": "markdown",
   "metadata": {},
   "source": [
    "## 음영이 없고 오로지 형태만 있는 이미지 만들기"
   ]
  },
  {
   "cell_type": "code",
   "execution_count": 54,
   "metadata": {},
   "outputs": [],
   "source": [
    "n = random_image.ravel()\n",
    "for i in range(len(n)):\n",
    "    if n[i]>0:\n",
    "        n[i] = 1\n",
    "    if n[i]<0:\n",
    "        n[i]=0"
   ]
  },
  {
   "cell_type": "code",
   "execution_count": 55,
   "metadata": {},
   "outputs": [
    {
     "data": {
      "text/plain": [
       "array([[0., 0., 0., 0., 0., 0., 0., 0., 0., 0., 0., 0., 0., 0., 0., 0.,\n",
       "        0., 0., 0., 0., 0., 0., 0., 0., 0., 0., 0., 0.],\n",
       "       [0., 0., 0., 0., 0., 0., 0., 0., 0., 0., 0., 0., 0., 0., 0., 0.,\n",
       "        0., 0., 0., 0., 0., 0., 0., 0., 0., 0., 0., 0.],\n",
       "       [0., 0., 0., 0., 0., 0., 0., 0., 0., 0., 0., 0., 0., 0., 0., 0.,\n",
       "        0., 0., 0., 0., 0., 0., 0., 0., 0., 0., 0., 0.],\n",
       "       [0., 0., 0., 0., 0., 0., 0., 0., 0., 0., 0., 0., 0., 0., 0., 0.,\n",
       "        0., 0., 0., 0., 0., 0., 0., 0., 0., 0., 0., 0.],\n",
       "       [0., 0., 0., 0., 0., 0., 0., 0., 0., 0., 0., 0., 0., 0., 0., 0.,\n",
       "        0., 0., 0., 0., 0., 0., 0., 0., 0., 0., 0., 0.],\n",
       "       [0., 0., 0., 0., 0., 0., 1., 1., 1., 1., 1., 1., 1., 0., 0., 0.,\n",
       "        0., 0., 0., 0., 0., 0., 0., 0., 0., 0., 0., 0.],\n",
       "       [0., 0., 0., 0., 0., 1., 1., 1., 1., 1., 1., 1., 1., 1., 1., 1.,\n",
       "        1., 1., 1., 0., 0., 0., 0., 0., 0., 0., 0., 0.],\n",
       "       [0., 0., 0., 0., 0., 1., 1., 1., 1., 1., 1., 1., 1., 1., 1., 1.,\n",
       "        1., 1., 1., 1., 0., 0., 0., 0., 0., 0., 0., 0.],\n",
       "       [0., 0., 0., 0., 1., 1., 1., 1., 1., 1., 1., 1., 1., 1., 1., 1.,\n",
       "        1., 1., 1., 1., 1., 1., 0., 0., 0., 0., 0., 0.],\n",
       "       [0., 0., 0., 0., 0., 1., 1., 1., 0., 0., 0., 1., 1., 1., 1., 1.,\n",
       "        1., 1., 1., 1., 1., 1., 0., 0., 0., 0., 0., 0.],\n",
       "       [0., 0., 0., 0., 0., 0., 0., 0., 0., 0., 0., 0., 0., 0., 0., 0.,\n",
       "        1., 1., 1., 1., 1., 1., 1., 0., 0., 0., 0., 0.],\n",
       "       [0., 0., 0., 0., 0., 0., 0., 0., 0., 0., 0., 0., 0., 0., 0., 0.,\n",
       "        0., 0., 1., 1., 1., 1., 1., 0., 0., 0., 0., 0.],\n",
       "       [0., 0., 0., 0., 0., 0., 0., 0., 0., 0., 0., 0., 0., 0., 0., 0.,\n",
       "        0., 0., 0., 1., 1., 1., 0., 0., 0., 0., 0., 0.],\n",
       "       [0., 0., 0., 0., 0., 0., 0., 0., 0., 0., 0., 0., 0., 0., 0., 0.,\n",
       "        0., 0., 1., 1., 1., 1., 0., 0., 0., 0., 0., 0.],\n",
       "       [0., 0., 0., 0., 0., 0., 0., 0., 0., 0., 0., 0., 0., 0., 0., 0.,\n",
       "        0., 1., 1., 1., 1., 0., 0., 0., 0., 0., 0., 0.],\n",
       "       [0., 0., 0., 0., 0., 0., 0., 0., 0., 0., 0., 0., 0., 0., 0., 0.,\n",
       "        1., 1., 1., 1., 1., 0., 0., 0., 0., 0., 0., 0.],\n",
       "       [0., 0., 0., 0., 0., 0., 0., 0., 0., 0., 0., 0., 0., 0., 0., 1.,\n",
       "        1., 1., 1., 1., 0., 0., 0., 0., 0., 0., 0., 0.],\n",
       "       [0., 0., 0., 0., 0., 0., 0., 0., 0., 0., 0., 0., 0., 1., 1., 1.,\n",
       "        1., 1., 0., 0., 0., 0., 0., 0., 0., 0., 0., 0.],\n",
       "       [0., 0., 0., 0., 0., 0., 0., 0., 0., 0., 0., 1., 1., 1., 1., 1.,\n",
       "        1., 0., 0., 0., 0., 0., 0., 0., 0., 0., 0., 0.],\n",
       "       [0., 0., 0., 0., 0., 0., 0., 0., 0., 0., 0., 1., 1., 1., 1., 1.,\n",
       "        0., 0., 0., 0., 0., 0., 0., 0., 0., 0., 0., 0.],\n",
       "       [0., 0., 0., 0., 0., 0., 0., 0., 0., 0., 1., 1., 1., 1., 1., 0.,\n",
       "        0., 0., 0., 0., 0., 0., 0., 0., 0., 0., 0., 0.],\n",
       "       [0., 0., 0., 0., 0., 0., 0., 0., 0., 0., 1., 1., 1., 1., 1., 1.,\n",
       "        1., 1., 1., 1., 0., 0., 0., 0., 0., 0., 0., 0.],\n",
       "       [0., 0., 0., 0., 0., 0., 0., 0., 0., 0., 1., 1., 1., 1., 1., 1.,\n",
       "        1., 1., 1., 1., 1., 1., 1., 0., 0., 0., 0., 0.],\n",
       "       [0., 0., 0., 0., 0., 0., 0., 0., 0., 0., 0., 1., 1., 1., 1., 1.,\n",
       "        1., 1., 1., 1., 1., 1., 1., 1., 0., 0., 0., 0.],\n",
       "       [0., 0., 0., 0., 0., 0., 0., 0., 0., 0., 0., 0., 0., 0., 0., 1.,\n",
       "        1., 1., 1., 0., 0., 0., 0., 0., 0., 0., 0., 0.],\n",
       "       [0., 0., 0., 0., 0., 0., 0., 0., 0., 0., 0., 0., 0., 0., 0., 0.,\n",
       "        0., 0., 0., 0., 0., 0., 0., 0., 0., 0., 0., 0.],\n",
       "       [0., 0., 0., 0., 0., 0., 0., 0., 0., 0., 0., 0., 0., 0., 0., 0.,\n",
       "        0., 0., 0., 0., 0., 0., 0., 0., 0., 0., 0., 0.],\n",
       "       [0., 0., 0., 0., 0., 0., 0., 0., 0., 0., 0., 0., 0., 0., 0., 0.,\n",
       "        0., 0., 0., 0., 0., 0., 0., 0., 0., 0., 0., 0.]], dtype=float32)"
      ]
     },
     "execution_count": 55,
     "metadata": {},
     "output_type": "execute_result"
    }
   ],
   "source": [
    "random_image"
   ]
  },
  {
   "cell_type": "code",
   "execution_count": 56,
   "metadata": {},
   "outputs": [
    {
     "data": {
      "text/plain": [
       "<matplotlib.image.AxesImage at 0x109cb76a0>"
      ]
     },
     "execution_count": 56,
     "metadata": {},
     "output_type": "execute_result"
    },
    {
     "data": {
      "image/png": "[encoded data removed]",
      "text/plain": [
       "<Figure size 432x288 with 1 Axes>"
      ]
     },
     "metadata": {
      "needs_background": "light"
     },
     "output_type": "display_data"
    }
   ],
   "source": [
    "plt.imshow(random_image)"
   ]
  },
  {
   "cell_type": "code",
   "execution_count": 57,
   "metadata": {
    "scrolled": true
   },
   "outputs": [
    {
     "data": {
      "text/plain": [
       "(array([622.,   0.,   0.,   0.,   0.,   0.,   0.,   0.,   0., 162.]),\n",
       " array([0. , 0.1, 0.2, 0.3, 0.4, 0.5, 0.6, 0.7, 0.8, 0.9, 1. ],\n",
       "       dtype=float32),\n",
       " <a list of 10 Patch objects>)"
      ]
     },
     "execution_count": 57,
     "metadata": {},
     "output_type": "execute_result"
    },
    {
     "data": {
      "image/png": "[encoded data removed]",
      "text/plain": [
       "<Figure size 432x288 with 1 Axes>"
      ]
     },
     "metadata": {
      "needs_background": "light"
     },
     "output_type": "display_data"
    }
   ],
   "source": [
    "plt.hist(n)"
   ]
  },
  {
   "cell_type": "code",
   "execution_count": 58,
   "metadata": {},
   "outputs": [
    {
     "data": {
      "text/plain": [
       "(array([4., 4., 3., 4., 4., 2., 2., 1., 3., 1., 1., 3., 1., 2., 3., 2., 6.,\n",
       "        4.]),\n",
       " array([-0.9, -0.8, -0.7, -0.6, -0.5, -0.4, -0.3, -0.2, -0.1,  0. ,  0.1,\n",
       "         0.2,  0.3,  0.4,  0.5,  0.6,  0.7,  0.8,  0.9], dtype=float32),\n",
       " <a list of 18 Patch objects>)"
      ]
     },
     "execution_count": 58,
     "metadata": {},
     "output_type": "execute_result"
    },
    {
     "data": {
      "image/png": "[encoded data removed]",
      "text/plain": [
       "<Figure size 1008x432 with 2 Axes>"
      ]
     },
     "metadata": {
      "needs_background": "light"
     },
     "output_type": "display_data"
    }
   ],
   "source": [
    "random_image = images[3].reshape([28,28])\n",
    "random_image = random_image.numpy()\n",
    "\n",
    "plt.figure(figsize=[14,6])\n",
    "plt.subplot(1,2,1)\n",
    "plt.imshow(random_image)\n",
    "plt.subplot(1,2,2)\n",
    "plt.hist(random_image.ravel(),18,[-0.9,0.9])"
   ]
  },
  {
   "cell_type": "code",
   "execution_count": 59,
   "metadata": {},
   "outputs": [
    {
     "data": {
      "text/plain": [
       "(array([1., 9., 1., 0., 5., 0., 0., 7., 2., 0., 5., 0., 3., 1., 0., 2., 2.,\n",
       "        1.]),\n",
       " array([-0.9, -0.8, -0.7, -0.6, -0.5, -0.4, -0.3, -0.2, -0.1,  0. ,  0.1,\n",
       "         0.2,  0.3,  0.4,  0.5,  0.6,  0.7,  0.8,  0.9], dtype=float32),\n",
       " <a list of 18 Patch objects>)"
      ]
     },
     "execution_count": 59,
     "metadata": {},
     "output_type": "execute_result"
    },
    {
     "data": {
      "image/png": "[encoded data removed]",
      "text/plain": [
       "<Figure size 1008x432 with 2 Axes>"
      ]
     },
     "metadata": {
      "needs_background": "light"
     },
     "output_type": "display_data"
    }
   ],
   "source": [
    "random_image = images[6].reshape([28,28])\n",
    "random_image = random_image.numpy()\n",
    "\n",
    "plt.figure(figsize=[14,6])\n",
    "plt.subplot(1,2,1)\n",
    "plt.imshow(random_image)\n",
    "plt.subplot(1,2,2)\n",
    "plt.hist(random_image.ravel(),18,[-0.9,0.9])"
   ]
  },
  {
   "cell_type": "code",
   "execution_count": 60,
   "metadata": {},
   "outputs": [
    {
     "data": {
      "text/plain": [
       "(array([7., 3., 3., 2., 0., 3., 0., 2., 0., 0., 7., 1., 5., 0., 1., 2., 0.,\n",
       "        7.]),\n",
       " array([-0.9, -0.8, -0.7, -0.6, -0.5, -0.4, -0.3, -0.2, -0.1,  0. ,  0.1,\n",
       "         0.2,  0.3,  0.4,  0.5,  0.6,  0.7,  0.8,  0.9], dtype=float32),\n",
       " <a list of 18 Patch objects>)"
      ]
     },
     "execution_count": 60,
     "metadata": {},
     "output_type": "execute_result"
    },
    {
     "data": {
      "image/png": "[encoded data removed]",
      "text/plain": [
       "<Figure size 1008x432 with 2 Axes>"
      ]
     },
     "metadata": {
      "needs_background": "light"
     },
     "output_type": "display_data"
    }
   ],
   "source": [
    "random_image = images[8].reshape([28,28])\n",
    "random_image = random_image.numpy()\n",
    "\n",
    "plt.figure(figsize=[14,6])\n",
    "plt.subplot(1,2,1)\n",
    "plt.imshow(random_image)\n",
    "plt.subplot(1,2,2)\n",
    "plt.hist(random_image.ravel(),18,[-0.9,0.9])"
   ]
  },
  {
   "cell_type": "code",
   "execution_count": 61,
   "metadata": {},
   "outputs": [
    {
     "data": {
      "text/plain": [
       "(array([ 5.,  5.,  4.,  9.,  0.,  7.,  7.,  3.,  1.,  3., 16.,  3.,  5.,\n",
       "         3.,  7.,  3.,  7.,  1.]),\n",
       " array([-0.9, -0.8, -0.7, -0.6, -0.5, -0.4, -0.3, -0.2, -0.1,  0. ,  0.1,\n",
       "         0.2,  0.3,  0.4,  0.5,  0.6,  0.7,  0.8,  0.9], dtype=float32),\n",
       " <a list of 18 Patch objects>)"
      ]
     },
     "execution_count": 61,
     "metadata": {},
     "output_type": "execute_result"
    },
    {
     "data": {
      "image/png": "[encoded data removed]",
      "text/plain": [
       "<Figure size 1008x432 with 2 Axes>"
      ]
     },
     "metadata": {
      "needs_background": "light"
     },
     "output_type": "display_data"
    }
   ],
   "source": [
    "random_image = images[30].reshape([28,28])\n",
    "random_image = random_image.numpy()\n",
    "\n",
    "plt.figure(figsize=[14,6])\n",
    "plt.subplot(1,2,1)\n",
    "plt.imshow(random_image)\n",
    "plt.subplot(1,2,2)\n",
    "plt.hist(random_image.ravel(),18,[-0.9,0.9])"
   ]
  },
  {
   "cell_type": "code",
   "execution_count": 62,
   "metadata": {},
   "outputs": [
    {
     "data": {
      "text/plain": [
       "(array([4., 6., 4., 3., 3., 5., 3., 5., 6., 5., 2., 2., 5., 1., 1., 9., 4.,\n",
       "        8.]),\n",
       " array([-0.9, -0.8, -0.7, -0.6, -0.5, -0.4, -0.3, -0.2, -0.1,  0. ,  0.1,\n",
       "         0.2,  0.3,  0.4,  0.5,  0.6,  0.7,  0.8,  0.9], dtype=float32),\n",
       " <a list of 18 Patch objects>)"
      ]
     },
     "execution_count": 62,
     "metadata": {},
     "output_type": "execute_result"
    },
    {
     "data": {
      "image/png": "[encoded data removed]",
      "text/plain": [
       "<Figure size 1008x432 with 2 Axes>"
      ]
     },
     "metadata": {
      "needs_background": "light"
     },
     "output_type": "display_data"
    }
   ],
   "source": [
    "random_image = images[10].reshape([28,28])\n",
    "random_image = random_image.numpy()\n",
    "\n",
    "plt.figure(figsize=[14,6])\n",
    "plt.subplot(1,2,1)\n",
    "plt.imshow(random_image)\n",
    "plt.subplot(1,2,2)\n",
    "plt.hist(random_image.ravel(),18,[-0.9,0.9])"
   ]
  },
  {
   "cell_type": "markdown",
   "metadata": {},
   "source": [
    "## PyTorch Layer 이해하기\n",
    "- Network 쌓기 위한 준비\n",
    "\n",
    "\n",
    "- nn: weight를 필요로 하는 함수를 제공함.ex) conv2d\n",
    "- F: weight를 필요로 하지 않는 함수를 제공함. ex) pool\n",
    "- optim: 경사하강 제공"
   ]
  },
  {
   "cell_type": "code",
   "execution_count": 63,
   "metadata": {},
   "outputs": [],
   "source": [
    "import torch\n",
    "import torch.nn as nn\n",
    "import torch.nn.functional as F\n",
    "import torch.optim as optim"
   ]
  },
  {
   "cell_type": "code",
   "execution_count": 64,
   "metadata": {},
   "outputs": [],
   "source": [
    "train_data = torch.utils.data.DataLoader(\n",
    "    datasets.MNIST('dataset/',train=True,download=False,\n",
    "                   transform=transforms.Compose([transforms.ToTensor()])),\n",
    "    batch_size=1)"
   ]
  },
  {
   "cell_type": "code",
   "execution_count": 65,
   "metadata": {},
   "outputs": [
    {
     "name": "stdout",
     "output_type": "stream",
     "text": [
      "batch_size, channel num, height, width\n",
      "torch.Size([1, 1, 28, 28])\n"
     ]
    }
   ],
   "source": [
    "image, label = next(iter(train_data))\n",
    "print(\"batch_size, channel num, height, width\")\n",
    "print(image.shape)"
   ]
  },
  {
   "cell_type": "markdown",
   "metadata": {},
   "source": [
    "## Convolution\n",
    "- in_channels: 받게 될 channel의 갯수\n",
    "- out_channels: 보내고 싶은 channel의 갯수\n",
    "- kernnel_size: 만들고 싶은 kernel(weight)의 사이즈"
   ]
  },
  {
   "cell_type": "code",
   "execution_count": 66,
   "metadata": {},
   "outputs": [],
   "source": [
    "layer1 = nn.Conv2d(in_channels=1,out_channels=20,kernel_size=5).to(torch.device('cpu'))"
   ]
  },
  {
   "cell_type": "markdown",
   "metadata": {},
   "source": [
    "- weight 시각화를 위해 slice하고 numpy화"
   ]
  },
  {
   "cell_type": "code",
   "execution_count": 67,
   "metadata": {},
   "outputs": [
    {
     "name": "stdout",
     "output_type": "stream",
     "text": [
      "torch.Size([20, 1, 5, 5])\n"
     ]
    }
   ],
   "source": [
    "weight = layer1.weight\n",
    "print(weight.shape)"
   ]
  },
  {
   "cell_type": "markdown",
   "metadata": {},
   "source": [
    "- 여기서 weight는 학습 가능한 상태이기 때문에 바로 numpy로 뽑아낼수 없음\n",
    "- detach()method는 그래프에서 잠깐 빼서 gradient에 영향을 받지 않게 함"
   ]
  },
  {
   "cell_type": "code",
   "execution_count": 68,
   "metadata": {},
   "outputs": [],
   "source": [
    "weight_detach = weight.detach().numpy()"
   ]
  },
  {
   "cell_type": "code",
   "execution_count": 69,
   "metadata": {},
   "outputs": [
    {
     "data": {
      "image/png": "[encoded data removed]",
      "text/plain": [
       "<Figure size 432x288 with 2 Axes>"
      ]
     },
     "metadata": {
      "needs_background": "light"
     },
     "output_type": "display_data"
    }
   ],
   "source": [
    "plt.imshow(weight_detach[0,0,:,:],'jet')\n",
    "plt.colorbar()\n",
    "plt.show()"
   ]
  },
  {
   "cell_type": "markdown",
   "metadata": {},
   "source": [
    "- output 시각화 준비를 위해 numpy화"
   ]
  },
  {
   "cell_type": "code",
   "execution_count": 70,
   "metadata": {},
   "outputs": [],
   "source": [
    "output_data1 = layer1(image)"
   ]
  },
  {
   "cell_type": "code",
   "execution_count": 71,
   "metadata": {},
   "outputs": [],
   "source": [
    "output_data1 = output_data1.data"
   ]
  },
  {
   "cell_type": "code",
   "execution_count": 72,
   "metadata": {},
   "outputs": [
    {
     "name": "stdout",
     "output_type": "stream",
     "text": [
      "torch.Size([1, 20, 24, 24])\n"
     ]
    }
   ],
   "source": [
    "print(output_data1.shape)"
   ]
  },
  {
   "cell_type": "code",
   "execution_count": 73,
   "metadata": {},
   "outputs": [],
   "source": [
    "output1 = output_data1.cpu().numpy()"
   ]
  },
  {
   "cell_type": "markdown",
   "metadata": {},
   "source": [
    "## filter 적용한 이미지"
   ]
  },
  {
   "cell_type": "code",
   "execution_count": 74,
   "metadata": {},
   "outputs": [
    {
     "data": {
      "image/png": "[encoded data removed]",
      "text/plain": [
       "<Figure size 1080x2160 with 3 Axes>"
      ]
     },
     "metadata": {
      "needs_background": "light"
     },
     "output_type": "display_data"
    }
   ],
   "source": [
    "plt.figure(figsize=(15,30))\n",
    "plt.subplot(1,3,1)\n",
    "plt.imshow(image.numpy().reshape(28,28),cmap='gray')\n",
    "plt.subplot(1,3,2)\n",
    "plt.imshow(weight_detach[0,0,:,:],'jet')\n",
    "plt.subplot(1,3,3)\n",
    "plt.imshow(output_data1[0,3,:,:],cmap='gray')\n",
    "plt.show()"
   ]
  },
  {
   "cell_type": "markdown",
   "metadata": {},
   "source": [
    "## 모든 filter 이미지 출력\n",
    "## 첫 번째 layer에서의  CNN을 적용한 MNIST output 이미지의 양상"
   ]
  },
  {
   "cell_type": "code",
   "execution_count": 75,
   "metadata": {},
   "outputs": [
    {
     "data": {
      "image/png": "[encoded data removed]",
      "text/plain": [
       "<Figure size 864x576 with 20 Axes>"
      ]
     },
     "metadata": {
      "needs_background": "light"
     },
     "output_type": "display_data"
    }
   ],
   "source": [
    "fig = plt.figure(figsize=[12,8])\n",
    "for i in range(0,20):\n",
    "    fig.add_subplot(5, 4, i+1)\n",
    "    plt.imshow(output1[0,i,:,:],cmap='gray')\n",
    "plt.show()"
   ]
  },
  {
   "cell_type": "markdown",
   "metadata": {},
   "source": [
    "## 모든 filter 이미지를 더한 이미지(합성곱)"
   ]
  },
  {
   "cell_type": "code",
   "execution_count": 76,
   "metadata": {},
   "outputs": [
    {
     "data": {
      "image/png": "[encoded data removed]",
      "text/plain": [
       "<Figure size 720x576 with 2 Axes>"
      ]
     },
     "metadata": {
      "needs_background": "light"
     },
     "output_type": "display_data"
    }
   ],
   "source": [
    "n = 0;\n",
    "for i in range(20):\n",
    "    n = output1[0,i,:,:]\n",
    "plt.figure(figsize=[10,8])\n",
    "plt.subplot(1,2,1)\n",
    "plt.imshow(image.reshape([28,28]),'gray')\n",
    "plt.subplot(1,2,2)\n",
    "plt.imshow(n,'gray')\n",
    "plt.show()"
   ]
  },
  {
   "cell_type": "markdown",
   "metadata": {},
   "source": [
    "## 두번째 layer에서의 CNN을 적용한 숫자 output 이미지의 양상"
   ]
  },
  {
   "cell_type": "code",
   "execution_count": 77,
   "metadata": {},
   "outputs": [],
   "source": [
    "layer2 = nn.Conv2d(20,64,3).to(torch.device('cpu'))"
   ]
  },
  {
   "cell_type": "code",
   "execution_count": 78,
   "metadata": {},
   "outputs": [
    {
     "name": "stdout",
     "output_type": "stream",
     "text": [
      "(1, 64, 22, 22)\n"
     ]
    }
   ],
   "source": [
    "output_data2 = layer2(output_data1)\n",
    "output_data2 = output_data2.data\n",
    "output2 = output_data2.cpu().numpy()\n",
    "print(output2.shape)"
   ]
  },
  {
   "cell_type": "code",
   "execution_count": 79,
   "metadata": {
    "scrolled": true
   },
   "outputs": [
    {
     "data": {
      "image/png": "[encoded data removed]",
      "text/plain": [
       "<Figure size 1008x720 with 5 Axes>"
      ]
     },
     "metadata": {
      "needs_background": "light"
     },
     "output_type": "display_data"
    }
   ],
   "source": [
    "plt.figure(figsize=(14,10))\n",
    "for i in range(5):\n",
    "    plt.subplot(1,5,i+1)\n",
    "    plt.imshow(output2[0,i],'gray')"
   ]
  },
  {
   "cell_type": "markdown",
   "metadata": {},
   "source": [
    "# pooling\n",
    "- MaxPoo Layer는 weight가 없기 때문에 바로 numpy()가 가능"
   ]
  },
  {
   "cell_type": "code",
   "execution_count": 80,
   "metadata": {},
   "outputs": [],
   "source": [
    "pool = F.max_pool2d(image,2,2)\n",
    "pool = pool.numpy()"
   ]
  },
  {
   "cell_type": "code",
   "execution_count": 81,
   "metadata": {},
   "outputs": [
    {
     "name": "stdout",
     "output_type": "stream",
     "text": [
      "(1, 1, 14, 14)\n"
     ]
    },
    {
     "data": {
      "image/png": "[encoded data removed]",
      "text/plain": [
       "<Figure size 432x288 with 1 Axes>"
      ]
     },
     "metadata": {
      "needs_background": "light"
     },
     "output_type": "display_data"
    }
   ],
   "source": [
    "print(pool.shape)\n",
    "plt.title('output')\n",
    "plt.imshow(pool.reshape(pool.shape[2],pool.shape[3]))\n",
    "plt.show()"
   ]
  },
  {
   "cell_type": "markdown",
   "metadata": {},
   "source": [
    "## 세번째 layer에서의 MaxPooling을 적용한 숫자 output 이미지의 양상"
   ]
  },
  {
   "cell_type": "code",
   "execution_count": 82,
   "metadata": {},
   "outputs": [],
   "source": [
    "layer3 = F.max_pool2d(output_data2,2,2)"
   ]
  },
  {
   "cell_type": "code",
   "execution_count": 83,
   "metadata": {},
   "outputs": [
    {
     "name": "stdout",
     "output_type": "stream",
     "text": [
      "torch.Size([1, 64, 11, 11])\n"
     ]
    }
   ],
   "source": [
    "print(layer3.shape)"
   ]
  },
  {
   "cell_type": "code",
   "execution_count": 84,
   "metadata": {},
   "outputs": [],
   "source": [
    "output_data3 = layer3.data\n",
    "output3 = output_data3.cpu().numpy()"
   ]
  },
  {
   "cell_type": "markdown",
   "metadata": {},
   "source": [
    "### 각각 강조하는 부분이 다르다.\n",
    "### 각각 강조하는 부분을 추출한다."
   ]
  },
  {
   "cell_type": "code",
   "execution_count": 85,
   "metadata": {
    "scrolled": true
   },
   "outputs": [
    {
     "data": {
      "image/png": "[encoded data removed]",
      "text/plain": [
       "<Figure size 1008x720 with 5 Axes>"
      ]
     },
     "metadata": {
      "needs_background": "light"
     },
     "output_type": "display_data"
    }
   ],
   "source": [
    "plt.figure(figsize=(14,10))\n",
    "for i in range(5):\n",
    "    plt.subplot(1,5,i+1)\n",
    "    plt.imshow(output3[0,i],'gray')"
   ]
  },
  {
   "cell_type": "markdown",
   "metadata": {},
   "source": [
    "# Linear\n",
    "- nn.linear는 2d가 아닌 1d만 들어가기 때문에 .view() 1D로 펼쳐줘야함."
   ]
  },
  {
   "cell_type": "code",
   "execution_count": 86,
   "metadata": {},
   "outputs": [
    {
     "data": {
      "text/plain": [
       "torch.Size([1, 1, 28, 28])"
      ]
     },
     "execution_count": 86,
     "metadata": {},
     "output_type": "execute_result"
    }
   ],
   "source": [
    "image.shape"
   ]
  },
  {
   "cell_type": "code",
   "execution_count": 87,
   "metadata": {},
   "outputs": [],
   "source": [
    "flatten = image.view(-1,28*28)"
   ]
  },
  {
   "cell_type": "code",
   "execution_count": 88,
   "metadata": {},
   "outputs": [
    {
     "name": "stdout",
     "output_type": "stream",
     "text": [
      "torch.Size([1, 784])\n"
     ]
    }
   ],
   "source": [
    "print(flatten.shape)"
   ]
  },
  {
   "cell_type": "code",
   "execution_count": 89,
   "metadata": {},
   "outputs": [],
   "source": [
    "lin = nn.Linear(784,10)(flatten)"
   ]
  },
  {
   "cell_type": "code",
   "execution_count": 90,
   "metadata": {},
   "outputs": [
    {
     "data": {
      "text/plain": [
       "torch.Size([1, 10])"
      ]
     },
     "execution_count": 90,
     "metadata": {},
     "output_type": "execute_result"
    }
   ],
   "source": [
    "lin.shape"
   ]
  },
  {
   "cell_type": "code",
   "execution_count": 91,
   "metadata": {},
   "outputs": [
    {
     "name": "stdout",
     "output_type": "stream",
     "text": [
      "tensor([[-0.0089, -0.0992,  0.1324, -0.1792, -0.2862, -0.1340, -0.1189, -0.0674,\n",
      "          0.3360, -0.1461]], grad_fn=<AddmmBackward>)\n"
     ]
    },
    {
     "data": {
      "image/png": "[encoded data removed]",
      "text/plain": [
       "<Figure size 432x288 with 2 Axes>"
      ]
     },
     "metadata": {
      "needs_background": "light"
     },
     "output_type": "display_data"
    },
    {
     "name": "stdout",
     "output_type": "stream",
     "text": [
      "label: 8\n"
     ]
    }
   ],
   "source": [
    "print(lin)\n",
    "lin_detach = lin.detach().numpy()\n",
    "plt.imshow(lin_detach)\n",
    "plt.colorbar()\n",
    "plt.show()\n",
    "print(\"label:\",lin_detach.argmax())"
   ]
  },
  {
   "cell_type": "markdown",
   "metadata": {},
   "source": [
    "## 네번째 layer에서의 Fully Connected을 적용한 숫자 output 이미지의 양상"
   ]
  },
  {
   "cell_type": "code",
   "execution_count": 92,
   "metadata": {},
   "outputs": [
    {
     "data": {
      "text/plain": [
       "torch.Size([1, 64, 11, 11])"
      ]
     },
     "execution_count": 92,
     "metadata": {},
     "output_type": "execute_result"
    }
   ],
   "source": [
    "layer3.shape"
   ]
  },
  {
   "cell_type": "code",
   "execution_count": 93,
   "metadata": {},
   "outputs": [],
   "source": [
    "shape = layer3.detach().numpy().shape"
   ]
  },
  {
   "cell_type": "code",
   "execution_count": 94,
   "metadata": {},
   "outputs": [
    {
     "name": "stdout",
     "output_type": "stream",
     "text": [
      "(1, 64, 11, 11)\n"
     ]
    }
   ],
   "source": [
    "print(shape)"
   ]
  },
  {
   "cell_type": "code",
   "execution_count": 95,
   "metadata": {},
   "outputs": [
    {
     "name": "stdout",
     "output_type": "stream",
     "text": [
      "torch.Size([1, 7744])\n"
     ]
    }
   ],
   "source": [
    "output_data4 = output_data3.view(-1,shape[1]*shape[2]*shape[3])\n",
    "print(output_data4.shape)"
   ]
  },
  {
   "cell_type": "markdown",
   "metadata": {},
   "source": [
    "### dense network는 분해 되었된 이미지를 다시 재조립한 이미지\n",
    "- output 만큼의 재조립된 이미지가 출력된다고 추상화 하면 된다."
   ]
  },
  {
   "cell_type": "code",
   "execution_count": 96,
   "metadata": {},
   "outputs": [],
   "source": [
    "layer4 = nn.Linear(7744,10000)"
   ]
  },
  {
   "cell_type": "code",
   "execution_count": 97,
   "metadata": {},
   "outputs": [],
   "source": [
    "output_data5 = layer4(output_data4)"
   ]
  },
  {
   "cell_type": "code",
   "execution_count": 98,
   "metadata": {},
   "outputs": [
    {
     "data": {
      "text/plain": [
       "tensor([[-0.1249, -0.0458, -0.1707,  ...,  0.0259,  0.0449, -0.0064]],\n",
       "       grad_fn=<AddmmBackward>)"
      ]
     },
     "execution_count": 98,
     "metadata": {},
     "output_type": "execute_result"
    }
   ],
   "source": [
    "output_data5"
   ]
  },
  {
   "cell_type": "markdown",
   "metadata": {},
   "source": [
    "## Softmax\n",
    "- 결과를 numpy로 꺼내기 위해선 weight가 담긴 Linear에 weight를 꺼줘야함"
   ]
  },
  {
   "cell_type": "code",
   "execution_count": 99,
   "metadata": {},
   "outputs": [
    {
     "name": "stdout",
     "output_type": "stream",
     "text": [
      "tensor([[-0.0159,  0.1895,  0.0984, -0.0379,  0.1670, -0.1513,  0.0518, -0.0043,\n",
      "          0.1203, -0.0351]])\n",
      "tensor([[0.0942, 0.1157, 0.1057, 0.0922, 0.1132, 0.0823, 0.1009, 0.0953, 0.1080,\n",
      "         0.0925]])\n",
      "tensor([[-2.3618, -2.1564, -2.2475, -2.3838, -2.1789, -2.4972, -2.2941, -2.3502,\n",
      "         -2.2256, -2.3810]])\n"
     ]
    }
   ],
   "source": [
    "with torch.no_grad():\n",
    "    flatten = image.view(-1,28*28)\n",
    "    lin = nn.Linear(784,10)(flatten)\n",
    "    print(lin)\n",
    "    softmax = F.softmax(lin,dim=1)\n",
    "    print(softmax)\n",
    "    log_softmax = F.log_softmax(lin,dim=1)\n",
    "    print(log_softmax)"
   ]
  },
  {
   "cell_type": "code",
   "execution_count": 100,
   "metadata": {},
   "outputs": [
    {
     "data": {
      "text/plain": [
       "tensor(1)"
      ]
     },
     "execution_count": 100,
     "metadata": {},
     "output_type": "execute_result"
    }
   ],
   "source": [
    "softmax.argmax()"
   ]
  },
  {
   "cell_type": "code",
   "execution_count": 101,
   "metadata": {},
   "outputs": [
    {
     "data": {
      "text/plain": [
       "-2.3903240073020524"
      ]
     },
     "execution_count": 101,
     "metadata": {},
     "output_type": "execute_result"
    }
   ],
   "source": [
    "np.log(0.0916)"
   ]
  },
  {
   "cell_type": "code",
   "execution_count": 102,
   "metadata": {},
   "outputs": [
    {
     "data": {
      "text/plain": [
       "1.0"
      ]
     },
     "execution_count": 102,
     "metadata": {},
     "output_type": "execute_result"
    }
   ],
   "source": [
    "np.sum(softmax.numpy())"
   ]
  },
  {
   "cell_type": "code",
   "execution_count": 103,
   "metadata": {},
   "outputs": [
    {
     "data": {
      "text/plain": [
       "array([[-2.3618398, -2.156421 , -2.2474768, -2.383779 , -2.1788628,\n",
       "        -2.4972112, -2.2940993, -2.3502405, -2.225558 , -2.381004 ]],\n",
       "      dtype=float32)"
      ]
     },
     "execution_count": 103,
     "metadata": {},
     "output_type": "execute_result"
    }
   ],
   "source": [
    "log_softmax.numpy()"
   ]
  },
  {
   "cell_type": "markdown",
   "metadata": {},
   "source": [
    "## Layer 쌓기\n",
    "\n",
    "예제 출처: https://pytorch.org/tutorials/beginner/pytorch_with_examples.html#id32\n",
    "\n",
    "nn 과 nn.functional의 차이점\n",
    "- nn은 학습 파라미터가 담긴 것\n",
    "- nn.functional은 학습 파라미터가 없는 것이라 생각하면 간단"
   ]
  },
  {
   "cell_type": "code",
   "execution_count": 104,
   "metadata": {},
   "outputs": [],
   "source": [
    "import torch.nn as nn"
   ]
  },
  {
   "cell_type": "code",
   "execution_count": 105,
   "metadata": {},
   "outputs": [],
   "source": [
    "class Net(nn.Module):\n",
    "    def __init__(self):\n",
    "        super(Net,self).__init__()\n",
    "        self.conv1 = nn.Conv2d(1,20,5,1)\n",
    "        self.conv2 = nn.Conv2d(20,50,5,1)\n",
    "        self.fc1 = nn.Linear(4*4*50,500)\n",
    "        self.fc2 = nn.Linear(500,10)\n",
    "    \n",
    "    def forward(self, x):\n",
    "        # Feature Extraction\n",
    "        x = F.relu(self.conv1(x))\n",
    "        x = F.max_pool2d(x,2,2)\n",
    "        x = F.relu(self.conv2(x))\n",
    "        x = F.max_pool2d(x,2,2)\n",
    "        \n",
    "        # Fully Connected(Classfication)\n",
    "        '''\n",
    "        shape = x.detach().numpy().shape\n",
    "        size = shape[1]*shape[2]*shape[3]\n",
    "        '''\n",
    "        x = x.view(-1,4*4*50)\n",
    "        x = F.relu(self.fc1(x))\n",
    "        x = self.fc2(x)\n",
    "        return F.log_softmax(x,dim=1)\n",
    "        "
   ]
  },
  {
   "cell_type": "markdown",
   "metadata": {},
   "source": [
    "$${LogSoftmax(x_i) = log({exp(x_i)\\over \\sum_jexp(x_j)})}$$\n",
    "\n",
    "### Softmax vs LogSoftmax\n",
    "- LogSotfmax have numerical stability reasons than Softmax\n",
    "- 0에 가까워 질수록 숫자가 더욱 작아진다.\n",
    "- 0에서 멀어질수록 값의 크기 변화가 별로 변하지 않는다."
   ]
  },
  {
   "cell_type": "code",
   "execution_count": 106,
   "metadata": {},
   "outputs": [],
   "source": [
    "modele = Net()"
   ]
  },
  {
   "cell_type": "code",
   "execution_count": 107,
   "metadata": {},
   "outputs": [
    {
     "data": {
      "text/plain": [
       "tensor([[-2.2684, -2.2444, -2.2964, -2.3378, -2.3195, -2.2743, -2.3077, -2.3203,\n",
       "         -2.3606, -2.3017]], grad_fn=<LogSoftmaxBackward>)"
      ]
     },
     "execution_count": 107,
     "metadata": {},
     "output_type": "execute_result"
    }
   ],
   "source": [
    "modele.forward(image)"
   ]
  },
  {
   "cell_type": "code",
   "execution_count": 108,
   "metadata": {},
   "outputs": [],
   "source": [
    "import os\n",
    "from glob import glob\n",
    "import torch\n",
    "import torch.nn as nn\n",
    "import torch.nn.functional as F\n",
    "import torch.optim as optim\n",
    "from torchvision import datasets, transforms"
   ]
  },
  {
   "cell_type": "markdown",
   "metadata": {},
   "source": [
    "## seed\n",
    "난수 생성\n",
    "**생각 외로 컴퓨터는 난수를 간단히 만들 수 없다.** 컴퓨터는 기본적으로 정해진 입력에 따라 정해진 값을 낼 뿐이다. 사람처럼 무의식적인 선택, 혹은 우연에 의한 선택을 할 수 없기 때문이다. 흔히 보는 랜덤은 정말로 임의의 값이 아니고 **특정한 방법으로 계산하거나 몇 밀리초(ms) 단위로 시시각각 변하는 값을 초기값으로 잡은 다음 여러 계산 과정을 거쳐 사람이 볼 때에는 마치 임의의 값인 것처럼 보이게 하는 것**이다. 전문용어로는 결정적 유한 오토마타(Deterministic Finite Automata), 의사난수(Pseudo Random)라고 한다.\n",
    "\n",
    "흔히 **난수표를 쓰는데 난수표가 정해진 이상 결국 같은 순서로 같은 숫자가 나오게 된다.**\n",
    "->\n",
    "이를 해결하기 위한 방법은 난수표를 여러개 만들어 놓고 매번 다른 난수표를 읽도록 만드는 것\n",
    "=> **시드(seed)**\n",
    "**But 시드값이 똑같으면 선택되는 난수표도 똑같기 때문에 시드값도 난수여야 한다.**\n",
    "\n",
    "‘난수를 만들려면 난수가 필요하다’는 문제가 발생하게 되는 것\n",
    "-> 그래서 **보통은 시드값으로 현재 시간을 넣어서 해결한다.**"
   ]
  },
  {
   "cell_type": "markdown",
   "metadata": {},
   "source": [
    "seed(숫자,ex)1) - 동일한 패턴의 난수표로 부터 랜덤값을 출력한다.<br>\n",
    "seed(random) - 무작위한 난수표로 부터 랜덤값을 출력한다."
   ]
  },
  {
   "cell_type": "code",
   "execution_count": 109,
   "metadata": {},
   "outputs": [],
   "source": [
    "seed = 1\n",
    "batch_size = 64\n",
    "test_batch_size = 64\n",
    "\n",
    "np_cuda = False"
   ]
  },
  {
   "cell_type": "markdown",
   "metadata": {},
   "source": [
    "## model 훈련시키기"
   ]
  },
  {
   "cell_type": "markdown",
   "metadata": {},
   "source": [
    "### Preprocess"
   ]
  },
  {
   "cell_type": "code",
   "execution_count": 110,
   "metadata": {},
   "outputs": [],
   "source": [
    "torch.manual_seed(seed)\n",
    "train_loader =  torch.utils.data.DataLoader(\n",
    "    datasets.MNIST('dataset/',train=True,download=True,\n",
    "                   transform=transforms.Compose([\n",
    "                       transforms.ToTensor(),\n",
    "                       transforms.Normalize(mean=(0.1307,),std=(0.3081,))\n",
    "                   ])),\n",
    "            batch_size=batch_size,shuffle=True)\n",
    "\n",
    "test_loader =  torch.utils.data.DataLoader(\n",
    "    datasets.MNIST('dataset/',train=False,download=True,\n",
    "                   transform=transforms.Compose([\n",
    "                       transforms.ToTensor(),\n",
    "                       transforms.Normalize(mean=(0.1307,),std=(0.3081,))\n",
    "                   ])),\n",
    "            batch_size=batch_size,shuffle=True)"
   ]
  },
  {
   "cell_type": "code",
   "execution_count": 111,
   "metadata": {},
   "outputs": [],
   "source": [
    "train_img, train_label = next(iter(train_loader))"
   ]
  },
  {
   "cell_type": "code",
   "execution_count": 112,
   "metadata": {},
   "outputs": [
    {
     "name": "stdout",
     "output_type": "stream",
     "text": [
      "torch.Size([64, 1, 28, 28])\n"
     ]
    }
   ],
   "source": [
    "print(train_img.shape)"
   ]
  },
  {
   "cell_type": "markdown",
   "metadata": {},
   "source": [
    "### Model"
   ]
  },
  {
   "cell_type": "code",
   "execution_count": 113,
   "metadata": {},
   "outputs": [],
   "source": [
    "class Net(nn.Module):\n",
    "    def __init__(self):\n",
    "        super(Net,self).__init__()\n",
    "        self.conv1 = nn.Conv2d(1,20,(5,5))\n",
    "        self.conv2 = nn.Conv2d(20,50,(5,5))\n",
    "        self.fc1 = nn.Linear(4*4*50,500)\n",
    "        self.fc2 = nn.Linear(500,10)\n",
    "        \n",
    "    def forward(self,x):\n",
    "        layer1 = F.relu(self.conv1(x))\n",
    "        layer2 = F.max_pool2d(layer1,2,2)\n",
    "        layer3 = F.relu(self.conv2(layer2))\n",
    "        layer4 = F.max_pool2d(layer3,2,2)\n",
    "        layer5 = layer4.view(-1,4*4*50)\n",
    "        layer6 = F.relu(self.fc1(layer5))\n",
    "        layer7 = self.fc2(layer6)\n",
    "        return F.log_softmax(layer7)\n",
    "        "
   ]
  },
  {
   "cell_type": "markdown",
   "metadata": {},
   "source": [
    "### Optimizer\n",
    "- Model과 Optimization 설정"
   ]
  },
  {
   "cell_type": "code",
   "execution_count": 114,
   "metadata": {},
   "outputs": [],
   "source": [
    "model = Net().cpu()"
   ]
  },
  {
   "cell_type": "code",
   "execution_count": 115,
   "metadata": {
    "scrolled": true
   },
   "outputs": [],
   "source": [
    "optimizer =optim.SGD(model.parameters(),lr=0.03,momentum=0.5)"
   ]
  },
  {
   "cell_type": "code",
   "execution_count": 116,
   "metadata": {},
   "outputs": [
    {
     "name": "stdout",
     "output_type": "stream",
     "text": [
      "weight: torch.Size([20, 1, 5, 5])\n",
      "bias: torch.Size([20])\n",
      "weight: torch.Size([50, 20, 5, 5])\n",
      "bias: torch.Size([50])\n",
      "weight: torch.Size([500, 800])\n",
      "bias: torch.Size([500])\n",
      "weight: torch.Size([10, 500])\n",
      "bias: torch.Size([10])\n"
     ]
    }
   ],
   "source": [
    "params = list(model.parameters())\n",
    "for i in range(len(params)):\n",
    "    if i%2==0:\n",
    "        print(\"weight:\",params[i].shape)\n",
    "        \n",
    "    else:\n",
    "        print(\"bias:\",params[i].shape)\n"
   ]
  },
  {
   "cell_type": "markdown",
   "metadata": {},
   "source": [
    "### Before Training\n",
    "- 학습하기 전에 Model이 Train할 수 있도록 Train Mode로 변환\n",
    "- Convolution 또는 Linear뿐만 아니라, DropOut과 추후에 배우게 될 Batch Normalalization과 같이 parameter를 가진 Layer들도 학습하기 위해 준비"
   ]
  },
  {
   "cell_type": "code",
   "execution_count": 117,
   "metadata": {},
   "outputs": [
    {
     "data": {
      "text/plain": [
       "Net(\n",
       "  (conv1): Conv2d(1, 20, kernel_size=(5, 5), stride=(1, 1))\n",
       "  (conv2): Conv2d(20, 50, kernel_size=(5, 5), stride=(1, 1))\n",
       "  (fc1): Linear(in_features=800, out_features=500, bias=True)\n",
       "  (fc2): Linear(in_features=500, out_features=10, bias=True)\n",
       ")"
      ]
     },
     "execution_count": 117,
     "metadata": {},
     "output_type": "execute_result"
    }
   ],
   "source": [
    "model.train() # train mode"
   ]
  },
  {
   "cell_type": "markdown",
   "metadata": {},
   "source": [
    "- 모델에 넣기 위한 첫 batch 데이터 추출"
   ]
  },
  {
   "cell_type": "code",
   "execution_count": 118,
   "metadata": {},
   "outputs": [],
   "source": [
    "data, target = next(iter(train_loader))"
   ]
  },
  {
   "cell_type": "code",
   "execution_count": 119,
   "metadata": {},
   "outputs": [
    {
     "data": {
      "text/plain": [
       "(torch.Size([64, 1, 28, 28]), torch.Size([64]))"
      ]
     },
     "execution_count": 119,
     "metadata": {},
     "output_type": "execute_result"
    }
   ],
   "source": [
    "data.shape, target.shape"
   ]
  },
  {
   "cell_type": "markdown",
   "metadata": {},
   "source": [
    "- 추출한 Batch 데이터를 cpu 또는 gpu와 같은 devise에 compile\n",
    "    - 처음엔 cpu() or cuda()로 설정해주어야 함.-> 설정 안 하면 cpu로 설정\n",
    "    - device('cpu'or'gpu'): tensor를 처리 할시 cpu로 할지 gpu로 할지 정하는 것."
   ]
  },
  {
   "cell_type": "code",
   "execution_count": 120,
   "metadata": {},
   "outputs": [],
   "source": [
    "device = 'cuda' if torch.cuda.is_available() else 'cpu'"
   ]
  },
  {
   "cell_type": "code",
   "execution_count": 121,
   "metadata": {
    "scrolled": true
   },
   "outputs": [],
   "source": [
    "data, target = data.to(device), target.to(device)"
   ]
  },
  {
   "cell_type": "markdown",
   "metadata": {},
   "source": [
    "- optimizer를 잘 실행 시키기 위해서 gradient descent전에 gradients를 clear하면 새로운 최적화 값을 찾기 쉬어진다.\n",
    "    - zero_grad는 전 스텝의 오래된 그라디언트들을 0으로 초기화하는 것이다. 만약 0으로 초기화 하지 않는다면 역전파를 할때마다 누적 될것이다."
   ]
  },
  {
   "cell_type": "code",
   "execution_count": 122,
   "metadata": {},
   "outputs": [],
   "source": [
    "optimizer.zero_grad()"
   ]
  },
  {
   "cell_type": "markdown",
   "metadata": {},
   "source": [
    "- 준비한 데이터를 model에 input으로 넣어 output을 얻음"
   ]
  },
  {
   "cell_type": "code",
   "execution_count": 123,
   "metadata": {},
   "outputs": [
    {
     "name": "stderr",
     "output_type": "stream",
     "text": [
      "/Users/changmin.kim/anaconda3/lib/python3.7/site-packages/ipykernel_launcher.py:17: UserWarning: Implicit dimension choice for log_softmax has been deprecated. Change the call to include dim=X as an argument.\n"
     ]
    }
   ],
   "source": [
    "output = model(data)"
   ]
  },
  {
   "cell_type": "code",
   "execution_count": 124,
   "metadata": {},
   "outputs": [
    {
     "data": {
      "text/plain": [
       "torch.Size([64, 10])"
      ]
     },
     "execution_count": 124,
     "metadata": {},
     "output_type": "execute_result"
    }
   ],
   "source": [
    "output.shape"
   ]
  },
  {
   "cell_type": "markdown",
   "metadata": {},
   "source": [
    "- Model에서 예측한 결과를 Loss Function에 넣음\n",
    "    - 여기 예제에서는 Negative Log-Likelihood Loss라는 Loss Function을 사용"
   ]
  },
  {
   "cell_type": "code",
   "execution_count": 125,
   "metadata": {},
   "outputs": [],
   "source": [
    "loss = F.nll_loss(output,target)"
   ]
  },
  {
   "cell_type": "code",
   "execution_count": 126,
   "metadata": {},
   "outputs": [
    {
     "name": "stdout",
     "output_type": "stream",
     "text": [
      "tensor(2.3333, grad_fn=<NllLossBackward>)\n"
     ]
    }
   ],
   "source": [
    "print(loss)"
   ]
  },
  {
   "cell_type": "code",
   "execution_count": 127,
   "metadata": {},
   "outputs": [
    {
     "data": {
      "image/png": "[encoded data removed]",
      "text/plain": [
       "<Figure size 432x288 with 1 Axes>"
      ]
     },
     "metadata": {
      "needs_background": "light"
     },
     "output_type": "display_data"
    },
    {
     "name": "stdout",
     "output_type": "stream",
     "text": [
      "tensor(8)\n"
     ]
    }
   ],
   "source": [
    "i = 50\n",
    "plt.imshow(data[i].reshape([28,28]))\n",
    "plt.show()\n",
    "print(output[i].argmax())"
   ]
  },
  {
   "cell_type": "markdown",
   "metadata": {},
   "source": [
    "- Back Propagation을 통해 Gradients를 계산"
   ]
  },
  {
   "cell_type": "code",
   "execution_count": 128,
   "metadata": {},
   "outputs": [],
   "source": [
    "loss.backward()"
   ]
  },
  {
   "cell_type": "markdown",
   "metadata": {},
   "source": [
    "- 계산된 Gradients는 계산된 걸로 끝이 아니라 Parameter에 Update"
   ]
  },
  {
   "cell_type": "code",
   "execution_count": 129,
   "metadata": {},
   "outputs": [],
   "source": [
    "optimizer.step()"
   ]
  },
  {
   "cell_type": "markdown",
   "metadata": {},
   "source": [
    "- 각 weight의 gradient 구하기"
   ]
  },
  {
   "cell_type": "code",
   "execution_count": 130,
   "metadata": {},
   "outputs": [
    {
     "name": "stdout",
     "output_type": "stream",
     "text": [
      "layer 1\n",
      "torch.Size([20, 1, 5, 5])\n",
      "tensor([[[[ 1.1973e-02,  1.0084e-02,  4.6156e-03, -3.7322e-03, -6.1405e-03],\n",
      "          [ 9.4407e-03,  8.1255e-03,  2.1910e-03, -4.4609e-03, -7.8846e-03],\n",
      "          [ 9.2462e-03,  7.8641e-03, -1.1402e-03, -2.5533e-03, -2.7375e-03],\n",
      "          [ 7.1556e-03,  1.1970e-03, -2.5037e-03, -2.9909e-03, -2.8276e-03],\n",
      "          [ 3.5478e-03, -1.1557e-03, -4.6803e-03, -4.5454e-03, -5.3392e-03]]],\n",
      "\n",
      "\n",
      "        [[[-1.9089e-03, -1.9508e-03, -2.0906e-03, -2.9517e-03, -1.4721e-03],\n",
      "          [-1.9259e-03, -3.1591e-03, -2.5811e-03, -2.2518e-04,  2.0818e-03],\n",
      "          [ 2.5619e-03,  2.2889e-04,  2.1449e-04,  2.3713e-03,  3.4122e-03],\n",
      "          [ 3.6785e-03,  2.5786e-03,  2.6987e-03,  1.4811e-03,  5.5472e-04],\n",
      "          [ 1.7471e-03,  3.8831e-03,  3.7538e-03,  3.5565e-03,  4.0316e-03]]],\n",
      "\n",
      "\n",
      "        [[[-3.7518e-03, -1.1656e-03,  1.4788e-03,  8.8606e-04, -1.3256e-03],\n",
      "          [-1.4375e-03,  2.6135e-03,  3.7374e-03,  2.8405e-04, -1.4110e-03],\n",
      "          [ 2.7126e-03,  4.3352e-03,  4.4571e-03,  6.4915e-04, -1.4532e-03],\n",
      "          [ 4.3299e-03,  6.0883e-03,  5.0082e-03,  8.8293e-04,  1.3306e-05],\n",
      "          [ 7.2032e-03,  8.0148e-03,  6.8236e-03,  6.5177e-03,  7.5791e-03]]],\n",
      "\n",
      "\n",
      "        [[[ 1.4205e-03,  2.7688e-03,  1.3461e-03, -1.9867e-03,  3.1411e-06],\n",
      "          [-2.1063e-03, -1.4728e-03, -2.5683e-03, -1.7369e-03, -9.1746e-04],\n",
      "          [-4.9875e-03, -5.0173e-03, -3.0932e-03, -4.7332e-03, -5.7745e-03],\n",
      "          [-6.6273e-03, -2.4911e-03, -2.1132e-03, -6.6398e-03, -9.9140e-03],\n",
      "          [-1.4694e-03, -6.0277e-04, -2.7864e-03, -5.7027e-03, -6.2520e-03]]],\n",
      "\n",
      "\n",
      "        [[[-7.2210e-03, -9.9680e-03, -6.3054e-03,  2.3777e-03, -6.9451e-04],\n",
      "          [-9.5087e-03, -1.1891e-02, -6.5661e-03,  3.0051e-03,  2.4388e-03],\n",
      "          [-1.2489e-02, -1.2537e-02, -4.9008e-03,  4.0007e-03,  6.9499e-03],\n",
      "          [-1.0803e-02, -7.8911e-03, -3.0190e-04,  3.0851e-03,  7.4308e-03],\n",
      "          [-7.6174e-03, -5.6226e-03, -1.7980e-04,  2.4566e-03,  8.9196e-03]]],\n",
      "\n",
      "\n",
      "        [[[-4.2928e-03, -5.9395e-03, -6.4493e-03, -4.6683e-03, -3.4876e-03],\n",
      "          [-2.3397e-04, -1.2878e-03, -3.2039e-03, -2.5383e-03, -4.3488e-03],\n",
      "          [ 1.5645e-03,  1.9419e-03,  1.8573e-04, -1.0434e-03, -2.9038e-04],\n",
      "          [ 7.6902e-04,  1.7036e-03,  9.7933e-04, -1.9806e-04, -1.5402e-03],\n",
      "          [ 1.1121e-03,  1.3227e-03,  6.3631e-04,  5.4714e-04,  1.8991e-03]]],\n",
      "\n",
      "\n",
      "        [[[ 8.5927e-04,  4.2155e-03,  6.3982e-03,  7.6911e-03,  1.9739e-03],\n",
      "          [ 1.9463e-03,  6.2164e-03,  4.9705e-03, -4.7233e-04, -2.2006e-03],\n",
      "          [ 4.9494e-03,  6.3321e-03,  6.4360e-04, -1.9420e-03, -1.4849e-03],\n",
      "          [ 7.5846e-03,  7.0526e-03,  4.9091e-03,  4.3628e-03,  3.1427e-03],\n",
      "          [ 6.2895e-03,  6.3206e-03,  5.3945e-03,  5.1767e-03,  5.1367e-03]]],\n",
      "\n",
      "\n",
      "        [[[ 3.1591e-03, -1.2889e-03, -9.5602e-04,  2.8243e-03,  5.4860e-03],\n",
      "          [ 3.2990e-05, -3.5918e-03, -5.9263e-03, -2.1600e-03,  2.1894e-03],\n",
      "          [-6.3903e-03, -7.0235e-03, -5.3162e-03, -5.0883e-03, -2.7150e-03],\n",
      "          [-8.9032e-03, -7.3832e-03, -4.1032e-03, -3.0703e-03, -6.0716e-04],\n",
      "          [-7.4368e-03, -5.0228e-03, -3.7344e-03, -2.6698e-03,  1.3404e-04]]],\n",
      "\n",
      "\n",
      "        [[[-9.7705e-03, -5.4953e-03,  9.8291e-04,  5.2288e-03,  8.4740e-03],\n",
      "          [-7.9399e-03, -2.4228e-03,  8.5913e-04,  5.5326e-03,  1.4279e-02],\n",
      "          [-4.6419e-03, -2.1668e-03,  6.1084e-04,  5.7531e-03,  1.1540e-02],\n",
      "          [-3.1515e-03,  1.8471e-03,  3.4640e-03,  6.8713e-03,  7.5085e-03],\n",
      "          [ 3.5030e-03,  6.8260e-03,  7.6945e-03,  6.3128e-03,  3.9236e-03]]],\n",
      "\n",
      "\n",
      "        [[[ 7.7078e-04,  3.0740e-03,  5.0441e-03,  2.5220e-03,  1.5545e-03],\n",
      "          [ 4.6206e-04,  2.2740e-03,  1.3650e-03,  1.2263e-03,  3.6071e-04],\n",
      "          [ 2.4801e-03,  1.8839e-03,  1.0558e-03,  1.1088e-03,  1.2955e-03],\n",
      "          [ 3.2694e-03,  3.3909e-03,  1.9973e-03,  1.6504e-03,  1.7252e-03],\n",
      "          [ 3.9344e-03,  2.8973e-03,  2.1443e-03,  1.4545e-03,  7.2123e-04]]],\n",
      "\n",
      "\n",
      "        [[[ 5.6766e-03,  5.2849e-03,  5.8489e-03,  1.1995e-02,  1.0518e-02],\n",
      "          [ 8.8102e-03,  6.4055e-03,  7.2232e-03,  1.0053e-02,  5.3709e-03],\n",
      "          [ 1.0725e-02,  1.2936e-02,  9.7323e-03,  6.8458e-03,  5.8716e-04],\n",
      "          [ 1.3533e-02,  1.4851e-02,  8.3332e-03,  3.1087e-03,  7.7697e-04],\n",
      "          [ 1.2010e-02,  6.9413e-03,  9.2117e-04,  1.5304e-03,  5.3121e-03]]],\n",
      "\n",
      "\n",
      "        [[[ 1.8623e-03,  4.4066e-03,  3.2544e-03, -3.6821e-04, -2.2957e-03],\n",
      "          [ 3.2522e-03,  6.0665e-03,  3.1381e-03, -2.1192e-03, -4.7848e-03],\n",
      "          [ 3.6315e-03,  3.8157e-03,  1.4776e-03, -4.8148e-03, -5.4484e-03],\n",
      "          [ 2.7076e-04,  3.5316e-03,  3.0675e-03, -3.0481e-04, -8.0184e-04],\n",
      "          [ 2.8257e-03,  6.1644e-03,  8.3798e-03,  5.2246e-03,  2.8901e-03]]],\n",
      "\n",
      "\n",
      "        [[[ 6.7069e-03,  1.3003e-03,  3.0859e-03,  8.4258e-04, -5.1671e-04],\n",
      "          [ 4.0775e-03,  4.3079e-04,  6.9564e-05,  1.1849e-03,  1.1439e-03],\n",
      "          [ 4.2469e-04,  5.7016e-04, -4.6282e-04,  3.2296e-04,  3.2836e-04],\n",
      "          [-8.7492e-04,  2.3228e-03,  4.3682e-03,  8.0087e-03,  8.3750e-03],\n",
      "          [ 5.9003e-03,  5.2024e-03,  8.2956e-03,  1.2576e-02,  1.1924e-02]]],\n",
      "\n",
      "\n",
      "        [[[-5.6194e-03, -1.5555e-04,  3.2118e-03,  2.7733e-04, -3.0107e-03],\n",
      "          [-4.2182e-03, -8.8797e-04,  8.5783e-04, -2.4722e-03, -4.9416e-03],\n",
      "          [-2.5877e-03, -2.1222e-03, -4.3292e-04, -1.8390e-03, -1.3132e-03],\n",
      "          [-1.8835e-03, -1.7626e-03, -7.9539e-05,  6.8483e-04,  7.4933e-04],\n",
      "          [-2.5803e-03, -1.9019e-03,  7.2096e-04,  3.6214e-05,  5.7597e-04]]],\n",
      "\n",
      "\n",
      "        [[[ 6.9141e-05, -3.8341e-04, -6.5442e-04, -1.0660e-03, -1.4607e-03],\n",
      "          [ 1.7763e-04, -7.3713e-04, -1.3191e-03, -1.7047e-03, -1.9504e-03],\n",
      "          [ 1.1741e-03,  2.4183e-05, -4.5034e-04, -1.0398e-04, -6.0781e-04],\n",
      "          [ 6.6599e-04,  1.1465e-04, -9.0671e-04, -1.3371e-03,  7.0473e-04],\n",
      "          [ 2.1507e-04, -8.9289e-05, -8.1950e-04, -5.9959e-04,  1.1654e-04]]],\n",
      "\n",
      "\n",
      "        [[[ 1.5906e-03,  4.0648e-03,  3.1334e-03,  2.0572e-03, -9.8401e-04],\n",
      "          [ 4.8548e-03,  9.0611e-03,  8.8291e-03,  8.3353e-03,  7.8805e-03],\n",
      "          [ 1.0985e-02,  1.1131e-02,  1.1357e-02,  1.2608e-02,  9.8680e-03],\n",
      "          [ 1.1780e-02,  1.1159e-02,  1.1115e-02,  9.8794e-03,  7.5630e-03],\n",
      "          [ 5.6568e-03,  5.0232e-03,  7.6054e-03,  8.5245e-03,  6.6945e-03]]],\n",
      "\n",
      "\n",
      "        [[[-3.0335e-03, -2.9717e-03, -2.7452e-03, -5.0245e-03, -4.6585e-03],\n",
      "          [-1.3534e-03, -2.6318e-03, -5.2761e-03, -7.7134e-03, -3.6128e-03],\n",
      "          [-8.1535e-04, -4.9542e-03, -7.2407e-03, -4.8646e-03, -1.7198e-03],\n",
      "          [-9.2737e-04, -6.1215e-03, -9.0728e-03, -4.2589e-03, -3.0280e-03],\n",
      "          [-1.1795e-03, -4.8371e-03, -5.6630e-03, -6.3205e-03, -2.9659e-03]]],\n",
      "\n",
      "\n",
      "        [[[ 6.5471e-03,  6.5605e-03,  7.1471e-03,  7.7828e-03,  8.8501e-03],\n",
      "          [ 5.7026e-03,  3.4927e-03,  3.8108e-03,  7.1173e-03,  1.3658e-02],\n",
      "          [ 5.3706e-03, -1.8526e-05,  2.9447e-03,  8.0033e-03,  1.9278e-02],\n",
      "          [ 4.2885e-03,  1.8122e-03,  5.2469e-03,  1.2713e-02,  2.2797e-02],\n",
      "          [ 3.2830e-03,  3.3700e-03,  6.0547e-03,  1.2437e-02,  1.7060e-02]]],\n",
      "\n",
      "\n",
      "        [[[-3.1959e-03, -2.6838e-03, -2.7838e-03, -1.7025e-03, -1.4104e-03],\n",
      "          [ 1.5704e-04,  2.6274e-04, -1.8682e-03, -2.5379e-03, -1.8511e-03],\n",
      "          [ 1.3340e-03, -6.2829e-04, -6.3793e-04, -1.1312e-03, -6.5700e-04],\n",
      "          [-6.8583e-04, -1.0311e-03, -1.0083e-03, -5.2741e-04, -1.2573e-05],\n",
      "          [-2.3827e-04, -1.8353e-03, -1.7398e-03, -1.2464e-04,  4.5501e-04]]],\n",
      "\n",
      "\n",
      "        [[[ 9.2439e-04,  9.2566e-04,  2.5926e-03,  6.9883e-03,  8.7111e-03],\n",
      "          [ 7.5572e-04, -8.3254e-04, -1.0198e-04,  5.0849e-03,  7.2359e-03],\n",
      "          [ 1.6929e-03,  3.5157e-03,  2.9660e-03,  4.6380e-03,  4.3445e-03],\n",
      "          [ 5.6619e-03,  7.3720e-03,  8.5796e-03,  7.1606e-03,  5.5213e-03],\n",
      "          [ 6.2974e-03,  9.4829e-03,  1.1543e-02,  9.0173e-03,  5.2940e-03]]]])\n",
      "torch.Size([20])\n",
      "tensor([ 2.0606e-04,  5.0891e-03,  7.8125e-03, -6.8803e-04, -5.9768e-04,\n",
      "        -1.9468e-03,  1.8940e-03,  2.4861e-03,  3.5778e-03, -2.1077e-03,\n",
      "         3.6276e-03,  4.1386e-03,  1.7424e-03,  3.9727e-03,  4.9094e-05,\n",
      "         2.3261e-03,  1.7329e-03,  6.3918e-03,  3.1105e-05,  3.7006e-03])\n",
      "layer 2\n",
      "torch.Size([50, 20, 5, 5])\n",
      "tensor([[[[ 9.0573e-05,  4.3957e-04, -7.6705e-04, -4.4106e-05,  1.6072e-03],\n",
      "          [ 4.8404e-03,  4.6159e-03,  4.2965e-03,  7.3850e-03,  7.4201e-03],\n",
      "          [ 6.5953e-03,  1.7616e-03,  6.6932e-03,  9.7871e-03,  9.5116e-03],\n",
      "          [ 5.1544e-03,  2.0203e-03,  5.0957e-03,  8.8031e-03,  8.2076e-03],\n",
      "          [ 6.3548e-03,  6.5831e-03,  9.5494e-03,  1.1758e-02,  6.6187e-03]],\n",
      "\n",
      "         [[ 1.4961e-03,  3.4728e-03,  5.6287e-03,  6.1199e-03,  3.2282e-03],\n",
      "          [ 1.5685e-03,  3.4815e-03,  6.0135e-03,  2.1149e-03,  1.4178e-03],\n",
      "          [ 1.0487e-03,  4.2207e-03,  3.4522e-03, -5.7761e-04,  2.1945e-04],\n",
      "          [ 1.6068e-03,  4.9586e-03,  3.5407e-03,  1.9326e-03,  2.8107e-04],\n",
      "          [ 4.4725e-03,  4.4687e-03,  2.2541e-03,  9.2903e-04,  1.1267e-03]],\n",
      "\n",
      "         [[ 3.8792e-03,  2.8353e-03,  5.1893e-03,  5.5345e-03,  4.9386e-03],\n",
      "          [ 1.8825e-03,  1.9481e-03,  3.8937e-03,  2.3114e-03,  1.9441e-03],\n",
      "          [ 2.6239e-03,  4.0468e-03,  3.2242e-03,  1.8804e-03, -3.9528e-05],\n",
      "          [ 3.2945e-03,  4.3968e-03,  3.6806e-03,  2.5168e-03,  1.6378e-03],\n",
      "          [ 2.5427e-03,  3.2005e-03,  3.2752e-03,  1.4788e-03,  1.1384e-03]],\n",
      "\n",
      "         ...,\n",
      "\n",
      "         [[ 6.0302e-03,  8.5225e-03,  1.0508e-02,  1.4254e-02,  1.1643e-02],\n",
      "          [ 6.9665e-03,  1.0312e-02,  8.6465e-03,  7.9092e-03,  9.9224e-03],\n",
      "          [ 7.1301e-03,  1.2096e-02,  7.5638e-03,  7.5289e-03,  9.3165e-03],\n",
      "          [ 9.4518e-03,  1.2022e-02,  9.4800e-03,  1.0821e-02,  1.0781e-02],\n",
      "          [ 6.9363e-03,  8.2175e-03,  9.1722e-03,  8.3721e-03,  9.0144e-03]],\n",
      "\n",
      "         [[ 5.5301e-04,  1.5533e-03,  1.0703e-03, -9.0318e-04, -5.1382e-04],\n",
      "          [ 1.3743e-03,  2.1828e-03, -6.0353e-04, -5.0014e-05, -5.3698e-04],\n",
      "          [ 2.7981e-03,  3.3269e-03,  1.7244e-03,  1.4055e-03,  2.2874e-03],\n",
      "          [ 3.1735e-03,  2.3620e-03,  6.0686e-04,  5.8285e-04,  3.4415e-03],\n",
      "          [ 1.1165e-03,  9.5830e-04, -2.3292e-04,  4.9274e-04,  2.6393e-03]],\n",
      "\n",
      "         [[ 1.1173e-02,  3.8732e-03,  7.1852e-03,  2.0149e-02,  1.8164e-02],\n",
      "          [ 1.2586e-02,  7.2666e-03,  1.6614e-02,  2.6769e-02,  2.4490e-02],\n",
      "          [ 1.1231e-02,  9.9971e-03,  1.9913e-02,  3.0257e-02,  2.2597e-02],\n",
      "          [ 1.0048e-02,  1.3161e-02,  2.2962e-02,  2.5849e-02,  1.8469e-02],\n",
      "          [ 9.5772e-03,  1.6761e-02,  2.3360e-02,  2.4379e-02,  1.4391e-02]]],\n",
      "\n",
      "\n",
      "        [[[-1.9462e-03,  4.4614e-04, -6.6234e-04, -4.3264e-04, -2.5074e-03],\n",
      "          [ 9.3496e-04,  3.0155e-03,  3.0145e-03, -3.6631e-04, -1.0579e-03],\n",
      "          [ 7.2731e-04, -6.9529e-04, -3.1307e-04, -3.7882e-03, -2.9964e-04],\n",
      "          [ 1.2598e-03,  2.5115e-03, -2.0149e-03, -1.6026e-03,  8.3204e-04],\n",
      "          [-1.1037e-03, -4.8377e-04,  6.8030e-04, -1.9079e-03, -1.1767e-03]],\n",
      "\n",
      "         [[ 4.8791e-05, -9.8991e-04, -1.9839e-03, -7.5090e-04,  2.5979e-04],\n",
      "          [-9.6532e-05, -8.2930e-04,  2.5206e-05, -8.3663e-04,  1.4277e-03],\n",
      "          [-3.8500e-04, -5.5143e-04, -1.6833e-03, -1.2943e-03,  9.5427e-04],\n",
      "          [ 1.3362e-03,  8.0771e-04, -6.9789e-04,  7.2398e-04,  2.0219e-03],\n",
      "          [ 1.3528e-04, -1.1694e-03, -2.2165e-03, -1.8155e-04,  5.6575e-04]],\n",
      "\n",
      "         [[ 3.9138e-04,  1.0367e-03,  5.8970e-04,  6.3639e-04,  1.5751e-03],\n",
      "          [-2.2893e-03, -1.6795e-03, -1.7981e-03,  5.6658e-05,  1.6340e-04],\n",
      "          [-1.3777e-03, -3.1873e-05,  2.5284e-04,  3.2253e-04,  3.2755e-04],\n",
      "          [-9.9834e-04, -1.8646e-04,  2.9945e-04,  7.7918e-04,  7.9697e-04],\n",
      "          [ 3.3494e-04, -3.9148e-04,  8.8566e-04,  5.8998e-04,  1.7360e-03]],\n",
      "\n",
      "         ...,\n",
      "\n",
      "         [[ 3.4906e-03,  1.8736e-03,  3.0263e-03, -6.5480e-05, -9.2534e-04],\n",
      "          [-1.5344e-05, -3.0279e-03, -3.2406e-03, -3.7126e-03, -2.1685e-03],\n",
      "          [-2.8521e-03, -3.3429e-03, -4.2982e-03,  7.5126e-05, -1.0331e-03],\n",
      "          [-9.8724e-04, -2.3873e-03, -2.8783e-03, -1.4220e-03, -4.0221e-03],\n",
      "          [ 1.5633e-03, -1.4168e-03, -4.7354e-03, -2.5241e-03, -4.9460e-03]],\n",
      "\n",
      "         [[-1.3583e-03, -8.3287e-04, -5.0936e-04,  2.8480e-04,  1.0521e-03],\n",
      "          [-7.1120e-04,  2.9639e-04, -5.1025e-04,  6.1560e-04,  5.9659e-04],\n",
      "          [ 4.2548e-04,  1.8927e-04,  2.4246e-03,  1.8082e-03,  1.4642e-03],\n",
      "          [-2.5597e-03, -4.5337e-04,  1.0210e-03,  1.5755e-04, -5.7703e-04],\n",
      "          [-6.9433e-04,  7.4994e-04,  1.6833e-03,  2.8632e-03,  3.1236e-03]],\n",
      "\n",
      "         [[ 4.2913e-03,  6.0498e-03,  1.8423e-03, -5.5352e-03, -1.0155e-02],\n",
      "          [ 5.1282e-03,  2.5569e-03, -3.1416e-03, -9.3632e-03, -9.9714e-03],\n",
      "          [ 4.0358e-03,  3.3662e-03, -2.8127e-03, -9.1084e-03, -7.8981e-03],\n",
      "          [-1.0932e-03, -1.5559e-03, -8.2457e-03, -1.4601e-02, -7.3430e-03],\n",
      "          [ 2.4794e-03,  7.0591e-04, -9.4228e-03, -1.3290e-02, -6.7452e-03]]],\n",
      "\n",
      "\n",
      "        [[[ 1.0095e-03, -7.5738e-06,  2.3790e-04,  1.7082e-04, -1.3794e-03],\n",
      "          [ 1.2893e-03,  1.2571e-03,  4.5241e-04,  1.3329e-03, -1.1759e-03],\n",
      "          [ 7.5049e-04,  2.1434e-04,  5.6781e-05,  1.1927e-03,  1.0780e-04],\n",
      "          [-3.4103e-04,  2.3029e-04,  7.3839e-04,  1.1920e-03,  4.7722e-05],\n",
      "          [-1.5618e-04, -3.4602e-04, -1.8589e-03, -2.6497e-03, -3.1415e-03]],\n",
      "\n",
      "         [[-8.1296e-04, -6.5454e-04, -6.7635e-04, -4.6833e-04, -1.6791e-03],\n",
      "          [-1.0141e-03, -1.1486e-03,  1.3195e-04, -1.2912e-03, -1.6725e-03],\n",
      "          [-1.3510e-03, -1.5821e-03, -9.1247e-04, -2.3095e-03, -6.8489e-04],\n",
      "          [-7.6507e-04, -1.4584e-03, -2.3628e-03, -1.7475e-03, -5.6513e-04],\n",
      "          [-9.8189e-04, -2.3905e-03, -1.8725e-03, -7.6629e-04, -9.7866e-04]],\n",
      "\n",
      "         [[-5.5381e-04, -7.6176e-04, -5.3650e-05, -3.7076e-04, -1.7329e-03],\n",
      "          [-8.0892e-04, -8.6391e-04, -6.6174e-04, -7.6932e-04, -6.1636e-04],\n",
      "          [-1.2585e-03, -9.5046e-04, -1.8363e-03, -1.0321e-03, -1.3951e-03],\n",
      "          [-4.1192e-04, -1.9171e-03, -2.8459e-03, -1.3833e-03, -2.2150e-03],\n",
      "          [ 1.1152e-04, -1.2345e-03, -2.0721e-03, -1.9266e-03, -8.3586e-04]],\n",
      "\n",
      "         ...,\n",
      "\n",
      "         [[ 1.3222e-03,  1.9911e-03,  1.6185e-03,  6.9511e-04, -8.1803e-04],\n",
      "          [-6.5633e-05,  9.4603e-04,  2.3428e-03, -4.0616e-04,  9.9770e-04],\n",
      "          [-1.1045e-03,  7.0989e-04,  9.7122e-04, -2.0606e-03,  1.3851e-03],\n",
      "          [-2.4863e-04, -1.2808e-03, -2.1842e-03, -5.0631e-03, -3.4373e-03],\n",
      "          [ 2.0772e-03, -1.6885e-04, -2.9139e-03, -4.2686e-03, -2.9980e-03]],\n",
      "\n",
      "         [[-1.0167e-03, -1.1854e-03, -6.7044e-04, -1.1906e-03, -1.0701e-03],\n",
      "          [-7.6605e-04, -3.1928e-04, -1.4254e-03, -9.0428e-04, -7.8352e-04],\n",
      "          [-3.1889e-05, -3.6367e-04, -1.2967e-03, -1.6826e-04, -6.8863e-04],\n",
      "          [-3.7346e-04, -6.3654e-04, -4.1263e-04, -6.8131e-04,  1.8251e-04],\n",
      "          [-9.2142e-04, -4.4636e-04,  5.2346e-04,  3.0872e-04,  1.0047e-03]],\n",
      "\n",
      "         [[ 1.9990e-03,  1.0710e-03,  4.6784e-04,  1.2246e-03, -7.3911e-04],\n",
      "          [ 2.5481e-03,  1.1819e-03,  1.1937e-03,  1.0637e-03, -7.6586e-04],\n",
      "          [ 3.4913e-04,  6.2050e-04,  2.2322e-03, -1.0315e-04, -4.1982e-03],\n",
      "          [ 6.9991e-04,  2.8870e-04, -7.0258e-04, -4.8477e-03, -5.9303e-03],\n",
      "          [ 1.5400e-03,  1.8057e-03, -4.5272e-03, -8.1098e-03, -7.8928e-03]]],\n",
      "\n",
      "\n",
      "        ...,\n",
      "\n",
      "\n",
      "        [[[-2.3596e-03, -5.1853e-03, -5.6100e-03, -2.1440e-03, -7.3438e-04],\n",
      "          [-2.3186e-03, -4.3215e-03, -2.4803e-03, -2.0394e-03, -1.7867e-03],\n",
      "          [-1.1178e-03,  5.5948e-04,  3.6765e-03,  1.7163e-03,  1.1322e-03],\n",
      "          [-1.1705e-03,  2.0630e-03,  5.0231e-03,  3.7674e-03,  3.5196e-03],\n",
      "          [ 2.1539e-05,  2.7980e-03,  3.7124e-03,  1.3569e-03,  2.7740e-03]],\n",
      "\n",
      "         [[ 1.0578e-03,  1.2729e-03,  1.9925e-03,  1.5193e-03,  1.1107e-04],\n",
      "          [ 2.5924e-03,  3.0572e-03,  8.7964e-04,  6.8823e-04,  1.5987e-03],\n",
      "          [ 2.2618e-03,  1.5159e-03,  9.4712e-04,  7.2628e-05,  1.1957e-03],\n",
      "          [ 1.2540e-03,  1.9442e-04, -6.1116e-04, -1.1944e-03, -2.0719e-05],\n",
      "          [ 3.9042e-04,  1.0066e-03, -4.5542e-04, -1.3056e-04,  3.1703e-04]],\n",
      "\n",
      "         [[ 1.1236e-03,  2.9679e-03,  2.6867e-03,  1.1901e-03,  9.0952e-04],\n",
      "          [ 2.3384e-03,  3.3360e-03,  2.3545e-03,  1.3708e-03,  1.1563e-03],\n",
      "          [ 7.9900e-04,  1.0614e-03, -1.2066e-04,  8.0282e-04,  7.1853e-04],\n",
      "          [ 2.5705e-03,  2.3281e-04, -5.8942e-04, -9.8729e-04, -6.4564e-05],\n",
      "          [ 1.3950e-03,  6.2714e-04,  3.6732e-04,  5.2438e-04, -4.4871e-04]],\n",
      "\n",
      "         ...,\n",
      "\n",
      "         [[-6.6140e-04, -3.8454e-04,  8.9064e-04, -4.8913e-04, -9.2761e-04],\n",
      "          [ 1.6214e-03,  1.1792e-03,  5.4818e-03,  5.1839e-03,  3.4014e-03],\n",
      "          [-1.9050e-03,  1.4640e-03,  4.7283e-03,  4.8778e-03,  3.1252e-03],\n",
      "          [-2.3097e-03,  7.0408e-04,  9.3080e-04,  2.6019e-03,  3.9851e-03],\n",
      "          [-9.3167e-04,  4.1062e-03,  1.8738e-03,  3.1145e-03,  1.8496e-03]],\n",
      "\n",
      "         [[ 1.1420e-03,  9.2424e-04, -9.3518e-04, -1.0471e-03,  1.0924e-04],\n",
      "          [-8.0097e-04, -1.9110e-03, -1.3323e-03, -9.2115e-04, -8.9228e-05],\n",
      "          [ 7.8112e-04, -1.2024e-03, -8.0094e-04, -8.6912e-04, -6.3238e-04],\n",
      "          [ 1.0150e-03, -6.8555e-04,  5.6263e-04,  1.9988e-03,  9.0439e-05],\n",
      "          [-4.6766e-04, -6.4355e-04,  1.3054e-03,  1.1180e-03, -6.5623e-05]],\n",
      "\n",
      "         [[-9.6212e-03, -7.1705e-03, -4.0494e-03, -1.6763e-04,  1.6153e-03],\n",
      "          [-6.4861e-03, -1.0466e-04,  3.8113e-03,  3.4003e-03,  3.1939e-03],\n",
      "          [-1.4999e-03,  6.0834e-03,  6.1586e-03,  5.8843e-03,  5.2787e-03],\n",
      "          [ 4.4339e-03,  5.9273e-03,  7.4283e-03,  4.6288e-03,  7.1551e-03],\n",
      "          [ 1.9077e-03,  3.1239e-03,  3.7618e-03,  4.9374e-03,  5.7551e-03]]],\n",
      "\n",
      "\n",
      "        [[[-8.0037e-04,  1.3821e-03,  2.9816e-05,  1.8738e-03,  2.0806e-03],\n",
      "          [ 2.8915e-03,  3.7838e-03,  2.7023e-03,  4.1817e-03,  1.5497e-03],\n",
      "          [ 1.5423e-03,  1.9958e-03,  2.0366e-03,  1.7102e-04, -2.0261e-03],\n",
      "          [ 1.0524e-03, -3.9459e-04, -5.9767e-04, -2.4306e-04, -5.4420e-03],\n",
      "          [ 1.7901e-04, -1.1572e-03,  4.1206e-05, -4.2701e-04, -3.4677e-04]],\n",
      "\n",
      "         [[-2.9245e-04, -2.7072e-04,  6.6610e-04, -2.9596e-05, -1.2199e-03],\n",
      "          [-1.7050e-03, -7.0206e-04, -3.1516e-04, -1.8973e-03,  5.6283e-04],\n",
      "          [-5.1160e-04,  1.1050e-03, -1.8374e-04, -1.9128e-03, -2.7891e-04],\n",
      "          [-1.1025e-03,  1.1948e-03, -9.4938e-04, -1.6622e-03,  6.0149e-04],\n",
      "          [ 7.0115e-04,  1.2856e-03, -7.0546e-04, -6.9925e-04, -1.9600e-05]],\n",
      "\n",
      "         [[ 2.5455e-04,  4.5457e-04,  8.9899e-04, -1.1085e-03, -2.3736e-03],\n",
      "          [-1.4101e-03, -9.3223e-05, -4.4511e-04, -7.5882e-04, -1.7366e-03],\n",
      "          [-2.7590e-03, -1.7161e-03, -1.3541e-03, -1.7406e-04, -2.6375e-04],\n",
      "          [ 6.4076e-05,  6.3009e-04, -3.6717e-04,  1.2885e-03,  3.3620e-05],\n",
      "          [ 1.3491e-03,  1.2962e-03,  4.8844e-04,  7.0116e-04, -2.9572e-04]],\n",
      "\n",
      "         ...,\n",
      "\n",
      "         [[ 4.4762e-03,  3.1226e-03,  6.2308e-03,  1.9791e-03, -5.0668e-04],\n",
      "          [ 5.8549e-03,  3.7782e-03,  7.8269e-03, -1.3413e-03, -3.4963e-07],\n",
      "          [ 1.6370e-03, -6.6287e-04, -7.0823e-04, -3.1922e-03,  8.9952e-04],\n",
      "          [ 4.1705e-03,  1.5381e-03,  1.8629e-04,  3.7348e-04,  6.5416e-03],\n",
      "          [ 5.7803e-03,  6.8749e-03,  7.2746e-03,  4.8598e-03,  5.6885e-03]],\n",
      "\n",
      "         [[-1.8799e-03, -9.5273e-04, -1.6507e-03, -1.1238e-03, -6.2856e-04],\n",
      "          [-8.4894e-04,  1.0842e-03, -5.5953e-04,  6.6377e-04,  8.3797e-05],\n",
      "          [ 1.2224e-03,  1.0301e-03, -7.0590e-04,  2.4463e-04,  1.0235e-03],\n",
      "          [ 7.5952e-04, -3.1769e-05, -4.2490e-04,  4.9672e-04, -2.8096e-04],\n",
      "          [-1.9486e-03, -2.5135e-03, -8.5706e-04, -1.8893e-03, -3.3772e-03]],\n",
      "\n",
      "         [[ 7.5655e-03,  5.2282e-03,  7.4936e-03,  8.7128e-03,  4.1108e-03],\n",
      "          [ 8.7471e-03,  6.6276e-03,  1.1575e-02,  7.0033e-03, -6.5724e-04],\n",
      "          [ 6.5885e-03,  4.7319e-03,  8.7657e-03,  1.1014e-03, -6.2490e-03],\n",
      "          [ 6.0194e-03,  5.5538e-03,  7.3146e-03,  3.2684e-03, -8.7074e-04],\n",
      "          [ 6.8732e-03,  9.0468e-03,  7.7562e-03,  6.8999e-03,  6.0399e-03]]],\n",
      "\n",
      "\n",
      "        [[[-3.6778e-03, -5.2496e-03, -8.4965e-03, -7.7839e-03, -5.6778e-03],\n",
      "          [-4.8819e-03, -4.9769e-03, -3.5442e-03, -3.8039e-03, -1.0327e-03],\n",
      "          [-3.1276e-03, -3.7132e-03, -8.2027e-04,  1.4818e-03,  1.0771e-03],\n",
      "          [-7.5989e-03, -5.0119e-03, -3.0297e-03, -2.4096e-03, -3.3816e-03],\n",
      "          [-1.5555e-03, -1.0107e-03, -1.5824e-03, -2.4720e-03, -3.2255e-03]],\n",
      "\n",
      "         [[-2.5917e-03, -6.8748e-04, -1.0322e-03, -1.2712e-04, -4.7992e-04],\n",
      "          [-1.0613e-03, -1.3455e-03, -1.2482e-03, -1.6338e-04, -2.0630e-03],\n",
      "          [-2.5146e-03, -1.4704e-03, -2.5449e-03, -2.3735e-03, -5.4450e-03],\n",
      "          [-2.3372e-03, -2.6348e-03, -1.3427e-03, -2.9510e-03, -4.1801e-03],\n",
      "          [-2.4056e-03, -2.1455e-03, -1.9339e-03, -3.0549e-03, -2.9290e-03]],\n",
      "\n",
      "         [[-2.0018e-03, -1.2483e-03, -1.7104e-04, -3.2813e-05, -4.0992e-04],\n",
      "          [-2.1109e-03, -2.2958e-03, -2.0511e-03, -2.2510e-03, -3.0137e-03],\n",
      "          [-2.4991e-03, -2.4384e-03, -3.5910e-03, -4.1811e-03, -4.3261e-03],\n",
      "          [-1.2872e-03, -2.2820e-03, -2.7361e-03, -3.0997e-03, -1.9847e-03],\n",
      "          [-2.2337e-03, -2.3015e-03, -2.3369e-03, -2.3223e-03, -2.2931e-03]],\n",
      "\n",
      "         ...,\n",
      "\n",
      "         [[-5.2959e-03, -4.6269e-03, -1.3670e-03, -1.1803e-03, -2.5858e-04],\n",
      "          [-3.9011e-03, -5.5671e-03, -3.2793e-03, -5.6298e-04, -2.2038e-03],\n",
      "          [-4.0980e-03, -6.2257e-03, -5.6162e-03, -3.9990e-03, -7.5780e-03],\n",
      "          [-1.8326e-03, -2.7508e-03, -1.4452e-03, -4.7360e-03, -4.7307e-03],\n",
      "          [-2.1205e-03, -9.8286e-04, -2.6158e-03, -5.3763e-03, -4.8359e-03]],\n",
      "\n",
      "         [[-1.1868e-03, -1.3035e-03, -2.6340e-03, -3.5956e-03, -3.0390e-03],\n",
      "          [-1.1199e-03, -2.4327e-03, -4.2603e-03, -4.7453e-03, -3.8930e-03],\n",
      "          [-6.0230e-04, -2.7765e-03, -2.6150e-03, -1.9287e-03, -9.9701e-04],\n",
      "          [-1.8127e-03, -1.4949e-03, -1.8724e-03, -7.9488e-04, -8.7690e-04],\n",
      "          [-3.8919e-03, -2.8750e-03, -1.9435e-03, -1.8095e-03, -1.6898e-03]],\n",
      "\n",
      "         [[-1.3345e-02, -1.2711e-02, -1.1043e-02, -7.1026e-03, -4.6733e-03],\n",
      "          [-1.2906e-02, -9.6510e-03, -4.0897e-03, -2.7533e-03, -9.2982e-04],\n",
      "          [-1.2141e-02, -6.2639e-03, -5.6133e-03, -3.8489e-03, -4.0378e-03],\n",
      "          [-4.6511e-03, -5.1193e-03, -6.1079e-03, -5.7042e-03, -9.4156e-03],\n",
      "          [-1.7058e-03, -3.8376e-03, -8.7784e-03, -7.1543e-03, -1.0330e-02]]]])\n",
      "torch.Size([50])\n",
      "tensor([ 1.0248e-02, -4.0498e-04, -2.4586e-03,  2.6921e-03,  8.2020e-04,\n",
      "         9.1011e-03, -6.0195e-03, -3.1706e-03,  1.0844e-03,  3.5425e-03,\n",
      "         9.2864e-03,  4.6078e-04,  8.0381e-03, -1.4709e-03,  1.4742e-03,\n",
      "         8.2715e-04,  1.0444e-02,  3.9383e-04,  1.3585e-03,  6.5994e-03,\n",
      "         2.2265e-03,  2.8309e-03, -5.8339e-03, -8.4915e-04, -3.0297e-03,\n",
      "        -2.2724e-03,  1.5038e-03, -1.0247e-02,  5.8106e-03,  7.9445e-03,\n",
      "        -2.6353e-04, -3.7558e-03, -7.8813e-03, -1.9186e-03, -2.1232e-03,\n",
      "        -7.8588e-04,  5.3111e-03,  4.4688e-05,  3.9519e-03, -1.9283e-03,\n",
      "        -1.9339e-03, -8.0307e-04, -2.6350e-03, -5.8455e-04, -8.2179e-04,\n",
      "        -9.6914e-04,  3.2820e-03,  1.4762e-03,  8.3632e-04, -8.1603e-03])\n",
      "layer 3\n",
      "torch.Size([500, 800])\n",
      "tensor([[-3.6123e-05, -5.9885e-04,  1.7019e-04,  ...,  1.4162e-04,\n",
      "          9.9000e-05,  3.1549e-04],\n",
      "        [-6.9454e-04, -2.1665e-03, -1.3718e-03,  ..., -2.3420e-04,\n",
      "         -3.2503e-04,  2.1071e-04],\n",
      "        [-1.7304e-04, -2.0725e-03, -2.0699e-03,  ..., -4.2873e-04,\n",
      "         -1.0312e-03, -1.1944e-03],\n",
      "        ...,\n",
      "        [ 6.0863e-04,  1.0303e-03, -2.3834e-04,  ..., -2.1236e-05,\n",
      "          1.1602e-05, -5.1070e-05],\n",
      "        [ 0.0000e+00, -2.6086e-05, -4.7721e-05,  ..., -1.2159e-04,\n",
      "         -3.5519e-04, -7.3218e-05],\n",
      "        [-1.1759e-03, -3.2605e-03, -2.8695e-03,  ..., -7.0438e-04,\n",
      "         -1.1656e-03, -1.3224e-03]])\n",
      "torch.Size([500])\n",
      "tensor([-2.0063e-04, -5.5711e-03, -4.9555e-03,  6.0185e-03, -4.8220e-05,\n",
      "         2.3975e-04,  5.1186e-03, -3.0784e-03, -2.0336e-03,  5.1761e-03,\n",
      "        -2.4128e-03,  2.4269e-04,  8.2835e-04,  2.0541e-04,  2.0278e-04,\n",
      "        -1.9506e-04, -1.0819e-03,  3.8158e-03,  7.9982e-05,  4.8761e-03,\n",
      "         3.0177e-03,  2.7728e-03,  0.0000e+00, -4.3905e-04, -1.1174e-03,\n",
      "         0.0000e+00,  2.6176e-03,  3.4721e-03,  1.8352e-03, -6.7220e-04,\n",
      "        -5.3970e-04, -3.5303e-03,  0.0000e+00,  5.0070e-04, -3.4549e-03,\n",
      "         3.7107e-03, -5.9712e-03,  9.8449e-04, -8.3741e-03, -4.0671e-03,\n",
      "        -7.6296e-04, -1.0189e-03,  5.2684e-03, -2.3545e-03, -1.1392e-03,\n",
      "         2.6511e-03, -2.3644e-04,  0.0000e+00,  6.9150e-05,  0.0000e+00,\n",
      "         0.0000e+00,  0.0000e+00,  0.0000e+00,  1.1249e-03, -1.8564e-03,\n",
      "        -3.5580e-03,  0.0000e+00, -2.3666e-03,  2.0282e-03, -3.1535e-03,\n",
      "        -3.9739e-04,  5.9253e-03,  0.0000e+00,  3.9844e-03,  8.0182e-04,\n",
      "        -2.3833e-03, -2.4777e-04,  2.6849e-04,  1.5345e-05,  0.0000e+00,\n",
      "         0.0000e+00, -7.7518e-04,  2.9476e-05, -2.3189e-04,  7.5998e-04,\n",
      "         8.0078e-04,  1.9431e-03,  3.4653e-04, -7.5036e-05,  3.4258e-03,\n",
      "         0.0000e+00,  2.3823e-03,  8.2195e-05, -4.2535e-03,  1.4625e-03,\n",
      "         3.1861e-03,  3.6470e-05,  1.9304e-04, -7.1281e-05, -4.3279e-03,\n",
      "        -2.9176e-03, -9.8678e-04, -5.5166e-03,  1.6375e-04, -6.6447e-04,\n",
      "         1.2388e-03, -1.0082e-03,  0.0000e+00,  9.4402e-04,  4.2160e-03,\n",
      "         0.0000e+00,  4.0829e-04,  2.4748e-03,  0.0000e+00, -2.0198e-03,\n",
      "         4.6676e-03,  7.4610e-04, -1.1073e-03, -6.6041e-03, -1.5566e-03,\n",
      "        -9.0239e-04,  0.0000e+00, -2.1092e-03,  2.4336e-03, -1.0074e-04,\n",
      "         0.0000e+00,  1.8427e-03,  1.2030e-03,  6.4701e-03, -1.9414e-03,\n",
      "        -1.3205e-03, -2.7083e-04,  6.7526e-03,  8.4737e-04,  5.4111e-05,\n",
      "         0.0000e+00,  4.9159e-03,  2.9957e-03,  4.1995e-03,  0.0000e+00,\n",
      "         1.7001e-03, -4.6208e-03, -4.4924e-03,  0.0000e+00,  9.1281e-04,\n",
      "        -5.4950e-03, -1.8691e-03,  1.1060e-03, -3.4786e-03, -7.5987e-03,\n",
      "        -1.1936e-03,  2.1565e-03, -2.0545e-03, -2.4128e-03,  0.0000e+00,\n",
      "         1.0559e-02, -3.4310e-03,  7.4687e-04, -3.6443e-03, -1.6049e-03,\n",
      "         2.8517e-03, -1.4383e-03,  3.0825e-03,  1.0564e-03,  0.0000e+00,\n",
      "         1.7605e-03,  4.2902e-03, -4.2049e-03,  0.0000e+00, -4.7482e-04,\n",
      "         0.0000e+00,  5.9569e-03, -5.7432e-04,  0.0000e+00,  2.6037e-04,\n",
      "         8.6510e-04,  9.6117e-04,  1.5503e-03, -1.6636e-03,  3.3060e-03,\n",
      "         3.8327e-03,  1.8109e-03,  0.0000e+00,  1.1387e-03, -8.4284e-06,\n",
      "         1.1680e-04,  6.7136e-03, -3.3091e-03, -4.2688e-03,  6.3001e-04,\n",
      "        -3.0465e-04, -1.5133e-03,  0.0000e+00,  4.3767e-03,  5.9144e-04,\n",
      "         0.0000e+00,  1.2196e-03, -4.8654e-03,  0.0000e+00,  3.5739e-03,\n",
      "         0.0000e+00,  2.8118e-03, -2.7401e-03, -4.0361e-03,  2.3280e-03,\n",
      "         1.1943e-03,  9.4719e-04, -6.6168e-04,  1.2878e-03, -1.5756e-03,\n",
      "        -4.1113e-03,  4.1483e-03,  5.9574e-03,  2.7150e-03, -6.9208e-04,\n",
      "         0.0000e+00, -2.8927e-04, -6.9014e-04, -5.7491e-03,  6.8094e-04,\n",
      "         0.0000e+00, -3.3150e-04, -5.2412e-03, -2.7101e-03,  2.2378e-03,\n",
      "         4.1528e-03, -4.2486e-04, -3.3260e-03, -6.3967e-03, -3.6355e-03,\n",
      "         6.3582e-03, -1.0307e-03,  1.7835e-03, -1.0952e-03,  3.4736e-03,\n",
      "        -1.3754e-03,  1.0334e-04,  1.2741e-03,  3.3639e-03,  1.7416e-03,\n",
      "         0.0000e+00,  6.3125e-03, -1.1103e-03, -6.1192e-03,  0.0000e+00,\n",
      "         3.3359e-03, -5.0983e-03, -1.2250e-03, -3.7026e-03,  1.0832e-02,\n",
      "        -5.4603e-03,  3.2365e-03,  6.4047e-03, -2.4206e-03,  0.0000e+00,\n",
      "        -1.5604e-04,  1.6215e-04, -3.8419e-04,  1.2560e-03, -6.5571e-04,\n",
      "         6.3535e-03, -9.5386e-04,  2.5694e-03,  3.1031e-03, -2.7910e-04,\n",
      "        -1.8709e-04,  1.1922e-04,  2.3806e-05,  4.5107e-04, -6.3519e-04,\n",
      "        -2.1454e-03, -5.2056e-04,  3.4016e-03, -5.5019e-04,  3.2682e-03,\n",
      "        -3.1017e-03, -1.1027e-03,  6.0062e-04, -3.1940e-03,  7.8063e-04,\n",
      "         2.7110e-03, -4.0133e-03, -2.8309e-03,  0.0000e+00,  9.4396e-03,\n",
      "        -3.2710e-03, -6.0357e-03,  2.9142e-03, -5.5411e-04,  3.4943e-03,\n",
      "        -1.3018e-03,  0.0000e+00, -1.1561e-03, -4.6014e-03,  4.8649e-04,\n",
      "         1.3994e-03, -1.2923e-03, -4.2597e-04, -1.2696e-03,  0.0000e+00,\n",
      "        -2.5136e-03,  7.7587e-04,  3.1042e-04,  2.7316e-03,  3.7261e-04,\n",
      "         5.1529e-04, -2.2132e-03, -3.5691e-04,  2.2757e-05,  2.0253e-03,\n",
      "        -7.3838e-04,  0.0000e+00, -1.0749e-03, -1.0766e-03, -4.8660e-03,\n",
      "        -2.3796e-03,  8.4834e-04,  2.3245e-03,  0.0000e+00,  0.0000e+00,\n",
      "         0.0000e+00, -1.1465e-03, -3.6055e-04, -2.8108e-03, -8.7077e-04,\n",
      "         0.0000e+00, -3.2090e-04,  0.0000e+00,  3.3467e-03,  6.3989e-03,\n",
      "         0.0000e+00, -3.0784e-03, -4.0927e-03, -2.4218e-03, -1.0115e-03,\n",
      "        -2.5686e-03,  0.0000e+00, -9.2365e-04, -9.7989e-04,  4.9036e-04,\n",
      "        -1.8275e-03,  3.1957e-03,  1.3624e-03,  0.0000e+00, -7.2686e-03,\n",
      "        -5.5209e-04,  0.0000e+00, -2.7406e-03, -1.2386e-03, -2.1595e-03,\n",
      "         0.0000e+00,  0.0000e+00, -1.2558e-03,  0.0000e+00, -3.5028e-03,\n",
      "        -4.0235e-03, -3.0896e-03,  3.2536e-03,  2.7314e-03, -5.0509e-04,\n",
      "         2.3201e-03,  0.0000e+00,  2.3586e-03,  8.4499e-03,  5.2349e-03,\n",
      "         0.0000e+00,  0.0000e+00, -1.7994e-03, -6.4714e-03,  2.0272e-03,\n",
      "         0.0000e+00,  1.2737e-05, -4.9085e-04, -3.5303e-04,  8.3987e-04,\n",
      "        -1.4397e-03,  8.3405e-04, -5.1320e-03,  8.5942e-03,  2.9981e-03,\n",
      "        -2.5943e-04,  0.0000e+00,  3.5027e-03,  0.0000e+00,  5.3521e-04,\n",
      "         3.0856e-04,  0.0000e+00,  2.1322e-04,  6.6559e-03,  3.7805e-03,\n",
      "        -8.0812e-05,  1.6581e-03, -4.0642e-03, -3.5208e-05,  2.2570e-03,\n",
      "         1.7368e-03, -1.3055e-03,  1.0189e-03, -2.6876e-03,  8.0298e-03,\n",
      "        -2.1337e-04, -1.8160e-03,  1.2574e-03,  4.1871e-03, -6.6838e-04,\n",
      "        -2.8888e-03,  0.0000e+00,  6.6220e-03,  1.4525e-03, -4.6535e-04,\n",
      "        -1.6144e-03,  5.6394e-03,  6.5991e-04,  0.0000e+00,  4.1818e-03,\n",
      "         8.9132e-04, -1.1303e-03, -1.0993e-04,  0.0000e+00,  3.7264e-04,\n",
      "        -8.3913e-04,  0.0000e+00, -5.8018e-03,  0.0000e+00, -3.1512e-03,\n",
      "        -2.4840e-04,  9.2852e-04,  5.1126e-03,  0.0000e+00,  0.0000e+00,\n",
      "         1.8354e-03, -2.7726e-04,  1.4033e-03, -1.1750e-02,  4.4062e-03,\n",
      "         8.1424e-04,  7.5750e-04,  0.0000e+00, -3.0961e-03,  4.5613e-03,\n",
      "         2.7552e-03, -3.3371e-03, -1.0483e-03, -1.1658e-04,  0.0000e+00,\n",
      "        -4.2108e-03,  8.7944e-04,  0.0000e+00, -1.5908e-03,  0.0000e+00,\n",
      "        -1.7331e-03,  3.7931e-03, -5.0562e-03,  6.9224e-04, -1.7064e-04,\n",
      "         0.0000e+00, -6.6464e-06,  2.3402e-03,  2.6648e-04, -2.8058e-03,\n",
      "         0.0000e+00,  0.0000e+00,  6.0967e-05,  1.7244e-03, -2.1284e-03,\n",
      "        -1.0911e-03,  1.7230e-03, -1.5631e-03, -2.5216e-03,  1.0210e-03,\n",
      "         7.2754e-03,  3.7759e-03, -2.9138e-03, -6.8646e-04,  4.1658e-03,\n",
      "         4.8198e-04,  1.9702e-03,  0.0000e+00, -1.8163e-04, -5.6173e-04,\n",
      "        -5.4214e-04,  7.9956e-04, -1.2782e-04, -5.1733e-03, -2.5363e-03,\n",
      "         6.2734e-04, -4.3186e-04,  4.6266e-03,  1.4895e-04,  7.3400e-04,\n",
      "        -3.2535e-03,  1.1812e-03, -2.3347e-03, -3.6685e-03, -1.0218e-04,\n",
      "         5.6171e-03, -8.4160e-04, -7.2729e-04,  2.2110e-03,  4.3798e-03,\n",
      "         6.9074e-05,  2.1064e-04,  2.5118e-04, -6.4200e-03, -8.3449e-04,\n",
      "        -3.6552e-04,  0.0000e+00,  1.3130e-03, -3.6215e-04, -8.1188e-03])\n",
      "layer 4\n",
      "torch.Size([10, 500])\n",
      "tensor([[ 0.0014,  0.0008,  0.0055,  ...,  0.0013,  0.0001, -0.0067],\n",
      "        [ 0.0015,  0.0122,  0.0404,  ...,  0.0013,  0.0001,  0.0429],\n",
      "        [ 0.0012,  0.0137,  0.0330,  ..., -0.0002,  0.0002,  0.0300],\n",
      "        ...,\n",
      "        [-0.0044,  0.0070,  0.0110,  ...,  0.0012,  0.0001, -0.0014],\n",
      "        [ 0.0013, -0.0025, -0.0018,  ..., -0.0038,  0.0002,  0.0091],\n",
      "        [ 0.0004,  0.0010, -0.0416,  ...,  0.0010,  0.0001, -0.0415]])\n",
      "torch.Size([10])\n",
      "tensor([ 0.0137,  0.0846,  0.0678,  0.0207, -0.0370, -0.0200, -0.0528, -0.0188,\n",
      "         0.0304, -0.0885])\n"
     ]
    }
   ],
   "source": [
    "weight_list = list(model.parameters())\n",
    "\n",
    "for i in range(len(weight_list)):\n",
    "    if(i%2==0):\n",
    "        print('layer',int(i/2)+1)\n",
    "    print(weight_list[i].shape)\n",
    "    print(weight_list[i].grad)"
   ]
  },
  {
   "cell_type": "markdown",
   "metadata": {},
   "source": [
    "## Start Training"
   ]
  },
  {
   "cell_type": "code",
   "execution_count": 131,
   "metadata": {},
   "outputs": [],
   "source": [
    "epochs = 1\n",
    "log_interval = 100"
   ]
  },
  {
   "cell_type": "code",
   "execution_count": 132,
   "metadata": {},
   "outputs": [
    {
     "name": "stderr",
     "output_type": "stream",
     "text": [
      "/Users/changmin.kim/anaconda3/lib/python3.7/site-packages/ipykernel_launcher.py:17: UserWarning: Implicit dimension choice for log_softmax has been deprecated. Change the call to include dim=X as an argument.\n"
     ]
    },
    {
     "name": "stdout",
     "output_type": "stream",
     "text": [
      "Train Epoch: 1 [0/60000 (0%)]\tLoss: 2.243374\n",
      "Train Epoch: 1 [6400/60000 (11%)]\tLoss: 0.519768\n",
      "Train Epoch: 1 [12800/60000 (21%)]\tLoss: 0.191487\n",
      "Train Epoch: 1 [19200/60000 (32%)]\tLoss: 0.137811\n",
      "Train Epoch: 1 [25600/60000 (43%)]\tLoss: 0.069902\n",
      "Train Epoch: 1 [32000/60000 (53%)]\tLoss: 0.182901\n",
      "Train Epoch: 1 [38400/60000 (64%)]\tLoss: 0.061660\n",
      "Train Epoch: 1 [44800/60000 (75%)]\tLoss: 0.052952\n",
      "Train Epoch: 1 [51200/60000 (85%)]\tLoss: 0.106845\n",
      "Train Epoch: 1 [57600/60000 (96%)]\tLoss: 0.052099\n"
     ]
    }
   ],
   "source": [
    "for epoch in range(1,epochs+1):\n",
    "    # Train Mode\n",
    "    model.train()\n",
    "    for batch_idx, (data,target) in enumerate(train_loader):\n",
    "        data, target = data.to(device), target.to(device)\n",
    "        model.zero_grad()\n",
    "        output = model(data)\n",
    "        loss = F.nll_loss(output,target)\n",
    "        loss.backward()\n",
    "        optimizer.step()\n",
    "        if batch_idx % log_interval ==0:\n",
    "            print('Train Epoch: {} [{}/{} ({:.0f}%)]\\tLoss: {:.6f}'.format(\n",
    "                epoch, batch_idx * len(data), len(train_loader.dataset),\n",
    "                100 * batch_idx / len(train_loader), loss.item()\n",
    "            ))"
   ]
  },
  {
   "cell_type": "markdown",
   "metadata": {},
   "source": [
    "## Evalutaion\n",
    "- 앞에서 model.train()모드로 변한 것처럼 평가 할 때는 model.eval()로 설정.\n",
    "    - Batach Normalization 이나 Drop Out 같은 Layer들을 잠금"
   ]
  },
  {
   "cell_type": "code",
   "execution_count": 133,
   "metadata": {},
   "outputs": [
    {
     "data": {
      "text/plain": [
       "Net(\n",
       "  (conv1): Conv2d(1, 20, kernel_size=(5, 5), stride=(1, 1))\n",
       "  (conv2): Conv2d(20, 50, kernel_size=(5, 5), stride=(1, 1))\n",
       "  (fc1): Linear(in_features=800, out_features=500, bias=True)\n",
       "  (fc2): Linear(in_features=500, out_features=10, bias=True)\n",
       ")"
      ]
     },
     "execution_count": 133,
     "metadata": {},
     "output_type": "execute_result"
    }
   ],
   "source": [
    "model.eval()"
   ]
  },
  {
   "cell_type": "markdown",
   "metadata": {},
   "source": [
    "- autograd engine, 즉 backpropagation이나 gradient 계산등을 꺼서 memory usage를 줄이고 속도를 높인다."
   ]
  },
  {
   "cell_type": "code",
   "execution_count": 287,
   "metadata": {},
   "outputs": [
    {
     "name": "stdout",
     "output_type": "stream",
     "text": [
      "correct 0.9375\n",
      "correct 1.921875\n",
      "0.28191421180963516\n",
      "0.14095710590481758\n",
      "정확도 96.09375\n"
     ]
    },
    {
     "name": "stderr",
     "output_type": "stream",
     "text": [
      "/Users/changmin.kim/anaconda3/lib/python3.7/site-packages/ipykernel_launcher.py:17: UserWarning: Implicit dimension choice for log_softmax has been deprecated. Change the call to include dim=X as an argument.\n"
     ]
    }
   ],
   "source": [
    "test_loss = 0\n",
    "correct = 0\n",
    "\n",
    "epoch = 2\n",
    "for i in range(epoch):\n",
    "    with torch.no_grad():\n",
    "        data, target = next(iter(test_loader))\n",
    "        data, target = data.to(device), target.to(device)\n",
    "        output = model(data)\n",
    "        test_loss += F.nll_loss(output, target,reduction='mean').item()\n",
    "\n",
    "        pred = output.argmax(dim=1, keepdim=True)# 0차원은 바뀌지 않게 한다.\n",
    "        correct += (pred.eq(target.view_as(pred)).sum().item())/64\n",
    "        print(\"correct\",correct)\n",
    "print(test_loss)\n",
    "print(test_loss/epoch)\n",
    "print(\"정확도\",correct*100/epoch)\n"
   ]
  },
  {
   "cell_type": "markdown",
   "metadata": {},
   "source": [
    "## 가정\n",
    "모델을 만드는 이유는 현실을 좀 더 단순한 형태로 표현하기 위해서 불필요하다고 생각하는 정보들을 버려야 한다. 필요한 정보만 추출하는 것이 가정이다.\n",
    "\n",
    "## 선형 회귀분석의 4가지 기본가정\n",
    "\n",
    "- (1) 선형성\n",
    "- (2) 독립성\n",
    "- (3) 등분산성\n",
    "- (4) 정규성"
   ]
  },
  {
   "cell_type": "markdown",
   "metadata": {},
   "source": [
    "## 선형/비선형 함수\n",
    "\n",
    "### 선형 함수\n",
    "- 선형이라는 것은 직선이 아닐 지라도 직선의 특징을 가지고 있다는 것을 의미한다.\n",
    "- 중첩의원리 또는 선형성의 원리를 가짐.\n",
    "- **중첩의 원리**\n",
    "    - T(cu) = cT(u)\n",
    "    - T(u+v) = T(u) + T(v)\n",
    "- 예측이 가능하다.\n",
    "$${ex)y=3x}$$\n",
    "\n",
    "![](https://t1.daumcdn.net/cfile/tistory/2761F3505550195A2D)\n",
    "\n",
    "### 비선형 함수 \n",
    "- 예측이 어려워진다.\n",
    "- 변수가 많아져 복잡해진다.\n",
    "$${ex)y = x^2 }$$\n",
    "![](https://t1.daumcdn.net/cfile/tistory/2602794755501D042D)\n",
    "\n",
    "## 활성화 함수\n",
    "- 선형 함수가 아닌 비선형 함수를 사용해야된다.\n",
    "- ex) 선형함수로 할시 예측가능 하다.\n",
    "$${f(x) = cx, h = f(f(x1)+f(x2))}$$\n",
    "$${h = f^2(x1+x2)}$$\n",
    "- 비선형함수로 할시 여러 장점들이 생긴다.\n",
    "    - 예측 가능하지 않아서 layer가 복잡해지고 깊어진다.\n",
    "        - 복잡해지면 변수가 많아져 계산량이 많아진다.\n",
    "- 여러 활성화 비선형 함수는 필요없는 노드를 제거하기 위한용도 \n",
    "\n",
    "\n",
    "**Fullly-Connected Layer(Dense Layer)**\n",
    "- 모든 뉴런이 서로 연결된 계층.\n",
    "\n",
    "## Shallow Neural NetWork(얕은 신경망)\n",
    "- 입력, 은닉, 출력의 3가지 계층으로 되어 있으며, 은닉 계층과 출력 계층이 Fully Connected 계층인 모델.\n",
    "\n",
    "![](https://heung-bae-lee.github.io/image/regression.png)\n",
    "- 회귀의 경우 전 범위의 연속된 값을 출력하므로, 보통 identity function(항등 함수)을 사용한다. \n",
    "\n",
    "$${ y = identityF(wx^i) + bias(noise)}$$"
   ]
  },
  {
   "cell_type": "code",
   "execution_count": 137,
   "metadata": {},
   "outputs": [
    {
     "data": {
      "image/png": "[encoded data removed]",
      "text/plain": [
       "<Figure size 1080x504 with 3 Axes>"
      ]
     },
     "metadata": {
      "needs_background": "light"
     },
     "output_type": "display_data"
    }
   ],
   "source": [
    "identity = 3\n",
    "X = 2*np.random.rand(100,1)\n",
    "Y = 4 + identity*X + np.random.randn(100,1)\n",
    "Y_copy = Y\n",
    "plt.figure(figsize=(15,7))\n",
    "plt.subplot(1,3,1)\n",
    "plt.title('Linear Regression')\n",
    "plt.plot(X,Y,'b.')\n",
    "\n",
    "Y = 4 + identity*X \n",
    "plt.subplot(1,3,2)\n",
    "plt.title(' appearance,')\n",
    "plt.plot(X,Y,'r.')\n",
    "\n",
    "\n",
    "plt.subplot(1,3,3)\n",
    "plt.title('f(x)=3x+4')\n",
    "Y = Y_copy\n",
    "plt.plot(X,Y,'b.')\n",
    "Y = 4 + identity*X \n",
    "plt.plot(X,Y,'r')\n",
    "plt.show()"
   ]
  },
  {
   "cell_type": "markdown",
   "metadata": {},
   "source": [
    "![](https://heung-bae-lee.github.io/image/classification.png)"
   ]
  },
  {
   "cell_type": "code",
   "execution_count": 138,
   "metadata": {},
   "outputs": [],
   "source": [
    "a = 13\n",
    "b = 3\n",
    "c = 9"
   ]
  },
  {
   "cell_type": "code",
   "execution_count": 139,
   "metadata": {},
   "outputs": [],
   "source": [
    "a_num = np.exp(a)/(np.exp(a)+np.exp(b)+np.exp(c))"
   ]
  },
  {
   "cell_type": "code",
   "execution_count": 140,
   "metadata": {},
   "outputs": [],
   "source": [
    "b_num = np.exp(b)/(np.exp(a)+np.exp(b)+np.exp(c))"
   ]
  },
  {
   "cell_type": "code",
   "execution_count": 141,
   "metadata": {},
   "outputs": [],
   "source": [
    "c_num = np.exp(c)/(np.exp(a)+np.exp(b)+np.exp(c))"
   ]
  },
  {
   "cell_type": "code",
   "execution_count": 142,
   "metadata": {},
   "outputs": [
    {
     "data": {
      "text/plain": [
       "1.0"
      ]
     },
     "execution_count": 142,
     "metadata": {},
     "output_type": "execute_result"
    }
   ],
   "source": [
    "a_num + b_num + c_num"
   ]
  },
  {
   "cell_type": "code",
   "execution_count": 143,
   "metadata": {},
   "outputs": [],
   "source": [
    "a_select = [1,0,0]\n",
    "b_select = [0,1,0]\n",
    "c_select = [0,0,1]"
   ]
  },
  {
   "cell_type": "code",
   "execution_count": 144,
   "metadata": {},
   "outputs": [
    {
     "data": {
      "text/plain": [
       "0.9819700105182744"
      ]
     },
     "execution_count": 144,
     "metadata": {},
     "output_type": "execute_result"
    }
   ],
   "source": [
    "(np.array(a_select) * np.array([a_num,b_num,c_num])).sum()"
   ]
  },
  {
   "cell_type": "code",
   "execution_count": 145,
   "metadata": {},
   "outputs": [
    {
     "data": {
      "text/plain": [
       "4.458136950639617e-05"
      ]
     },
     "execution_count": 145,
     "metadata": {},
     "output_type": "execute_result"
    }
   ],
   "source": [
    "(np.array(b_select) * np.array([a_num,b_num,c_num])).sum()"
   ]
  },
  {
   "cell_type": "code",
   "execution_count": 146,
   "metadata": {},
   "outputs": [
    {
     "data": {
      "text/plain": [
       "0.017985408112219218"
      ]
     },
     "execution_count": 146,
     "metadata": {},
     "output_type": "execute_result"
    }
   ],
   "source": [
    "(np.array(c_select) * np.array([a_num,b_num,c_num])).sum()"
   ]
  },
  {
   "cell_type": "code",
   "execution_count": null,
   "metadata": {},
   "outputs": [],
   "source": []
  },
  {
   "cell_type": "markdown",
   "metadata": {},
   "source": [
    "![](https://heung-bae-lee.github.io/image/shallowNN_and_regression_algorithm.png)\n",
    "\n",
    "\n",
    "### 다중 회귀 -> 회귀 곡선\n",
    "![](https://lh3.googleusercontent.com/proxy/dsBvt6Wi6F5M7nICwDZpEWyXFcUJ1TtqIdQcQWnbTFPZiTiGavkIPAQLgK4W31h0dHb2_DxANHRsZAre3SCqUKwIZe7L-W6sNGtTvCONtd76TNoRYBEvkc5QfLYtvlj5aeBO-NcGbtPue0n2Oeoeu6idqYyCZZLlJ__ISzyqsduruBLLxFwHDMQwANWc24SDnAZacGjL2LpQaAAH9MbuKEtjdWTeg_lgE4-FTUCx5ztCHym9Wu7bcvjdZIdVj72435Ov9Dy8NdJaOrjZyLd6dYBkMvvEZGLEwfs)\n",
    "- 위 그래프와 같은 데이터 분포는 위로 볼록한 2차원 곡선 형태로 되어 있다.\n",
    "$${y=w_0 + w_1x + w_2x^2}$$\n",
    "- 동일한 개념으로 일반적인 곡선에 대해 회귀 모델을 가정하면 아래와 같은 수식으로 표현.\n",
    "$${y=w_0 + w_1x + w_2x^2+...+w_dx^d}$$\n",
    "- **다항 회귀는 다중 회귀식의 일종이므로 설명변수가 여러개 있는 식으로 나태낸다.**\n",
    "    - 설명변수: 회귀분석에서 독립변수(함수 관계에서, 다른 변수의 변화와는 관계없이 독립적으로 변화하고 이에 따라 다른 변수)\n",
    "$${X_d = x^d}$$\n",
    "$${y=w_0 + w_1X_1 + w_2X_2+...+w_dX_d}$$\n",
    "\n",
    "\n",
    "- hidden layer층은 선형이 아니라 비선형으로 처리 되기 때문에 이러한 이미지가 형성된다.\n",
    "![](https://heung-bae-lee.github.io/image/hidden_Layer_and_regression.png)"
   ]
  },
  {
   "cell_type": "markdown",
   "metadata": {},
   "source": [
    "**Sigmoid 함수**\n",
    "$${sigmoid(x) = {1\\over{1+e^{-x}}}}$$"
   ]
  },
  {
   "cell_type": "code",
   "execution_count": 147,
   "metadata": {},
   "outputs": [],
   "source": [
    "def sigmoid(x):\n",
    "    n = 1/(1+np.exp(-x))\n",
    "    return n"
   ]
  },
  {
   "cell_type": "code",
   "execution_count": 148,
   "metadata": {},
   "outputs": [
    {
     "name": "stdout",
     "output_type": "stream",
     "text": [
      "3.7200759760208356e-44\n"
     ]
    }
   ],
   "source": [
    "print(sigmoid(-100))"
   ]
  },
  {
   "cell_type": "markdown",
   "metadata": {},
   "source": [
    "**Softmax 함수**\n",
    "$${softmax(x)_i = {e^{x_i}\\over{\\sum_j e^{x_j}}}}$$"
   ]
  },
  {
   "cell_type": "code",
   "execution_count": 149,
   "metadata": {},
   "outputs": [],
   "source": [
    "def softmax(ndarray):\n",
    "    '''\n",
    "    ndarray만 됨\n",
    "    return ndarray\n",
    "    '''\n",
    "    num = len(ndarray)\n",
    "    output_num = []\n",
    "    for i in range(num):\n",
    "        output_num.append(np.exp(ndarray[i])/(np.exp(ndarray).sum()))\n",
    "    return output_num"
   ]
  },
  {
   "cell_type": "code",
   "execution_count": 150,
   "metadata": {},
   "outputs": [],
   "source": [
    "ndarray = np.array([1,2,3,4])"
   ]
  },
  {
   "cell_type": "code",
   "execution_count": 151,
   "metadata": {},
   "outputs": [
    {
     "data": {
      "text/plain": [
       "[0.03205860328008499,\n",
       " 0.08714431874203257,\n",
       " 0.23688281808991013,\n",
       " 0.6439142598879722]"
      ]
     },
     "execution_count": 151,
     "metadata": {},
     "output_type": "execute_result"
    }
   ],
   "source": [
    "softmax(ndarray)"
   ]
  },
  {
   "cell_type": "code",
   "execution_count": 152,
   "metadata": {},
   "outputs": [],
   "source": [
    "data = np.load('ch2_dataset.npz')"
   ]
  },
  {
   "cell_type": "code",
   "execution_count": 153,
   "metadata": {},
   "outputs": [],
   "source": [
    "inputs = data['inputs']\n",
    "labels = data['labels']"
   ]
  },
  {
   "cell_type": "code",
   "execution_count": 154,
   "metadata": {},
   "outputs": [],
   "source": [
    "class ShallowNN:\n",
    "    def __init__(self,num_input,num_hidden,num_output):\n",
    "        self.W_h = np.zeros((num_hidden,num_input),dtype=np.float32)\n",
    "        self.b_h = np.zeros((num_hidden),dtype=np.float32)\n",
    "        self.W_o = np.zeros((num_output,num_hidden),dtype=np.float32)\n",
    "        self.b_o = np.zeros((num_output),dtype=np.float32)\n",
    "        \n",
    "    def __call__(self,x):\n",
    "        h = sigmoid(np.matmul(self.W_h,x)+self.b_h)\n",
    "        o = softmax(np.matmul(self.W_o,h)+self.b_o)\n",
    "        return o"
   ]
  },
  {
   "cell_type": "code",
   "execution_count": 155,
   "metadata": {},
   "outputs": [],
   "source": [
    "shallow_model = ShallowNN(2,128,10)"
   ]
  },
  {
   "cell_type": "code",
   "execution_count": 156,
   "metadata": {},
   "outputs": [],
   "source": [
    "weight = np.load('ch2_parameters.npz')\n",
    "shallow_model.W_h = weight['W_h']\n",
    "shallow_model.b_h = weight['b_h']\n",
    "shallow_model.W_o = weight['W_o']\n",
    "shallow_model.b_o = weight['b_o']"
   ]
  },
  {
   "cell_type": "code",
   "execution_count": 157,
   "metadata": {},
   "outputs": [
    {
     "name": "stdout",
     "output_type": "stream",
     "text": [
      "(0, 0)\n",
      "(0, 0)\n",
      "(2, 0)\n",
      "(0, 0)\n",
      "(1, 0)\n",
      "(0, 0)\n",
      "(0, 0)\n",
      "(0, 0)\n",
      "(1, 0)\n",
      "(0, 0)\n",
      "(0, 0)\n",
      "(0, 0)\n",
      "(2, 0)\n",
      "(3, 0)\n",
      "(0, 0)\n",
      "(0, 0)\n",
      "(2, 0)\n",
      "(0, 0)\n",
      "(0, 0)\n",
      "(0, 0)\n",
      "(0, 0)\n",
      "(0, 0)\n",
      "(0, 0)\n",
      "(2, 0)\n",
      "(0, 0)\n",
      "(2, 0)\n",
      "(0, 0)\n",
      "(0, 0)\n",
      "(0, 0)\n",
      "(0, 0)\n",
      "(0, 0)\n",
      "(0, 0)\n",
      "(0, 0)\n",
      "(1, 0)\n",
      "(6, 0)\n",
      "(0, 0)\n",
      "(0, 0)\n",
      "(0, 0)\n",
      "(0, 0)\n",
      "(0, 0)\n",
      "(6, 0)\n",
      "(0, 0)\n",
      "(0, 0)\n",
      "(0, 0)\n",
      "(3, 0)\n",
      "(0, 0)\n",
      "(0, 0)\n",
      "(0, 0)\n",
      "(3, 0)\n",
      "(0, 0)\n",
      "(0, 0)\n",
      "(0, 0)\n",
      "(0, 0)\n",
      "(0, 0)\n",
      "(0, 0)\n",
      "(6, 0)\n",
      "(0, 0)\n",
      "(0, 0)\n",
      "(0, 0)\n",
      "(0, 0)\n",
      "(0, 0)\n",
      "(0, 0)\n",
      "(0, 0)\n",
      "(0, 0)\n",
      "(9, 0)\n",
      "(0, 0)\n",
      "(2, 0)\n",
      "(6, 0)\n",
      "(0, 0)\n",
      "(0, 0)\n",
      "(0, 0)\n",
      "(0, 0)\n",
      "(3, 0)\n",
      "(0, 0)\n",
      "(0, 0)\n",
      "(2, 0)\n",
      "(0, 0)\n",
      "(0, 0)\n",
      "(0, 0)\n",
      "(0, 0)\n",
      "(0, 0)\n",
      "(0, 0)\n",
      "(0, 0)\n",
      "(1, 0)\n",
      "(1, 0)\n",
      "(0, 0)\n",
      "(0, 0)\n",
      "(0, 0)\n",
      "(0, 0)\n",
      "(0, 0)\n",
      "(0, 0)\n",
      "(9, 0)\n",
      "(0, 0)\n",
      "(0, 0)\n",
      "(1, 0)\n",
      "(0, 0)\n",
      "(0, 0)\n",
      "(0, 0)\n",
      "(0, 0)\n",
      "(0, 0)\n",
      "(1, 1)\n",
      "(5, 1)\n",
      "(1, 1)\n",
      "(1, 1)\n",
      "(1, 1)\n",
      "(1, 1)\n",
      "(1, 1)\n",
      "(1, 1)\n",
      "(1, 1)\n",
      "(1, 1)\n",
      "(1, 1)\n",
      "(1, 1)\n",
      "(1, 1)\n",
      "(1, 1)\n",
      "(1, 1)\n",
      "(1, 1)\n",
      "(1, 1)\n",
      "(1, 1)\n",
      "(1, 1)\n",
      "(1, 1)\n",
      "(1, 1)\n",
      "(1, 1)\n",
      "(1, 1)\n",
      "(1, 1)\n",
      "(1, 1)\n",
      "(1, 1)\n",
      "(1, 1)\n",
      "(1, 1)\n",
      "(5, 1)\n",
      "(1, 1)\n",
      "(1, 1)\n",
      "(2, 1)\n",
      "(1, 1)\n",
      "(0, 1)\n",
      "(1, 1)\n",
      "(1, 1)\n",
      "(1, 1)\n",
      "(1, 1)\n",
      "(5, 1)\n",
      "(1, 1)\n",
      "(1, 1)\n",
      "(1, 1)\n",
      "(0, 1)\n",
      "(1, 1)\n",
      "(1, 1)\n",
      "(1, 1)\n",
      "(1, 1)\n",
      "(1, 1)\n",
      "(1, 1)\n",
      "(1, 1)\n",
      "(1, 1)\n",
      "(1, 1)\n",
      "(1, 1)\n",
      "(1, 1)\n",
      "(1, 1)\n",
      "(0, 1)\n",
      "(1, 1)\n",
      "(1, 1)\n",
      "(1, 1)\n",
      "(2, 1)\n",
      "(1, 1)\n",
      "(0, 1)\n",
      "(1, 1)\n",
      "(1, 1)\n",
      "(1, 1)\n",
      "(1, 1)\n",
      "(1, 1)\n",
      "(1, 1)\n",
      "(1, 1)\n",
      "(1, 1)\n",
      "(1, 1)\n",
      "(1, 1)\n",
      "(1, 1)\n",
      "(1, 1)\n",
      "(1, 1)\n",
      "(1, 1)\n",
      "(1, 1)\n",
      "(1, 1)\n",
      "(1, 1)\n",
      "(1, 1)\n",
      "(1, 1)\n",
      "(1, 1)\n",
      "(1, 1)\n",
      "(2, 1)\n",
      "(1, 1)\n",
      "(1, 1)\n",
      "(1, 1)\n",
      "(1, 1)\n",
      "(1, 1)\n",
      "(1, 1)\n",
      "(1, 1)\n",
      "(1, 1)\n",
      "(1, 1)\n",
      "(1, 1)\n",
      "(1, 1)\n",
      "(1, 1)\n",
      "(1, 1)\n",
      "(1, 1)\n",
      "(1, 1)\n",
      "(1, 1)\n",
      "(2, 2)\n",
      "(0, 2)\n",
      "(0, 2)\n",
      "(2, 2)\n",
      "(2, 2)\n",
      "(2, 2)\n",
      "(2, 2)\n",
      "(2, 2)\n",
      "(2, 2)\n",
      "(2, 2)\n",
      "(2, 2)\n",
      "(2, 2)\n",
      "(2, 2)\n",
      "(2, 2)\n",
      "(2, 2)\n",
      "(2, 2)\n",
      "(2, 2)\n",
      "(2, 2)\n",
      "(2, 2)\n",
      "(3, 2)\n",
      "(2, 2)\n",
      "(2, 2)\n",
      "(2, 2)\n",
      "(2, 2)\n",
      "(3, 2)\n",
      "(2, 2)\n",
      "(2, 2)\n",
      "(2, 2)\n",
      "(2, 2)\n",
      "(0, 2)\n",
      "(1, 2)\n",
      "(0, 2)\n",
      "(0, 2)\n",
      "(2, 2)\n",
      "(2, 2)\n",
      "(0, 2)\n",
      "(2, 2)\n",
      "(2, 2)\n",
      "(0, 2)\n",
      "(0, 2)\n",
      "(2, 2)\n",
      "(2, 2)\n",
      "(2, 2)\n",
      "(2, 2)\n",
      "(2, 2)\n",
      "(2, 2)\n",
      "(2, 2)\n",
      "(0, 2)\n",
      "(2, 2)\n",
      "(2, 2)\n",
      "(2, 2)\n",
      "(2, 2)\n",
      "(2, 2)\n",
      "(2, 2)\n",
      "(2, 2)\n",
      "(0, 2)\n",
      "(2, 2)\n",
      "(2, 2)\n",
      "(0, 2)\n",
      "(2, 2)\n",
      "(2, 2)\n",
      "(2, 2)\n",
      "(2, 2)\n",
      "(2, 2)\n",
      "(2, 2)\n",
      "(1, 2)\n",
      "(2, 2)\n",
      "(2, 2)\n",
      "(2, 2)\n",
      "(2, 2)\n",
      "(2, 2)\n",
      "(2, 2)\n",
      "(0, 2)\n",
      "(2, 2)\n",
      "(2, 2)\n",
      "(2, 2)\n",
      "(2, 2)\n",
      "(2, 2)\n",
      "(2, 2)\n",
      "(2, 2)\n",
      "(2, 2)\n",
      "(2, 2)\n",
      "(2, 2)\n",
      "(2, 2)\n",
      "(2, 2)\n",
      "(2, 2)\n",
      "(2, 2)\n",
      "(2, 2)\n",
      "(2, 2)\n",
      "(2, 2)\n",
      "(2, 2)\n",
      "(2, 2)\n",
      "(2, 2)\n",
      "(2, 2)\n",
      "(2, 2)\n",
      "(2, 2)\n",
      "(2, 2)\n",
      "(2, 2)\n",
      "(2, 2)\n",
      "(2, 2)\n",
      "(3, 3)\n",
      "(0, 3)\n",
      "(3, 3)\n",
      "(3, 3)\n",
      "(3, 3)\n",
      "(3, 3)\n",
      "(3, 3)\n",
      "(3, 3)\n",
      "(3, 3)\n",
      "(3, 3)\n",
      "(3, 3)\n",
      "(6, 3)\n",
      "(3, 3)\n",
      "(3, 3)\n",
      "(3, 3)\n",
      "(6, 3)\n",
      "(3, 3)\n",
      "(0, 3)\n",
      "(3, 3)\n",
      "(3, 3)\n",
      "(3, 3)\n",
      "(3, 3)\n",
      "(3, 3)\n",
      "(3, 3)\n",
      "(3, 3)\n",
      "(3, 3)\n",
      "(3, 3)\n",
      "(3, 3)\n",
      "(3, 3)\n",
      "(3, 3)\n",
      "(3, 3)\n",
      "(6, 3)\n",
      "(3, 3)\n",
      "(6, 3)\n",
      "(2, 3)\n",
      "(0, 3)\n",
      "(3, 3)\n",
      "(3, 3)\n",
      "(3, 3)\n",
      "(3, 3)\n",
      "(3, 3)\n",
      "(3, 3)\n",
      "(3, 3)\n",
      "(3, 3)\n",
      "(3, 3)\n",
      "(3, 3)\n",
      "(6, 3)\n",
      "(3, 3)\n",
      "(3, 3)\n",
      "(6, 3)\n",
      "(3, 3)\n",
      "(3, 3)\n",
      "(3, 3)\n",
      "(3, 3)\n",
      "(3, 3)\n",
      "(3, 3)\n",
      "(3, 3)\n",
      "(3, 3)\n",
      "(3, 3)\n",
      "(0, 3)\n",
      "(3, 3)\n",
      "(3, 3)\n",
      "(3, 3)\n",
      "(6, 3)\n",
      "(3, 3)\n",
      "(3, 3)\n",
      "(3, 3)\n",
      "(0, 3)\n",
      "(3, 3)\n",
      "(3, 3)\n",
      "(3, 3)\n",
      "(3, 3)\n",
      "(3, 3)\n",
      "(3, 3)\n",
      "(3, 3)\n",
      "(3, 3)\n",
      "(6, 3)\n",
      "(3, 3)\n",
      "(3, 3)\n",
      "(3, 3)\n",
      "(3, 3)\n",
      "(3, 3)\n",
      "(6, 3)\n",
      "(3, 3)\n",
      "(3, 3)\n",
      "(3, 3)\n",
      "(3, 3)\n",
      "(3, 3)\n",
      "(3, 3)\n",
      "(3, 3)\n",
      "(3, 3)\n",
      "(3, 3)\n",
      "(6, 3)\n",
      "(3, 3)\n",
      "(6, 3)\n",
      "(3, 3)\n",
      "(3, 3)\n",
      "(3, 3)\n",
      "(3, 3)\n",
      "(3, 3)\n",
      "(4, 4)\n",
      "(4, 4)\n",
      "(4, 4)\n",
      "(4, 4)\n",
      "(4, 4)\n",
      "(4, 4)\n",
      "(4, 4)\n",
      "(4, 4)\n",
      "(4, 4)\n",
      "(4, 4)\n",
      "(4, 4)\n",
      "(4, 4)\n",
      "(4, 4)\n",
      "(4, 4)\n",
      "(4, 4)\n",
      "(4, 4)\n",
      "(4, 4)\n",
      "(4, 4)\n",
      "(4, 4)\n",
      "(4, 4)\n",
      "(4, 4)\n",
      "(4, 4)\n",
      "(4, 4)\n",
      "(4, 4)\n",
      "(4, 4)\n",
      "(4, 4)\n",
      "(4, 4)\n",
      "(4, 4)\n",
      "(4, 4)\n",
      "(4, 4)\n",
      "(4, 4)\n",
      "(4, 4)\n",
      "(4, 4)\n",
      "(4, 4)\n",
      "(4, 4)\n",
      "(4, 4)\n",
      "(4, 4)\n",
      "(4, 4)\n",
      "(4, 4)\n",
      "(5, 4)\n",
      "(4, 4)\n",
      "(4, 4)\n",
      "(4, 4)\n",
      "(4, 4)\n",
      "(4, 4)\n",
      "(4, 4)\n",
      "(4, 4)\n",
      "(4, 4)\n",
      "(4, 4)\n",
      "(4, 4)\n",
      "(4, 4)\n",
      "(4, 4)\n",
      "(4, 4)\n",
      "(4, 4)\n",
      "(4, 4)\n",
      "(4, 4)\n",
      "(4, 4)\n",
      "(4, 4)\n",
      "(4, 4)\n",
      "(4, 4)\n",
      "(4, 4)\n",
      "(4, 4)\n",
      "(4, 4)\n",
      "(4, 4)\n",
      "(4, 4)\n",
      "(4, 4)\n",
      "(4, 4)\n",
      "(4, 4)\n",
      "(4, 4)\n",
      "(4, 4)\n",
      "(4, 4)\n",
      "(4, 4)\n",
      "(4, 4)\n",
      "(4, 4)\n",
      "(4, 4)\n",
      "(4, 4)\n",
      "(4, 4)\n",
      "(4, 4)\n",
      "(4, 4)\n",
      "(4, 4)\n",
      "(4, 4)\n",
      "(4, 4)\n",
      "(4, 4)\n",
      "(4, 4)\n",
      "(4, 4)\n",
      "(4, 4)\n",
      "(4, 4)\n",
      "(4, 4)\n",
      "(4, 4)\n",
      "(4, 4)\n",
      "(4, 4)\n",
      "(4, 4)\n",
      "(4, 4)\n",
      "(4, 4)\n",
      "(4, 4)\n",
      "(4, 4)\n",
      "(4, 4)\n",
      "(4, 4)\n",
      "(4, 4)\n",
      "(4, 4)\n",
      "(5, 5)\n",
      "(5, 5)\n",
      "(5, 5)\n",
      "(5, 5)\n",
      "(4, 5)\n",
      "(5, 5)\n",
      "(5, 5)\n",
      "(5, 5)\n",
      "(5, 5)\n",
      "(5, 5)\n",
      "(5, 5)\n",
      "(5, 5)\n",
      "(5, 5)\n",
      "(5, 5)\n",
      "(5, 5)\n",
      "(5, 5)\n",
      "(5, 5)\n",
      "(5, 5)\n",
      "(5, 5)\n",
      "(4, 5)\n",
      "(1, 5)\n",
      "(5, 5)\n",
      "(5, 5)\n",
      "(5, 5)\n",
      "(5, 5)\n",
      "(5, 5)\n",
      "(5, 5)\n",
      "(5, 5)\n",
      "(5, 5)\n",
      "(5, 5)\n",
      "(5, 5)\n",
      "(5, 5)\n",
      "(5, 5)\n",
      "(5, 5)\n",
      "(5, 5)\n",
      "(5, 5)\n",
      "(5, 5)\n",
      "(5, 5)\n",
      "(1, 5)\n",
      "(5, 5)\n",
      "(5, 5)\n",
      "(5, 5)\n",
      "(5, 5)\n",
      "(4, 5)\n",
      "(5, 5)\n",
      "(5, 5)\n",
      "(5, 5)\n",
      "(5, 5)\n",
      "(5, 5)\n",
      "(5, 5)\n",
      "(5, 5)\n",
      "(5, 5)\n",
      "(5, 5)\n",
      "(5, 5)\n",
      "(5, 5)\n",
      "(5, 5)\n",
      "(5, 5)\n",
      "(5, 5)\n",
      "(5, 5)\n",
      "(5, 5)\n",
      "(5, 5)\n",
      "(5, 5)\n",
      "(5, 5)\n",
      "(4, 5)\n",
      "(5, 5)\n",
      "(5, 5)\n",
      "(5, 5)\n",
      "(5, 5)\n",
      "(5, 5)\n",
      "(5, 5)\n",
      "(5, 5)\n",
      "(4, 5)\n",
      "(5, 5)\n",
      "(5, 5)\n",
      "(5, 5)\n",
      "(5, 5)\n",
      "(5, 5)\n",
      "(5, 5)\n",
      "(5, 5)\n",
      "(5, 5)\n",
      "(5, 5)\n",
      "(5, 5)\n",
      "(5, 5)\n",
      "(5, 5)\n",
      "(1, 5)\n",
      "(5, 5)\n",
      "(5, 5)\n",
      "(5, 5)\n",
      "(5, 5)\n",
      "(5, 5)\n",
      "(5, 5)\n",
      "(1, 5)\n",
      "(5, 5)\n",
      "(5, 5)\n",
      "(5, 5)\n",
      "(5, 5)\n",
      "(5, 5)\n",
      "(5, 5)\n",
      "(5, 5)\n",
      "(5, 5)\n",
      "(6, 6)\n",
      "(3, 6)\n",
      "(6, 6)\n",
      "(6, 6)\n",
      "(6, 6)\n",
      "(6, 6)\n",
      "(6, 6)\n",
      "(6, 6)\n",
      "(6, 6)\n",
      "(3, 6)\n",
      "(6, 6)\n",
      "(6, 6)\n",
      "(9, 6)\n",
      "(6, 6)\n",
      "(6, 6)\n",
      "(6, 6)\n",
      "(6, 6)\n",
      "(6, 6)\n",
      "(6, 6)\n",
      "(6, 6)\n",
      "(3, 6)\n",
      "(6, 6)\n",
      "(6, 6)\n",
      "(6, 6)\n",
      "(6, 6)\n",
      "(6, 6)\n",
      "(6, 6)\n",
      "(3, 6)\n",
      "(6, 6)\n",
      "(6, 6)\n",
      "(3, 6)\n",
      "(6, 6)\n",
      "(6, 6)\n",
      "(6, 6)\n",
      "(6, 6)\n",
      "(6, 6)\n",
      "(6, 6)\n",
      "(6, 6)\n",
      "(6, 6)\n",
      "(6, 6)\n",
      "(6, 6)\n",
      "(0, 6)\n",
      "(3, 6)\n",
      "(6, 6)\n",
      "(3, 6)\n",
      "(6, 6)\n",
      "(6, 6)\n",
      "(6, 6)\n",
      "(6, 6)\n",
      "(6, 6)\n",
      "(6, 6)\n",
      "(6, 6)\n",
      "(6, 6)\n",
      "(6, 6)\n",
      "(6, 6)\n",
      "(6, 6)\n",
      "(6, 6)\n",
      "(6, 6)\n",
      "(6, 6)\n",
      "(6, 6)\n",
      "(6, 6)\n",
      "(6, 6)\n",
      "(6, 6)\n",
      "(6, 6)\n",
      "(6, 6)\n",
      "(6, 6)\n",
      "(6, 6)\n",
      "(6, 6)\n",
      "(6, 6)\n",
      "(6, 6)\n",
      "(6, 6)\n",
      "(3, 6)\n",
      "(6, 6)\n",
      "(6, 6)\n",
      "(3, 6)\n",
      "(6, 6)\n",
      "(6, 6)\n",
      "(6, 6)\n",
      "(6, 6)\n",
      "(6, 6)\n",
      "(3, 6)\n",
      "(6, 6)\n",
      "(6, 6)\n",
      "(6, 6)\n",
      "(6, 6)\n",
      "(6, 6)\n",
      "(6, 6)\n",
      "(6, 6)\n",
      "(6, 6)\n",
      "(6, 6)\n",
      "(0, 6)\n",
      "(6, 6)\n",
      "(6, 6)\n",
      "(6, 6)\n",
      "(6, 6)\n",
      "(6, 6)\n",
      "(9, 6)\n",
      "(6, 6)\n",
      "(6, 6)\n",
      "(6, 6)\n",
      "(7, 7)\n",
      "(7, 7)\n",
      "(7, 7)\n",
      "(7, 7)\n",
      "(7, 7)\n",
      "(7, 7)\n",
      "(7, 7)\n",
      "(7, 7)\n",
      "(7, 7)\n",
      "(7, 7)\n",
      "(7, 7)\n",
      "(7, 7)\n",
      "(7, 7)\n",
      "(7, 7)\n",
      "(7, 7)\n",
      "(7, 7)\n",
      "(7, 7)\n",
      "(7, 7)\n",
      "(7, 7)\n",
      "(7, 7)\n",
      "(7, 7)\n",
      "(7, 7)\n",
      "(7, 7)\n",
      "(7, 7)\n",
      "(7, 7)\n",
      "(7, 7)\n",
      "(7, 7)\n",
      "(7, 7)\n",
      "(7, 7)\n",
      "(7, 7)\n",
      "(7, 7)\n",
      "(7, 7)\n",
      "(7, 7)\n",
      "(7, 7)\n",
      "(7, 7)\n",
      "(7, 7)\n",
      "(7, 7)\n",
      "(7, 7)\n",
      "(7, 7)\n",
      "(7, 7)\n",
      "(7, 7)\n",
      "(7, 7)\n",
      "(7, 7)\n",
      "(7, 7)\n",
      "(7, 7)\n",
      "(7, 7)\n",
      "(7, 7)\n",
      "(7, 7)\n",
      "(7, 7)\n",
      "(7, 7)\n",
      "(7, 7)\n",
      "(7, 7)\n",
      "(7, 7)\n",
      "(7, 7)\n",
      "(7, 7)\n",
      "(7, 7)\n",
      "(7, 7)\n",
      "(7, 7)\n",
      "(7, 7)\n",
      "(7, 7)\n",
      "(7, 7)\n",
      "(7, 7)\n",
      "(7, 7)\n",
      "(7, 7)\n",
      "(7, 7)\n",
      "(7, 7)\n",
      "(7, 7)\n",
      "(7, 7)\n",
      "(7, 7)\n",
      "(7, 7)\n",
      "(7, 7)\n",
      "(7, 7)\n",
      "(7, 7)\n",
      "(7, 7)\n",
      "(7, 7)\n",
      "(7, 7)\n",
      "(7, 7)\n",
      "(7, 7)\n",
      "(7, 7)\n",
      "(7, 7)\n",
      "(7, 7)\n",
      "(7, 7)\n",
      "(7, 7)\n",
      "(7, 7)\n",
      "(7, 7)\n",
      "(7, 7)\n",
      "(7, 7)\n",
      "(7, 7)\n",
      "(7, 7)\n",
      "(7, 7)\n",
      "(7, 7)\n",
      "(7, 7)\n",
      "(7, 7)\n",
      "(7, 7)\n",
      "(7, 7)\n",
      "(7, 7)\n",
      "(7, 7)\n",
      "(7, 7)\n",
      "(7, 7)\n",
      "(7, 7)\n",
      "(8, 8)\n",
      "(8, 8)\n",
      "(8, 8)\n",
      "(8, 8)\n",
      "(8, 8)\n",
      "(8, 8)\n",
      "(8, 8)\n",
      "(8, 8)\n",
      "(8, 8)\n",
      "(8, 8)\n",
      "(8, 8)\n",
      "(8, 8)\n",
      "(8, 8)\n",
      "(8, 8)\n",
      "(8, 8)\n",
      "(8, 8)\n",
      "(8, 8)\n",
      "(8, 8)\n",
      "(8, 8)\n",
      "(8, 8)\n",
      "(8, 8)\n",
      "(8, 8)\n",
      "(8, 8)\n",
      "(8, 8)\n",
      "(8, 8)\n",
      "(8, 8)\n",
      "(8, 8)\n",
      "(8, 8)\n",
      "(8, 8)\n",
      "(8, 8)\n",
      "(8, 8)\n",
      "(8, 8)\n",
      "(8, 8)\n",
      "(8, 8)\n",
      "(8, 8)\n",
      "(8, 8)\n",
      "(8, 8)\n",
      "(8, 8)\n",
      "(8, 8)\n",
      "(8, 8)\n",
      "(8, 8)\n",
      "(8, 8)\n",
      "(8, 8)\n",
      "(8, 8)\n",
      "(8, 8)\n",
      "(8, 8)\n",
      "(8, 8)\n",
      "(8, 8)\n",
      "(8, 8)\n",
      "(8, 8)\n",
      "(8, 8)\n",
      "(8, 8)\n",
      "(8, 8)\n",
      "(8, 8)\n",
      "(8, 8)\n",
      "(8, 8)\n",
      "(8, 8)\n",
      "(8, 8)\n",
      "(8, 8)\n",
      "(8, 8)\n",
      "(8, 8)\n",
      "(8, 8)\n",
      "(8, 8)\n",
      "(8, 8)\n",
      "(8, 8)\n",
      "(8, 8)\n",
      "(8, 8)\n",
      "(8, 8)\n",
      "(8, 8)\n",
      "(8, 8)\n",
      "(8, 8)\n",
      "(8, 8)\n",
      "(8, 8)\n",
      "(8, 8)\n",
      "(8, 8)\n",
      "(8, 8)\n",
      "(8, 8)\n",
      "(8, 8)\n",
      "(8, 8)\n",
      "(8, 8)\n",
      "(8, 8)\n",
      "(8, 8)\n",
      "(8, 8)\n",
      "(8, 8)\n",
      "(8, 8)\n",
      "(8, 8)\n",
      "(8, 8)\n",
      "(8, 8)\n",
      "(8, 8)\n",
      "(8, 8)\n",
      "(8, 8)\n",
      "(8, 8)\n",
      "(8, 8)\n",
      "(8, 8)\n",
      "(8, 8)\n",
      "(8, 8)\n",
      "(8, 8)\n",
      "(8, 8)\n",
      "(8, 8)\n",
      "(8, 8)\n",
      "(9, 9)\n",
      "(9, 9)\n",
      "(9, 9)\n",
      "(9, 9)\n",
      "(9, 9)\n",
      "(9, 9)\n",
      "(9, 9)\n",
      "(9, 9)\n",
      "(9, 9)\n",
      "(9, 9)\n",
      "(9, 9)\n",
      "(9, 9)\n",
      "(9, 9)\n",
      "(9, 9)\n",
      "(9, 9)\n",
      "(9, 9)\n",
      "(9, 9)\n",
      "(9, 9)\n",
      "(9, 9)\n",
      "(9, 9)\n",
      "(9, 9)\n",
      "(9, 9)\n",
      "(9, 9)\n",
      "(9, 9)\n",
      "(9, 9)\n",
      "(9, 9)\n",
      "(9, 9)\n",
      "(9, 9)\n",
      "(9, 9)\n",
      "(9, 9)\n",
      "(9, 9)\n",
      "(9, 9)\n",
      "(9, 9)\n",
      "(9, 9)\n",
      "(9, 9)\n",
      "(6, 9)\n",
      "(9, 9)\n",
      "(6, 9)\n",
      "(9, 9)\n",
      "(9, 9)\n",
      "(9, 9)\n",
      "(9, 9)\n",
      "(9, 9)\n",
      "(9, 9)\n",
      "(9, 9)\n",
      "(9, 9)\n",
      "(9, 9)\n",
      "(9, 9)\n",
      "(9, 9)\n",
      "(9, 9)\n",
      "(9, 9)\n",
      "(9, 9)\n",
      "(9, 9)\n",
      "(9, 9)\n",
      "(9, 9)\n",
      "(9, 9)\n",
      "(9, 9)\n",
      "(9, 9)\n",
      "(9, 9)\n",
      "(9, 9)\n",
      "(9, 9)\n",
      "(9, 9)\n",
      "(9, 9)\n",
      "(9, 9)\n",
      "(9, 9)\n",
      "(9, 9)\n",
      "(9, 9)\n",
      "(9, 9)\n",
      "(6, 9)\n",
      "(9, 9)\n",
      "(9, 9)\n",
      "(9, 9)\n",
      "(9, 9)\n",
      "(9, 9)\n",
      "(9, 9)\n",
      "(9, 9)\n",
      "(9, 9)\n",
      "(9, 9)\n",
      "(9, 9)\n",
      "(9, 9)\n",
      "(9, 9)\n",
      "(9, 9)\n",
      "(9, 9)\n",
      "(9, 9)\n",
      "(9, 9)\n",
      "(9, 9)\n",
      "(9, 9)\n",
      "(9, 9)\n",
      "(9, 9)\n",
      "(9, 9)\n",
      "(9, 9)\n",
      "(9, 9)\n",
      "(0, 9)\n",
      "(9, 9)\n",
      "(9, 9)\n",
      "(9, 9)\n",
      "(9, 9)\n",
      "(9, 9)\n",
      "(9, 9)\n",
      "(9, 9)\n",
      "[0, 0, 2, 0, 1, 0, 0, 0, 1, 0, 0, 0, 2, 3, 0, 0, 2, 0, 0, 0, 0, 0, 0, 2, 0, 2, 0, 0, 0, 0, 0, 0, 0, 1, 6, 0, 0, 0, 0, 0, 6, 0, 0, 0, 3, 0, 0, 0, 3, 0, 0, 0, 0, 0, 0, 6, 0, 0, 0, 0, 0, 0, 0, 0, 9, 0, 2, 6, 0, 0, 0, 0, 3, 0, 0, 2, 0, 0, 0, 0, 0, 0, 0, 1, 1, 0, 0, 0, 0, 0, 0, 9, 0, 0, 1, 0, 0, 0, 0, 0, 1, 5, 1, 1, 1, 1, 1, 1, 1, 1, 1, 1, 1, 1, 1, 1, 1, 1, 1, 1, 1, 1, 1, 1, 1, 1, 1, 1, 5, 1, 1, 2, 1, 0, 1, 1, 1, 1, 5, 1, 1, 1, 0, 1, 1, 1, 1, 1, 1, 1, 1, 1, 1, 1, 1, 0, 1, 1, 1, 2, 1, 0, 1, 1, 1, 1, 1, 1, 1, 1, 1, 1, 1, 1, 1, 1, 1, 1, 1, 1, 1, 1, 1, 2, 1, 1, 1, 1, 1, 1, 1, 1, 1, 1, 1, 1, 1, 1, 1, 1, 2, 0, 0, 2, 2, 2, 2, 2, 2, 2, 2, 2, 2, 2, 2, 2, 2, 2, 2, 3, 2, 2, 2, 2, 3, 2, 2, 2, 2, 0, 1, 0, 0, 2, 2, 0, 2, 2, 0, 0, 2, 2, 2, 2, 2, 2, 2, 0, 2, 2, 2, 2, 2, 2, 2, 0, 2, 2, 0, 2, 2, 2, 2, 2, 2, 1, 2, 2, 2, 2, 2, 2, 0, 2, 2, 2, 2, 2, 2, 2, 2, 2, 2, 2, 2, 2, 2, 2, 2, 2, 2, 2, 2, 2, 2, 2, 2, 2, 2, 2, 3, 0, 3, 3, 3, 3, 3, 3, 3, 3, 3, 6, 3, 3, 3, 6, 3, 0, 3, 3, 3, 3, 3, 3, 3, 3, 3, 3, 3, 3, 3, 6, 3, 6, 2, 0, 3, 3, 3, 3, 3, 3, 3, 3, 3, 3, 6, 3, 3, 6, 3, 3, 3, 3, 3, 3, 3, 3, 3, 0, 3, 3, 3, 6, 3, 3, 3, 0, 3, 3, 3, 3, 3, 3, 3, 3, 6, 3, 3, 3, 3, 3, 6, 3, 3, 3, 3, 3, 3, 3, 3, 3, 6, 3, 6, 3, 3, 3, 3, 3, 4, 4, 4, 4, 4, 4, 4, 4, 4, 4, 4, 4, 4, 4, 4, 4, 4, 4, 4, 4, 4, 4, 4, 4, 4, 4, 4, 4, 4, 4, 4, 4, 4, 4, 4, 4, 4, 4, 4, 5, 4, 4, 4, 4, 4, 4, 4, 4, 4, 4, 4, 4, 4, 4, 4, 4, 4, 4, 4, 4, 4, 4, 4, 4, 4, 4, 4, 4, 4, 4, 4, 4, 4, 4, 4, 4, 4, 4, 4, 4, 4, 4, 4, 4, 4, 4, 4, 4, 4, 4, 4, 4, 4, 4, 4, 4, 4, 4, 4, 4, 5, 5, 5, 5, 4, 5, 5, 5, 5, 5, 5, 5, 5, 5, 5, 5, 5, 5, 5, 4, 1, 5, 5, 5, 5, 5, 5, 5, 5, 5, 5, 5, 5, 5, 5, 5, 5, 5, 1, 5, 5, 5, 5, 4, 5, 5, 5, 5, 5, 5, 5, 5, 5, 5, 5, 5, 5, 5, 5, 5, 5, 5, 5, 4, 5, 5, 5, 5, 5, 5, 5, 4, 5, 5, 5, 5, 5, 5, 5, 5, 5, 5, 5, 5, 1, 5, 5, 5, 5, 5, 5, 1, 5, 5, 5, 5, 5, 5, 5, 5, 6, 3, 6, 6, 6, 6, 6, 6, 6, 3, 6, 6, 9, 6, 6, 6, 6, 6, 6, 6, 3, 6, 6, 6, 6, 6, 6, 3, 6, 6, 3, 6, 6, 6, 6, 6, 6, 6, 6, 6, 6, 0, 3, 6, 3, 6, 6, 6, 6, 6, 6, 6, 6, 6, 6, 6, 6, 6, 6, 6, 6, 6, 6, 6, 6, 6, 6, 6, 6, 6, 6, 3, 6, 6, 3, 6, 6, 6, 6, 6, 3, 6, 6, 6, 6, 6, 6, 6, 6, 6, 0, 6, 6, 6, 6, 6, 9, 6, 6, 6, 7, 7, 7, 7, 7, 7, 7, 7, 7, 7, 7, 7, 7, 7, 7, 7, 7, 7, 7, 7, 7, 7, 7, 7, 7, 7, 7, 7, 7, 7, 7, 7, 7, 7, 7, 7, 7, 7, 7, 7, 7, 7, 7, 7, 7, 7, 7, 7, 7, 7, 7, 7, 7, 7, 7, 7, 7, 7, 7, 7, 7, 7, 7, 7, 7, 7, 7, 7, 7, 7, 7, 7, 7, 7, 7, 7, 7, 7, 7, 7, 7, 7, 7, 7, 7, 7, 7, 7, 7, 7, 7, 7, 7, 7, 7, 7, 7, 7, 7, 7, 8, 8, 8, 8, 8, 8, 8, 8, 8, 8, 8, 8, 8, 8, 8, 8, 8, 8, 8, 8, 8, 8, 8, 8, 8, 8, 8, 8, 8, 8, 8, 8, 8, 8, 8, 8, 8, 8, 8, 8, 8, 8, 8, 8, 8, 8, 8, 8, 8, 8, 8, 8, 8, 8, 8, 8, 8, 8, 8, 8, 8, 8, 8, 8, 8, 8, 8, 8, 8, 8, 8, 8, 8, 8, 8, 8, 8, 8, 8, 8, 8, 8, 8, 8, 8, 8, 8, 8, 8, 8, 8, 8, 8, 8, 8, 8, 8, 8, 8, 8, 9, 9, 9, 9, 9, 9, 9, 9, 9, 9, 9, 9, 9, 9, 9, 9, 9, 9, 9, 9, 9, 9, 9, 9, 9, 9, 9, 9, 9, 9, 9, 9, 9, 9, 9, 6, 9, 6, 9, 9, 9, 9, 9, 9, 9, 9, 9, 9, 9, 9, 9, 9, 9, 9, 9, 9, 9, 9, 9, 9, 9, 9, 9, 9, 9, 9, 9, 9, 6, 9, 9, 9, 9, 9, 9, 9, 9, 9, 9, 9, 9, 9, 9, 9, 9, 9, 9, 9, 9, 9, 9, 9, 0, 9, 9, 9, 9, 9, 9, 9]\n"
     ]
    }
   ],
   "source": [
    "outputs = []\n",
    "for pt, label in zip(inputs,labels):\n",
    "    shallow_ouput = shallow_model(pt)\n",
    "    outputs.append(np.argmax(shallow_ouput))\n",
    "    print((np.argmax(shallow_ouput),label))\n",
    "print(outputs)\n",
    "outputs = np.stack(outputs, axis = 0)"
   ]
  },
  {
   "cell_type": "code",
   "execution_count": 158,
   "metadata": {},
   "outputs": [
    {
     "data": {
      "text/plain": [
       "(1000,)"
      ]
     },
     "execution_count": 158,
     "metadata": {},
     "output_type": "execute_result"
    }
   ],
   "source": [
    "inputs[:,0].shape"
   ]
  },
  {
   "cell_type": "code",
   "execution_count": 159,
   "metadata": {},
   "outputs": [
    {
     "data": {
      "image/png": "[encoded data removed]",
      "text/plain": [
       "<Figure size 432x288 with 1 Axes>"
      ]
     },
     "metadata": {
      "needs_background": "light"
     },
     "output_type": "display_data"
    }
   ],
   "source": [
    "name = []\n",
    "for idx in range(10):\n",
    "    mask = labels == idx\n",
    "    plt.scatter(inputs[mask,0],inputs[mask,1])\n",
    "    name.append(str(idx))\n",
    "\n",
    "plt.legend('0123456789')\n",
    "plt.show()"
   ]
  },
  {
   "cell_type": "code",
   "execution_count": 160,
   "metadata": {},
   "outputs": [],
   "source": [
    "x = np.arange(-50,50)"
   ]
  },
  {
   "cell_type": "code",
   "execution_count": 161,
   "metadata": {},
   "outputs": [],
   "source": [
    "y = 1/(1+np.exp(-x))"
   ]
  },
  {
   "cell_type": "code",
   "execution_count": 162,
   "metadata": {},
   "outputs": [
    {
     "data": {
      "text/plain": [
       "[<matplotlib.lines.Line2D at 0x12f83ba58>]"
      ]
     },
     "execution_count": 162,
     "metadata": {},
     "output_type": "execute_result"
    },
    {
     "data": {
      "image/png": "[encoded data removed]",
      "text/plain": [
       "<Figure size 432x288 with 1 Axes>"
      ]
     },
     "metadata": {
      "needs_background": "light"
     },
     "output_type": "display_data"
    }
   ],
   "source": [
    "plt.plot(x,y)"
   ]
  },
  {
   "cell_type": "code",
   "execution_count": 163,
   "metadata": {},
   "outputs": [
    {
     "data": {
      "text/plain": [
       "0.9999999999999065"
      ]
     },
     "execution_count": 163,
     "metadata": {},
     "output_type": "execute_result"
    }
   ],
   "source": [
    "1/(1+np.exp(-(30)))"
   ]
  },
  {
   "cell_type": "code",
   "execution_count": 164,
   "metadata": {},
   "outputs": [
    {
     "data": {
      "text/plain": [
       "0.657"
      ]
     },
     "execution_count": 164,
     "metadata": {},
     "output_type": "execute_result"
    }
   ],
   "source": [
    "(0.6*0.3 + 0.53*0.9)"
   ]
  },
  {
   "cell_type": "code",
   "execution_count": 165,
   "metadata": {},
   "outputs": [
    {
     "data": {
      "text/plain": [
       "0.22644000000000003"
      ]
     },
     "execution_count": 165,
     "metadata": {},
     "output_type": "execute_result"
    }
   ],
   "source": [
    "0.3*0.5712 + 0.6*0.0918"
   ]
  },
  {
   "cell_type": "code",
   "execution_count": null,
   "metadata": {},
   "outputs": [],
   "source": []
  },
  {
   "cell_type": "markdown",
   "metadata": {},
   "source": [
    "## 비용함수\n",
    "- 손실함수 라고도 함\n",
    "\n",
    "## 비용함수의 종류\n",
    "### MSE\n",
    "- Mean Squared Error(평균 제곱 오차)\n",
    "$${MSE(w)={1\\over m}\\sum^m_{i=1} (identityF(w^T*\\mathbf x^{(i)})-y^{(i))^2})}$$\n",
    "\n",
    "### MAE\n",
    "- Mean Absolute Error(평균 절댓 오차)\n",
    "$${MAE(w)={1\\over m}\\sum^m_{i=1} |(identityF(w^T*\\mathbf x^{(i)})-y^{(i))}|}$$\n",
    "\n",
    "### NLL_Loss\n",
    "- Negative Log Likelihood Loss(NLL의 비용함수)\n",
    "$${nllLoss(h,y)= y *-log(h)}$$\n",
    "- NLL(Negative Log Likelihood)\n",
    "$${L(y)= -log(y)}$$\n",
    "\n",
    "- cross_entroyp는 softmax와 nll_loss를 가지고 있다.\n",
    "\n",
    "\n",
    "\n",
    "#### MSE 와 MAE의 차이\n",
    "MAE는 오차의 절댓값을 사용해서 모델 예측정도를 측정하기 때문에 outlier(이상값)에 대해서 MSE 보다 덜 민감하게 반응한다. \n",
    "예를 들어서, 전반적으로 모델의 오차가 작은 값을 갖고 있음에도 불구하고 예측에 실패한 큰 오차값을 같은 항이 존재하는 경우 MSE는 제곱연산에 의해서 오차 정도를 과대평가할 가능성이 있다.\n",
    "but MSE가 MAE보다 계산이 보다 더 쉽다.\n",
    "\n",
    "### Cross-Entropy\n",
    "- 분류가 2개일 경우\n",
    "$${J(w)=-{1\\over m}\\sum^m_{i=1} [y^{(i)}log(\\sigma(w^T*\\mathbf x))+(1-y^{(i)})log(1-\\sigma(w^T*\\mathbf x))]}$$\n",
    "- 분류가 3개 이상일 경우\n",
    "$${J(w)=-{1\\over m}\\sum^m_{i=1} \\sum^K_{k=1} y_k^{(i)}log(softmaxF(w^T*\\mathbf x))}$$\n",
    "<br>\n",
    "$${softmaxF(\\mathbf x)={exp(s_k(\\mathbf x)\\over \\sum ^k_{j=1}exp(s_j(\\mathbf x))}}$$\n",
    "\n",
    "### SSE: Sum squared error\n",
    "\n",
    "### Evaluation of regression model\n",
    "- 주로 MSE나 MAE 비용함수를 사용한다.\n",
    "\n",
    "\n",
    "### Evaluation of classification model\n",
    "- 주로 Cross-Entropy를 사용한다.\n",
    "\n",
    "### 비용함수의 미분\n",
    "기본 형태(**단 if gradient > 0일때 성립, gradient==0이면 갱신이 안된다(vanishing)**)\n",
    "\n",
    "$${{1\\over m}\\sum^m_{i=1} error*x_j^{(i)}}$$\n",
    "$${error=(activationF(w^T*\\mathbf x) - y^{(i)})}$$\n",
    "의미: **(입력값[scalar] in error)의 영향력** = **weight**\n",
    "\n",
    "#### MSE 비용함수의 미분\n",
    "$${{∂\\over ∂w_j}MSE(w)={2\\over m}\\sum^m_{i=1}(identitiF(w^T* \\mathbf x^{(i)})-y^{(i)})x_j^ {(i)}}$$\n",
    "\n",
    "#### Cross-Entropy 미분(분류 2개인 경우)\n",
    "$${{∂\\over ∂w_j}J(w)={1\\over m}\\sum^m_{i=1} (\\sigma(w^T*\\mathbf x)-y^{(i)})x_j^{(i)}}$$\n",
    "\n",
    "#### Cross-Entropy 미분(분류 3개 이상인 경우)\n",
    "$${{∂\\over ∂w_j}J(w)={1\\over m}\\sum^m_{i=1}(softmaxF(w^T*\\mathbf x)_k^{(i)}-y_k^{(i)})\\mathbf x^{(i)}}$$\n",
    "\n",
    "\n",
    "## 경사 하강 스탭\n",
    "$${\\theta:=\\theta-\\eta*{∂\\over ∂\\theta}cost(\\theta)}$$\n",
    "![](https://img1.daumcdn.net/thumb/R720x0.q80/?scode=mtistory2&fname=http%3A%2F%2Fcfile5.uf.tistory.com%2Fimage%2F99D8634C5D89919B21726C)"
   ]
  },
  {
   "cell_type": "markdown",
   "metadata": {},
   "source": [
    "![](https://heung-bae-lee.github.io/image/deep_learning_and_optimization_theory.png)"
   ]
  },
  {
   "cell_type": "code",
   "execution_count": null,
   "metadata": {},
   "outputs": [],
   "source": []
  },
  {
   "cell_type": "markdown",
   "metadata": {},
   "source": [
    "![](http://i.imgur.com/NKsFHJb.gif?1)"
   ]
  },
  {
   "cell_type": "code",
   "execution_count": null,
   "metadata": {},
   "outputs": [],
   "source": [
    "new_model.eval()\n",
    "new_model(torch.from_numpy(torch_image))"
   ]
  },
  {
   "cell_type": "code",
   "execution_count": null,
   "metadata": {},
   "outputs": [],
   "source": []
  },
  {
   "cell_type": "markdown",
   "metadata": {},
   "source": [
    "### 배치\n",
    "- 모든 데이터를 사용하지 않고 일부만 사용해서 학습시키는 것.\n",
    "- SGB\n",
    "- 미니배치(mini_batch)\n",
    "\n",
    "### Internal Covariage Shift\n",
    "- 학습과정에서 계층별로 입력의 데이터 분포가 달라지는 현상\n",
    "![](https://gaussian37.github.io/assets/img/dl/concept/batchnorm/3.png)\n",
    "\n",
    "## 배치 정규화\n",
    "- 학습과정에서 각 배치별로 평균과 분산을 이용해 정규화하는 계층\n",
    "- 수식\n",
    "$${BN(X) = {\\epsilon({{X-\\mu_{batch}}\\over{\\sigma_{batch}}}})+\\beta }$$\n",
    "$${\\epsilon = scaling}$$\n",
    "$${\\beta = bias}$$\n",
    "- 정규화로 인해, 모든 계층의 Feature가 동일한 Scale이 되어 학습률 결정에 유리.\n",
    "- 추가적인 Scale,Bias를 학습하여 Activation에 적합한 분포로 변환할 수 있음.\n",
    "![](https://gaussian37.github.io/assets/img/dl/concept/batchnorm/4.png)\n",
    "### 배치 정규화 알고리즘\n",
    "#### 훈련 단계\n",
    "1.batch_mean$${µ_{B}={1\\over{m_B}}\\sum_{i=1}^{M_B}x^{(i)} }$$\n",
    "2.batch_std$${\\sigma_b^{2}={1\\over{m_B}}\\sum_{i=1}^{M_B}(x^{(i)}-µ_B)^{2} }$$\n",
    "3.standardization$${\\chi^{(i)}={{x^{(i)}-µ_B}\\over{\\sigma}}}$$\n",
    "4.BatchNorm $${BN(x) = r\\chi^{(i)}+\\beta}$$\n",
    "$${r: 층의 스케일 파라미터}$$\n",
    "$${\\beta: 층의 이동(편향) 파리미터}$$\n",
    "$${\\beta와 r은 역전파에 의해 학습, relu에 의한 뉴런 소실을 방지하는 목적으로 사용}$$\n",
    "5. 추가적인 **Scale,Bias를 학습**하여 **Activation에 적합한 분포로 변환**할 수 있음.\n",
    "\n",
    "#### 추론 단계\n",
    "standardization$${\\chi^{(i)}={{x^{(i)}-µ_{BN}}\\over{\\sigma_{BN}}}}$$\n",
    "BatchNorm $${BN(x) = r\\chi^{(i)}+\\beta}$$\n",
    "$${r,\\beta는 훈련시에 역전파로 학습된 r,\\beta }$$\n",
    "학습과정에서 최근 n개에 대한 이동 평균(또는 지수평균)을 계산\n",
    "$${µ_{BN} = {{1\\over{N}}\\sum_i\\beta^i_{batch}}}$$\n",
    "$${\\sigma_{BN} = {{1\\over{N}}\\sum_i\\sigma^i_{batch}}}$$\n"
   ]
  },
  {
   "cell_type": "code",
   "execution_count": null,
   "metadata": {},
   "outputs": [],
   "source": []
  }
 ],
 "metadata": {
  "kernelspec": {
   "display_name": "Python 3",
   "language": "python",
   "name": "python3"
  },
  "language_info": {
   "codemirror_mode": {
    "name": "ipython",
    "version": 3
   },
   "file_extension": ".py",
   "mimetype": "text/x-python",
   "name": "python",
   "nbconvert_exporter": "python",
   "pygments_lexer": "ipython3",
   "version": "3.7.3"
  }
 },
 "nbformat": 4,
 "nbformat_minor": 2
}
