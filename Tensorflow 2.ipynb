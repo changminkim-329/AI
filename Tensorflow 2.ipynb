{
 "cells": [
  {
   "cell_type": "markdown",
   "metadata": {},
   "source": [
    "# Tensorflow 2"
   ]
  },
  {
   "cell_type": "markdown",
   "metadata": {},
   "source": [
    "- tensor가 sess.run없이 실행가능(eager execution)\n",
    "- numpy 기능도 포함."
   ]
  },
  {
   "cell_type": "code",
   "execution_count": 1,
   "metadata": {},
   "outputs": [],
   "source": [
    "import tensorflow as tf"
   ]
  },
  {
   "cell_type": "code",
   "execution_count": 2,
   "metadata": {},
   "outputs": [
    {
     "name": "stdout",
     "output_type": "stream",
     "text": [
      "tf.Tensor([10 21 32], shape=(3,), dtype=int32)\n"
     ]
    }
   ],
   "source": [
    "a = tf.constant([0, 1, 2])\n",
    "\n",
    "b = tf.constant([10, 20, 30])\n",
    "\n",
    "\n",
    "\n",
    "# eager execution\n",
    "\n",
    "c = tf.add(a, b) # or c = a + b\n",
    "\n",
    "print(c)\n",
    "\n"
   ]
  },
  {
   "cell_type": "code",
   "execution_count": 7,
   "metadata": {},
   "outputs": [
    {
     "data": {
      "text/plain": [
       "tensorflow.python.framework.ops.EagerTensor"
      ]
     },
     "execution_count": 7,
     "metadata": {},
     "output_type": "execute_result"
    }
   ],
   "source": [
    "type(tf.math.add(1,3))"
   ]
  },
  {
   "cell_type": "markdown",
   "metadata": {},
   "source": [
    "### Tensorflow1와 Tensorflow2의 차이\n",
    "#### Tensorflow1\n",
    "- 지연 실행 모드 (lazy execution) 가 기본 설정이므로 tf.add()처럼 계산 그래프을 만들어도 바로 실행되는 것이 아니며, Session을 생성하고 명시적으로 tf.Session().run() 을 호출하고 나서야 연산이 실행된다.\n",
    "- 텐서플로의 연산은 데이터 플로우 그래프로 구성되서, 그래프를 실행하기 전에 초기화를 해줘야 그 값이 변수에 지정이 된다.(The Session graph is empty) \n",
    "- 변수를 Session 에서 실행시키기 전에 tf.global_variables_initializer() 를 먼저 호출해서 변수를 초기화(initialization) 해주어야 한다.\n",
    "- session의 variable과 constant그리고 입력을 받는 input을 가진 그래프(추상구문트리)를 생성\n",
    "- 전역 namespcae에 크게 의존 -> session : 그래프에 노드에 변수값 초기화\n",
    "\n",
    "출처: https://rfriend.tistory.com/552#recentComments [R, Python 분석과 프로그래밍의 친구 (by R Friend)]\n",
    "#### TensorFlow 2\n",
    "- 즉시 실행 모드 (eager execution) 가 기본 설정이므로 하면 tf.add()처럼 계산 그래프을 만들면 Session생성 없이 function함수가 연산을 즉시 실행.\n",
    "- placeholder대신 입력값을 function에 바로 넣어서 실행됨\n",
    "- numpy()메소드를 사용해서 numpy array로 변환 할 수 있음\n",
    "출처: https://rfriend.tistory.com/552#recentComments [R, Python 분석과 프로그래밍의 친구 (by R Friend)]\n",
    "![](https://t1.daumcdn.net/cfile/tistory/99549D435F3E24D721)"
   ]
  },
  {
   "cell_type": "markdown",
   "metadata": {},
   "source": [
    "### 오토그래프\n",
    "- 오토그래프(AutoGraph)는 tf.function안에 기본으로 활성화\n",
    "- 파이썬의 즉시 실행 코드를 그래프 호환 텐서플로 연산으로 변환\n",
    "- if, for, while 같은 제어 흐름이 포함\n",
    "\n",
    "### tf.function\n",
    "- tensorflow2에서는 tf.function()데코레이터로 파이썬 함수를 감쌀 수 있다.\n",
    "- tensorflow가 이 함수를 하나의 그래프로 실행하기 위해 JIT컴파일을 한다."
   ]
  },
  {
   "cell_type": "code",
   "execution_count": 58,
   "metadata": {},
   "outputs": [],
   "source": [
    "@tf.function\n",
    "def f(x):\n",
    "    while tf.reduce_sum(x) > 1:\n",
    "        tf.print(x)\n",
    "        x = tf.tanh(x)\n",
    "    return x"
   ]
  },
  {
   "cell_type": "code",
   "execution_count": 73,
   "metadata": {},
   "outputs": [
    {
     "data": {
      "text/plain": [
       "<tf.Tensor: shape=(), dtype=float32, numpy=4.996646>"
      ]
     },
     "execution_count": 73,
     "metadata": {},
     "output_type": "execute_result"
    }
   ],
   "source": [
    "tf.reduce_sum(tf.tanh(np.array([4,4,4,4,4]).astype('float32')))"
   ]
  },
  {
   "cell_type": "code",
   "execution_count": 77,
   "metadata": {},
   "outputs": [
    {
     "name": "stdout",
     "output_type": "stream",
     "text": [
      "[0 1 0 1 0]\n",
      "[0 0.761594176 0 0.761594176 0]\n",
      "[0 0.64201504 0 0.64201504 0]\n",
      "[0 0.566270053 0 0.566270053 0]\n",
      "[0 0.512614727 0 0.512614727 0]\n"
     ]
    },
    {
     "data": {
      "text/plain": [
       "<tf.Tensor: shape=(5,), dtype=float32, numpy=\n",
       "array([0.        , 0.47197998, 0.        , 0.47197998, 0.        ],\n",
       "      dtype=float32)>"
      ]
     },
     "execution_count": 77,
     "metadata": {},
     "output_type": "execute_result"
    }
   ],
   "source": [
    "f(np.array([0,1,0,1,0]).astype('float32'))"
   ]
  },
  {
   "cell_type": "code",
   "execution_count": 53,
   "metadata": {},
   "outputs": [],
   "source": [
    "tf_add = tf.function(add_func)"
   ]
  },
  {
   "cell_type": "code",
   "execution_count": 54,
   "metadata": {},
   "outputs": [
    {
     "data": {
      "text/plain": [
       "<tf.Tensor: shape=(), dtype=int32, numpy=30>"
      ]
     },
     "execution_count": 54,
     "metadata": {},
     "output_type": "execute_result"
    }
   ],
   "source": [
    "tf.add(10,20)"
   ]
  },
  {
   "cell_type": "code",
   "execution_count": 57,
   "metadata": {},
   "outputs": [
    {
     "name": "stdout",
     "output_type": "stream",
     "text": [
      "def tf__add_func(x, y):\n",
      "    with ag__.FunctionScope('add_func', 'fscope', ag__.ConversionOptions(recursive=True, user_requested=True, optional_features=(), internal_convert_user_code=True)) as fscope:\n",
      "        do_return = False\n",
      "        retval_ = ag__.UndefinedReturnValue()\n",
      "        try:\n",
      "            do_return = True\n",
      "            retval_ = (ag__.ld(x) + ag__.ld(y))\n",
      "        except:\n",
      "            do_return = False\n",
      "            raise\n",
      "        return fscope.ret(retval_, do_return)\n",
      "\n"
     ]
    }
   ],
   "source": [
    "print(tf.autograph.to_code(add_func))"
   ]
  },
  {
   "cell_type": "markdown",
   "metadata": {},
   "source": [
    "### Eager Execution\n",
    "- 텐서플로의 즉시 실행은 그래프를 생성하지 않고 함수를 바로 실행하는 명령형 프로그래밍 환경이다. 나중에 실행하기 위해 계산가능한 그래프를 생성하는 대신에 계산값을 즉시 알려주는 연산\n",
    "- tf.Tensor 객체는 계산 그래프에 있는 노드를 가르키는 간접 핸들(symbolic handle) 대신에 구체적인 값을 참조"
   ]
  },
  {
   "cell_type": "markdown",
   "metadata": {},
   "source": [
    "#### - NumPy 연산에 tf.Tensor를 매개변수로 사용가능"
   ]
  },
  {
   "cell_type": "code",
   "execution_count": 78,
   "metadata": {},
   "outputs": [
    {
     "data": {
      "text/plain": [
       "array([-2.4141345 , -1.3880106 , -1.1433402 , -1.1086129 , -0.99777895,\n",
       "       -0.83713937, -0.803498  , -0.7241749 , -0.59514505, -0.58173805,\n",
       "        0.08261746,  0.0877093 ,  0.61877215,  0.70635504,  0.8192558 ,\n",
       "        0.996908  ,  1.0203754 ,  1.4040117 ,  1.7090586 ,  2.0319257 ],\n",
       "      dtype=float32)"
      ]
     },
     "execution_count": 78,
     "metadata": {},
     "output_type": "execute_result"
    }
   ],
   "source": [
    "np.unique(tf.random.normal((10,2)))"
   ]
  },
  {
   "cell_type": "markdown",
   "metadata": {},
   "source": [
    "#### - 텐서플로 수학 연산은 파이썬 객체와 NumPy 배열을 tf.Tensor 객체로 변환"
   ]
  },
  {
   "cell_type": "code",
   "execution_count": 88,
   "metadata": {},
   "outputs": [
    {
     "name": "stdout",
     "output_type": "stream",
     "text": [
      "tf.Tensor(\n",
      "[[1 2]\n",
      " [3 4]], shape=(2, 2), dtype=int32)\n"
     ]
    }
   ],
   "source": [
    "a = tf.constant([[1, 2],\n",
    "                 [3, 4]])\n",
    "print(a)"
   ]
  },
  {
   "cell_type": "code",
   "execution_count": 79,
   "metadata": {},
   "outputs": [
    {
     "name": "stdout",
     "output_type": "stream",
     "text": [
      "tf.Tensor([1 2 3], shape=(3,), dtype=int32)\n"
     ]
    }
   ],
   "source": [
    "print(tf.add(a, 1))"
   ]
  },
  {
   "cell_type": "markdown",
   "metadata": {},
   "source": [
    "#### - 즉시 실행의 가장 큰 이점은 모델을 실행하는 동안에도 호스트 언어(for, while, print, ...)의 모든 기능을 활용"
   ]
  },
  {
   "cell_type": "code",
   "execution_count": 89,
   "metadata": {},
   "outputs": [],
   "source": [
    "def fizzbuzz(max_num):\n",
    "    counter = tf.constant(0)\n",
    "    max_num = tf.convert_to_tensor(max_num)\n",
    "    for num in range(1, max_num.numpy()+1):\n",
    "        num = tf.constant(num)\n",
    "        if int(num % 3) == 0 and int(num % 5) == 0:\n",
    "            print('FizzBuzz')\n",
    "        elif int(num % 3) == 0:\n",
    "            print('Fizz')\n",
    "        elif int(num % 5) == 0:\n",
    "            print('Buzz')\n",
    "        else:\n",
    "            print(num.numpy())\n",
    "        counter += 1"
   ]
  },
  {
   "cell_type": "code",
   "execution_count": 91,
   "metadata": {},
   "outputs": [
    {
     "name": "stdout",
     "output_type": "stream",
     "text": [
      "1\n",
      "2\n",
      "Fizz\n",
      "4\n",
      "Buzz\n",
      "Fizz\n",
      "7\n",
      "8\n",
      "Fizz\n",
      "Buzz\n"
     ]
    }
   ],
   "source": [
    "fizzbuzz(10)"
   ]
  },
  {
   "cell_type": "markdown",
   "metadata": {},
   "source": [
    "### eager training\n",
    "\n",
    "### 그래디언트 계산\n",
    "- 자동 미분은 인공 신경망 훈련을 위한 역전파와 같은 기계학습 알고리즘을 구현하는데 유용\n",
    "-  즉시 실행을 사용하는 동안에는, 나중에 그래디언트를 계산하는 연산을 추적하기 위해 tf.GradientTape를 사용\n",
    "\n",
    "- Gradient Tape 연산 과정\n",
    "    - 매번 실행될 때 서로 다른 연산이 수행될 수 있기 때문에 모든 정방향(forward-pass) 연산은 \"tape\"에 기록\n",
    "    - 그다음 tape를 거꾸로 돌려 그래디언트를 계산한 후 tape를 폐기\n",
    "   "
   ]
  },
  {
   "cell_type": "code",
   "execution_count": 94,
   "metadata": {},
   "outputs": [
    {
     "name": "stdout",
     "output_type": "stream",
     "text": [
      "tf.Tensor([[2.]], shape=(1, 1), dtype=float32)\n"
     ]
    }
   ],
   "source": [
    "w = tf.Variable([[1.0]])\n",
    "with tf.GradientTape() as tape:\n",
    "    loss = w * w\n",
    "    \n",
    "grad = tape.gradient(loss,w)\n",
    "print(grad)"
   ]
  },
  {
   "cell_type": "code",
   "execution_count": 95,
   "metadata": {},
   "outputs": [],
   "source": [
    "from tensorflow.keras.datasets import mnist "
   ]
  },
  {
   "cell_type": "code",
   "execution_count": 99,
   "metadata": {},
   "outputs": [],
   "source": [
    "(mnist_images, mnist_labels), _ = mnist.load_data()"
   ]
  },
  {
   "cell_type": "code",
   "execution_count": 104,
   "metadata": {},
   "outputs": [
    {
     "data": {
      "text/plain": [
       "(60000, 28, 28, 1)"
      ]
     },
     "execution_count": 104,
     "metadata": {},
     "output_type": "execute_result"
    }
   ],
   "source": [
    "mnist_images[...,tf.newaxis].shape"
   ]
  },
  {
   "cell_type": "code",
   "execution_count": 146,
   "metadata": {},
   "outputs": [
    {
     "data": {
      "text/plain": [
       "(60000, 28, 28, 1)"
      ]
     },
     "execution_count": 146,
     "metadata": {},
     "output_type": "execute_result"
    }
   ],
   "source": [
    "(mnist_images[...,tf.newaxis]).shape"
   ]
  },
  {
   "cell_type": "code",
   "execution_count": 147,
   "metadata": {},
   "outputs": [],
   "source": [
    "dataset = tf.data.Dataset.from_tensor_slices(\n",
    "  (tf.cast(tf.expand_dims(mnist_images[...,tf.newaxis]/255,1), tf.float32),\n",
    "   tf.cast(mnist_labels,tf.int64)))"
   ]
  },
  {
   "cell_type": "code",
   "execution_count": 148,
   "metadata": {},
   "outputs": [
    {
     "data": {
      "text/plain": [
       "(60000, 28, 28, 1)"
      ]
     },
     "execution_count": 148,
     "metadata": {},
     "output_type": "execute_result"
    }
   ],
   "source": [
    "mnist_images[...,tf.newaxis].shape"
   ]
  },
  {
   "cell_type": "code",
   "execution_count": 186,
   "metadata": {},
   "outputs": [],
   "source": [
    "# 모델 생성\n",
    "mnist_model = tf.keras.Sequential([\n",
    "  tf.keras.layers.Conv2D(16,[3,3], activation='relu',\n",
    "                         input_shape=(28, 28, 1)),\n",
    "  tf.keras.layers.Conv2D(16,[3,3], activation='relu'),\n",
    "  tf.keras.layers.GlobalAveragePooling2D(),\n",
    "  tf.keras.layers.Dense(10)\n",
    "])"
   ]
  },
  {
   "cell_type": "code",
   "execution_count": 187,
   "metadata": {},
   "outputs": [
    {
     "name": "stdout",
     "output_type": "stream",
     "text": [
      "로짓:  [[ 0.00295378  0.00114531  0.03997926 -0.02885807 -0.03444983  0.03002467\n",
      "   0.02384677 -0.01580647  0.01646145 -0.04307278]]\n"
     ]
    }
   ],
   "source": [
    "for images,labels in dataset.take(1):\n",
    "    print(\"로짓: \", mnist_model(images[0:1]).numpy())"
   ]
  },
  {
   "cell_type": "code",
   "execution_count": 188,
   "metadata": {},
   "outputs": [],
   "source": [
    "optimizer = tf.keras.optimizers.Adam()\n",
    "loss_object = tf.keras.losses.SparseCategoricalCrossentropy(from_logits=True)\n",
    "\n",
    "loss_history = []"
   ]
  },
  {
   "cell_type": "code",
   "execution_count": 189,
   "metadata": {},
   "outputs": [],
   "source": [
    "def train_step(images, labels):\n",
    "    with tf.GradientTape() as tape:\n",
    "        logits = mnist_model(images, training=True)\n",
    "\n",
    "\n",
    "        loss_value = loss_object(labels, logits)\n",
    "\n",
    "    loss_history.append(loss_value.numpy().mean())\n",
    "    grads = tape.gradient(loss_value, mnist_model.trainable_variables)\n",
    "    optimizer.apply_gradients(zip(grads, mnist_model.trainable_variables))"
   ]
  },
  {
   "cell_type": "code",
   "execution_count": 190,
   "metadata": {},
   "outputs": [],
   "source": [
    "def train():\n",
    "    for epoch in range(3):\n",
    "        for (batch, (images, labels)) in enumerate(dataset.take(200)):\n",
    "            train_step(images, labels)\n",
    "        print ('에포크 {} 종료'.format(epoch))"
   ]
  },
  {
   "cell_type": "code",
   "execution_count": 191,
   "metadata": {},
   "outputs": [
    {
     "name": "stdout",
     "output_type": "stream",
     "text": [
      "에포크 0 종료\n",
      "에포크 1 종료\n",
      "에포크 2 종료\n"
     ]
    }
   ],
   "source": [
    "train()"
   ]
  },
  {
   "cell_type": "code",
   "execution_count": null,
   "metadata": {},
   "outputs": [],
   "source": []
  },
  {
   "cell_type": "code",
   "execution_count": null,
   "metadata": {},
   "outputs": [],
   "source": []
  },
  {
   "cell_type": "code",
   "execution_count": 43,
   "metadata": {},
   "outputs": [],
   "source": [
    "from tensorflow.keras.layers import Input"
   ]
  },
  {
   "cell_type": "code",
   "execution_count": 51,
   "metadata": {},
   "outputs": [
    {
     "name": "stdout",
     "output_type": "stream",
     "text": [
      "<class 'tensorflow.python.framework.ops.EagerTensor'>\n",
      "<class 'tensorflow.python.framework.ops.EagerTensor'>\n",
      "<class 'tensorflow.python.framework.ops.EagerTensor'>\n",
      "<class 'tensorflow.python.framework.ops.Tensor'>\n",
      "<class 'tensorflow.python.ops.resource_variable_ops.ResourceVariable'>\n"
     ]
    }
   ],
   "source": [
    "print(type(tf.convert_to_tensor(np.array(1))))\n",
    "\n",
    "print(type(tf.compat.v1.constant(0)))\n",
    "\n",
    "print(type(tf.constant(0)))\n",
    "\n",
    "\n",
    "input_image = Input(shape=(10, 10, 3))\n",
    "\n",
    "print(type(input_image))\n",
    "\n",
    "print(type(tf.Variable(0)))"
   ]
  },
  {
   "cell_type": "markdown",
   "metadata": {},
   "source": [
    "## tensorflow 2.x에서 tensorflow 1.x 사용하기"
   ]
  },
  {
   "cell_type": "code",
   "execution_count": 20,
   "metadata": {},
   "outputs": [
    {
     "data": {
      "text/plain": [
       "<function tensorflow.python.compat.v2_compat.disable_v2_behavior()>"
      ]
     },
     "execution_count": 20,
     "metadata": {},
     "output_type": "execute_result"
    }
   ],
   "source": [
    "import tensorflow.compat.v1 as tf\n",
    "tf.disable_v2_behavior"
   ]
  },
  {
   "cell_type": "code",
   "execution_count": 9,
   "metadata": {},
   "outputs": [],
   "source": [
    "import numpy as np\n",
    "import tensorflow as tf\n",
    "import matplotlib.pyplot as plt"
   ]
  },
  {
   "cell_type": "markdown",
   "metadata": {},
   "source": [
    "### Tensor"
   ]
  },
  {
   "cell_type": "code",
   "execution_count": 22,
   "metadata": {},
   "outputs": [
    {
     "name": "stdout",
     "output_type": "stream",
     "text": [
      "tf.Tensor([1 2 3], shape=(3,), dtype=int32)\n"
     ]
    }
   ],
   "source": [
    "a = tf.constant([1,2,3],dtype=tf.int32)\n",
    "print(a)"
   ]
  },
  {
   "cell_type": "code",
   "execution_count": 23,
   "metadata": {},
   "outputs": [
    {
     "name": "stdout",
     "output_type": "stream",
     "text": [
      "tf.Tensor([1 2 3], shape=(3,), dtype=int64)\n"
     ]
    }
   ],
   "source": [
    "ndr = np.array([1,2,3])\n",
    "tensor = tf.constant(ndr)\n",
    "print(tensor)"
   ]
  },
  {
   "cell_type": "markdown",
   "metadata": {},
   "source": [
    "shape 보기"
   ]
  },
  {
   "cell_type": "code",
   "execution_count": 24,
   "metadata": {},
   "outputs": [
    {
     "name": "stdout",
     "output_type": "stream",
     "text": [
      "(3,)\n"
     ]
    }
   ],
   "source": [
    "print(tensor.shape)\n"
   ]
  },
  {
   "cell_type": "markdown",
   "metadata": {},
   "source": [
    "data type 확인"
   ]
  },
  {
   "cell_type": "code",
   "execution_count": 25,
   "metadata": {},
   "outputs": [
    {
     "name": "stdout",
     "output_type": "stream",
     "text": [
      "<dtype: 'int64'>\n"
     ]
    }
   ],
   "source": [
    "print(tensor.dtype)"
   ]
  },
  {
   "cell_type": "markdown",
   "metadata": {},
   "source": [
    "data type 변환"
   ]
  },
  {
   "cell_type": "code",
   "execution_count": 26,
   "metadata": {},
   "outputs": [
    {
     "name": "stdout",
     "output_type": "stream",
     "text": [
      "<dtype: 'float32'>\n"
     ]
    }
   ],
   "source": [
    "tensor = tf.cast(tensor,tf.float32)\n",
    "print(tensor.dtype)"
   ]
  },
  {
   "cell_type": "markdown",
   "metadata": {},
   "source": [
    "numpy로 바꾸기"
   ]
  },
  {
   "cell_type": "code",
   "execution_count": 27,
   "metadata": {},
   "outputs": [
    {
     "name": "stdout",
     "output_type": "stream",
     "text": [
      "[1. 2. 3.]\n",
      "[1. 2. 3.]\n"
     ]
    }
   ],
   "source": [
    "tensor_numpy = tensor.numpy()\n",
    "print(tensor_numpy)\n",
    "\n",
    "tensor_numpy = np.array(tensor)\n",
    "print(tensor_numpy)"
   ]
  },
  {
   "cell_type": "markdown",
   "metadata": {},
   "source": [
    "난수 생성"
   ]
  },
  {
   "cell_type": "code",
   "execution_count": 28,
   "metadata": {},
   "outputs": [
    {
     "name": "stdout",
     "output_type": "stream",
     "text": [
      "6\n"
     ]
    },
    {
     "data": {
      "image/png": "[encoded data removed]",
      "text/plain": [
       "<Figure size 432x288 with 1 Axes>"
      ]
     },
     "metadata": {
      "needs_background": "light"
     },
     "output_type": "display_data"
    }
   ],
   "source": [
    "uniform_random = tf.random.uniform([10,1],maxval=10,dtype=tf.int32)\n",
    "bins = np.unique(uniform_random.numpy()).shape\n",
    "bins = np.squeeze(bins)\n",
    "\n",
    "print(bins)\n",
    "plt.hist(uniform_random,bins=bins)\n",
    "plt.show()"
   ]
  },
  {
   "cell_type": "code",
   "execution_count": 29,
   "metadata": {},
   "outputs": [
    {
     "name": "stdout",
     "output_type": "stream",
     "text": [
      "(9998,)\n"
     ]
    },
    {
     "data": {
      "text/plain": [
       "(array([  2.,   3.,   0.,   2.,   0.,   0.,   1.,   6.,   7.,   8.,   3.,\n",
       "          7.,  11.,  13.,  10.,  10.,  22.,  27.,  32.,  36.,  32.,  40.,\n",
       "         55.,  58.,  55.,  68.,  89.,  94., 124., 117., 108., 157., 160.,\n",
       "        152., 167., 153., 188., 223., 244., 242., 248., 283., 253., 282.,\n",
       "        268., 238., 273., 302., 290., 262., 286., 270., 269., 275., 293.,\n",
       "        263., 249., 231., 229., 203., 195., 173., 182., 166., 165., 139.,\n",
       "        120., 116.,  92.,  83.,  76.,  65.,  64.,  53.,  47.,  47.,  31.,\n",
       "         33.,  17.,  21.,  27.,  15.,  19.,  12.,  15.,   7.,   6.,   5.,\n",
       "          1.,   4.,   4.,   1.,   0.,   3.,   0.,   1.,   0.,   1.,   0.,\n",
       "          1.]),\n",
       " array([-3.5489333 , -3.4756746 , -3.402416  , -3.3291576 , -3.255899  ,\n",
       "        -3.1826403 , -3.1093817 , -3.036123  , -2.9628644 , -2.889606  ,\n",
       "        -2.8163474 , -2.7430887 , -2.66983   , -2.5965714 , -2.523313  ,\n",
       "        -2.4500544 , -2.3767958 , -2.3035371 , -2.2302785 , -2.1570199 ,\n",
       "        -2.0837615 , -2.0105028 , -1.9372442 , -1.8639855 , -1.790727  ,\n",
       "        -1.7174684 , -1.6442097 , -1.5709512 , -1.4976926 , -1.424434  ,\n",
       "        -1.3511754 , -1.2779168 , -1.2046583 , -1.1313996 , -1.058141  ,\n",
       "        -0.9848824 , -0.91162384, -0.83836526, -0.7651066 , -0.69184804,\n",
       "        -0.61858946, -0.5453309 , -0.47207224, -0.39881366, -0.32555506,\n",
       "        -0.25229648, -0.17903787, -0.10577928, -0.03252069,  0.04073791,\n",
       "         0.11399651,  0.1872551 ,  0.2605137 ,  0.3337723 ,  0.40703088,\n",
       "         0.4802895 ,  0.5535481 ,  0.6268067 ,  0.70006526,  0.7733239 ,\n",
       "         0.8465825 ,  0.91984105,  0.99309963,  1.0663582 ,  1.1396168 ,\n",
       "         1.2128755 ,  1.286134  ,  1.3593926 ,  1.4326513 ,  1.5059098 ,\n",
       "         1.5791684 ,  1.652427  ,  1.7256856 ,  1.7989442 ,  1.8722028 ,\n",
       "         1.9454614 ,  2.01872   ,  2.0919785 ,  2.1652372 ,  2.2384958 ,\n",
       "         2.3117545 ,  2.3850129 ,  2.4582715 ,  2.5315301 ,  2.6047888 ,\n",
       "         2.6780474 ,  2.751306  ,  2.8245645 ,  2.897823  ,  2.9710817 ,\n",
       "         3.0443404 ,  3.117599  ,  3.1908574 ,  3.264116  ,  3.3373747 ,\n",
       "         3.4106333 ,  3.483892  ,  3.5571506 ,  3.630409  ,  3.7036676 ,\n",
       "         3.7769263 ], dtype=float32),\n",
       " <a list of 100 Patch objects>)"
      ]
     },
     "execution_count": 29,
     "metadata": {},
     "output_type": "execute_result"
    },
    {
     "data": {
      "image/png": "[encoded data removed]",
      "text/plain": [
       "<Figure size 432x288 with 1 Axes>"
      ]
     },
     "metadata": {
      "needs_background": "light"
     },
     "output_type": "display_data"
    }
   ],
   "source": [
    "normal_random = tf.random.normal([10000,1])\n",
    "print(np.unique(normal_random.numpy()).shape)\n",
    "plt.hist(normal_random.numpy(),bins=100)"
   ]
  },
  {
   "cell_type": "markdown",
   "metadata": {},
   "source": [
    "## 데이터 불러오기"
   ]
  },
  {
   "cell_type": "code",
   "execution_count": 30,
   "metadata": {},
   "outputs": [],
   "source": [
    "from tensorflow.keras import datasets"
   ]
  },
  {
   "cell_type": "code",
   "execution_count": 31,
   "metadata": {},
   "outputs": [],
   "source": [
    "mnist = datasets.mnist"
   ]
  },
  {
   "cell_type": "code",
   "execution_count": 34,
   "metadata": {},
   "outputs": [],
   "source": [
    "(train_x, train_y),(test_x, test_y) = mnist.load_data()"
   ]
  },
  {
   "cell_type": "code",
   "execution_count": 35,
   "metadata": {},
   "outputs": [
    {
     "data": {
      "text/plain": [
       "(60000, 28, 28)"
      ]
     },
     "execution_count": 35,
     "metadata": {},
     "output_type": "execute_result"
    }
   ],
   "source": [
    "train_x.shape"
   ]
  },
  {
   "cell_type": "code",
   "execution_count": 36,
   "metadata": {},
   "outputs": [],
   "source": [
    "image = train_x[0]"
   ]
  },
  {
   "cell_type": "code",
   "execution_count": 37,
   "metadata": {},
   "outputs": [
    {
     "data": {
      "image/png": "[encoded data removed]",
      "text/plain": [
       "<Figure size 432x288 with 1 Axes>"
      ]
     },
     "metadata": {
      "needs_background": "light"
     },
     "output_type": "display_data"
    }
   ],
   "source": [
    "plt.imshow(image,cmap='gray')\n",
    "plt.show()"
   ]
  },
  {
   "cell_type": "markdown",
   "metadata": {},
   "source": [
    "## channel 관련\n",
    "- [Batch Size, Height, Width, Channel]\n",
    "- GrayScale이면 1, RGB이면 3으로 만들어줘야함"
   ]
  },
  {
   "cell_type": "markdown",
   "metadata": {},
   "source": [
    "데이터 차원수 늘리기(numpy)<br>\n",
    "np.expand_dims(data,axis)\n",
    "- 0 이면 맨앞\n",
    "- 1 이면 두번째\n",
    "- 2 이면 3번째\n",
    "- -1 이면 맨끝"
   ]
  },
  {
   "cell_type": "code",
   "execution_count": 38,
   "metadata": {},
   "outputs": [
    {
     "name": "stdout",
     "output_type": "stream",
     "text": [
      "(1, 60000, 28, 28)\n",
      "(60000, 1, 28, 28)\n",
      "(60000, 28, 1, 28)\n",
      "(60000, 28, 28, 1)\n"
     ]
    }
   ],
   "source": [
    "print(np.expand_dims(train_x,0).shape)\n",
    "print(np.expand_dims(train_x,1).shape)\n",
    "print(np.expand_dims(train_x,2).shape)\n",
    "print(np.expand_dims(train_x,-1).shape)"
   ]
  },
  {
   "cell_type": "markdown",
   "metadata": {},
   "source": [
    "- Tensorflow로 차원수 늘리기"
   ]
  },
  {
   "cell_type": "code",
   "execution_count": 39,
   "metadata": {},
   "outputs": [
    {
     "name": "stdout",
     "output_type": "stream",
     "text": [
      "(60000, 28, 28, 1)\n",
      "(1, 60000, 28, 28)\n"
     ]
    }
   ],
   "source": [
    "new_train_x = tf.expand_dims(train_x,-1)\n",
    "print(new_train_x.shape)\n",
    "\n",
    "new_train_x = train_x[tf.newaxis,...]\n",
    "print(new_train_x.shape)"
   ]
  },
  {
   "cell_type": "code",
   "execution_count": null,
   "metadata": {},
   "outputs": [],
   "source": []
  },
  {
   "cell_type": "code",
   "execution_count": 40,
   "metadata": {},
   "outputs": [
    {
     "data": {
      "text/plain": [
       "(60000,)"
      ]
     },
     "execution_count": 40,
     "metadata": {},
     "output_type": "execute_result"
    }
   ],
   "source": [
    "train_y.shape"
   ]
  },
  {
   "cell_type": "markdown",
   "metadata": {},
   "source": [
    "## Onehot Encoding"
   ]
  },
  {
   "cell_type": "code",
   "execution_count": 41,
   "metadata": {},
   "outputs": [],
   "source": [
    "from tensorflow.keras.utils import to_categorical"
   ]
  },
  {
   "cell_type": "code",
   "execution_count": 42,
   "metadata": {},
   "outputs": [
    {
     "data": {
      "text/plain": [
       "array([0., 0., 0., 0., 0., 1., 0., 0., 0., 0.], dtype=float32)"
      ]
     },
     "execution_count": 42,
     "metadata": {},
     "output_type": "execute_result"
    }
   ],
   "source": [
    "to_categorical(train_y,10)[0]"
   ]
  },
  {
   "cell_type": "code",
   "execution_count": 43,
   "metadata": {},
   "outputs": [
    {
     "data": {
      "text/plain": [
       "(1, 28, 28, 1)"
      ]
     },
     "execution_count": 43,
     "metadata": {},
     "output_type": "execute_result"
    }
   ],
   "source": [
    "1, 28,28, 1"
   ]
  },
  {
   "cell_type": "markdown",
   "metadata": {},
   "source": [
    "## Feature Extraction\n",
    "\n",
    "![](https://mblogthumb-phinf.pstatic.net/20160909_182/cjh226_1473414664622BSdJS_PNG/fig1.png?type=w2)"
   ]
  },
  {
   "cell_type": "markdown",
   "metadata": {},
   "source": [
    "## Convolution\n",
    "- filters: layer에서 나갈 때 몇개의 filter를 만들 것 인지\n",
    "- kernel_size: filter(weight)의 사이즈\n",
    "- strides \n",
    "- padding : zero padding[\"same\"], \"VALUE\"는 padding이 없고, \"SAME\"은 Padding이 있음(사이즈에도 영향을 준다.)\n",
    "- activation: Activation Function을 만들것인지, 당장 설정 안해도 Layer층을 따로 만들 수 있음.\n",
    "\n",
    "\n",
    "tensorflow가 keras를 인수해서 keras를 통해 구현 할 수 있게 됨"
   ]
  },
  {
   "cell_type": "code",
   "execution_count": null,
   "metadata": {},
   "outputs": [],
   "source": []
  },
  {
   "cell_type": "markdown",
   "metadata": {},
   "source": [
    "## Visualization"
   ]
  },
  {
   "cell_type": "code",
   "execution_count": 44,
   "metadata": {},
   "outputs": [
    {
     "name": "stdout",
     "output_type": "stream",
     "text": [
      "<dtype: 'float32'>\n"
     ]
    }
   ],
   "source": [
    "image = tf.cast(image,dtype=tf.float32)\n",
    "print(image.dtype)"
   ]
  },
  {
   "cell_type": "code",
   "execution_count": 45,
   "metadata": {},
   "outputs": [
    {
     "name": "stdout",
     "output_type": "stream",
     "text": [
      "(1, 28, 28, 1)\n"
     ]
    }
   ],
   "source": [
    "image = np.reshape(image,[1,28,28,1])\n",
    "print(image.shape)"
   ]
  },
  {
   "cell_type": "code",
   "execution_count": 46,
   "metadata": {},
   "outputs": [],
   "source": [
    "layer = tf.keras.layers.Conv2D(3,3,1,padding=\"SAME\") "
   ]
  },
  {
   "cell_type": "code",
   "execution_count": 47,
   "metadata": {},
   "outputs": [],
   "source": [
    "output = layer(image)"
   ]
  },
  {
   "cell_type": "code",
   "execution_count": 48,
   "metadata": {},
   "outputs": [
    {
     "data": {
      "text/plain": [
       "TensorShape([1, 28, 28, 3])"
      ]
     },
     "execution_count": 48,
     "metadata": {},
     "output_type": "execute_result"
    }
   ],
   "source": [
    "output.shape "
   ]
  },
  {
   "cell_type": "code",
   "execution_count": 50,
   "metadata": {
    "scrolled": true
   },
   "outputs": [
    {
     "data": {
      "image/png": "[encoded data removed]",
      "text/plain": [
       "<Figure size 864x576 with 3 Axes>"
      ]
     },
     "metadata": {
      "needs_background": "light"
     },
     "output_type": "display_data"
    }
   ],
   "source": [
    "fig = plt.figure(figsize=[12,8])\n",
    "for i in range(3):\n",
    "    fig.add_subplot(1, 3, i+1)\n",
    "    plt.imshow(output[0,:,:,i].numpy(),'gray')\n",
    "plt.show()"
   ]
  },
  {
   "cell_type": "markdown",
   "metadata": {},
   "source": [
    "- weight 불러오기"
   ]
  },
  {
   "cell_type": "code",
   "execution_count": 51,
   "metadata": {},
   "outputs": [
    {
     "name": "stdout",
     "output_type": "stream",
     "text": [
      "weight: (3, 3, 1, 3)\n",
      "bias: (3,)\n"
     ]
    }
   ],
   "source": [
    "weight = layer.get_weights()\n",
    "print(\"weight:\",layer.get_weights()[0].shape)\n",
    "print(\"bias:\",layer.get_weights()[1].shape)"
   ]
  },
  {
   "cell_type": "code",
   "execution_count": 52,
   "metadata": {},
   "outputs": [
    {
     "name": "stdout",
     "output_type": "stream",
     "text": [
      "(3, 3, 1, 3)\n"
     ]
    }
   ],
   "source": [
    "print(weight[0].shape)"
   ]
  },
  {
   "cell_type": "code",
   "execution_count": 53,
   "metadata": {
    "scrolled": true
   },
   "outputs": [
    {
     "data": {
      "text/plain": [
       "(1, 28, 28, 1)"
      ]
     },
     "execution_count": 53,
     "metadata": {},
     "output_type": "execute_result"
    }
   ],
   "source": [
    "image.shape"
   ]
  },
  {
   "cell_type": "code",
   "execution_count": 105,
   "metadata": {},
   "outputs": [
    {
     "data": {
      "text/plain": [
       "(3, 3, 1, 3)"
      ]
     },
     "execution_count": 105,
     "metadata": {},
     "output_type": "execute_result"
    }
   ],
   "source": [
    "weight[0].shape"
   ]
  },
  {
   "cell_type": "code",
   "execution_count": 111,
   "metadata": {},
   "outputs": [
    {
     "name": "stdout",
     "output_type": "stream",
     "text": [
      "(3, 3, 1, 3)\n"
     ]
    },
    {
     "data": {
      "image/png": "[encoded data removed]",
      "text/plain": [
       "<Figure size 1440x288 with 7 Axes>"
      ]
     },
     "metadata": {
      "needs_background": "light"
     },
     "output_type": "display_data"
    }
   ],
   "source": [
    "i = 1\n",
    "plt.figure(figsize=(20,4))\n",
    "plt.subplot(151)\n",
    "plt.title(\"input image\")\n",
    "plt.imshow(image[0,:,:,0],'gray')\n",
    "plt.colorbar()\n",
    "\n",
    "plt.subplot(152)\n",
    "plt.title(\"input histogram\")\n",
    "plt.hist(image.ravel(),bins=20)\n",
    "plt.ylim(0,100)\n",
    "\n",
    "plt.subplot(153)\n",
    "plt.title(weight[0].shape)\n",
    "print(weight[0].shape)\n",
    "plt.imshow(weight[0][:,:,0,i],'gray')\n",
    "\n",
    "plt.subplot(154)\n",
    "plt.title(\"output image\")\n",
    "plt.imshow(output[0,:,:,i],'gray')\n",
    "plt.colorbar()\n",
    "\n",
    "plt.subplot(155)\n",
    "plt.title(\"output histogram\")\n",
    "plt.hist(output[0,:,:,i].numpy().ravel(),bins=50,)\n",
    "plt.ylim(0,100)\n",
    "plt.show()"
   ]
  },
  {
   "cell_type": "markdown",
   "metadata": {},
   "source": [
    "![](https://miro.medium.com/max/1400/1*ONiC8WDSTrYsqjDD9hC-6w.png)"
   ]
  },
  {
   "cell_type": "markdown",
   "metadata": {},
   "source": [
    "### Activation Function\n",
    "\n",
    "#### RELU"
   ]
  },
  {
   "cell_type": "code",
   "execution_count": 60,
   "metadata": {},
   "outputs": [
    {
     "data": {
      "image/png": "[encoded data removed]",
      "text/plain": [
       "<Figure size 432x288 with 1 Axes>"
      ]
     },
     "metadata": {
      "needs_background": "light"
     },
     "output_type": "display_data"
    }
   ],
   "source": [
    "x = np.arange(-100,100)\n",
    "z = np.maximum(x,0)\n",
    "plt.plot(x,z)\n",
    "plt.show()"
   ]
  },
  {
   "cell_type": "code",
   "execution_count": 61,
   "metadata": {},
   "outputs": [],
   "source": [
    "act_layer = tf.keras.layers.ReLU()\n",
    "act_output = act_layer(output)"
   ]
  },
  {
   "cell_type": "code",
   "execution_count": 62,
   "metadata": {},
   "outputs": [
    {
     "data": {
      "text/plain": [
       "TensorShape([1, 28, 28, 3])"
      ]
     },
     "execution_count": 62,
     "metadata": {},
     "output_type": "execute_result"
    }
   ],
   "source": [
    "output.shape "
   ]
  },
  {
   "cell_type": "markdown",
   "metadata": {},
   "source": [
    "## channel마다 특정 강조되는 부분만 추출"
   ]
  },
  {
   "cell_type": "code",
   "execution_count": 84,
   "metadata": {},
   "outputs": [
    {
     "data": {
      "text/plain": [
       "(0, 100)"
      ]
     },
     "execution_count": 84,
     "metadata": {},
     "output_type": "execute_result"
    },
    {
     "data": {
      "image/png": "[encoded data removed]",
      "text/plain": [
       "<Figure size 1440x288 with 9 Axes>"
      ]
     },
     "metadata": {
      "needs_background": "light"
     },
     "output_type": "display_data"
    }
   ],
   "source": [
    "plt.figure(figsize=(20,4))\n",
    "plt.subplot(161)\n",
    "plt.imshow(act_output[0,:,:,0],'gray')\n",
    "plt.colorbar()\n",
    "\n",
    "plt.subplot(162)\n",
    "plt.hist(act_output[0,:,:,0].numpy().ravel(),bins=20,range=(-10,10))\n",
    "plt.ylim(0,100)\n",
    "\n",
    "plt.subplot(163)\n",
    "plt.imshow(act_output[0,:,:,1],'gray')\n",
    "plt.colorbar()\n",
    "\n",
    "plt.subplot(164)\n",
    "plt.hist(act_output[0,:,:,1].numpy().ravel(),bins=20,range=(-10,10))\n",
    "plt.ylim(0,100)\n",
    "\n",
    "plt.subplot(165)\n",
    "plt.imshow(act_output[0,:,:,2],'gray')\n",
    "plt.colorbar()\n",
    "\n",
    "plt.subplot(166)\n",
    "plt.hist(act_output[0,:,:,2].numpy().ravel(),bins=20,range=(-10,10))\n",
    "plt.ylim(0,100)"
   ]
  },
  {
   "cell_type": "code",
   "execution_count": 86,
   "metadata": {},
   "outputs": [],
   "source": [
    "pool_layer = tf.keras.layers.MaxPool2D(2,2,padding=\"SAME\")\n",
    "pool_output = pool_layer(act_output)"
   ]
  },
  {
   "cell_type": "code",
   "execution_count": 94,
   "metadata": {},
   "outputs": [
    {
     "data": {
      "text/plain": [
       "(0, 100)"
      ]
     },
     "execution_count": 94,
     "metadata": {},
     "output_type": "execute_result"
    },
    {
     "data": {
      "image/png": "[encoded data removed]",
      "text/plain": [
       "<Figure size 1440x288 with 3 Axes>"
      ]
     },
     "metadata": {
      "needs_background": "light"
     },
     "output_type": "display_data"
    }
   ],
   "source": [
    "i = 1\n",
    "plt.figure(figsize=(20,4))\n",
    "plt.subplot(121)\n",
    "plt.imshow(pool_output[0,:,:,i],'gray')\n",
    "plt.colorbar()\n",
    "\n",
    "plt.subplot(122)\n",
    "plt.hist(pool_output[0,:,:,i].numpy().ravel(),bins=20,range=(-10,10))\n",
    "plt.ylim(0,100)"
   ]
  },
  {
   "cell_type": "markdown",
   "metadata": {},
   "source": [
    "### references\n",
    "https://rfriend.tistory.com/552"
   ]
  },
  {
   "cell_type": "code",
   "execution_count": null,
   "metadata": {},
   "outputs": [],
   "source": []
  }
 ],
 "metadata": {
  "kernelspec": {
   "display_name": "Python 3",
   "language": "python",
   "name": "python3"
  },
  "language_info": {
   "codemirror_mode": {
    "name": "ipython",
    "version": 3
   },
   "file_extension": ".py",
   "mimetype": "text/x-python",
   "name": "python",
   "nbconvert_exporter": "python",
   "pygments_lexer": "ipython3",
   "version": "3.7.3"
  }
 },
 "nbformat": 4,
 "nbformat_minor": 2
}
